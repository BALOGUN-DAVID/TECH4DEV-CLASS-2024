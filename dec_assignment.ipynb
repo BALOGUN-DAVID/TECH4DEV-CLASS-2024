{
 "cells": [
  {
   "cell_type": "markdown",
   "id": "9be38dee",
   "metadata": {},
   "source": [
    "# EXERCISE 1.4"
   ]
  },
  {
   "cell_type": "markdown",
   "id": "b43c50d7",
   "metadata": {},
   "source": [
    "1.\tWhat is the output of the following print statements?\n",
    "print(\"\\ta\\tb\\tc\") \n",
    "\n",
    "print(\"\\\\\\\\\")\n",
    "\n",
    "print(\"'\")\n",
    "\n",
    "print(\"\\\"\\\"\\\"\")\n",
    "\n",
    "print(\"C:\\nin\\the downward spiral\")\n"
   ]
  },
  {
   "cell_type": "code",
   "execution_count": 2,
   "id": "88f2e402",
   "metadata": {},
   "outputs": [
    {
     "name": "stdout",
     "output_type": "stream",
     "text": [
      "\ta\tb\tc\n"
     ]
    }
   ],
   "source": [
    "print(\"\\ta\\tb\\tc\") "
   ]
  },
  {
   "cell_type": "code",
   "execution_count": 3,
   "id": "d1d2aa86",
   "metadata": {},
   "outputs": [
    {
     "name": "stdout",
     "output_type": "stream",
     "text": [
      "\\\\\n"
     ]
    }
   ],
   "source": [
    "print(\"\\\\\\\\\")"
   ]
  },
  {
   "cell_type": "code",
   "execution_count": 4,
   "id": "ac9c86db",
   "metadata": {},
   "outputs": [
    {
     "name": "stdout",
     "output_type": "stream",
     "text": [
      "'\n"
     ]
    }
   ],
   "source": [
    "print(\"'\")"
   ]
  },
  {
   "cell_type": "code",
   "execution_count": 5,
   "id": "4d10591e",
   "metadata": {},
   "outputs": [
    {
     "name": "stdout",
     "output_type": "stream",
     "text": [
      "\"\"\"\n"
     ]
    }
   ],
   "source": [
    "print(\"\\\"\\\"\\\"\")"
   ]
  },
  {
   "cell_type": "code",
   "execution_count": 6,
   "id": "47d69371",
   "metadata": {},
   "outputs": [
    {
     "name": "stdout",
     "output_type": "stream",
     "text": [
      "C:\n",
      "in\the downward spiral\n"
     ]
    }
   ],
   "source": [
    "print(\"C:\\nin\\the downward spiral\")"
   ]
  },
  {
   "cell_type": "markdown",
   "id": "124c8f73",
   "metadata": {},
   "source": [
    "2.\tWrite a print statement to produce this output:\n",
    "/ \\ // \\\\ /// \\\\\\"
   ]
  },
  {
   "cell_type": "code",
   "execution_count": 10,
   "id": "da77fe67",
   "metadata": {},
   "outputs": [
    {
     "name": "stdout",
     "output_type": "stream",
     "text": [
      "/ \\ // \\\\ /// \\\\\\\n"
     ]
    }
   ],
   "source": [
    "print(\"/ \\\\ // \\\\\\\\ /// \\\\\\\\\\\\\")"
   ]
  },
  {
   "cell_type": "markdown",
   "id": "3c330c53",
   "metadata": {},
   "source": [
    "3.\tWhat print statements will generate this output?\n",
    "This quote is from\n",
    "Irish poet Oscar Wilde:\n",
    "\"Music makes one feel so romantic\n",
    "\n",
    "- at least it always gets on one's nerves – \n",
    "which is the same thing nowadays.\"\n"
   ]
  },
  {
   "cell_type": "code",
   "execution_count": 12,
   "id": "f5b7a01f",
   "metadata": {},
   "outputs": [
    {
     "name": "stdout",
     "output_type": "stream",
     "text": [
      " This quote is from\n",
      " Irish poet Oscar Wilde:\n",
      " \"Music makes one feel so romantic \n",
      " \n",
      " - at least it always gets on one's nerves – \n",
      " which is the same thing nowadays\n",
      " \n"
     ]
    }
   ],
   "source": [
    "print(''' This quote is from\\n Irish poet Oscar Wilde:\\n \"Music makes one feel so romantic \\n \\n - at least it always gets on one's nerves – \\n which is the same thing nowadays\n",
    " ''')"
   ]
  },
  {
   "cell_type": "markdown",
   "id": "8f460989",
   "metadata": {},
   "source": [
    "4.\tWhat print statements will generate this output?\n",
    "A \"quoted\" String is \n",
    "'much' better if you learn\n",
    "the rules of \"escape sequences.\"\n",
    "Also, \"\" represents an empty String.\n",
    "Don't forget: use \\\" instead of \" ! \n",
    "'' is not the same as \"\n"
   ]
  },
  {
   "cell_type": "code",
   "execution_count": 16,
   "id": "b301bfeb",
   "metadata": {},
   "outputs": [
    {
     "name": "stdout",
     "output_type": "stream",
     "text": [
      "A \"quoted\" String is \n",
      "'much' better if you learn \n",
      "the rules of \"escape sequences.\" \n",
      "Also, \"\" represents an empty String. \n",
      "Don't forget: use \\\" instead of \" ! \n",
      "'' is not the same as \"  \n"
     ]
    }
   ],
   "source": [
    "print(\"\"\"A \"quoted\" String is \\n'much' better if you learn \\nthe rules of \"escape sequences.\" \\nAlso, \"\" represents an empty String. \\nDon't forget: use \\\\\" instead of \" ! \\n'' is not the same as \"  \"\"\")"
   ]
  },
  {
   "cell_type": "markdown",
   "id": "4a31ecab",
   "metadata": {},
   "source": [
    "5.\tWhat values result from the following expressions?\n",
    "–\t9 / 5\n",
    "–\t695 % 20\n",
    "–\t7 + 6 * 5\n",
    "–\t7 * 6 + 5\n",
    "–\t248 % 100 / 5\n",
    "–\t6 * 3 - 9 / 4\n",
    "–\t(5 - 7) * 4\n",
    "–\t6 + (18 % (17 - 12))\n"
   ]
  },
  {
   "cell_type": "code",
   "execution_count": 17,
   "id": "950f76cf",
   "metadata": {},
   "outputs": [
    {
     "name": "stdout",
     "output_type": "stream",
     "text": [
      "1.8\n"
     ]
    }
   ],
   "source": [
    "print(9 / 5)"
   ]
  },
  {
   "cell_type": "code",
   "execution_count": 18,
   "id": "3d506504",
   "metadata": {},
   "outputs": [
    {
     "name": "stdout",
     "output_type": "stream",
     "text": [
      "15\n"
     ]
    }
   ],
   "source": [
    "print(695 % 20)"
   ]
  },
  {
   "cell_type": "code",
   "execution_count": 19,
   "id": "4f4e7ab6",
   "metadata": {},
   "outputs": [
    {
     "data": {
      "text/plain": [
       "37"
      ]
     },
     "execution_count": 19,
     "metadata": {},
     "output_type": "execute_result"
    }
   ],
   "source": [
    "print(7 + 6 * 5)"
   ]
  },
  {
   "cell_type": "code",
   "execution_count": 20,
   "id": "641d1ee2",
   "metadata": {
    "scrolled": true
   },
   "outputs": [
    {
     "data": {
      "text/plain": [
       "47"
      ]
     },
     "execution_count": 20,
     "metadata": {},
     "output_type": "execute_result"
    }
   ],
   "source": [
    "print(7 * 6 + 5)"
   ]
  },
  {
   "cell_type": "code",
   "execution_count": 21,
   "id": "eff92ea2",
   "metadata": {},
   "outputs": [
    {
     "name": "stdout",
     "output_type": "stream",
     "text": [
      "9.6\n"
     ]
    }
   ],
   "source": [
    "print(248 % 100 / 5)"
   ]
  },
  {
   "cell_type": "code",
   "execution_count": 1,
   "id": "1d5285ce",
   "metadata": {},
   "outputs": [
    {
     "name": "stdout",
     "output_type": "stream",
     "text": [
      "15.75\n"
     ]
    }
   ],
   "source": [
    "print(6 * 3 - 9 / 4)"
   ]
  },
  {
   "cell_type": "code",
   "execution_count": 2,
   "id": "6d749cc2",
   "metadata": {},
   "outputs": [
    {
     "name": "stdout",
     "output_type": "stream",
     "text": [
      "-8\n"
     ]
    }
   ],
   "source": [
    "print((5 - 7) * 4)"
   ]
  },
  {
   "cell_type": "code",
   "execution_count": 3,
   "id": "612c7dde",
   "metadata": {},
   "outputs": [
    {
     "name": "stdout",
     "output_type": "stream",
     "text": [
      "9\n"
     ]
    }
   ],
   "source": [
    "print(6 + (18 % (17 - 12)))"
   ]
  },
  {
   "cell_type": "markdown",
   "id": "1b1de109",
   "metadata": {},
   "source": [
    "## Exercise 3.3: Software Development – List, Tuple"
   ]
  },
  {
   "attachments": {
    "image.png": {
     "image/png": "[encoded data removed]"
    }
   },
   "cell_type": "markdown",
   "id": "22378fec",
   "metadata": {},
   "source": [
    "1. Write a program that finds the maximum value of the given list, assuming that the list contains at least one element.\n",
    "![image.png](attachment:image.png)\n"
   ]
  },
  {
   "cell_type": "code",
   "execution_count": null,
   "id": "b79dbed7",
   "metadata": {},
   "outputs": [
    {
     "name": "stdout",
     "output_type": "stream",
     "text": [
      "23\n"
     ]
    }
   ],
   "source": [
    "#creating a program to find the maximum value of a given list\n",
    "list_1 = [2,4,7,4,23,5,1,4,8,9]\n",
    "print(max(list_1))\n",
    "\n",
    "def maxList(nums):\n",
    "    max = '-inf'"
   ]
  },
  {
   "attachments": {
    "image.png": {
     "image/png": "[encoded data removed]"
    }
   },
   "cell_type": "markdown",
   "id": "115d8aca",
   "metadata": {},
   "source": [
    "2. Write a program that calculates the average value of the given list.\n",
    "![image.png](attachment:image.png)\n"
   ]
  },
  {
   "cell_type": "code",
   "execution_count": 11,
   "id": "4a558c54",
   "metadata": {},
   "outputs": [
    {
     "name": "stdout",
     "output_type": "stream",
     "text": [
      "24.6\n"
     ]
    }
   ],
   "source": [
    "#calculate average\n",
    "\n",
    "from statistics import mean\n",
    "\n",
    "list_2 = [4,7,1,5,11,53,12,46,84,23]\n",
    "#print(mean(list_2)) \n",
    "\n",
    "#method 2\n",
    "\n",
    "print(sum(list_2)/len(list_2))\n",
    "\n"
   ]
  },
  {
   "attachments": {
    "image.png": {
     "image/png": "[encoded data removed]"
    }
   },
   "cell_type": "markdown",
   "id": "f4fea8af",
   "metadata": {},
   "source": [
    "3. Write a program that prints the given list of integers in reverse order.\n",
    "![image.png](attachment:image.png)\n"
   ]
  },
  {
   "cell_type": "code",
   "execution_count": 13,
   "id": "204f4588",
   "metadata": {},
   "outputs": [
    {
     "name": "stdout",
     "output_type": "stream",
     "text": [
      "[5, 89, 45, 14, 53, 23, 45, 7, 6, 2]\n"
     ]
    }
   ],
   "source": [
    "#printing a list of integers in a reverse order\n",
    "list_3 = [2,6,7,45,23,53,14,45,89,5]\n",
    "#print(reversed(list_3))\n",
    "print(list_3[::-1])"
   ]
  },
  {
   "cell_type": "code",
   "execution_count": null,
   "id": "2f160ff7",
   "metadata": {},
   "outputs": [],
   "source": []
  },
  {
   "cell_type": "markdown",
   "id": "6d766577",
   "metadata": {},
   "source": [
    "4. Write a program that accepts two lists of integers and prints true if each element in the first\n",
    "list is less than the element at the same index in the second list. Your program should print\n",
    "false if the lists are not the same length.\n"
   ]
  },
  {
   "cell_type": "code",
   "execution_count": 32,
   "id": "1265a71e",
   "metadata": {},
   "outputs": [
    {
     "data": {
      "text/plain": [
       "False"
      ]
     },
     "execution_count": 32,
     "metadata": {},
     "output_type": "execute_result"
    }
   ],
   "source": [
    "def compare_lists (list_a, list_b):\n",
    "    if len(list_a) != len(list_b):\n",
    "        return False\n",
    "    for i in range (len(list_a)):\n",
    "        if list_a [i] < list_b[i]:\n",
    "            return True\n",
    "        \n",
    "\n",
    "compare_lists ([1,2,3,4,5],[60,1,80])"
   ]
  },
  {
   "cell_type": "code",
   "execution_count": null,
   "id": "d83484ae",
   "metadata": {},
   "outputs": [],
   "source": []
  },
  {
   "cell_type": "markdown",
   "id": "01c79947",
   "metadata": {},
   "source": [
    "5. Write a program that accepts a list of integers and two indexes and swaps the elements at those indexes"
   ]
  },
  {
   "cell_type": "code",
   "execution_count": 1,
   "id": "4499780a",
   "metadata": {},
   "outputs": [
    {
     "name": "stdout",
     "output_type": "stream",
     "text": [
      "Enter list of numbers: 1 2 3 4 5\n",
      "Enter list of numbers: 6 7 8 9 10\n",
      "[1.0, 2.0, 3.0, 4.0, 5.0]\n"
     ]
    }
   ],
   "source": [
    "#def swap_num (mylist, index1, index2):\n",
    "\n",
    "input1 = input(\"Enter list of numbers: \")\n",
    "input2 = input(\"Enter list of numbers: \")\n",
    "number_1 = [float(num) for num in input1.split ()]\n",
    "number_2 = [float(num) for num in input2.split ()]\n",
    "print(number_1)\n",
    "\n",
    "\n"
   ]
  },
  {
   "cell_type": "code",
   "execution_count": 9,
   "id": "a051cb3e",
   "metadata": {},
   "outputs": [
    {
     "name": "stdout",
     "output_type": "stream",
     "text": [
      "first  [4, 8, 8, 9]\n",
      "[4, 8, 5, 9]\n"
     ]
    }
   ],
   "source": [
    "def swap_num (mylist, index1, index2):\n",
    "    tmp = mylist[index1]\n",
    "    mylist [index1] = mylist[index2]\n",
    "    \n",
    "    print('first ', mylist)\n",
    "    \n",
    "    mylist [index2] = tmp\n",
    "    return mylist\n",
    "lst = [4,5,8,9]\n",
    "index1, index2 = 1,2\n",
    "print (swap_num(lst, index1, index2))\n",
    "            \n"
   ]
  },
  {
   "cell_type": "code",
   "execution_count": null,
   "id": "95c7f80d",
   "metadata": {},
   "outputs": [],
   "source": []
  },
  {
   "cell_type": "markdown",
   "id": "06095c50",
   "metadata": {},
   "source": [
    "6. Write a program that accepts two lists of integers and prints a new list containing all\n",
    "elements of the first list followed by all elements of the second."
   ]
  },
  {
   "cell_type": "code",
   "execution_count": 56,
   "id": "22a22035",
   "metadata": {},
   "outputs": [
    {
     "name": "stdout",
     "output_type": "stream",
     "text": [
      "[10, 11, 12, 13, 14, 15, 16]\n"
     ]
    }
   ],
   "source": [
    "\n",
    "firstlist = [10,11,12,13]\n",
    "secondlist = [14,15,16]\n",
    "sumlist = firstlist + secondlist\n",
    "print(sumlist)\n",
    "    \n"
   ]
  },
  {
   "cell_type": "code",
   "execution_count": 10,
   "id": "48a5a076",
   "metadata": {},
   "outputs": [
    {
     "name": "stdout",
     "output_type": "stream",
     "text": [
      "[1, 2, 3, 4, 5, 6, 7]\n"
     ]
    }
   ],
   "source": [
    "#method 2\n",
    "firstlist = [1,2,3,4]\n",
    "secondlist = [5,6,7]\n",
    "\n",
    "for i in secondlist:\n",
    "    firstlist.append(i)\n",
    "    \n",
    "print(firstlist)"
   ]
  },
  {
   "cell_type": "code",
   "execution_count": 53,
   "id": "ca9e2938",
   "metadata": {},
   "outputs": [
    {
     "name": "stdout",
     "output_type": "stream",
     "text": [
      "[10, 11, 12, 13, 14, 15, 16]\n"
     ]
    }
   ],
   "source": [
    "#method 3\n",
    "firstlist = [10,11,12,13]\n",
    "secondlist = [14,15,16]\n",
    "\n",
    "firstlist.extend(secondlist)\n",
    "print(firstlist)\n"
   ]
  },
  {
   "cell_type": "code",
   "execution_count": null,
   "id": "fcecf3a2",
   "metadata": {},
   "outputs": [],
   "source": []
  },
  {
   "cell_type": "code",
   "execution_count": null,
   "id": "d6bf1543",
   "metadata": {},
   "outputs": [],
   "source": []
  },
  {
   "cell_type": "markdown",
   "id": "02423ff5",
   "metadata": {},
   "source": [
    "7. Write a program that accepts a list of integers and an integer value as its parameters and prints the last index at which the value occurs in the list. The program should print –1 if the\n",
    "value is not found. For example, in the list [74, 85, 102, 99, 101, 85, 56], the last index of the\n",
    "value 85 is 5."
   ]
  },
  {
   "cell_type": "code",
   "execution_count": null,
   "id": "63cb72d0",
   "metadata": {},
   "outputs": [],
   "source": [
    "def last_value (Lis, lastvalue):\n",
    "    for i in enumerate (Lis):\n",
    "            number1 = x\n",
    "        if i == index2:\n",
    "            number2 = x\n",
    "    mylist [index1] = number2\n",
    "    mylist [index2] = number1\n",
    "    return mylist\n",
    "List = [4,5,8,9]\n",
    "index1, index2 = 1,4\n",
    "print (swap_num(List, index1-1, index2-1))"
   ]
  },
  {
   "cell_type": "code",
   "execution_count": 19,
   "id": "2283ea89",
   "metadata": {},
   "outputs": [
    {
     "name": "stdout",
     "output_type": "stream",
     "text": [
      "The last index of the value 85 is 11\n"
     ]
    }
   ],
   "source": [
    "def last_index_of_value(nums: list, value: int):\n",
    "    last_index = -1\n",
    "    for i, e in enumerate(nums):\n",
    "        if e == value:\n",
    "            last_index = i\n",
    "    return last_index\n",
    " \n",
    "# Given list\n",
    "given_list = [74, 85, 102, 99, 101, 85, 56, 85, 56, 76, 87, 85]\n",
    " \n",
    "# Value to search for\n",
    "search_value = 85\n",
    " \n",
    "# Find and print the last index of the value in the list\n",
    "result = last_index_of_value(given_list, search_value)\n",
    "print(\"The last index of the value\", search_value, \"is\", result)"
   ]
  },
  {
   "cell_type": "code",
   "execution_count": null,
   "id": "a0c7c616",
   "metadata": {},
   "outputs": [],
   "source": []
  },
  {
   "cell_type": "markdown",
   "id": "000755eb",
   "metadata": {},
   "source": [
    "8. Write a program that prints the range of values in a list of integers. The range is defined as 1\n",
    "more than the difference between the maximum and minimum values in the list. For\n",
    "example, if a list contains the values [36, 12, 25, 19, 46, 31, 22], the program should return\n",
    "35. You may assume that the list has at least one element.\n"
   ]
  },
  {
   "cell_type": "code",
   "execution_count": null,
   "id": "47d2b38b",
   "metadata": {},
   "outputs": [],
   "source": [
    "def rangeList(nums):\n",
    "    "
   ]
  },
  {
   "cell_type": "code",
   "execution_count": null,
   "id": "ceeb55f2",
   "metadata": {},
   "outputs": [],
   "source": []
  },
  {
   "cell_type": "code",
   "execution_count": null,
   "id": "2faf7d9e",
   "metadata": {},
   "outputs": [],
   "source": []
  },
  {
   "cell_type": "markdown",
   "id": "7c81a800",
   "metadata": {},
   "source": [
    "\n",
    "#            EXERCISE 4.4 : Python programming exercises"
   ]
  },
  {
   "cell_type": "code",
   "execution_count": null,
   "id": "0d33516d",
   "metadata": {},
   "outputs": [],
   "source": []
  },
  {
   "cell_type": "markdown",
   "id": "9c284a9f",
   "metadata": {},
   "source": [
    "1. Write a program to produce the following output using for loop\n",
    "\n",
    "+----+\n",
    "\\ /\n",
    "/ \\\n",
    "\\ /\n",
    "/ \\\n",
    "\\ /\n",
    "/ \\\n",
    "+----+\n",
    "\n"
   ]
  },
  {
   "cell_type": "code",
   "execution_count": null,
   "id": "56180c0d",
   "metadata": {},
   "outputs": [],
   "source": []
  },
  {
   "cell_type": "code",
   "execution_count": 33,
   "id": "586dc93d",
   "metadata": {},
   "outputs": [
    {
     "name": "stdout",
     "output_type": "stream",
     "text": [
      "+----+\n",
      "\\ /\n",
      "/ \\\n",
      "\\ /\n",
      "/ \\\n",
      "\\ /\n",
      "/ \\\n",
      "+----+\n"
     ]
    }
   ],
   "source": [
    "for x in range (8):\n",
    "    if x == 0 or x == 7:\n",
    "     print(\"+----+\")  \n",
    "    elif x % 2 == 1:\n",
    "        print(\"\\ /\")\n",
    "    else:\n",
    "       print(\"/ \\\\\") "
   ]
  },
  {
   "cell_type": "markdown",
   "id": "3e17b3ff",
   "metadata": {},
   "source": [
    "2. Write a program to produce the following output using for loop\n",
    "**********\n",
    "**********\n",
    "**********\n",
    "**********\n",
    "**********"
   ]
  },
  {
   "cell_type": "code",
   "execution_count": 35,
   "id": "7112a4dc",
   "metadata": {},
   "outputs": [
    {
     "name": "stdout",
     "output_type": "stream",
     "text": [
      "**********\n",
      "**********\n",
      "**********\n",
      "**********\n",
      "**********\n"
     ]
    }
   ],
   "source": [
    "for x in range (5):\n",
    "    print(\"*\" * 10)"
   ]
  },
  {
   "attachments": {
    "image.png": {
     "image/png": "[encoded data removed]"
    }
   },
   "cell_type": "markdown",
   "id": "f9743b56",
   "metadata": {},
   "source": [
    "3. Complete the code for the following for loop:\n",
    "for in range(1,7):\n",
    " //your code here\n",
    "so that it prints the following numbers, one per line\n",
    "![image.png](attachment:image.png)"
   ]
  },
  {
   "cell_type": "code",
   "execution_count": null,
   "id": "4cc4ca99",
   "metadata": {},
   "outputs": [],
   "source": [
    "for in range(1,7):"
   ]
  },
  {
   "cell_type": "code",
   "execution_count": null,
   "id": "19e99dc1",
   "metadata": {},
   "outputs": [],
   "source": []
  },
  {
   "cell_type": "markdown",
   "id": "fa389929",
   "metadata": {},
   "source": [
    "4. Write a program to produce the following output using for loops. Then \n",
    "use a class constant to make it possible to change the number of lines in \n",
    "the figure.\n",
    "1\n",
    "22\n",
    "333\n",
    "4444\n",
    "55555\n",
    "666666\n",
    "7777777  "
   ]
  },
  {
   "cell_type": "code",
   "execution_count": 42,
   "id": "547c017a",
   "metadata": {},
   "outputs": [
    {
     "name": "stdout",
     "output_type": "stream",
     "text": [
      "1\n",
      "22\n",
      "333\n",
      "4444\n",
      "55555\n",
      "666666\n",
      "7777777\n"
     ]
    }
   ],
   "source": [
    "for i in range (1,8):\n",
    "    for j in range (i):\n",
    "       print(i, end = \"\")\n",
    "    print()"
   ]
  },
  {
   "cell_type": "markdown",
   "id": "cac80046",
   "metadata": {},
   "source": [
    "5. Write a method named pay that accepts two parameters: a real number \n",
    "for a TA's salary, and an integer for the number of hours the TA worked \n",
    "this week. The method should return how much money to pay the TA. \n",
    "\n",
    "For example, the call  \n",
    "\n",
    "pay(5.50, 6)\n",
    "\n",
    "should return \n",
    "\n",
    "33.0. \n",
    "\n",
    "The TA should receive \"overtime\" pay of 1 ½ normal salary for any hours \n",
    "above 8. For example, the call pay(4.00, 11) should return (4.00 * \n",
    "8) + (6.00 * 3) or 50.0."
   ]
  },
  {
   "cell_type": "code",
   "execution_count": 51,
   "id": "1248b7cc",
   "metadata": {},
   "outputs": [
    {
     "name": "stdout",
     "output_type": "stream",
     "text": [
      "50.0\n"
     ]
    }
   ],
   "source": [
    "def pay (salary, hours):\n",
    "    if hours > 8:\n",
    "        payment = (salary * (1.5) * (hours-8)) + (salary * 8)    \n",
    "        print(payment)\n",
    "\n",
    "    else:\n",
    "        payment = (salary * hours)    \n",
    "        print(payment)\n",
    "pay(4,11)    \n",
    "    "
   ]
  },
  {
   "cell_type": "markdown",
   "id": "70f90481",
   "metadata": {},
   "source": [
    "6. Consider the following method for converting milliseconds into days:\n",
    "// converts milliseconds to days\n",
    "def toDays(millis):\n",
    " return millis / 1000.0 / 60.0 / 60.0 / 24.0\n",
    " \n",
    "Write a similar method named area that takes as a parameter the radius of \n",
    "a circle and that returns the area of the circle. For example, the call \n",
    "\n",
    "area(2.0);\n",
    "\n",
    "should return\n",
    "\n",
    "12.566370614359172.\n",
    "\n",
    "Recall that area can be computed as π times the radius squared and that \n",
    "Python has a constant called math.pi"
   ]
  },
  {
   "cell_type": "code",
   "execution_count": 55,
   "id": "cce403dc",
   "metadata": {},
   "outputs": [
    {
     "name": "stdout",
     "output_type": "stream",
     "text": [
      "12.566370614359172\n"
     ]
    }
   ],
   "source": [
    "from math import pi\n",
    "def area (radius):\n",
    "    circle_area = pi * (radius**2)\n",
    "    print(circle_area)\n",
    "area(2)\n"
   ]
  },
  {
   "cell_type": "markdown",
   "id": "6c139b72",
   "metadata": {},
   "source": [
    "7. Copy and paste the following code into pythons IDLE script \n",
    "environment.\n",
    "\n",
    " low = 1\n",
    " high = 1001\n",
    " sum = 0\n",
    " for i in range(low,high):\n",
    " sum += i\n",
    " \n",
    " print(\"sum = \" , sum)\n",
    "\n",
    "Modify the code to use a input to prompt the user for the values of low\n",
    "and high. Below is a sample execution in which the user asks for the same \n",
    "values as in the original program (1 through 1000):\n",
    "low? 1\n",
    "high? 1001\n",
    "sum = 500500\n",
    "Below is an execution with different values for low and high:\n",
    "low? 300\n",
    "high? 5298\n",
    "sum = 13986903\n",
    "You should exactly reproduce this format"
   ]
  },
  {
   "cell_type": "code",
   "execution_count": null,
   "id": "eaef883a",
   "metadata": {},
   "outputs": [],
   "source": [
    "low = int(input(\"Enter a low number: \"))\n"
   ]
  },
  {
   "cell_type": "code",
   "execution_count": null,
   "id": "6eae9554",
   "metadata": {},
   "outputs": [],
   "source": [
    "high = int(input(\"Enter a high number: \"))\n"
   ]
  }
 ],
 "metadata": {
  "kernelspec": {
   "display_name": "Python 3 (ipykernel)",
   "language": "python",
   "name": "python3"
  },
  "language_info": {
   "codemirror_mode": {
    "name": "ipython",
    "version": 3
   },
   "file_extension": ".py",
   "mimetype": "text/x-python",
   "name": "python",
   "nbconvert_exporter": "python",
   "pygments_lexer": "ipython3",
   "version": "3.11.2"
  }
 },
 "nbformat": 4,
 "nbformat_minor": 5
}
