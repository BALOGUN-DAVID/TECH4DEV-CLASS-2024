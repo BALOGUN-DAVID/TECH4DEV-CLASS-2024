{
 "cells": [
  {
   "cell_type": "markdown",
   "id": "5d432350-f7bd-4674-96bd-903b53df5b76",
   "metadata": {},
   "source": [
    "1. Print the First 10 natural numbers\r"
   ]
  },
  {
   "cell_type": "code",
   "execution_count": 28,
   "id": "63a870fa-c2b0-4047-b7be-33bd11b598dc",
   "metadata": {},
   "outputs": [
    {
     "name": "stdout",
     "output_type": "stream",
     "text": [
      "1\n",
      "2\n",
      "3\n",
      "4\n",
      "5\n",
      "6\n",
      "7\n",
      "8\n",
      "9\n",
      "10\n"
     ]
    }
   ],
   "source": [
    "for number in range(1,11):\n",
    "    print(number)"
   ]
  },
  {
   "cell_type": "markdown",
   "id": "869e3661-93c0-49a1-b045-0d07462da525",
   "metadata": {},
   "source": [
    "2. print(\"====The First 10 Natural Numbers====\")]\n"
   ]
  },
  {
   "cell_type": "code",
   "execution_count": 29,
   "id": "f0a942d4-9982-4d59-a196-25b93f713a70",
   "metadata": {},
   "outputs": [
    {
     "name": "stdout",
     "output_type": "stream",
     "text": [
      "====The First 10 Natural Numbers====\n",
      "\n",
      "\n",
      "1\n",
      "2\n",
      "3\n",
      "4\n",
      "5\n",
      "6\n",
      "7\n",
      "8\n",
      "9\n",
      "10\n"
     ]
    }
   ],
   "source": [
    "print(\"====The First 10 Natural Numbers====\")\n",
    "print(\"\\n\")\n",
    "for number in range(1,11):\n",
    "    print(number)"
   ]
  },
  {
   "cell_type": "markdown",
   "id": "99b4698b-f249-43eb-afe4-4f44263b4a56",
   "metadata": {},
   "source": [
    "3. Count the total number of digits in a number"
   ]
  },
  {
   "cell_type": "code",
   "execution_count": 33,
   "id": "3719a700-ebd7-4ae3-91ad-a18807932f03",
   "metadata": {},
   "outputs": [
    {
     "name": "stdin",
     "output_type": "stream",
     "text": [
      "Please insert a number 2559346\n"
     ]
    },
    {
     "name": "stdout",
     "output_type": "stream",
     "text": [
      "The total number of digits in a number is : 7\n"
     ]
    }
   ],
   "source": [
    "number = input(\"Please insert a number\")\n",
    "\n",
    "print(f\"The total number of digits in a number is : {len(number)}\")"
   ]
  },
  {
   "cell_type": "markdown",
   "id": "2dfb0314-56cc-42f5-8a06-17f1b86ae96c",
   "metadata": {},
   "source": [
    "4. Write a program to display all prime numbers within a range\n"
   ]
  },
  {
   "cell_type": "code",
   "execution_count": 34,
   "id": "73eb5544-5ec0-4678-81ed-359edc82b4c1",
   "metadata": {},
   "outputs": [
    {
     "name": "stdin",
     "output_type": "stream",
     "text": [
      "Please insert the lower limit:  2\n",
      "Please insert the upper limit:  23\n"
     ]
    },
    {
     "name": "stdout",
     "output_type": "stream",
     "text": [
      "[2, 3, 5, 7, 11, 13, 17, 19, 23]\n"
     ]
    }
   ],
   "source": [
    "#defining the upper and lower bound of the range \n",
    "lower = int(input(\"Please insert the lower limit: \"))\n",
    "upper = int(input(\"Please insert the upper limit: \"))\n",
    "\n",
    "#Cast strings into integers\n",
    "lower = int(lower)\n",
    "upper = int(upper)\n",
    "\n",
    "# `prime numbers` will hold all the prime numbers in case there is.\n",
    "prime_numbers = list()\n",
    "\n",
    "# Loop through the numbers in the range using for loop\n",
    "for number in range(lower, upper+1):\n",
    "  prime = True  \n",
    "  # Check if the number is greater than 1      \n",
    "  if number >= 2:  \n",
    "    #The 'range' function generates numbers from 2 to the square root of 'number', as we only need to check divisibility up\n",
    "    #to the square root to determine if 'number' is prime.  \n",
    "    for index in range(2, int(number ** 0.5) + 1):\n",
    "      if number % index == 0:\n",
    "        prime = False  \n",
    "        break\n",
    "    if prime == True:\n",
    "       prime_numbers.append(number) \n",
    "      \n",
    "# Print the list of prime numbers or a message if the list is empty\n",
    "if prime_numbers:\n",
    "   print(prime_numbers)\n",
    "else:\n",
    "   print(\"There isn't prime number in this range\")\n"
   ]
  },
  {
   "cell_type": "markdown",
   "id": "70d119cb-1d55-4c2e-bc9c-884bb9b021d1",
   "metadata": {},
   "source": [
    "5. Write a program to print a multiplication table of a given number"
   ]
  },
  {
   "cell_type": "code",
   "execution_count": 26,
   "id": "e5c17fb7-7d2d-41c4-9e40-800eac37467d",
   "metadata": {},
   "outputs": [
    {
     "name": "stdin",
     "output_type": "stream",
     "text": [
      "Please insert a number 9\n"
     ]
    },
    {
     "name": "stdout",
     "output_type": "stream",
     "text": [
      "9 x 1 = 9\n",
      "9 x 2 = 18\n",
      "9 x 3 = 27\n",
      "9 x 4 = 36\n",
      "9 x 5 = 45\n",
      "9 x 6 = 54\n",
      "9 x 7 = 63\n",
      "9 x 8 = 72\n",
      "9 x 9 = 81\n",
      "9 x 10 = 90\n"
     ]
    }
   ],
   "source": [
    "number = input(\"Please insert a number\")\n",
    "number = int(number)\n",
    "\n",
    "for multiplier  in range(1,11):\n",
    "    print(f\"{number} x {multiplier} = {number*multiplier}\")"
   ]
  }
 ],
 "metadata": {
  "kernelspec": {
   "display_name": "Python 3 (ipykernel)",
   "language": "python",
   "name": "python3"
  },
  "language_info": {
   "codemirror_mode": {
    "name": "ipython",
    "version": 3
   },
   "file_extension": ".py",
   "mimetype": "text/x-python",
   "name": "python",
   "nbconvert_exporter": "python",
   "pygments_lexer": "ipython3",
   "version": "3.12.1"
  }
 },
 "nbformat": 4,
 "nbformat_minor": 5
}
