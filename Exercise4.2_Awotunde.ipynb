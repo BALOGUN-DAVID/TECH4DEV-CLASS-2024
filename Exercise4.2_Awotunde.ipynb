{
 "cells": [
  {
   "cell_type": "markdown",
   "id": "04014ec4",
   "metadata": {},
   "source": [
    "###### Question 1\n",
    "Write a program to produce the following output using for loop\n",
    "+----+\n",
    "\\ /\n",
    "/ \\\n",
    "\\ /\n",
    "/ \\\n",
    "\\ /\n",
    "/ \\\n",
    "+----+"
   ]
  },
  {
   "cell_type": "code",
   "execution_count": 4,
   "id": "fa205adc",
   "metadata": {},
   "outputs": [
    {
     "name": "stdout",
     "output_type": "stream",
     "text": [
      "+----+\n",
      " \\ / \n",
      " / \\ \n",
      " \\ / \n",
      " / \\ \n",
      " \\ / \n",
      " / \\ \n",
      "+----+\n"
     ]
    }
   ],
   "source": [
    "rows = 5\n",
    "\n",
    "for i in range(rows):\n",
    "   if i == 0:\n",
    "       print(\"+----+\")\n",
    "   elif i == rows - 1:\n",
    "       print(\"+----+\")\n",
    "   else:\n",
    "       print(\" \\ / \")\n",
    "       print(\" / \\ \")\n"
   ]
  },
  {
   "cell_type": "markdown",
   "id": "8c989052",
   "metadata": {},
   "source": [
    "##### Question 2\n",
    "Write a program to produce the following output using for loop\n",
    "**********\n",
    "**********\n",
    "**********\n",
    "**********\n",
    "**********"
   ]
  },
  {
   "cell_type": "code",
   "execution_count": 5,
   "id": "90447aca",
   "metadata": {},
   "outputs": [
    {
     "name": "stdout",
     "output_type": "stream",
     "text": [
      "**********\n",
      "**********\n",
      "**********\n",
      "**********\n",
      "**********\n"
     ]
    }
   ],
   "source": [
    "for i in range(5):\n",
    "    print('**********')"
   ]
  },
  {
   "cell_type": "markdown",
   "id": "fe715c31",
   "metadata": {},
   "source": [
    "##### Question 3\n",
    "Complete the code for the following for loop:\n",
    "for in range(1,7):\n",
    " //your code here\n",
    "so that it prints the following numbers, one per line:\n",
    "a) 1 b) 2 c) 4 d) 30 e) -7 f) 97 g) -4\n",
    "2 4 19 20 -3 94 14\n",
    "3 6 34 10 1 91 32\n",
    "4 8 49 0 5 88 50\n",
    "5 10 64 -10 9 85 68\n",
    "6 12 79 -20 13 82 86\n"
   ]
  },
  {
   "cell_type": "code",
   "execution_count": 38,
   "id": "c852005f",
   "metadata": {},
   "outputs": [
    {
     "name": "stdout",
     "output_type": "stream",
     "text": [
      "1 2 8 9 3 94 -8\n",
      "2 4 21 8 6 95 -10\n",
      "3 6 34 7 11 96 -12\n",
      "4 8 47 6 18 97 -14\n",
      "5 10 60 5 27 98 -16\n",
      "6 12 73 4 38 99 -18\n"
     ]
    }
   ],
   "source": [
    "for i in range(1, 7):\n",
    "    a = i\n",
    "    b = i * 2\n",
    "    c = i * 13 - 5\n",
    "    d = 10 - i\n",
    "    e = i ** 2 + 2\n",
    "    f = 93 + i\n",
    "    g = i * -2 - 6\n",
    "\n",
    "    print(f\"{a} {b} {c} {d} {e} {f} {g}\")\n",
    "\n"
   ]
  },
  {
   "cell_type": "markdown",
   "id": "abb701dd",
   "metadata": {},
   "source": [
    "##### Question 4\n",
    "Write a program to produce the following output using for loops. Then use a class constant to make it possible to change the number of lines in the figure.\n",
    "1\n",
    "22\n",
    "333\n",
    "4444\n",
    "55555\n",
    "666666\n",
    "7777777"
   ]
  },
  {
   "cell_type": "code",
   "execution_count": 18,
   "id": "29677a2e",
   "metadata": {},
   "outputs": [
    {
     "name": "stdout",
     "output_type": "stream",
     "text": [
      "1\n",
      "22\n",
      "333\n",
      "4444\n",
      "55555\n",
      "666666\n",
      "7777777\n"
     ]
    }
   ],
   "source": [
    "class NumberTriangle:\n",
    "    # Class constant to change the number of lines in the figure\n",
    "    NUM_LINES = 7\n",
    "\n",
    "    def print_triangle(self):\n",
    "        for i in range(1, self.NUM_LINES + 1):\n",
    "            for j in range(i):\n",
    "                print(i, end=\"\")\n",
    "            print()\n",
    "\n",
    "# Create an instance of the class\n",
    "triangle = NumberTriangle()\n",
    "\n",
    "# Call the print_triangle method to produce the output\n",
    "triangle.print_triangle()\n"
   ]
  },
  {
   "cell_type": "markdown",
   "id": "ba8cdb7e",
   "metadata": {},
   "source": [
    "##### Question 5\n",
    "Write a method named pay that accepts two parameters: a real number for a TA's salary, and an integer for the number of hours the TA worked this week. The method should return how much money to pay the TA. For example, the call pay(5.50, 6)\n",
    "should return 33.0. The TA should receive \"overtime\" pay of 1 ½ normal salary for any hours \n",
    "above 8. For example, the call pay(4.00, 11) should return (4.00 * 8) + (6.00 * 3) or 50.0."
   ]
  },
  {
   "cell_type": "code",
   "execution_count": 19,
   "id": "55dd1461",
   "metadata": {},
   "outputs": [
    {
     "name": "stdout",
     "output_type": "stream",
     "text": [
      "33.0\n",
      "50.0\n"
     ]
    }
   ],
   "source": [
    "def pay(hourly_rate, hours_worked):\n",
    "    normal_hours = min(hours_worked, 8)\n",
    "    overtime_hours = max(0, hours_worked - 8)\n",
    "\n",
    "    normal_pay = normal_hours * hourly_rate\n",
    "    overtime_pay = overtime_hours * (hourly_rate * 1.5)\n",
    "\n",
    "    total_pay = normal_pay + overtime_pay\n",
    "    return total_pay\n",
    "\n",
    "TA_1 = pay(5.50, 6)\n",
    "TA_2 = pay(4.00, 11)\n",
    "\n",
    "print(TA_1)  \n",
    "print(TA_2) \n"
   ]
  },
  {
   "cell_type": "markdown",
   "id": "47519a99",
   "metadata": {},
   "source": [
    "##### Question 6\n",
    "Consider the following method for converting milliseconds into days:\n",
    "// converts milliseconds to days\n",
    "def toDays(millis):\n",
    " return millis / 1000.0 / 60.0 / 60.0 / 24.0\n",
    "Write a similar method named area that takes as a parameter the radius of  a circle and that returns the area of the circle. For example, the call  area(2.0); should return 12.566370614359172. Recall that area can be computed as π times the radius squared and that Python has a constant called math.pi"
   ]
  },
  {
   "cell_type": "code",
   "execution_count": 20,
   "id": "08783398",
   "metadata": {},
   "outputs": [
    {
     "name": "stdout",
     "output_type": "stream",
     "text": [
      "12.566370614359172\n"
     ]
    }
   ],
   "source": [
    "import math\n",
    "\n",
    "def area(radius):\n",
    "    return math.pi * radius ** 2\n",
    "\n",
    "area_of_circle = area(2.0)\n",
    "print(area_of_circle)  \n"
   ]
  },
  {
   "cell_type": "markdown",
   "id": "8e8c7a3f",
   "metadata": {},
   "source": [
    "##### Question 7\n",
    ". Copy and paste the following code into pythons IDLE script environment.\n",
    " low = 1\n",
    " high = 1001\n",
    " sum = 0\n",
    " for i in range(low,high):\n",
    " sum += i\n",
    " \n",
    " print(\"sum = \" , sum)\n",
    " \n",
    "Modify the code to use a input to prompt the user for the values of low and high. Below is a sample execution in which the user asks for the same values as in the original program (1 through 1000):\n",
    "low? 1\n",
    "high? 1001\n",
    "sum = 500500\n",
    "Below is an execution with different values for low and high:\n",
    "low? 300\n",
    "high? 5298\n",
    "sum = 13986903\n",
    "You should exactly reproduce this format."
   ]
  },
  {
   "cell_type": "code",
   "execution_count": 25,
   "id": "11b6c1ec",
   "metadata": {},
   "outputs": [
    {
     "name": "stdout",
     "output_type": "stream",
     "text": [
      "low value: 1\n",
      "high value: 1001\n",
      "sum = 500500\n"
     ]
    }
   ],
   "source": [
    "low = int(input('low value: '))\n",
    "high = int(input('high value: '))\n",
    "sum = 0\n",
    "\n",
    "for i in range(low, high):\n",
    "    sum += i\n",
    "\n",
    "print(\"sum =\", sum)\n"
   ]
  },
  {
   "cell_type": "markdown",
   "id": "3a4f993b",
   "metadata": {},
   "source": [
    "##### Question 8\n",
    "Write a program using while loop that prompts the user for numbers until the user types 0, then outputs their sum"
   ]
  },
  {
   "cell_type": "code",
   "execution_count": 26,
   "id": "551a847b",
   "metadata": {},
   "outputs": [
    {
     "name": "stdout",
     "output_type": "stream",
     "text": [
      "Enter a number (enter 0 to stop): 1\n",
      "Enter a number (enter 0 to stop): 0\n",
      "Sum of entered numbers: 1.0\n"
     ]
    }
   ],
   "source": [
    "# Initialize sum\n",
    "sum = 0\n",
    "# Prompt the user for numbers until 0 is entered\n",
    "while True:\n",
    "    num = float(input(\"Enter a number (enter 0 to stop): \"))\n",
    "    # Break the loop if the user enters 0\n",
    "    if num == 0:\n",
    "        break\n",
    "    # Add the entered number to the sum\n",
    "    sum += num\n",
    "print(\"Sum of entered numbers:\", sum)\n"
   ]
  },
  {
   "cell_type": "markdown",
   "id": "1b730bcf",
   "metadata": {},
   "source": [
    "##### Question 9\n",
    "Write a program using while loop that prompts the user for numbers until the user types -1, then outputs their sum."
   ]
  },
  {
   "cell_type": "code",
   "execution_count": 27,
   "id": "046c838a",
   "metadata": {},
   "outputs": [
    {
     "name": "stdout",
     "output_type": "stream",
     "text": [
      "Enter a number (enter -1 to stop): 5\n",
      "Enter a number (enter -1 to stop): 4\n",
      "Enter a number (enter -1 to stop): -1\n",
      "Sum of entered numbers: 9.0\n"
     ]
    }
   ],
   "source": [
    "# Initialize sum\n",
    "sum = 0\n",
    "# Prompt the user for numbers until -1 is entered\n",
    "while True:\n",
    "    num = float(input(\"Enter a number (enter -1 to stop): \"))\n",
    "    # Break the loop if the user enters -1\n",
    "    if num == -1:\n",
    "        break\n",
    "    # Add the entered number to the sum\n",
    "    sum += num\n",
    "print(\"Sum of entered numbers:\", sum)\n"
   ]
  },
  {
   "cell_type": "markdown",
   "id": "2fbb9ca6",
   "metadata": {},
   "source": [
    "##### Question 10\n",
    "Write a method named repl that accepts a String and a number of repetitions as parameters and returns the String concatenated that many times. For example, the call repl(\"hello\", 3) returns \"hellohellohello\". If the number of repetitions is 0 or less, an empty string is returned."
   ]
  },
  {
   "cell_type": "code",
   "execution_count": 28,
   "id": "3aaa0892",
   "metadata": {},
   "outputs": [
    {
     "name": "stdout",
     "output_type": "stream",
     "text": [
      "hellohellohello\n",
      "\n"
     ]
    }
   ],
   "source": [
    "def repl(string, repetitions):\n",
    "    if repetitions <= 0:\n",
    "        return \"\"\n",
    "    else:\n",
    "        return string * repetitions\n",
    "\n",
    "string_1 = repl(\"hello\", 3)\n",
    "string_2 = repl(\"world\", 0)\n",
    "\n",
    "print(string_1)\n",
    "print(string_2)\n"
   ]
  },
  {
   "cell_type": "markdown",
   "id": "d8e4df30",
   "metadata": {},
   "source": [
    "##### Question 11\n",
    "Write a method called printRange that accepts two integers as arguments and prints the sequence of numbers between the two arguments, separated by spaces. Print an increasing sequence if the first argument is smaller than the second; otherwise, print a decreasing sequence. If the two numbers are the same, that number should be printed by itself. Here are some sample calls to printRange: \n",
    "printRange(2, 7)\n",
    "printRange(19, 11)\n",
    "printRange(5, 5)\n",
    "The output produced should be the following: \n",
    "2 3 4 5 6 7 \n",
    "19 18 17 16 15 14 13 12 11 \n",
    "5"
   ]
  },
  {
   "cell_type": "code",
   "execution_count": 31,
   "id": "d6b0122f",
   "metadata": {},
   "outputs": [
    {
     "name": "stdout",
     "output_type": "stream",
     "text": [
      "2 3 4 5 6 7 \n",
      "19 18 17 16 15 14 13 12 11 \n",
      "5\n"
     ]
    }
   ],
   "source": [
    "# Let x and y represent the two integers\n",
    "def printRange(x, y):\n",
    "    if x < y:\n",
    "        for i in range(x, y + 1):\n",
    "            print(i, end=\" \")\n",
    "    elif x > y:\n",
    "        for i in range(x, y - 1, -1):\n",
    "            print(i, end=\" \")\n",
    "    else:\n",
    "        print(x)\n",
    "\n",
    "printRange(2, 7)\n",
    "print()  # Print an empty line for separation\n",
    "printRange(19, 11)\n",
    "print()  # Print an empty line for separation\n",
    "printRange(5, 5)"
   ]
  },
  {
   "cell_type": "markdown",
   "id": "a7c13961",
   "metadata": {},
   "source": [
    "##### Question 12\n",
    "Write a method named smallestLargest that asks the user to enter numbers,then prints the smallest and largest of all the numbers typed in by the user. You may assume the user enters a valid number greater than 0 for the number of numbers to read. Here is an example dialogue: How many numbers do you want to enter? 4\n",
    "Number 1: 5\n",
    "Number 2: 11\n",
    "Number 3: -2\n",
    "Number 4: 3\n",
    "Smallest = -2\n",
    "Largest = 11"
   ]
  },
  {
   "cell_type": "code",
   "execution_count": 32,
   "id": "fd8682c6",
   "metadata": {},
   "outputs": [
    {
     "name": "stdout",
     "output_type": "stream",
     "text": [
      "How many numbers do you want to enter? 4\n",
      "Number 1: 11\n",
      "Number 2: 5\n",
      "Number 3: -2\n",
      "Number 4: 3\n",
      "Smallest = -2.0\n",
      "Largest = 11.0\n"
     ]
    }
   ],
   "source": [
    "def smallestLargest():\n",
    "    count = int(input(\"How many numbers do you want to enter? \"))\n",
    "    \n",
    "    if count <= 0:\n",
    "        print(\"Invalid input. Please enter a valid number greater than 0.\")\n",
    "        return\n",
    "\n",
    "    smallest = float('inf')  # Initialize smallest to positive infinity\n",
    "    largest = float('-inf')  # Initialize largest to negative infinity\n",
    "\n",
    "    for i in range(1, count + 1):\n",
    "        num = float(input(\"Number {}: \".format(i)))\n",
    "\n",
    "        # Update smallest and largest\n",
    "        smallest = min(smallest, num)\n",
    "        largest = max(largest, num)\n",
    "\n",
    "    print(\"Smallest =\", smallest)\n",
    "    print(\"Largest =\", largest)\n",
    "\n",
    "# Call the method\n",
    "smallestLargest()\n"
   ]
  },
  {
   "cell_type": "markdown",
   "id": "ebfa7e17",
   "metadata": {},
   "source": [
    "##### Question 13\n",
    "Write a method called printAverage that uses a sentinel loop to repeatedly prompt the user for numbers. Once the user types any number less than zero, the method should display the average of all nonnegative numbers typed. Display the average as a double. Here is a sample \n",
    "dialogue with the user:\n",
    "Type a number: 7\n",
    "Type a number: 4\n",
    "Type a number: 16\n",
    "Type a number: –4\n",
    "Average was 9.0\n",
    "If the first number that the user types is negative, do not print an average:\n",
    "Type a number: –2"
   ]
  },
  {
   "cell_type": "code",
   "execution_count": 33,
   "id": "bb09e374",
   "metadata": {},
   "outputs": [
    {
     "name": "stdout",
     "output_type": "stream",
     "text": [
      "Enter a number: 4\n",
      "Enter a number: 7\n",
      "Enter a number: 16\n",
      "Enter a number: -4\n",
      "Average was 9.0\n"
     ]
    }
   ],
   "source": [
    "def printAverage():\n",
    "    total = 0.0\n",
    "    count = 0\n",
    "\n",
    "    while True:\n",
    "        num = float(input(\"Enter a number: \"))\n",
    "        \n",
    "        if num < 0:\n",
    "            if count == 0:\n",
    "                print(\"No non-negative numbers entered.\")\n",
    "            else:\n",
    "                average = total / count\n",
    "                print(\"Average was\", average)\n",
    "            break\n",
    "        \n",
    "        total += num\n",
    "        count += 1\n",
    "        \n",
    "# Call the method\n",
    "printAverage()\n"
   ]
  },
  {
   "cell_type": "markdown",
   "id": "da9dbb01",
   "metadata": {},
   "source": [
    "##### Question 14\n",
    "Write a method named numUnique that takes three integers as parameters and returns the number of unique integers among the three. For example, the call numUnique(18, 3, 4) should return 3 because the parameters have three different values. By contrast, the call numUnique(6, 7, 6)should return 2 because there are only two unique numbers among the three parameters: 6 and 7"
   ]
  },
  {
   "cell_type": "code",
   "execution_count": 34,
   "id": "bc213320",
   "metadata": {},
   "outputs": [
    {
     "name": "stdout",
     "output_type": "stream",
     "text": [
      "3\n",
      "2\n"
     ]
    }
   ],
   "source": [
    "def numUnique(num1, num2, num3):\n",
    "    unique_numbers = set([num1, num2, num3])\n",
    "    return len(unique_numbers)\n",
    "\n",
    "\n",
    "list_1 = numUnique(18, 3, 4)\n",
    "list_2 = numUnique(6, 7, 6)\n",
    "\n",
    "print(list_1)  \n",
    "print(list_2)\n"
   ]
  },
  {
   "cell_type": "markdown",
   "id": "739657f2",
   "metadata": {},
   "source": [
    "##### Question 15\n",
    "A Random object generates pseudo-random numbers. Find out how to use the Random class and write a program that simulates rolling of two 6-sided dice until their combined result comes up as 7. One possible output can be seen as below:\n",
    "2 + 4 = 6\n",
    "3 + 5 = 8\n",
    "5 + 6 = 11\n",
    "1 + 1 = 2\n",
    "4 + 3 = 7\n",
    "You won after 5 tries!"
   ]
  },
  {
   "cell_type": "code",
   "execution_count": 35,
   "id": "e144af5e",
   "metadata": {},
   "outputs": [
    {
     "name": "stdout",
     "output_type": "stream",
     "text": [
      "2 + 1 = 3\n",
      "4 + 6 = 10\n",
      "2 + 2 = 4\n",
      "2 + 5 = 7\n",
      "You won after 4 tries\n"
     ]
    }
   ],
   "source": [
    "import random\n",
    "\n",
    "def roll_dice():\n",
    "    return random.randint(1, 6)\n",
    "\n",
    "def simulate_dice_roll():\n",
    "    tries = 0\n",
    "\n",
    "    while True:\n",
    "        dice1 = roll_dice()\n",
    "        dice2 = roll_dice()\n",
    "        total = dice1 + dice2\n",
    "\n",
    "        print(f\"{dice1} + {dice2} = {total}\")\n",
    "\n",
    "        tries += 1\n",
    "\n",
    "        if total == 7:\n",
    "            print(f\"You won after {tries} tries\")\n",
    "            break\n",
    "\n",
    "# Call the simulation\n",
    "simulate_dice_roll()\n"
   ]
  }
 ],
 "metadata": {
  "kernelspec": {
   "display_name": "Python 3 (ipykernel)",
   "language": "python",
   "name": "python3"
  },
  "language_info": {
   "codemirror_mode": {
    "name": "ipython",
    "version": 3
   },
   "file_extension": ".py",
   "mimetype": "text/x-python",
   "name": "python",
   "nbconvert_exporter": "python",
   "pygments_lexer": "ipython3",
   "version": "3.11.5"
  }
 },
 "nbformat": 4,
 "nbformat_minor": 5
}
