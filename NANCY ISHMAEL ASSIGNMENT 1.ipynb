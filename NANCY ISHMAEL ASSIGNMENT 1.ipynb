{
 "cells": [
  {
   "cell_type": "markdown",
   "id": "44bc2f5a",
   "metadata": {},
   "source": [
    "# List of methods in List"
   ]
  },
  {
   "cell_type": "code",
   "execution_count": null,
   "id": "23fb8c52",
   "metadata": {},
   "outputs": [],
   "source": [
    "#1. Append"
   ]
  },
  {
   "cell_type": "code",
   "execution_count": 12,
   "id": "c3e58804",
   "metadata": {},
   "outputs": [
    {
     "data": {
      "text/plain": [
       "['Adam', 'Onome', 'David', 'Benson']"
      ]
     },
     "execution_count": 12,
     "metadata": {},
     "output_type": "execute_result"
    }
   ],
   "source": [
    "Names = [\"Adam\", \"Onome\",\"David\", \"Benson\"]\n",
    "Names"
   ]
  },
  {
   "cell_type": "code",
   "execution_count": 15,
   "id": "3a14883f",
   "metadata": {},
   "outputs": [
    {
     "name": "stdout",
     "output_type": "stream",
     "text": [
      "['Adam', 'Onome', 'David', 'Benson', 'Rose']\n"
     ]
    }
   ],
   "source": [
    "Names.append(\"Rose\")\n",
    "print(Names)"
   ]
  },
  {
   "cell_type": "code",
   "execution_count": null,
   "id": "79c33c67",
   "metadata": {},
   "outputs": [],
   "source": [
    "#2. Index"
   ]
  },
  {
   "cell_type": "code",
   "execution_count": 16,
   "id": "50a39301",
   "metadata": {},
   "outputs": [
    {
     "data": {
      "text/plain": [
       "['Abuja', 'Jos', 'Enugu', 'Benue', 'Onitsha']"
      ]
     },
     "execution_count": 16,
     "metadata": {},
     "output_type": "execute_result"
    }
   ],
   "source": [
    "Locations = [\"Abuja\", \"Jos\", \"Enugu\", \"Benue\", \"Onitsha\"]\n",
    "Locations"
   ]
  },
  {
   "cell_type": "code",
   "execution_count": 19,
   "id": "88ff7c7f",
   "metadata": {},
   "outputs": [
    {
     "data": {
      "text/plain": [
       "['Abuja', 'Jos']"
      ]
     },
     "execution_count": 19,
     "metadata": {},
     "output_type": "execute_result"
    }
   ],
   "source": [
    "#Index for Abuja and Jos\n",
    "Locations[0:2]\n"
   ]
  },
  {
   "cell_type": "code",
   "execution_count": null,
   "id": "92917374",
   "metadata": {},
   "outputs": [],
   "source": [
    "#3. Extend"
   ]
  },
  {
   "cell_type": "code",
   "execution_count": 20,
   "id": "132eda75",
   "metadata": {},
   "outputs": [
    {
     "data": {
      "text/plain": [
       "['Soursop', 'Pineapple', 'Cucumber', 'Banana', 'PawPaw']"
      ]
     },
     "execution_count": 20,
     "metadata": {},
     "output_type": "execute_result"
    }
   ],
   "source": [
    "My_fruits = [\"Soursop\", \"Pineapple\", \"Cucumber\", \"Banana\", \"PawPaw\"]\n",
    "My_fruits"
   ]
  },
  {
   "cell_type": "code",
   "execution_count": 24,
   "id": "c5b9c241",
   "metadata": {},
   "outputs": [
    {
     "data": {
      "text/plain": [
       "['Soursop',\n",
       " 'Pineapple',\n",
       " 'Cucumber',\n",
       " 'Banana',\n",
       " 'PawPaw',\n",
       " 'Carrot',\n",
       " 'Sugarcane',\n",
       " 'Carrot',\n",
       " 'Sugarcane',\n",
       " 'Carrot',\n",
       " 'Sugarcane']"
      ]
     },
     "execution_count": 24,
     "metadata": {},
     "output_type": "execute_result"
    }
   ],
   "source": [
    "My_fruits.extend([\"Carrot\", \"Sugarcane\"])\n",
    "My_fruits"
   ]
  },
  {
   "cell_type": "code",
   "execution_count": null,
   "id": "d81a7f40",
   "metadata": {},
   "outputs": [],
   "source": [
    "#4. Insert"
   ]
  },
  {
   "cell_type": "code",
   "execution_count": 25,
   "id": "8329d20e",
   "metadata": {},
   "outputs": [
    {
     "data": {
      "text/plain": [
       "[20, 22, 24, 26, 28, 20]"
      ]
     },
     "execution_count": 25,
     "metadata": {},
     "output_type": "execute_result"
    }
   ],
   "source": [
    "Numbers = [20,22,24,26,28,20]\n",
    "Numbers"
   ]
  },
  {
   "cell_type": "code",
   "execution_count": 33,
   "id": "7958b2cc",
   "metadata": {},
   "outputs": [
    {
     "data": {
      "text/plain": [
       "[20, 22, 24, 26, 28, 20, 18, 18]"
      ]
     },
     "execution_count": 33,
     "metadata": {},
     "output_type": "execute_result"
    }
   ],
   "source": [
    "Numbers.insert(18,18)\n",
    "Numbers"
   ]
  },
  {
   "cell_type": "code",
   "execution_count": null,
   "id": "50ae342d",
   "metadata": {},
   "outputs": [],
   "source": [
    "#5. Count"
   ]
  },
  {
   "cell_type": "code",
   "execution_count": 37,
   "id": "3e54fca7",
   "metadata": {},
   "outputs": [
    {
     "data": {
      "text/plain": [
       "[20, 22, 24, 26, 28, 20, 18, 18]"
      ]
     },
     "execution_count": 37,
     "metadata": {},
     "output_type": "execute_result"
    }
   ],
   "source": [
    "Numbers = [20,22,24,26,28,20,18,18]\n",
    "Numbers\n"
   ]
  },
  {
   "cell_type": "code",
   "execution_count": 46,
   "id": "5d9cacc3",
   "metadata": {},
   "outputs": [
    {
     "name": "stdout",
     "output_type": "stream",
     "text": [
      "[20, 22, 24, 28, 20]\n"
     ]
    }
   ],
   "source": [
    "Numbers.count(0)\n",
    "print(Numbers)"
   ]
  },
  {
   "cell_type": "code",
   "execution_count": null,
   "id": "6c7d35c0",
   "metadata": {},
   "outputs": [],
   "source": [
    "#6. Sort"
   ]
  },
  {
   "cell_type": "code",
   "execution_count": 7,
   "id": "8f963f59",
   "metadata": {},
   "outputs": [
    {
     "data": {
      "text/plain": [
       "['Abuja', 'Jos', 'Enugu', 'Benue', 'Onitsha']"
      ]
     },
     "execution_count": 7,
     "metadata": {},
     "output_type": "execute_result"
    }
   ],
   "source": [
    "Locations = [\"Abuja\", \"Jos\", \"Enugu\", \"Benue\", \"Onitsha\"]\n",
    "Locations"
   ]
  },
  {
   "cell_type": "code",
   "execution_count": 33,
   "id": "933677d8",
   "metadata": {},
   "outputs": [
    {
     "data": {
      "text/plain": [
       "['Abuja', 'Benue', 'Enugu', 'Jos', 'Onitsha']"
      ]
     },
     "execution_count": 33,
     "metadata": {},
     "output_type": "execute_result"
    }
   ],
   "source": [
    "Locations.sort()\n",
    "Locations"
   ]
  },
  {
   "cell_type": "code",
   "execution_count": null,
   "id": "36737d92",
   "metadata": {},
   "outputs": [],
   "source": [
    "#7. Pop"
   ]
  },
  {
   "cell_type": "code",
   "execution_count": 36,
   "id": "c281b138",
   "metadata": {},
   "outputs": [
    {
     "data": {
      "text/plain": [
       "[20, 22, 24, 26, 28, 20]"
      ]
     },
     "execution_count": 36,
     "metadata": {},
     "output_type": "execute_result"
    }
   ],
   "source": [
    "Numbers = [20,22,24,26,28,20]\n",
    "Numbers"
   ]
  },
  {
   "cell_type": "code",
   "execution_count": 37,
   "id": "eac92acd",
   "metadata": {},
   "outputs": [
    {
     "data": {
      "text/plain": [
       "[20, 22, 24, 28, 20]"
      ]
     },
     "execution_count": 37,
     "metadata": {},
     "output_type": "execute_result"
    }
   ],
   "source": [
    "Numbers.pop(3)\n",
    "Numbers"
   ]
  },
  {
   "cell_type": "code",
   "execution_count": null,
   "id": "dae13aa1",
   "metadata": {},
   "outputs": [],
   "source": [
    "#8. Reverse"
   ]
  },
  {
   "cell_type": "code",
   "execution_count": 38,
   "id": "0f7c6bea",
   "metadata": {},
   "outputs": [
    {
     "data": {
      "text/plain": [
       "['Benz', 'Honda', 'Toyota', 'Ford', 'Nissan']"
      ]
     },
     "execution_count": 38,
     "metadata": {},
     "output_type": "execute_result"
    }
   ],
   "source": [
    "Cars = [\"Benz\", \"Honda\", \"Toyota\", \"Ford\", \"Nissan\"]\n",
    "Cars"
   ]
  },
  {
   "cell_type": "code",
   "execution_count": 44,
   "id": "a4dbe3da",
   "metadata": {},
   "outputs": [
    {
     "data": {
      "text/plain": [
       "['Nissan', 'Ford', 'Toyota', 'Honda', 'Benz']"
      ]
     },
     "execution_count": 44,
     "metadata": {},
     "output_type": "execute_result"
    }
   ],
   "source": [
    "Cars.reverse()\n",
    "Cars"
   ]
  },
  {
   "cell_type": "code",
   "execution_count": null,
   "id": "b25f142a",
   "metadata": {},
   "outputs": [],
   "source": [
    "#9. Remove"
   ]
  },
  {
   "cell_type": "code",
   "execution_count": 47,
   "id": "41bbebfd",
   "metadata": {},
   "outputs": [
    {
     "data": {
      "text/plain": [
       "['Soursop', 'Pineapple', 'Cucumber', 'Banana', 'PawPaw']"
      ]
     },
     "execution_count": 47,
     "metadata": {},
     "output_type": "execute_result"
    }
   ],
   "source": [
    "My_fruits = [\"Soursop\", \"Pineapple\", \"Cucumber\", \"Banana\", \"PawPaw\"]\n",
    "My_fruits"
   ]
  },
  {
   "cell_type": "code",
   "execution_count": 57,
   "id": "8b708015",
   "metadata": {},
   "outputs": [
    {
     "data": {
      "text/plain": [
       "['Soursop', 'Pineapple', 'Banana', 'PawPaw']"
      ]
     },
     "execution_count": 57,
     "metadata": {},
     "output_type": "execute_result"
    }
   ],
   "source": [
    "My_fruits.remove(\"Cucumber\")\n",
    "My_fruits"
   ]
  },
  {
   "cell_type": "markdown",
   "id": "3120b1ce",
   "metadata": {},
   "source": [
    "# List of Methods in Dictionaries"
   ]
  },
  {
   "cell_type": "code",
   "execution_count": null,
   "id": "192e6d7b",
   "metadata": {},
   "outputs": [],
   "source": [
    "#10. Copy"
   ]
  },
  {
   "cell_type": "code",
   "execution_count": 64,
   "id": "02b5a46c",
   "metadata": {},
   "outputs": [
    {
     "data": {
      "text/plain": [
       "{'Apple': '1', 'Samsung': '2', 'Techno': '3', 'Infinix': '4', 'Redmi': '5'}"
      ]
     },
     "execution_count": 64,
     "metadata": {},
     "output_type": "execute_result"
    }
   ],
   "source": [
    "Phone_brands = {\"Apple\":\"1\", \"Samsung\":\"2\", \"Techno\":\"3\", \"Infinix\":\"4\", \"Redmi\":\"5\"}\n",
    "Phone_brands"
   ]
  },
  {
   "cell_type": "code",
   "execution_count": 69,
   "id": "f1fe549a",
   "metadata": {},
   "outputs": [
    {
     "data": {
      "text/plain": [
       "{'Apple': '1', 'Samsung': '2', 'Techno': '3', 'Infinix': '4', 'Redmi': '5'}"
      ]
     },
     "execution_count": 69,
     "metadata": {},
     "output_type": "execute_result"
    }
   ],
   "source": [
    "Phone_brands.copy\n",
    "Phone_brands"
   ]
  },
  {
   "cell_type": "code",
   "execution_count": null,
   "id": "56092497",
   "metadata": {},
   "outputs": [],
   "source": [
    "#11. Items"
   ]
  },
  {
   "cell_type": "code",
   "execution_count": 70,
   "id": "1d83a318",
   "metadata": {},
   "outputs": [
    {
     "data": {
      "text/plain": [
       "{'Apple': '1', 'Samsung': '2', 'Techno': '3', 'Infinix': '4', 'Redmi': '5'}"
      ]
     },
     "execution_count": 70,
     "metadata": {},
     "output_type": "execute_result"
    }
   ],
   "source": [
    "Phone_brands = {\"Apple\":\"1\", \"Samsung\":\"2\", \"Techno\":\"3\", \"Infinix\":\"4\", \"Redmi\":\"5\"}\n",
    "Phone_brands"
   ]
  },
  {
   "cell_type": "code",
   "execution_count": 98,
   "id": "aa2d3f25",
   "metadata": {},
   "outputs": [
    {
     "data": {
      "text/plain": [
       "[('Apple', '1'),\n",
       " ('Samsung', '2'),\n",
       " ('Techno', '3'),\n",
       " ('Infinix', '4'),\n",
       " ('Redmi', '5')]"
      ]
     },
     "execution_count": 98,
     "metadata": {},
     "output_type": "execute_result"
    }
   ],
   "source": [
    "items_list = list(Phone_brands.items())\n",
    "items_list"
   ]
  },
  {
   "cell_type": "code",
   "execution_count": 97,
   "id": "fb0f82ba",
   "metadata": {},
   "outputs": [],
   "source": [
    "#12. Keys"
   ]
  },
  {
   "cell_type": "code",
   "execution_count": 93,
   "id": "24da341b",
   "metadata": {},
   "outputs": [
    {
     "data": {
      "text/plain": [
       "{'a': 1, 'b': 2, 'c': 3, 'd': 4, 'e': 5}"
      ]
     },
     "execution_count": 93,
     "metadata": {},
     "output_type": "execute_result"
    }
   ],
   "source": [
    "My_numerals = {'a': 1, 'b': 2, 'c':3, 'd': 4, 'e': 5}\n",
    "My_numerals"
   ]
  },
  {
   "cell_type": "code",
   "execution_count": 95,
   "id": "64857911",
   "metadata": {},
   "outputs": [
    {
     "data": {
      "text/plain": [
       "['a', 'b', 'c', 'd', 'e']"
      ]
     },
     "execution_count": 95,
     "metadata": {},
     "output_type": "execute_result"
    }
   ],
   "source": [
    "keys_list = list(My_numerals.keys())\n",
    "keys_list\n"
   ]
  },
  {
   "cell_type": "code",
   "execution_count": null,
   "id": "14bc2eac",
   "metadata": {},
   "outputs": [],
   "source": [
    "#13. Pop"
   ]
  },
  {
   "cell_type": "code",
   "execution_count": 99,
   "id": "33d65bcb",
   "metadata": {},
   "outputs": [
    {
     "data": {
      "text/plain": [
       "{'a': 1, 'b': 2, 'c': 3, 'd': 4, 'e': 5}"
      ]
     },
     "execution_count": 99,
     "metadata": {},
     "output_type": "execute_result"
    }
   ],
   "source": [
    "My_numerals = {'a': 1, 'b': 2, 'c':3, 'd': 4, 'e': 5}\n",
    "My_numerals"
   ]
  },
  {
   "cell_type": "code",
   "execution_count": 116,
   "id": "09a02107",
   "metadata": {},
   "outputs": [
    {
     "data": {
      "text/plain": [
       "{'a': 1, 'b': 2, 'c': 3, 'e': 5, 'f': 6, 'g': 7, 'h': 8}"
      ]
     },
     "execution_count": 116,
     "metadata": {},
     "output_type": "execute_result"
    }
   ],
   "source": [
    "pop_value_d = My_numerals.pop('d')\n",
    "My_numerals"
   ]
  },
  {
   "cell_type": "code",
   "execution_count": null,
   "id": "3100647e",
   "metadata": {},
   "outputs": [],
   "source": [
    "#14. Update"
   ]
  },
  {
   "cell_type": "code",
   "execution_count": 112,
   "id": "dcae0231",
   "metadata": {},
   "outputs": [
    {
     "data": {
      "text/plain": [
       "{'a': 1, 'b': 2, 'c': 3, 'd': 4, 'e': 5}"
      ]
     },
     "execution_count": 112,
     "metadata": {},
     "output_type": "execute_result"
    }
   ],
   "source": [
    "My_numerals = {'a': 1, 'b': 2, 'c':3, 'd': 4, 'e': 5}\n",
    "My_numerals"
   ]
  },
  {
   "cell_type": "code",
   "execution_count": 113,
   "id": "8a9ce256",
   "metadata": {},
   "outputs": [
    {
     "data": {
      "text/plain": [
       "{'a': 1, 'b': 2, 'c': 3, 'd': 4, 'e': 5, 'f': 6, 'g': 7, 'h': 8}"
      ]
     },
     "execution_count": 113,
     "metadata": {},
     "output_type": "execute_result"
    }
   ],
   "source": [
    "New_numerals = {'f': 6, 'g': 7, 'h': 8}\n",
    "My_numerals.update(New_numerals)\n",
    "My_numerals"
   ]
  },
  {
   "cell_type": "code",
   "execution_count": null,
   "id": "a9a17e2d",
   "metadata": {},
   "outputs": [],
   "source": [
    "#15. Values"
   ]
  },
  {
   "cell_type": "code",
   "execution_count": 114,
   "id": "51d5e78c",
   "metadata": {},
   "outputs": [
    {
     "data": {
      "text/plain": [
       "{'Apple': '1', 'Samsung': '2', 'Techno': '3', 'Infinix': '4', 'Redmi': '5'}"
      ]
     },
     "execution_count": 114,
     "metadata": {},
     "output_type": "execute_result"
    }
   ],
   "source": [
    "Phone_brands = {\"Apple\":\"1\", \"Samsung\":\"2\", \"Techno\":\"3\", \"Infinix\":\"4\", \"Redmi\":\"5\"}\n",
    "Phone_brands"
   ]
  },
  {
   "cell_type": "code",
   "execution_count": 115,
   "id": "dcfac0dc",
   "metadata": {},
   "outputs": [
    {
     "data": {
      "text/plain": [
       "['1', '2', '3', '4', '5']"
      ]
     },
     "execution_count": 115,
     "metadata": {},
     "output_type": "execute_result"
    }
   ],
   "source": [
    "values_list = list(Phone_brands.values())\n",
    "values_list"
   ]
  },
  {
   "cell_type": "code",
   "execution_count": null,
   "id": "560f82d8",
   "metadata": {},
   "outputs": [],
   "source": [
    "#16. Clear"
   ]
  },
  {
   "cell_type": "code",
   "execution_count": 117,
   "id": "70f2ab28",
   "metadata": {},
   "outputs": [
    {
     "data": {
      "text/plain": [
       "['Adam', 'Onome', 'David', 'Benson']"
      ]
     },
     "execution_count": 117,
     "metadata": {},
     "output_type": "execute_result"
    }
   ],
   "source": [
    "Names = [\"Adam\", \"Onome\",\"David\", \"Benson\"]\n",
    "Names"
   ]
  },
  {
   "cell_type": "code",
   "execution_count": 118,
   "id": "96e21779",
   "metadata": {},
   "outputs": [
    {
     "data": {
      "text/plain": [
       "[]"
      ]
     },
     "execution_count": 118,
     "metadata": {},
     "output_type": "execute_result"
    }
   ],
   "source": [
    "Names.clear()\n",
    "Names"
   ]
  },
  {
   "cell_type": "code",
   "execution_count": null,
   "id": "1dedd884",
   "metadata": {},
   "outputs": [],
   "source": [
    "#17. Popitem"
   ]
  },
  {
   "cell_type": "code",
   "execution_count": 119,
   "id": "04a4403d",
   "metadata": {},
   "outputs": [
    {
     "data": {
      "text/plain": [
       "{'a': 1, 'b': 2, 'c': 3, 'd': 4, 'e': 5}"
      ]
     },
     "execution_count": 119,
     "metadata": {},
     "output_type": "execute_result"
    }
   ],
   "source": [
    "My_numerals = {'a': 1, 'b': 2, 'c':3, 'd': 4, 'e': 5}\n",
    "My_numerals"
   ]
  },
  {
   "cell_type": "code",
   "execution_count": 120,
   "id": "70f08c7a",
   "metadata": {},
   "outputs": [
    {
     "data": {
      "text/plain": [
       "{'a': 1, 'b': 2, 'c': 3, 'd': 4}"
      ]
     },
     "execution_count": 120,
     "metadata": {},
     "output_type": "execute_result"
    }
   ],
   "source": [
    "pop_item = My_numerals.popitem()\n",
    "My_numerals"
   ]
  },
  {
   "cell_type": "code",
   "execution_count": 121,
   "id": "5014cc75",
   "metadata": {},
   "outputs": [
    {
     "data": {
      "text/plain": [
       "('e', 5)"
      ]
     },
     "execution_count": 121,
     "metadata": {},
     "output_type": "execute_result"
    }
   ],
   "source": [
    "pop_item"
   ]
  },
  {
   "cell_type": "code",
   "execution_count": null,
   "id": "4f07053c",
   "metadata": {},
   "outputs": [],
   "source": [
    "#18. Get"
   ]
  },
  {
   "cell_type": "code",
   "execution_count": 122,
   "id": "37794be1",
   "metadata": {},
   "outputs": [
    {
     "data": {
      "text/plain": [
       "{'w': 10, 'x': 20, 'y': 30, 'z': 40}"
      ]
     },
     "execution_count": 122,
     "metadata": {},
     "output_type": "execute_result"
    }
   ],
   "source": [
    "Values = {\"w\": 10, \"x\": 20, \"y\": 30, \"z\": 40}\n",
    "Values"
   ]
  },
  {
   "cell_type": "code",
   "execution_count": 123,
   "id": "7772e4c9",
   "metadata": {},
   "outputs": [
    {
     "data": {
      "text/plain": [
       "10"
      ]
     },
     "execution_count": 123,
     "metadata": {},
     "output_type": "execute_result"
    }
   ],
   "source": [
    "value_of_w = Values.get('w')\n",
    "value_of_w"
   ]
  },
  {
   "cell_type": "markdown",
   "id": "b414a5d5",
   "metadata": {},
   "source": [
    "# List of methods in Tuples"
   ]
  },
  {
   "cell_type": "code",
   "execution_count": null,
   "id": "b138ab9d",
   "metadata": {},
   "outputs": [],
   "source": [
    "#19. Count"
   ]
  },
  {
   "cell_type": "code",
   "execution_count": 138,
   "id": "883ef079",
   "metadata": {},
   "outputs": [
    {
     "data": {
      "text/plain": [
       "[5, 10, 15, 20, 25, 30]"
      ]
     },
     "execution_count": 138,
     "metadata": {},
     "output_type": "execute_result"
    }
   ],
   "source": [
    "Tuple= [5,10,15,20,25,30]\n",
    "Tuple"
   ]
  },
  {
   "cell_type": "code",
   "execution_count": 4,
   "id": "c63be54c",
   "metadata": {},
   "outputs": [
    {
     "data": {
      "text/plain": [
       "0"
      ]
     },
     "execution_count": 4,
     "metadata": {},
     "output_type": "execute_result"
    }
   ],
   "source": [
    "Tuple = [5,10,15,20,25,30]\n",
    "count_of_two = Tuple.count(2)\n",
    "count_of_two"
   ]
  },
  {
   "cell_type": "code",
   "execution_count": 2,
   "id": "28f1b770",
   "metadata": {},
   "outputs": [],
   "source": [
    "#20.Index"
   ]
  },
  {
   "cell_type": "code",
   "execution_count": 7,
   "id": "de5ae9ca",
   "metadata": {},
   "outputs": [
    {
     "name": "stdout",
     "output_type": "stream",
     "text": [
      "1\n"
     ]
    }
   ],
   "source": [
    "Tuple = [2,4,6,8,10,12,14]\n",
    "count_of_two = Tuple.count(2)\n",
    "print(count_of_two)"
   ]
  },
  {
   "cell_type": "code",
   "execution_count": 20,
   "id": "0686ea04",
   "metadata": {},
   "outputs": [
    {
     "name": "stdout",
     "output_type": "stream",
     "text": [
      "1\n"
     ]
    }
   ],
   "source": [
    "Tuple = [2,4,6,8,10,12]\n",
    "index_of_four = Tuple.index(4)\n",
    "print(index_of_four)"
   ]
  },
  {
   "cell_type": "code",
   "execution_count": null,
   "id": "4a1b6416",
   "metadata": {},
   "outputs": [],
   "source": []
  }
 ],
 "metadata": {
  "kernelspec": {
   "display_name": "Python 3 (ipykernel)",
   "language": "python",
   "name": "python3"
  },
  "language_info": {
   "codemirror_mode": {
    "name": "ipython",
    "version": 3
   },
   "file_extension": ".py",
   "mimetype": "text/x-python",
   "name": "python",
   "nbconvert_exporter": "python",
   "pygments_lexer": "ipython3",
   "version": "3.11.5"
  }
 },
 "nbformat": 4,
 "nbformat_minor": 5
}
