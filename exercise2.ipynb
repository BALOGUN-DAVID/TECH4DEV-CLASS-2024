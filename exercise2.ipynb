{
 "cells": [
  {
   "cell_type": "markdown",
   "metadata": {},
   "source": [
    "# Exercise 2"
   ]
  },
  {
   "cell_type": "markdown",
   "metadata": {},
   "source": [
    "## 1."
   ]
  },
  {
   "cell_type": "code",
   "execution_count": 4,
   "metadata": {},
   "outputs": [
    {
     "name": "stdout",
     "output_type": "stream",
     "text": [
      "The maximum value is : 23\n"
     ]
    }
   ],
   "source": [
    "numbers = [2,4,7,4,23,5,1,4,8,9]\n",
    "maxValue = numbers[0]\n",
    "\n",
    "for num in numbers:\n",
    "    if num > maxValue:\n",
    "        maxValue = num\n",
    "        \n",
    "print(f\"The maximum value is : {maxValue}\")"
   ]
  },
  {
   "cell_type": "markdown",
   "metadata": {},
   "source": [
    "## 2."
   ]
  },
  {
   "cell_type": "code",
   "execution_count": 6,
   "metadata": {},
   "outputs": [
    {
     "name": "stdout",
     "output_type": "stream",
     "text": [
      "The average value is : 24.6\n"
     ]
    }
   ],
   "source": [
    "numbers = [4,7,1,5,11,53,12,46,84,23]\n",
    "sumOfNum = sum(numbers)\n",
    "lenOfNum = len(numbers)\n",
    "average = sumOfNum / lenOfNum\n",
    "print(f\"The average value is : {average}\")"
   ]
  },
  {
   "cell_type": "markdown",
   "metadata": {},
   "source": [
    "## 3."
   ]
  },
  {
   "cell_type": "code",
   "execution_count": 8,
   "metadata": {},
   "outputs": [
    {
     "name": "stdout",
     "output_type": "stream",
     "text": [
      "[5, 89, 14, 53, 23, 45, 7, 6, 2]\n"
     ]
    }
   ],
   "source": [
    "numbers = [2,6,7,45,23,53,14,89,5]\n",
    "print(numbers[::-1])"
   ]
  },
  {
   "cell_type": "markdown",
   "metadata": {},
   "source": [
    "## 4."
   ]
  },
  {
   "cell_type": "code",
   "execution_count": 11,
   "metadata": {},
   "outputs": [
    {
     "name": "stdout",
     "output_type": "stream",
     "text": [
      "True\n"
     ]
    }
   ],
   "source": [
    "def compare(lnum1, lnum2):\n",
    "    if len(lnum1) != len(lnum2):\n",
    "        return False\n",
    "    \n",
    "    for i in range(len(lnum1)):\n",
    "        if lnum1[i] >= lnum2[i]:\n",
    "            return False\n",
    "        \n",
    "    return True\n",
    "\n",
    "lnum1 = list(map(int, input(\"Enter the first list of integers separated by spaces: \").split()))\n",
    "lnum2 = list(map(int, input(\"Enter the second list of integers separated by spaces: \").split()))\n",
    "\n",
    "result = compare(lnum1, lnum2)\n",
    "print(result)"
   ]
  },
  {
   "cell_type": "markdown",
   "metadata": {},
   "source": [
    "## 5."
   ]
  },
  {
   "cell_type": "code",
   "execution_count": 13,
   "metadata": {},
   "outputs": [
    {
     "name": "stdout",
     "output_type": "stream",
     "text": [
      "[1, 5, 3, 4, 2, 6, 7, 8]\n"
     ]
    }
   ],
   "source": [
    "def swap(lst, index1, index2):\n",
    "    if 0 <= index1 < len(lst) and 0 <= index2 < len(lst):\n",
    "        lst[index1], lst[index2] = lst[index2], lst[index1]\n",
    "        return True\n",
    "    else:\n",
    "        return False\n",
    "    \n",
    "numbers = list(map(int, input(\"Enter the list of integers separated by spaces: \").split()))\n",
    "index1, index2 = map(int, input(\"Enter tow indices separeted by spaces: \").split())\n",
    "\n",
    "if swap(numbers, index1, index2):\n",
    "    print(numbers)\n",
    "else:\n",
    "    print(\"Invalid indeces\")"
   ]
  },
  {
   "cell_type": "markdown",
   "metadata": {},
   "source": [
    "## 6."
   ]
  },
  {
   "cell_type": "code",
   "execution_count": 15,
   "metadata": {},
   "outputs": [
    {
     "name": "stdout",
     "output_type": "stream",
     "text": [
      "[1, 2, 3, 4, 5, 9, 8, 7, 65, 4]\n"
     ]
    }
   ],
   "source": [
    "def concatenate(list1, list2):\n",
    "    newlist = list1 + list2\n",
    "    return newlist\n",
    "list1 = list(map(int, input(\"Enter the first list of integers separated by spaces: \").split()))\n",
    "list2 = list(map(int, input(\"Enter the second list of integers separated by spaces: \").split()))\n",
    "\n",
    "result = concatenate(list1, list2)\n",
    "print(result)"
   ]
  },
  {
   "cell_type": "markdown",
   "metadata": {},
   "source": [
    "## 7."
   ]
  },
  {
   "cell_type": "code",
   "execution_count": 24,
   "metadata": {},
   "outputs": [
    {
     "name": "stdout",
     "output_type": "stream",
     "text": [
      "0\n"
     ]
    }
   ],
   "source": [
    "def findLastIndex(lst, value):\n",
    "    lastIndex = -1\n",
    "    \n",
    "    for i in range(len(lst) - 1, -1, -1):\n",
    "        if lst[i] == value:\n",
    "            lastIndex = i\n",
    "            break\n",
    "        \n",
    "    return lastIndex\n",
    "\n",
    "nmbers = list(map(int, input(\"Enter the list of integers separated by spaces: \").split()))\n",
    "valueToFind = int(input(\"Enter the integer value\"))\n",
    "\n",
    "lastIndex = findLastIndex(numbers, valueToFind)\n",
    "print(lastIndex)"
   ]
  },
  {
   "cell_type": "markdown",
   "metadata": {},
   "source": [
    "## 8."
   ]
  },
  {
   "cell_type": "code",
   "execution_count": 25,
   "metadata": {},
   "outputs": [
    {
     "name": "stdout",
     "output_type": "stream",
     "text": [
      "35\n"
     ]
    }
   ],
   "source": [
    "def calculateRange(lst):\n",
    "    rangeValue = max(lst) - min(lst) + 1\n",
    "    return rangeValue\n",
    "\n",
    "numbers = [36,12,25,19,46,31,22]\n",
    "rangeList = calculateRange(numbers)\n",
    "\n",
    "print(rangeList)"
   ]
  },
  {
   "cell_type": "markdown",
   "metadata": {},
   "source": [
    "## 9."
   ]
  },
  {
   "cell_type": "code",
   "execution_count": 27,
   "metadata": {},
   "outputs": [
    {
     "name": "stdout",
     "output_type": "stream",
     "text": [
      "0\n"
     ]
    }
   ],
   "source": [
    "def numElement(lst, minValue, maxValue):\n",
    "    count = 0\n",
    "    \n",
    "    for num in lst:\n",
    "        if minValue <= num <= maxValue:\n",
    "            count += 1\n",
    "            \n",
    "    return count\n",
    "\n",
    "numbers = list(map(int, input(\"Enter the list of integers separeted by spaces: \").split()))\n",
    "minValue = int(input(\"Enter the minimum value: \"))\n",
    "maxValue = int(input(\"Enter the maximum value: \"))\n",
    "\n",
    "countElement = numElement(numbers, minValue, maxValue)\n",
    "print(countElement)"
   ]
  },
  {
   "cell_type": "markdown",
   "metadata": {},
   "source": [
    "## 10."
   ]
  },
  {
   "cell_type": "code",
   "execution_count": 28,
   "metadata": {},
   "outputs": [
    {
     "name": "stdout",
     "output_type": "stream",
     "text": [
      "False\n",
      "True\n"
     ]
    }
   ],
   "source": [
    "def sort(lst):\n",
    "    for i in range(len(lst) - 1):\n",
    "        if lst[i] > lst [i + 1]:\n",
    "            return False\n",
    "    return True\n",
    "\n",
    "list1 = [16.1, 12.3, 22.2, 14.4]\n",
    "list2 = [1.5, 4.3, 7.0, 19.5, 25.1, 46.2]\n",
    "\n",
    "print(sort(list1))\n",
    "print(sort(list2))"
   ]
  }
 ],
 "metadata": {
  "kernelspec": {
   "display_name": "Python 3",
   "language": "python",
   "name": "python3"
  },
  "language_info": {
   "codemirror_mode": {
    "name": "ipython",
    "version": 3
   },
   "file_extension": ".py",
   "mimetype": "text/x-python",
   "name": "python",
   "nbconvert_exporter": "python",
   "pygments_lexer": "ipython3",
   "version": "3.11.6"
  }
 },
 "nbformat": 4,
 "nbformat_minor": 2
}
