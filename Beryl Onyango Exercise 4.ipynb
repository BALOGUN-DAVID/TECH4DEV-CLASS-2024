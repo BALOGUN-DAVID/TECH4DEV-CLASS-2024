{
 "cells": [
  {
   "cell_type": "markdown",
   "id": "14b9a79a",
   "metadata": {},
   "source": [
    "# Q1"
   ]
  },
  {
   "cell_type": "code",
   "execution_count": 1,
   "id": "dc64516a",
   "metadata": {},
   "outputs": [
    {
     "name": "stdout",
     "output_type": "stream",
     "text": [
      "+----+\n",
      "\\ /\n",
      "/ \\\n",
      "\\ /\n",
      "/ \\\n",
      "+----+\n"
     ]
    }
   ],
   "source": [
    "# Loop to print the top border\n",
    "print(\"+----+\")\n",
    "\n",
    "# Loop to print the alternating slashes and backslashes\n",
    "for i in range(4):\n",
    "    if i % 2 == 0:\n",
    "        print(\"\\\\ /\")\n",
    "    else:\n",
    "        print(\"/ \\\\\")\n",
    "\n",
    "# Loop to print the bottom border\n",
    "print(\"+----+\")"
   ]
  },
  {
   "cell_type": "markdown",
   "id": "76a9f053",
   "metadata": {},
   "source": [
    "# Q2"
   ]
  },
  {
   "cell_type": "code",
   "execution_count": 2,
   "id": "708b8bfb",
   "metadata": {},
   "outputs": [
    {
     "name": "stdout",
     "output_type": "stream",
     "text": [
      "**********\n",
      "**********\n",
      "**********\n",
      "**********\n",
      "**********\n"
     ]
    }
   ],
   "source": [
    "# Define the number of rows\n",
    "rows = 5\n",
    "\n",
    "# Loop to print the pattern\n",
    "for i in range(rows):\n",
    "    print(\"*\" * 10)\n"
   ]
  },
  {
   "cell_type": "markdown",
   "id": "7de63519",
   "metadata": {},
   "source": [
    "# Q3"
   ]
  },
  {
   "cell_type": "code",
   "execution_count": 3,
   "id": "6bd1df55",
   "metadata": {},
   "outputs": [
    {
     "name": "stdout",
     "output_type": "stream",
     "text": [
      "2 2 18 8 7 89 -4\n",
      "5 4 21 6 10 91 8\n",
      "8 6 24 4 13 93 20\n",
      "11 8 27 2 16 95 32\n",
      "14 10 30 0 19 97 44\n",
      "17 12 33 -2 22 99 56\n"
     ]
    }
   ],
   "source": [
    "for i in range(1, 7):\n",
    "    a = 3 * i - 1\n",
    "    b = 2 * i\n",
    "    c = 15 + 3 * i\n",
    "    d = 10 - 2 * i\n",
    "    e = 4 + 3 * i\n",
    "    f = 87 + 2 * i\n",
    "    g = 12 * i - 16\n",
    "\n",
    "    print(f\"{a} {b} {c} {d} {e} {f} {g}\")\n"
   ]
  },
  {
   "cell_type": "markdown",
   "id": "a60f9c89",
   "metadata": {},
   "source": [
    "# Q4"
   ]
  },
  {
   "cell_type": "code",
   "execution_count": 4,
   "id": "f69b55ba",
   "metadata": {},
   "outputs": [
    {
     "name": "stdout",
     "output_type": "stream",
     "text": [
      "1\n",
      "22\n",
      "333\n",
      "4444\n",
      "55555\n",
      "666666\n",
      "7777777\n"
     ]
    }
   ],
   "source": [
    "class NumberTriangle:\n",
    "    # Class constant to define the number of lines in the figure\n",
    "    NUM_LINES = 7\n",
    "\n",
    "    @classmethod\n",
    "    def print_triangle(cls):\n",
    "        for i in range(1, cls.NUM_LINES + 1):\n",
    "            # Using f-string to repeat the digit i the required number of times\n",
    "            print(f\"{i}\" * i)\n",
    "\n",
    "# Call the method to print the triangle\n",
    "NumberTriangle.print_triangle()"
   ]
  },
  {
   "cell_type": "markdown",
   "id": "8990aa6a",
   "metadata": {},
   "source": [
    "# Q5"
   ]
  },
  {
   "cell_type": "code",
   "execution_count": 5,
   "id": "6b9d33e8",
   "metadata": {},
   "outputs": [
    {
     "name": "stdout",
     "output_type": "stream",
     "text": [
      "33.0\n",
      "50.0\n"
     ]
    }
   ],
   "source": [
    "def pay(hourly_rate, hours_worked):\n",
    "    normal_hours = 8\n",
    "    overtime_rate = 1.5\n",
    "\n",
    "    if hours_worked <= normal_hours:\n",
    "        # Calculate pay for regular hours\n",
    "        total_pay = hourly_rate * hours_worked\n",
    "    else:\n",
    "        # Calculate pay for normal hours\n",
    "        normal_pay = hourly_rate * normal_hours\n",
    "\n",
    "        # Calculate pay for overtime hours\n",
    "        overtime_hours = hours_worked - normal_hours\n",
    "        overtime_pay = hourly_rate * overtime_rate * overtime_hours\n",
    "\n",
    "        # Calculate total pay\n",
    "        total_pay = normal_pay + overtime_pay\n",
    "\n",
    "    return total_pay\n",
    "\n",
    "# Example usage:\n",
    "print(pay(5.50, 6))   # Output: 33.0\n",
    "print(pay(4.00, 11))  # Output: 50.0\n"
   ]
  },
  {
   "cell_type": "markdown",
   "id": "70f87bfc",
   "metadata": {},
   "source": [
    "# Q6"
   ]
  },
  {
   "cell_type": "code",
   "execution_count": 6,
   "id": "5d1b9dd5",
   "metadata": {},
   "outputs": [
    {
     "name": "stdout",
     "output_type": "stream",
     "text": [
      "12.566370614359172\n"
     ]
    }
   ],
   "source": [
    "import math\n",
    "\n",
    "def area(radius):\n",
    "    # Calculate the area of the circle\n",
    "    circle_area = math.pi * radius ** 2\n",
    "    return circle_area\n",
    "\n",
    "# Example usage:\n",
    "result = area(2.0)\n",
    "print(result)  # Output: 12.566370614359172\n"
   ]
  },
  {
   "cell_type": "markdown",
   "id": "40fa166a",
   "metadata": {},
   "source": [
    "# Q7"
   ]
  },
  {
   "cell_type": "code",
   "execution_count": 7,
   "id": "72acf222",
   "metadata": {},
   "outputs": [
    {
     "name": "stdout",
     "output_type": "stream",
     "text": [
      "low? 200\n",
      "high? 400\n",
      "sum = 59900\n"
     ]
    }
   ],
   "source": [
    "low = int(input(\"low? \"))\n",
    "high = int(input(\"high? \"))\n",
    "sum_result = 0\n",
    "\n",
    "for i in range(low, high):\n",
    "    sum_result += i\n",
    "\n",
    "print(\"sum =\", sum_result)\n"
   ]
  },
  {
   "cell_type": "markdown",
   "id": "e5ab5713",
   "metadata": {},
   "source": [
    "# Q8"
   ]
  },
  {
   "cell_type": "code",
   "execution_count": 8,
   "id": "29f31ad8",
   "metadata": {},
   "outputs": [
    {
     "name": "stdout",
     "output_type": "stream",
     "text": [
      "Enter a number (type 0 to exit): 10\n",
      "Enter another number (type 0 to exit): 20\n",
      "Enter another number (type 0 to exit): 1\n",
      "Enter another number (type 0 to exit): 0\n",
      "Sum of the numbers: 31\n"
     ]
    }
   ],
   "source": [
    "sum_result = 0\n",
    "number = int(input(\"Enter a number (type 0 to exit): \"))\n",
    "\n",
    "# Continue looping until the user enters 0\n",
    "while number != 0:\n",
    "    sum_result += number\n",
    "    number = int(input(\"Enter another number (type 0 to exit): \"))\n",
    "\n",
    "# Display the sum\n",
    "print(\"Sum of the numbers:\", sum_result)\n"
   ]
  },
  {
   "cell_type": "markdown",
   "id": "af08771d",
   "metadata": {},
   "source": [
    "# Q9"
   ]
  },
  {
   "cell_type": "code",
   "execution_count": 9,
   "id": "132c8b9a",
   "metadata": {},
   "outputs": [
    {
     "name": "stdout",
     "output_type": "stream",
     "text": [
      "Enter a number (type -1 to exit): 20\n",
      "Enter another number (type -1 to exit): 35\n",
      "Enter another number (type -1 to exit): 54\n",
      "Enter another number (type -1 to exit): -1\n",
      "Sum of the numbers: 109\n"
     ]
    }
   ],
   "source": [
    "# Initialize sum and get the first input\n",
    "sum_result = 0\n",
    "number = int(input(\"Enter a number (type -1 to exit): \"))\n",
    "\n",
    "# Continue looping until the user enters -1\n",
    "while number != -1:\n",
    "    sum_result += number\n",
    "    number = int(input(\"Enter another number (type -1 to exit): \"))\n",
    "\n",
    "# Display the sum\n",
    "print(\"Sum of the numbers:\", sum_result)"
   ]
  },
  {
   "cell_type": "markdown",
   "id": "bbf45212",
   "metadata": {},
   "source": [
    "# Q10"
   ]
  },
  {
   "cell_type": "code",
   "execution_count": 10,
   "id": "b0d64660",
   "metadata": {},
   "outputs": [
    {
     "name": "stdout",
     "output_type": "stream",
     "text": [
      "hellohellohello\n",
      "\n"
     ]
    }
   ],
   "source": [
    "def repl(input_str, repetitions):\n",
    "    if repetitions <= 0:\n",
    "        return \"\"\n",
    "    else:\n",
    "        return input_str * repetitions\n",
    "\n",
    "# Example usage:\n",
    "result = repl(\"hello\", 3)\n",
    "print(result)  # Output: \"hellohellohello\"\n",
    "\n",
    "result_empty = repl(\"example\", 0)\n",
    "print(result_empty)  # Output: \"\"\n"
   ]
  },
  {
   "cell_type": "markdown",
   "id": "4a061a0c",
   "metadata": {},
   "source": [
    "# Q11"
   ]
  },
  {
   "cell_type": "code",
   "execution_count": 11,
   "id": "cdb65d16",
   "metadata": {},
   "outputs": [
    {
     "name": "stdout",
     "output_type": "stream",
     "text": [
      "2 3 4 5 6 7 19 18 17 16 15 14 13 12 11 5\n"
     ]
    }
   ],
   "source": [
    "def printRange(start, end):\n",
    "    if start < end:\n",
    "        # Print increasing sequence\n",
    "        for i in range(start, end + 1):\n",
    "            print(i, end=\" \")\n",
    "    elif start > end:\n",
    "        # Print decreasing sequence\n",
    "        for i in range(start, end - 1, -1):\n",
    "            print(i, end=\" \")\n",
    "    else:\n",
    "        # If the numbers are the same, print that number\n",
    "        print(start)\n",
    "\n",
    "# Example calls:\n",
    "printRange(2, 7)\n",
    "printRange(19, 11)\n",
    "printRange(5, 5)\n"
   ]
  },
  {
   "cell_type": "markdown",
   "id": "02def697",
   "metadata": {},
   "source": [
    "# Q12"
   ]
  },
  {
   "cell_type": "code",
   "execution_count": 12,
   "id": "bc34ec0c",
   "metadata": {},
   "outputs": [
    {
     "name": "stdout",
     "output_type": "stream",
     "text": [
      "How many numbers do you want to enter? 12\n",
      "Number 1: 3\n",
      "Number 2: 23\n",
      "Number 3: 12\n",
      "Number 4: 1\n",
      "Number 5: 26\n",
      "Number 6: 27\n",
      "Number 7: 47\n",
      "Number 8: 46\n",
      "Number 9: 48\n",
      "Number 10: 59\n",
      "Number 11: 834\n",
      "Number 12: 73\n",
      "Smallest = 1.0\n",
      "Largest = 834.0\n"
     ]
    }
   ],
   "source": [
    "def smallestLargest():\n",
    "    num_of_numbers = int(input(\"How many numbers do you want to enter? \"))\n",
    "\n",
    "    if num_of_numbers <= 0:\n",
    "        print(\"Please enter a valid number greater than 0.\")\n",
    "        return\n",
    "\n",
    "    smallest = float('inf')  # Initialize smallest to positive infinity\n",
    "    largest = float('-inf')  # Initialize largest to negative infinity\n",
    "\n",
    "    for i in range(1, num_of_numbers + 1):\n",
    "        num = float(input(f\"Number {i}: \"))\n",
    "        smallest = min(smallest, num)\n",
    "        largest = max(largest, num)\n",
    "\n",
    "    print(f\"Smallest = {smallest}\")\n",
    "    print(f\"Largest = {largest}\")\n",
    "\n",
    "# Call the method\n",
    "smallestLargest()\n"
   ]
  },
  {
   "cell_type": "markdown",
   "id": "ae991935",
   "metadata": {},
   "source": [
    "# Q13"
   ]
  },
  {
   "cell_type": "code",
   "execution_count": 13,
   "id": "8480e204",
   "metadata": {},
   "outputs": [
    {
     "name": "stdout",
     "output_type": "stream",
     "text": [
      "Type a number: 10\n",
      "Type a number: 2\n",
      "Type a number: 45\n",
      "Type a number: 4\n",
      "Type a number: 47\n",
      "Type a number: 45\n",
      "Type a number: 78\n",
      "Type a number: 88\n",
      "Type a number: 777\n",
      "Type a number: 787\n",
      "Type a number: 26\n",
      "Type a number: 55\n",
      "Type a number: 44\n",
      "Type a number: -12\n",
      "Average was 154.5\n"
     ]
    }
   ],
   "source": [
    "def printAverage():\n",
    "    total = 0\n",
    "    count = 0\n",
    "\n",
    "    while True:\n",
    "        num = float(input(\"Type a number: \"))\n",
    "        \n",
    "        if num < 0:\n",
    "            break  # Exit the loop if a negative number is entered\n",
    "        \n",
    "        total += num\n",
    "        count += 1\n",
    "\n",
    "    if count > 0:\n",
    "        average = total / count\n",
    "        print(f\"Average was {average:.1f}\")\n",
    "    else:\n",
    "        print(\"No nonnegative numbers were entered.\")\n",
    "\n",
    "# Call the method\n",
    "printAverage()\n"
   ]
  },
  {
   "cell_type": "markdown",
   "id": "94ef0bde",
   "metadata": {},
   "source": [
    "# Q14"
   ]
  },
  {
   "cell_type": "code",
   "execution_count": 14,
   "id": "1b9bc23e",
   "metadata": {},
   "outputs": [
    {
     "name": "stdout",
     "output_type": "stream",
     "text": [
      "Enter the first integer: 45\n",
      "Enter the second integer: 16\n",
      "Enter the third integer: 18\n",
      "3\n"
     ]
    }
   ],
   "source": [
    "def numUnique():\n",
    "    # Get three integers from the user\n",
    "    num1 = int(input(\"Enter the first integer: \"))\n",
    "    num2 = int(input(\"Enter the second integer: \"))\n",
    "    num3 = int(input(\"Enter the third integer: \"))\n",
    "\n",
    "    # Calculate the number of unique integers\n",
    "    unique_numbers = set([num1, num2, num3])\n",
    "    return len(unique_numbers)\n",
    "\n",
    "# Example call:\n",
    "result = numUnique()\n",
    "print(result)\n"
   ]
  },
  {
   "cell_type": "markdown",
   "id": "ec2e6d29",
   "metadata": {},
   "source": [
    "# Q15"
   ]
  },
  {
   "cell_type": "code",
   "execution_count": 15,
   "id": "b2519259",
   "metadata": {},
   "outputs": [
    {
     "name": "stdout",
     "output_type": "stream",
     "text": [
      "Enter your guess for the sum of 2 + 2: 4\n",
      "2 + 2 = 4\n",
      "Enter your guess for the sum of 2 + 2: 4\n",
      "2 + 2 = 4\n",
      "Enter your guess for the sum of 5 + 1: 9\n",
      "5 + 1 = 6\n",
      "2 + 2 = 4\n",
      "2 + 2 = 4\n",
      "You won after 3 tries.\n"
     ]
    }
   ],
   "source": [
    "import random\n",
    "\n",
    "def main():\n",
    "    tries = 0\n",
    "    correct_guesses = []\n",
    "\n",
    "    while True:\n",
    "        dice1 = random.randint(1, 6)\n",
    "        dice2 = random.randint(1, 6)\n",
    "        total = dice1 + dice2\n",
    "\n",
    "        user_guess = int(input(f\"Enter your guess for the sum of {dice1} + {dice2}: \"))\n",
    "\n",
    "        print(f\"{dice1} + {dice2} = {total}\")\n",
    "\n",
    "        tries += 1\n",
    "\n",
    "        if user_guess == total:\n",
    "            correct_guesses.append(f\"{dice1} + {dice2} = {total}\")\n",
    "        else:\n",
    "            break\n",
    "\n",
    "    if correct_guesses:\n",
    "        for guess in correct_guesses:\n",
    "            print(guess)\n",
    "        print(f\"You won after {tries} tries.\")\n",
    "\n",
    "\n",
    "# Run the program\n",
    "main()\n"
   ]
  },
  {
   "cell_type": "code",
   "execution_count": null,
   "id": "a449d2cb",
   "metadata": {},
   "outputs": [],
   "source": []
  }
 ],
 "metadata": {
  "kernelspec": {
   "display_name": "Python 3 (ipykernel)",
   "language": "python",
   "name": "python3"
  },
  "language_info": {
   "codemirror_mode": {
    "name": "ipython",
    "version": 3
   },
   "file_extension": ".py",
   "mimetype": "text/x-python",
   "name": "python",
   "nbconvert_exporter": "python",
   "pygments_lexer": "ipython3",
   "version": "3.11.5"
  }
 },
 "nbformat": 4,
 "nbformat_minor": 5
}
