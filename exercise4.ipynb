{
 "cells": [
  {
   "cell_type": "code",
   "execution_count": 7,
   "metadata": {},
   "outputs": [
    {
     "name": "stdout",
     "output_type": "stream",
     "text": [
      "+----+\n",
      "\\    /\n",
      "/    \\\n",
      "\\    /\n",
      "/    \\\n",
      "\\    /\n",
      "/    \\\n",
      "+----+\n"
     ]
    }
   ],
   "source": [
    "for i in range(1, 9):\n",
    "    if i == 1 or i == 8:\n",
    "        print(\"+----+\")\n",
    "    else:\n",
    "        if i%2 == 0:\n",
    "            print(\"\\    /\")\n",
    "        else:\n",
    "            print(\"/    \\\\\")"
   ]
  },
  {
   "cell_type": "code",
   "execution_count": 13,
   "metadata": {},
   "outputs": [
    {
     "name": "stdout",
     "output_type": "stream",
     "text": [
      "**********\n",
      "**********\n",
      "**********\n",
      "**********\n",
      "**********\n"
     ]
    }
   ],
   "source": [
    "rows = 5\n",
    "columns = 10\n",
    "for i in range(rows):\n",
    "    for i in range(columns):\n",
    "        print('*', end ='')\n",
    "    print()\n"
   ]
  },
  {
   "cell_type": "code",
   "execution_count": null,
   "metadata": {},
   "outputs": [],
   "source": [
    "i = 4\n",
    "while i < 80:\n",
    "    print(i)\n",
    "    i += 15\n",
    "    "
   ]
  },
  {
   "cell_type": "code",
   "execution_count": 26,
   "metadata": {},
   "outputs": [
    {
     "name": "stdout",
     "output_type": "stream",
     "text": [
      "30\n",
      "20\n",
      "10\n",
      "0\n",
      "-10\n",
      "-20\n"
     ]
    }
   ],
   "source": [
    "for i in range(30,-30,-10):\n",
    "    print(i)"
   ]
  },
  {
   "cell_type": "code",
   "execution_count": 27,
   "metadata": {},
   "outputs": [
    {
     "name": "stdout",
     "output_type": "stream",
     "text": [
      "-7\n",
      "-3\n",
      "1\n",
      "5\n",
      "9\n",
      "13\n"
     ]
    }
   ],
   "source": [
    "for i in range(-7, 14, 4):\n",
    "    print(i)"
   ]
  },
  {
   "cell_type": "code",
   "execution_count": 40,
   "metadata": {},
   "outputs": [
    {
     "name": "stdout",
     "output_type": "stream",
     "text": [
      "1\n",
      "22\n",
      "333\n",
      "4444\n",
      "55555\n",
      "666666\n",
      "7777777\n",
      "88888888\n"
     ]
    }
   ],
   "source": [
    "end_at = 9\n",
    "for i in range(1,end_at):\n",
    "    for j in range(i):\n",
    "        print(i, end='')\n",
    "    print()"
   ]
  },
  {
   "cell_type": "code",
   "execution_count": 44,
   "metadata": {},
   "outputs": [
    {
     "name": "stdout",
     "output_type": "stream",
     "text": [
      "The total amount of salary to be paid is : 440.0\n"
     ]
    }
   ],
   "source": [
    "def pay(salary, hours):\n",
    "    sal_sum = salary * 8\n",
    "    overtime = (salary * 1.5) * (hours - 8)\n",
    "    total = sal_sum + overtime\n",
    "    return total\n",
    "\n",
    "salary = float(input(\"Enter the amount of salary a TA is paid: \"))\n",
    "hours = float(input(\"How many hours did the TA work? \"))\n",
    "\n",
    "print(f\"The total amount of salary to be paid is : {pay(salary, hours)}\")"
   ]
  },
  {
   "cell_type": "code",
   "execution_count": 47,
   "metadata": {},
   "outputs": [
    {
     "name": "stdout",
     "output_type": "stream",
     "text": [
      "The area of the circle is: 12.566370614359172\n"
     ]
    }
   ],
   "source": [
    "import math\n",
    "def area(radius):\n",
    "    return math.pi * radius*radius\n",
    "\n",
    "radius = float(input(\"The radius of the circle is: \"))\n",
    "print(f\"The area of the circle is: {area(radius)}\")"
   ]
  },
  {
   "cell_type": "code",
   "execution_count": 48,
   "metadata": {},
   "outputs": [
    {
     "name": "stdout",
     "output_type": "stream",
     "text": [
      "sum =  425\n"
     ]
    }
   ],
   "source": [
    "low = int(input(\"low? \"))\n",
    "high = int(input(\"high? \")) \n",
    "sum = 0 \n",
    "for i in range(low,high): \n",
    "    sum += i \n",
    "print(\"sum = \" , sum)"
   ]
  },
  {
   "cell_type": "code",
   "execution_count": 54,
   "metadata": {},
   "outputs": [
    {
     "name": "stdout",
     "output_type": "stream",
     "text": [
      "Invalid input. Enter a number!\n",
      "The total sum of the numbers is : 12.0\n"
     ]
    }
   ],
   "source": [
    "numbers = []\n",
    "sum = 0\n",
    "while True:\n",
    "    try:\n",
    "        number = float(input(\"Enter a number: \"))\n",
    "    except:\n",
    "        print(\"Invalid input. Enter a number!\")\n",
    "        contin\n",
    "    if number == 0:\n",
    "        break\n",
    "    numbers.append(number)\n",
    "for i in numbers:\n",
    "    sum += i\n",
    "print(f\"The total sum of the numbers is : {sum}\")"
   ]
  },
  {
   "cell_type": "code",
   "execution_count": 55,
   "metadata": {},
   "outputs": [
    {
     "name": "stdout",
     "output_type": "stream",
     "text": [
      "The total sum of the numbers is : 3.0\n"
     ]
    }
   ],
   "source": [
    "numbers = []\n",
    "sum = 0\n",
    "while True:\n",
    "    try:\n",
    "        number = float(input(\"Enter a number: \"))\n",
    "    except:\n",
    "        print(\"Invalid input. Enter a number!\")\n",
    "        continue\n",
    "    if number == -1:\n",
    "        break\n",
    "    numbers.append(number)\n",
    "for i in numbers:\n",
    "    sum += i\n",
    "print(f\"The total sum of the numbers is : {sum}\")"
   ]
  },
  {
   "cell_type": "code",
   "execution_count": 59,
   "metadata": {},
   "outputs": [
    {
     "name": "stdout",
     "output_type": "stream",
     "text": [
      "\n"
     ]
    }
   ],
   "source": [
    "#concetenates strings\n",
    "def repl(str, times):\n",
    "    return str * times\n",
    "\n",
    "str = input(\"Enter a word: \")\n",
    "times = input(\"How many times do you want it repeated? \")\n",
    "\n",
    "print(repl(str, int(times)))"
   ]
  },
  {
   "cell_type": "code",
   "execution_count": 75,
   "metadata": {},
   "outputs": [
    {
     "name": "stdout",
     "output_type": "stream",
     "text": [
      "10 9 8 7 "
     ]
    }
   ],
   "source": [
    "def printrange(low, high):\n",
    "    if low < high:\n",
    "        for i in range(low, high + 1):\n",
    "            print(i, end = ' ')\n",
    "    else:\n",
    "        for i in range(low, high + 1, -1):\n",
    "            print(i, end = ' ')\n",
    "\n",
    "low = int(input(\"Enter the lower bound: \"))\n",
    "high = int(input(\"Enter a higher bound: \"))\n",
    "printrange(low, high)\n"
   ]
  },
  {
   "cell_type": "code",
   "execution_count": 88,
   "metadata": {},
   "outputs": [
    {
     "name": "stdout",
     "output_type": "stream",
     "text": [
      "5\n",
      "-5\n"
     ]
    }
   ],
   "source": [
    "\n",
    "\n",
    "def user_prompt():\n",
    "    times = int(input(\"How many numbers do you want to enter: \"))\n",
    "    count = 1\n",
    "    numbers = []\n",
    "    while count <= times:\n",
    "        number = int(input(\"Enter a number: \"))\n",
    "        numbers.append(number)\n",
    "        count += 1\n",
    "    return numbers \n",
    "  \n",
    "\n",
    "#finding maximum number in a list\n",
    "def max_number(numbers):\n",
    "    maxi = numbers[0]\n",
    "    for i in range(1, times):\n",
    "        if numbers[i] > maxi:\n",
    "            maxi = numbers[i]\n",
    "    print(maxi)\n",
    "\n",
    "#finding minimum number in a list\n",
    "def min_numbers(numbers):\n",
    "    mini = numbers[0]\n",
    "    for i in range(1, times):\n",
    "        if numbers[i] < mini:\n",
    "            mini = numbers[i]\n",
    "    print(mini)\n",
    "\n",
    "numbers = user_prompt()\n",
    "max_number(numbers)\n",
    "min_numbers(numbers)"
   ]
  },
  {
   "cell_type": "code",
   "execution_count": 15,
   "metadata": {},
   "outputs": [
    {
     "name": "stdout",
     "output_type": "stream",
     "text": [
      "The average is 4.0\n"
     ]
    }
   ],
   "source": [
    "#come back to this one\n",
    "\n",
    "count = 0\n",
    "sum = 0\n",
    "while True:\n",
    "    number = int(input(\"Enter a number: \"))\n",
    "    \n",
    "\n",
    "    if number < 0:\n",
    "     \n",
    "        break\n",
    "    sum += number\n",
    "    count += 1\n",
    "if count > 0:\n",
    "    average = sum / count\n",
    "    print(f\"The average is {average}\")\n",
    "else:\n",
    "    print(\"No nonnegatives entered\")\n",
    "\n",
    "\n",
    "    "
   ]
  },
  {
   "cell_type": "code",
   "execution_count": null,
   "metadata": {},
   "outputs": [],
   "source": [
    "numbers = input(\"Enter numbers separated by space\")\n",
    "numbers = numbers.split()\n",
    "num_list = [x in for x ]\n",
    "count_numbers = dict()\n",
    "\n"
   ]
  }
 ],
 "metadata": {
  "kernelspec": {
   "display_name": "base",
   "language": "python",
   "name": "python3"
  },
  "language_info": {
   "codemirror_mode": {
    "name": "ipython",
    "version": 3
   },
   "file_extension": ".py",
   "mimetype": "text/x-python",
   "name": "python",
   "nbconvert_exporter": "python",
   "pygments_lexer": "ipython3",
   "version": "3.11.5"
  }
 },
 "nbformat": 4,
 "nbformat_minor": 2
}
