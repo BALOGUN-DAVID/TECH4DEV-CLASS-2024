{
 "cells": [
  {
   "cell_type": "markdown",
   "id": "ac007b33",
   "metadata": {},
   "source": [
    "# Exercise 2"
   ]
  },
  {
   "cell_type": "raw",
   "id": "e13fbc94",
   "metadata": {},
   "source": [
    "check atleast 20 method in list, tuples, dictionaries and give an example writing a python code"
   ]
  },
  {
   "cell_type": "markdown",
   "id": "61e88b11",
   "metadata": {},
   "source": [
    "### list"
   ]
  },
  {
   "cell_type": "code",
   "execution_count": 1,
   "id": "0577f3d1",
   "metadata": {},
   "outputs": [
    {
     "name": "stdout",
     "output_type": "stream",
     "text": [
      "[1, 2, 3, 4]\n"
     ]
    }
   ],
   "source": [
    "# 1 append\n",
    "my_list = [1, 2, 3]\n",
    "my_list.append(4)\n",
    "print(my_list)\n",
    "# Output: [1, 2, 3, 4]"
   ]
  },
  {
   "cell_type": "code",
   "execution_count": 2,
   "id": "b25321ed",
   "metadata": {},
   "outputs": [
    {
     "name": "stdout",
     "output_type": "stream",
     "text": [
      "[1, 2, 3, 4, 5, 6]\n"
     ]
    }
   ],
   "source": [
    "#2 Extend\n",
    "list1 = [1, 2, 3]\n",
    "list2 = [4, 5, 6]\n",
    "list1.extend(list2)\n",
    "print(list1)\n",
    "# Output: [1, 2, 3, 4, 5, 6]"
   ]
  },
  {
   "cell_type": "code",
   "execution_count": 3,
   "id": "4d59f7a2",
   "metadata": {},
   "outputs": [
    {
     "name": "stdout",
     "output_type": "stream",
     "text": [
      "[1, 4, 2, 3]\n"
     ]
    }
   ],
   "source": [
    "#3 Insert\n",
    "my_list = [1, 2, 3]\n",
    "my_list.insert(1, 4)\n",
    "print(my_list)\n",
    "# Output: [1, 4, 2, 3]"
   ]
  },
  {
   "cell_type": "code",
   "execution_count": 4,
   "id": "303d12b4",
   "metadata": {},
   "outputs": [
    {
     "name": "stdout",
     "output_type": "stream",
     "text": [
      "[1, 2, 4]\n"
     ]
    }
   ],
   "source": [
    "#4 Remove\n",
    "my_list = [1, 2, 3, 4]\n",
    "my_list.remove(3)\n",
    "print(my_list)\n",
    "# Output: [1, 2, 4]"
   ]
  },
  {
   "cell_type": "code",
   "execution_count": 5,
   "id": "4768586a",
   "metadata": {},
   "outputs": [
    {
     "name": "stdout",
     "output_type": "stream",
     "text": [
      "2 [1, 3]\n"
     ]
    }
   ],
   "source": [
    "#5 pop\n",
    "my_list = [1, 2, 3]\n",
    "popped_element = my_list.pop(1)\n",
    "print(popped_element, my_list)\n",
    "# Output: 2 [1, 3]"
   ]
  },
  {
   "cell_type": "code",
   "execution_count": 6,
   "id": "8da7b361",
   "metadata": {},
   "outputs": [
    {
     "name": "stdout",
     "output_type": "stream",
     "text": [
      "2\n"
     ]
    }
   ],
   "source": [
    "#6 Index\n",
    "my_list = [10, 20, 30, 40]\n",
    "index = my_list.index(30)\n",
    "print(index)\n",
    "# Output: 2"
   ]
  },
  {
   "cell_type": "code",
   "execution_count": 7,
   "id": "c8e6612a",
   "metadata": {},
   "outputs": [
    {
     "name": "stdout",
     "output_type": "stream",
     "text": [
      "3\n"
     ]
    }
   ],
   "source": [
    "#7 count\n",
    "my_list = [1, 2, 3, 1, 2, 1]\n",
    "count = my_list.count(1)\n",
    "print(count)\n",
    "# Output: 3"
   ]
  },
  {
   "cell_type": "code",
   "execution_count": 8,
   "id": "b442b256",
   "metadata": {},
   "outputs": [
    {
     "name": "stdout",
     "output_type": "stream",
     "text": [
      "[1, 1, 2, 3, 4, 5, 9]\n"
     ]
    }
   ],
   "source": [
    "#8 sort\n",
    "my_list = [3, 1, 4, 1, 5, 9, 2]\n",
    "my_list.sort()\n",
    "print(my_list)\n",
    "# Output: [1, 1, 2, 3, 4, 5, 9]"
   ]
  },
  {
   "cell_type": "code",
   "execution_count": 9,
   "id": "701931e5",
   "metadata": {},
   "outputs": [
    {
     "name": "stdout",
     "output_type": "stream",
     "text": [
      "[3, 2, 1]\n"
     ]
    }
   ],
   "source": [
    "#9 Reverse\n",
    "my_list = [1, 2, 3]\n",
    "my_list.reverse()\n",
    "print(my_list)\n",
    "# Output: [3, 2, 1]"
   ]
  },
  {
   "cell_type": "code",
   "execution_count": 10,
   "id": "1aaaaf1d",
   "metadata": {},
   "outputs": [
    {
     "name": "stdout",
     "output_type": "stream",
     "text": [
      "[1, 2, 3]\n"
     ]
    }
   ],
   "source": [
    "#10 copy\n",
    "my_list = [1, 2, 3]\n",
    "copied_list = my_list.copy()\n",
    "print(copied_list)\n",
    "# Output: [1, 2, 3]"
   ]
  },
  {
   "cell_type": "markdown",
   "id": "3a867d56",
   "metadata": {},
   "source": [
    "### Tuples"
   ]
  },
  {
   "cell_type": "code",
   "execution_count": 11,
   "id": "da514453",
   "metadata": {},
   "outputs": [
    {
     "name": "stdout",
     "output_type": "stream",
     "text": [
      "2\n"
     ]
    }
   ],
   "source": [
    "# 11 Indexing\n",
    "my_tuple = (1, 2, 3)\n",
    "print(my_tuple[1])\n",
    "# Output: 2"
   ]
  },
  {
   "cell_type": "code",
   "execution_count": 12,
   "id": "6108dc8c",
   "metadata": {},
   "outputs": [
    {
     "name": "stdout",
     "output_type": "stream",
     "text": [
      "(2, 3, 4)\n"
     ]
    }
   ],
   "source": [
    "#12 slicing\n",
    "my_tuple = (1, 2, 3, 4, 5)\n",
    "print(my_tuple[1:4])\n",
    "# Output: (2, 3, 4)"
   ]
  },
  {
   "cell_type": "code",
   "execution_count": 13,
   "id": "00c22763",
   "metadata": {},
   "outputs": [
    {
     "name": "stdout",
     "output_type": "stream",
     "text": [
      "(1, 2, 3, 4, 5, 6)\n"
     ]
    }
   ],
   "source": [
    "#13 concatenation\n",
    "tuple1 = (1, 2, 3)\n",
    "tuple2 = (4, 5, 6)\n",
    "concatenated_tuple = tuple1 + tuple2\n",
    "print(concatenated_tuple)\n",
    "# Output: (1, 2, 3, 4, 5, 6)"
   ]
  },
  {
   "cell_type": "code",
   "execution_count": 14,
   "id": "c55545cf",
   "metadata": {},
   "outputs": [
    {
     "name": "stdout",
     "output_type": "stream",
     "text": [
      "(1, 2, 3, 1, 2, 3)\n"
     ]
    }
   ],
   "source": [
    "#14 repetation\n",
    "my_tuple = (1, 2, 3)\n",
    "repeated_tuple = my_tuple * 2\n",
    "print(repeated_tuple)\n",
    "# Output: (1, 2, 3, 1, 2, 3)"
   ]
  },
  {
   "cell_type": "code",
   "execution_count": 15,
   "id": "cce4d961",
   "metadata": {},
   "outputs": [
    {
     "name": "stdout",
     "output_type": "stream",
     "text": [
      "5\n"
     ]
    }
   ],
   "source": [
    "#15 length\n",
    "my_tuple = (1, 2, 3, 4, 5)\n",
    "length = len(my_tuple)\n",
    "print(length)\n",
    "# Output: 5"
   ]
  },
  {
   "cell_type": "code",
   "execution_count": 16,
   "id": "940703d5",
   "metadata": {},
   "outputs": [
    {
     "name": "stdout",
     "output_type": "stream",
     "text": [
      "True\n"
     ]
    }
   ],
   "source": [
    "# 16 membership\n",
    "my_tuple = (1, 2, 3)\n",
    "print(2 in my_tuple)\n",
    "# Output: True"
   ]
  },
  {
   "cell_type": "code",
   "execution_count": 17,
   "id": "ab78ab0e",
   "metadata": {},
   "outputs": [
    {
     "name": "stdout",
     "output_type": "stream",
     "text": [
      "3\n"
     ]
    }
   ],
   "source": [
    "# 17 count\n",
    "my_tuple = (1, 2, 3, 1, 2, 1)\n",
    "count = my_tuple.count(1)\n",
    "print(count)\n",
    "# Output: 3"
   ]
  },
  {
   "cell_type": "code",
   "execution_count": 18,
   "id": "e3e04f95",
   "metadata": {},
   "outputs": [
    {
     "name": "stdout",
     "output_type": "stream",
     "text": [
      "2\n"
     ]
    }
   ],
   "source": [
    "#18 Index\n",
    "my_tuple = (10, 20, 30, 40)\n",
    "index = my_tuple.index(30)\n",
    "print(index)\n",
    "# Output: 2"
   ]
  },
  {
   "cell_type": "markdown",
   "id": "7422393c",
   "metadata": {},
   "source": [
    "### Dictionaries"
   ]
  },
  {
   "cell_type": "code",
   "execution_count": 19,
   "id": "45fa0d5e",
   "metadata": {},
   "outputs": [
    {
     "name": "stdout",
     "output_type": "stream",
     "text": [
      "John\n"
     ]
    }
   ],
   "source": [
    "#19 Accessing values\n",
    "my_dict = {'name': 'John', 'age': 25, 'city': 'New York'}\n",
    "print(my_dict['name'])\n",
    "# Output: John"
   ]
  },
  {
   "cell_type": "code",
   "execution_count": 20,
   "id": "69165991",
   "metadata": {},
   "outputs": [
    {
     "name": "stdout",
     "output_type": "stream",
     "text": [
      "{'name': 'John', 'age': 25, 'city': 'New York'}\n"
     ]
    }
   ],
   "source": [
    "#20 adding new key-value pair\n",
    "my_dict = {'name': 'John', 'age': 25}\n",
    "my_dict['city'] = 'New York'\n",
    "print(my_dict)\n",
    "# Output: {'name': 'John', 'age': 25, 'city': 'New York'}"
   ]
  },
  {
   "cell_type": "code",
   "execution_count": null,
   "id": "25de1407",
   "metadata": {},
   "outputs": [],
   "source": []
  }
 ],
 "metadata": {
  "kernelspec": {
   "display_name": "Python 3 (ipykernel)",
   "language": "python",
   "name": "python3"
  },
  "language_info": {
   "codemirror_mode": {
    "name": "ipython",
    "version": 3
   },
   "file_extension": ".py",
   "mimetype": "text/x-python",
   "name": "python",
   "nbconvert_exporter": "python",
   "pygments_lexer": "ipython3",
   "version": "3.11.5"
  }
 },
 "nbformat": 4,
 "nbformat_minor": 5
}
