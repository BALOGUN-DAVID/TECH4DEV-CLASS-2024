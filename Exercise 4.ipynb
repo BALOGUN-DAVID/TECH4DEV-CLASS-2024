{
 "cells": [
  {
   "cell_type": "markdown",
   "id": "408b0e88",
   "metadata": {},
   "source": [
    "# Software Development - Session 1B\n",
    "\n",
    "Python programming exercises"
   ]
  },
  {
   "cell_type": "markdown",
   "id": "9f23dcdc",
   "metadata": {},
   "source": [
    "#1. Write a program to produce the following output using for loop\n",
    "\n",
    "+----+\n",
    "\\ /\n",
    "/ \\\n",
    "\\ /\n",
    "/ \\\n",
    "\\ /\n",
    "/ \\\n",
    "+----+"
   ]
  },
  {
   "cell_type": "code",
   "execution_count": 1,
   "id": "a8c372a1",
   "metadata": {},
   "outputs": [
    {
     "name": "stdout",
     "output_type": "stream",
     "text": [
      "+----+\n",
      "/    \\\n",
      "\\    /\n",
      "/    \\\n",
      "\\    /\n",
      "/    \\\n",
      "\\    /\n",
      "+----+\n"
     ]
    }
   ],
   "source": [
    "for _ in range(1):\n",
    "    print(\"+----+\")\n",
    "    for _ in range(3):\n",
    "        print(\"/    \\\\\")\n",
    "        print(\"\\\\    /\")\n",
    "    print(\"+----+\")"
   ]
  },
  {
   "cell_type": "markdown",
   "id": "5024193b",
   "metadata": {},
   "source": [
    "#2. Write a program to produce the following output using for loop\n",
    "\n",
    "**********\n",
    "**********\n",
    "**********\n",
    "**********\n",
    "**********"
   ]
  },
  {
   "cell_type": "code",
   "execution_count": 2,
   "id": "0555ff25",
   "metadata": {},
   "outputs": [
    {
     "name": "stdout",
     "output_type": "stream",
     "text": [
      "**********\n",
      "**********\n",
      "**********\n",
      "**********\n",
      "**********\n"
     ]
    }
   ],
   "source": [
    "for _ in range(5):\n",
    "    print(\"**********\")"
   ]
  },
  {
   "cell_type": "markdown",
   "id": "76fa35fe",
   "metadata": {},
   "source": [
    "#3. Complete the code for the following for loop:\n",
    "\n",
    "for in range(1,7):\n",
    " //your code here\n",
    "so that it prints the following numbers, one per line:\n",
    "\n",
    "a) 1,2,3,4,5,6\n",
    "b) 2,4,6,8,10,12\n",
    "c) 4,19,34,49,64,79\n",
    "d) 30,20,10,0,-10,-20\n",
    "e) -7,-3,1,5,9,13\n",
    "f) 97,94,91,88,85,82\n",
    "g) -4,14,32,50,68,86"
   ]
  },
  {
   "cell_type": "code",
   "execution_count": 3,
   "id": "dc048dd7",
   "metadata": {},
   "outputs": [
    {
     "name": "stdout",
     "output_type": "stream",
     "text": [
      "1\n",
      "2\n",
      "3\n",
      "4\n",
      "5\n",
      "6\n"
     ]
    }
   ],
   "source": [
    "for i in range(1, 7):\n",
    "    print(i)"
   ]
  },
  {
   "cell_type": "code",
   "execution_count": 4,
   "id": "5634518d",
   "metadata": {},
   "outputs": [
    {
     "name": "stdout",
     "output_type": "stream",
     "text": [
      "2\n",
      "4\n",
      "6\n",
      "8\n",
      "10\n",
      "12\n"
     ]
    }
   ],
   "source": [
    "for i in range(1, 7):\n",
    "    print(2 * i)"
   ]
  },
  {
   "cell_type": "code",
   "execution_count": 13,
   "id": "2245ce48",
   "metadata": {},
   "outputs": [
    {
     "name": "stdout",
     "output_type": "stream",
     "text": [
      "4\n",
      "19\n",
      "34\n",
      "49\n",
      "64\n",
      "79\n"
     ]
    }
   ],
   "source": [
    "for i in range(1, 7):\n",
    "     print(15 * i - 11)"
   ]
  },
  {
   "cell_type": "code",
   "execution_count": 6,
   "id": "af9f9f50",
   "metadata": {},
   "outputs": [
    {
     "name": "stdout",
     "output_type": "stream",
     "text": [
      "30\n",
      "20\n",
      "10\n",
      "0\n",
      "-10\n",
      "-20\n"
     ]
    }
   ],
   "source": [
    "for i in range(1,7):\n",
    "    print(40 - 10 * i)"
   ]
  },
  {
   "cell_type": "code",
   "execution_count": 7,
   "id": "917fc1e0",
   "metadata": {},
   "outputs": [
    {
     "name": "stdout",
     "output_type": "stream",
     "text": [
      "-7\n",
      "-3\n",
      "1\n",
      "5\n",
      "9\n",
      "13\n"
     ]
    }
   ],
   "source": [
    "for i in range(1, 7):\n",
    "    print(-11 + 4 * i)"
   ]
  },
  {
   "cell_type": "code",
   "execution_count": 10,
   "id": "0ad5dc9e",
   "metadata": {},
   "outputs": [
    {
     "name": "stdout",
     "output_type": "stream",
     "text": [
      "97\n",
      "94\n",
      "91\n",
      "88\n",
      "85\n",
      "82\n"
     ]
    }
   ],
   "source": [
    "for i in range(1, 7):\n",
    "    print(100 - 3 * i)"
   ]
  },
  {
   "cell_type": "code",
   "execution_count": 8,
   "id": "6eace65c",
   "metadata": {},
   "outputs": [
    {
     "name": "stdout",
     "output_type": "stream",
     "text": [
      "-4\n",
      "14\n",
      "32\n",
      "50\n",
      "68\n",
      "86\n"
     ]
    }
   ],
   "source": [
    "for i in range(1, 7):\n",
    "    print(-22 + 18 * i)"
   ]
  },
  {
   "cell_type": "markdown",
   "id": "40a3a02b",
   "metadata": {},
   "source": [
    "#4. Write a program to produce the following output using for loops. Then use a class constant to make it possible to change the number of lines in the figure.\n",
    "\n",
    "1\n",
    "22\n",
    "333\n",
    "4444\n",
    "55555\n",
    "666666\n",
    "7777777"
   ]
  },
  {
   "cell_type": "code",
   "execution_count": 2,
   "id": "b8f41fa0",
   "metadata": {},
   "outputs": [
    {
     "name": "stdout",
     "output_type": "stream",
     "text": [
      "1\n",
      "22\n",
      "333\n",
      "4444\n",
      "55555\n",
      "666666\n",
      "7777777\n"
     ]
    }
   ],
   "source": [
    " NUM_LINES = 7\n",
    "for i in range(1, NUM_LINES + 1):\n",
    "            for j in range(i):\n",
    "                print(i, end=\"\")\n",
    "            print()"
   ]
  },
  {
   "cell_type": "code",
   "execution_count": null,
   "id": "2901cda4",
   "metadata": {},
   "outputs": [],
   "source": []
  }
 ],
 "metadata": {
  "kernelspec": {
   "display_name": "Python 3 (ipykernel)",
   "language": "python",
   "name": "python3"
  },
  "language_info": {
   "codemirror_mode": {
    "name": "ipython",
    "version": 3
   },
   "file_extension": ".py",
   "mimetype": "text/x-python",
   "name": "python",
   "nbconvert_exporter": "python",
   "pygments_lexer": "ipython3",
   "version": "3.10.9"
  }
 },
 "nbformat": 4,
 "nbformat_minor": 5
}
