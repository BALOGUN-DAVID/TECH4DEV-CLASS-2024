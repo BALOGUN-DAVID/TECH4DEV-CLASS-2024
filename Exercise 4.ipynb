{
 "cells": [
  {
   "cell_type": "markdown",
   "id": "e5ff20b5-4c9b-4423-a68a-fdbc2dd3930e",
   "metadata": {},
   "source": [
    "1. Write a program to produce the following output using for loop <br>\r\n",
    "+----+ <br>\r\n",
    "\\\\ / <br>\r\n",
    "/ \\\\ <br>\r\n",
    "\\\\ / <br>\r\n",
    "/ \\\\ <br>\r\n",
    "\\\\ / <br>\r\n",
    "/ \\\\ <br>\r\n",
    "+----+ <br>\r\n",
    ">\r\n",
    "\n",
    "                                                    "
   ]
  },
  {
   "cell_type": "code",
   "execution_count": 2,
   "id": "dee72fb4-0127-4d28-a399-52b1b5de2862",
   "metadata": {},
   "outputs": [
    {
     "name": "stdout",
     "output_type": "stream",
     "text": [
      "+----+\n",
      "\\ /\n",
      "/ \\\n",
      "\\ /\n",
      "/ \\\n",
      "\\ /\n",
      "/ \\\n",
      "+----+\n"
     ]
    }
   ],
   "source": [
    "#Explication : This loop iterates over a range of 8 numbers, from 0 to 7.\n",
    "#For each iteration, it checks the value of the index.\n",
    "#If the index is either 0 or 7, it prints the string “+----+”. For all other index values, it checks if the index is an odd number,\n",
    "#if the index is odd, it prints the string “\\ /”. If the index is even and not 0 or 7, it prints the string “/ \\”. \n",
    "\n",
    "for index in range(8):\n",
    "    if index == 0 or index == 7 :\n",
    "        print(\"+----+\")\n",
    "    else:\n",
    "        if index % 2 == 1:\n",
    "            print(\"\\\\ /\")\n",
    "        else:\n",
    "            print(\"/ \\\\\")\n",
    "            "
   ]
  },
  {
   "cell_type": "markdown",
   "id": "4841a6e0-5ebd-4fa8-86ab-e6c6b2978295",
   "metadata": {},
   "source": [
    "</br>"
   ]
  },
  {
   "cell_type": "markdown",
   "id": "8168aa0a-f17d-4816-8fd0-b2ee7af3ec64",
   "metadata": {},
   "source": [
    "2. Write a program to produce the following output using for loop <br>\n",
    "\n",
    "<pre>\n",
    "********** \n",
    "********** \n",
    "********** \n",
    "********** \n",
    "**********\n",
    "</pre>"
   ]
  },
  {
   "cell_type": "code",
   "execution_count": 3,
   "id": "8bbe6271-660d-4903-91d3-a6f7ea5c68db",
   "metadata": {},
   "outputs": [
    {
     "name": "stdout",
     "output_type": "stream",
     "text": [
      " **********\n",
      " **********\n",
      " **********\n",
      " **********\n",
      " **********\n"
     ]
    }
   ],
   "source": [
    "\"\"\"\n",
    "Explication : This for loop iterates over a range of 5 numbers, from 0 to 4. For each iteration, it prints a string of 10 asterisks (*).\n",
    "\"\"\"\n",
    "for index in range(5):\n",
    "        print(f\" {'*' *10}\")\n"
   ]
  },
  {
   "cell_type": "markdown",
   "id": "d30a15f4-92d6-42cb-b453-998c64b82a25",
   "metadata": {},
   "source": [
    "</br>"
   ]
  },
  {
   "cell_type": "markdown",
   "id": "7219c004-2efc-4e1a-a651-0e9d345760b4",
   "metadata": {},
   "source": [
    "3. Complete the code for the following for loop:\n",
    "for in range(1,7):\n",
    " //your code here\n",
    ".....\n"
   ]
  },
  {
   "cell_type": "code",
   "execution_count": 4,
   "id": "4bc621e7-e4e8-4562-8849-5aae92a1a16b",
   "metadata": {},
   "outputs": [
    {
     "name": "stdout",
     "output_type": "stream",
     "text": [
      "1 \n",
      "\n",
      "2 \n",
      "\n",
      "3 \n",
      "\n",
      "4 \n",
      "\n",
      "5 \n",
      "\n",
      "6 \n",
      "\n",
      "2 \n",
      "\n",
      "4 \n",
      "\n",
      "6 \n",
      "\n",
      "8 \n",
      "\n",
      "10 \n",
      "\n",
      "12 \n",
      "\n",
      "4 \n",
      "\n",
      "19 \n",
      "\n",
      "34 \n",
      "\n",
      "49 \n",
      "\n",
      "64 \n",
      "\n",
      "79 \n",
      "\n",
      "30 \n",
      "\n",
      "20 \n",
      "\n",
      "10 \n",
      "\n",
      "0 \n",
      "\n",
      "-10 \n",
      "\n",
      "-20 \n",
      "\n",
      "-7 \n",
      "\n",
      "-3 \n",
      "\n",
      "1 \n",
      "\n",
      "5 \n",
      "\n",
      "9 \n",
      "\n",
      "13 \n",
      "\n",
      "97 \n",
      "\n",
      "94 \n",
      "\n",
      "91 \n",
      "\n",
      "88 \n",
      "\n",
      "85 \n",
      "\n",
      "82 \n",
      "\n",
      "-4 \n",
      "\n",
      "14 \n",
      "\n",
      "32 \n",
      "\n",
      "50 \n",
      "\n",
      "68 \n",
      "\n",
      "86 \n",
      "\n"
     ]
    }
   ],
   "source": [
    "\"\"\"Explication : This program prints different sequences of numbers using nested for loops.\n",
    "This code has an outer for loop that repeats six times, assigning i to the values from 1 to 6.\n",
    "For each value of i, the code has an inner for loop that prints a sequence of numbers based on the range () function. \n",
    "The range () function creates a sequence of numbers from a starting value to an ending value, \n",
    "with a step value that determines how much the numbers increase or decrease.\n",
    "The code prints the value of j, followed by a newline character (\\n), which moves the cursor to a new line.\n",
    "\"\"\"\n",
    "\n",
    "for i in range(1,7):\n",
    "    if i == 1:\n",
    "        for j in range(1,7): \n",
    "           print(f\"{j} \\n\")\n",
    "    elif i == 2:\n",
    "        for j in range(1,7):  \n",
    "           print(f\"{j*2} \\n\")\n",
    "    elif i == 3:\n",
    "        for j in range(4,94,15):\n",
    "            print(f\"{j} \\n\")\n",
    "    elif i == 4:\n",
    "        for j in range(30,-30,-10):\n",
    "            print(f\"{j} \\n\")\n",
    "    elif i == 5 :\n",
    "        for j in range(-7,17,4):\n",
    "            print(f\"{j} \\n\")\n",
    "        \n",
    "    else:\n",
    "        \n",
    "        for j in range(97,79,-3):\n",
    "           print(f\"{j} \\n\")\n",
    "                \n",
    "        for j in range(-4,104,18):\n",
    "           print(f\"{j} \\n\")\n",
    "           \n",
    "\n",
    "        \n",
    " "
   ]
  },
  {
   "cell_type": "markdown",
   "id": "9e2511fc-e789-4993-ad2f-5b49399baa37",
   "metadata": {},
   "source": [
    "</br>"
   ]
  },
  {
   "cell_type": "markdown",
   "id": "13047391-67f0-471d-b734-82e661fdcdbc",
   "metadata": {},
   "source": [
    "4. Write a program to produce the following output using for loops. Then \n",
    "use a class constant to make it possible to change the number of lines in \n",
    "the figure.</br>\n",
    "1</br>\n",
    "22</br>\n",
    "333</br>\n",
    "4444</br>\n",
    "55555</br>\n",
    "666666</br>\n",
    "7777777</br>\n"
   ]
  },
  {
   "cell_type": "code",
   "execution_count": 21,
   "id": "b50a1be1-da7e-4c4a-8e40-116d464dfc8c",
   "metadata": {},
   "outputs": [
    {
     "name": "stdout",
     "output_type": "stream",
     "text": [
      "\n",
      "\n",
      "1\n",
      "\n",
      "22\n",
      "\n",
      "333\n",
      "\n",
      "4444\n",
      "\n",
      "55555\n",
      "\n",
      "666666\n",
      "\n",
      "7777777\n",
      "\n"
     ]
    }
   ],
   "source": [
    "\"\"\"\n",
    "Explication : We have a class called Main that has a class constant named number_line with a defined value.\n",
    "              It also defines a class method called print_numbers that takes the class object as the first argument and prints a pattern\n",
    "              of numbers using two nested for loops. The outer loop iterates from 1 to the value of the class constant,\n",
    "              and the inner loop iterates from 0 to the current value of the outer loop. For each iteration of the inner loop,\n",
    "              the current value of the outer loop is printed. After each inner loop,\n",
    "              a new line character (\\n) is printed to create the specific format of the output.\n",
    "\"\"\"\n",
    "\n",
    "class Main:\n",
    "  \n",
    "  number_line = 7\n",
    "  @classmethod\n",
    "  def print_numbers(cls):\n",
    "      for i in range(cls.number_line+1):\n",
    "        for j in range(i): \n",
    "            print(i, end=\"\")\n",
    "        print(\"\\n\")\n",
    "        \n",
    "Main.print_numbers()"
   ]
  },
  {
   "cell_type": "markdown",
   "id": "2ebf1e12-4df6-4c1d-90de-1a45f83f512b",
   "metadata": {},
   "source": [
    "</br>"
   ]
  },
  {
   "cell_type": "markdown",
   "id": "576b5fc4-740e-45b0-99b0-78cae33bd62d",
   "metadata": {},
   "source": [
    "5. Write a method named pay that accepts two parameters: a real number \n",
    "for a TA's salary, and an integer for the number of hours the TA worked \n",
    "this week. The method should return how much money to pay the TA. \n",
    "For example, the call \n",
    "pay(5.50, 6)\n",
    "should return \n",
    "33.0. \n",
    "The TA should receive \"overtime\" pay of 1 ½ normal salary for any hours \n",
    "above 8. For example, the call pay(4.00, 11) should return (4.00 * 8) + (6.00 * 3) or 50.0."
   ]
  },
  {
   "cell_type": "code",
   "execution_count": 6,
   "id": "5a17e7c1-88a2-4b97-9775-5f55948ce49e",
   "metadata": {},
   "outputs": [
    {
     "name": "stdout",
     "output_type": "stream",
     "text": [
      "the salaray is : 50.0\n"
     ]
    }
   ],
   "source": [
    "\"\"\"\n",
    "Explication : we have a function named pay that takes two parameters: a real number for the hourly salary and an integer for the number of hours\n",
    "worked in a week. The function returns the payment for the week based on the following rule: if the number of hours is less than or equal to 8,\n",
    "the payment is the salary multiplied by the hours; otherwise, the payment is the salary multiplied by 8 plus the salary multiplied by 1.5\n",
    "and the extra hours. The code then calls the function with the salary of 4.00 and the hours of 11.\n",
    "\"\"\"\n",
    "\n",
    "\n",
    "def pay(salary , nbr_hours):\n",
    "    if nbr_hours<=8:\n",
    "       return salary * nbr_hours\n",
    "    else:\n",
    "        return (salary*8)+((salary*1.5) * (nbr_hours-8))\n",
    "        \n",
    "print(f\"the salaray is : {pay(4.00, 11)}\")"
   ]
  },
  {
   "cell_type": "markdown",
   "id": "1e6ba77d-8743-4c2a-908f-ad1e6282c8ab",
   "metadata": {},
   "source": [
    "</br>"
   ]
  },
  {
   "cell_type": "markdown",
   "id": "5f7b1e1e-c934-4b77-b8d8-920785fcf1cb",
   "metadata": {},
   "source": [
    "6. <p>Consider the following method for converting milliseconds into days:</p>\r\n",
    "<pre>\r\n",
    "// converts milliseconds to days\r\n",
    "def toDays(millis):\r\n",
    " return millis / 1000.0 / 60.0 / 60.0 / 24.0\r\n",
    "</pre>\r\n",
    "<p>Write a similar method named area that takes as a parameter the radius of a circle and that returns the area of the circle. For example, the call area(2.0); should return 12.566370614359172.</p>\r\n",
    "<p>Recall that area can be computed as π times the radius squared and that Python has a constant called math.pi</p>\r\n",
    "\n"
   ]
  },
  {
   "cell_type": "code",
   "execution_count": 7,
   "id": "d8926aae-4dea-48c2-8fb4-ff4c5f093303",
   "metadata": {},
   "outputs": [
    {
     "name": "stdout",
     "output_type": "stream",
     "text": [
      "the area of the circle is : 12.566370614359172\n"
     ]
    }
   ],
   "source": [
    "\"\"\"\n",
    "Explication : we have a method named area that takes the radius of a circle as a parameter and returns the area of the circle using the formula πr2.\n",
    "\"\"\"\n",
    "\n",
    "import math\n",
    "\n",
    "def area(radius):\n",
    "    return math.pi * (radius)**2\n",
    "    \n",
    "print(f\"the area of the circle is : {area(2.0)}\")"
   ]
  },
  {
   "cell_type": "markdown",
   "id": "7e4e90d4-febb-4d68-98ac-10843e86a96a",
   "metadata": {},
   "source": [
    "</br>"
   ]
  },
  {
   "cell_type": "markdown",
   "id": "fbc10240-b1e8-4082-8409-d8b8ca10d6b5",
   "metadata": {},
   "source": [
    "7. <p>Copy and paste the following code into Python's IDLE script environment.</p>\r\n",
    "<pre>\r\n",
    "low = 1\r\n",
    "high = 1001\r\n",
    "sum = 0\r\n",
    "for i in range(low,high):\r\n",
    "    sum += i\r\n",
    "print(\"sum = \" , sum)\r\n",
    "</pre>\r\n",
    "<p>Modify the code to use an input to prompt the user for the values of low and high. Below is a sample execution in which the user asks for the same values as in the original program (1 through 1000):</p>\r\n",
    "<pre>\r\n",
    "low? 1\r\n",
    "high? 1001\r\n",
    "sum = 500500\r\n",
    "</pre>\r\n",
    "<p>Below is an execution with different values for low and high:</p>\r\n",
    "<pre>\r\n",
    "low? 300\r\n",
    "high? 5298\r\n",
    "sum = 13986903\r\n",
    "</pre>\r\n",
    "<p>You should exactly reproduce this format.</p>\r\n",
    "produce this format.\r"
   ]
  },
  {
   "cell_type": "code",
   "execution_count": 8,
   "id": "ea565b48-abb4-49f6-b4a3-9fce6c1c7e50",
   "metadata": {},
   "outputs": [
    {
     "name": "stdin",
     "output_type": "stream",
     "text": [
      "Please insert the value of low 300\n",
      "Please insert the value of high 5298\n"
     ]
    },
    {
     "name": "stdout",
     "output_type": "stream",
     "text": [
      "low? 300\n",
      "high? 5298\n",
      "sum = 13986903\n"
     ]
    }
   ],
   "source": [
    "\"\"\"\n",
    "Explanation : \n",
    "This program calculates and prints the sum of all the integers between a low and a high value entered by the user. It consists of the following:\n",
    "1. It prompts the user for the low and high values and assigns them to the variables low and high.\n",
    "The input() function returns a string, so the user’s input is stored as a string.\n",
    "2. It initializes the variable sum to zero, which will store the final result of the summation.\n",
    "3. It converts the low and high variables from strings to integers using the int() function.\n",
    "4. It uses a for loop to iterate over the range of integers from low to high, excluding high.\n",
    "For each iteration, it adds the current value of i to the sum variable using the += operator.\n",
    "5. It displays the values of low, high, and sum in the correct format using the print() function and a formatted string. \"\"\"\n",
    "\n",
    "low = input(\"Please insert the value of low\")\n",
    "high = input(\"Please insert the value of high\")\n",
    "sum = 0\n",
    "\n",
    "low = int(low)\n",
    "high = int(high)\n",
    "for i in range(low,high):\n",
    " sum += i\n",
    " \n",
    "print(f\"low? {low}\")\n",
    "print(f\"high? {high}\")\n",
    "print(f\"sum = {sum}\")\n"
   ]
  },
  {
   "cell_type": "markdown",
   "id": "e62e5434-3ab8-4948-819e-2599384d0288",
   "metadata": {},
   "source": [
    "</br>"
   ]
  },
  {
   "cell_type": "markdown",
   "id": "f53e53df-041f-41ff-9d94-341c9d677043",
   "metadata": {},
   "source": [
    "8. Write a program using while loop that prompts the user for numbers until \r\n",
    "the user types 0, then outputs their sum"
   ]
  },
  {
   "cell_type": "code",
   "execution_count": 9,
   "id": "8273e768-4693-4827-8034-2a63dfd36fc5",
   "metadata": {},
   "outputs": [
    {
     "name": "stdin",
     "output_type": "stream",
     "text": [
      "Please insert a number and if you want to stop insert 0  7\n",
      "Please insert a number and if you want to stop insert 0  88\n",
      "Please insert a number and if you want to stop insert 0  100\n",
      "Please insert a number and if you want to stop insert 0  2\n",
      "Please insert a number and if you want to stop insert 0  11\n",
      "Please insert a number and if you want to stop insert 0  9\n",
      "Please insert a number and if you want to stop insert 0  45\n",
      "Please insert a number and if you want to stop insert 0  234\n",
      "Please insert a number and if you want to stop insert 0  99\n",
      "Please insert a number and if you want to stop insert 0  67\n",
      "Please insert a number and if you want to stop insert 0  0\n"
     ]
    },
    {
     "name": "stdout",
     "output_type": "stream",
     "text": [
      "the sum of the inputs is : 662\n"
     ]
    }
   ],
   "source": [
    "\"\"\"\n",
    "Explication : This program calculates the sum of the numbers entered by the user.\n",
    "It uses two variables: `input_user`, which stores the user's input, and `sum_of_inputs`, which stores the sum.\n",
    "Initially, `input_user` is set to `None` and `sum_of_inputs` is set to 0.\n",
    "The program then enters a while loop that runs until the user enters 0.\n",
    "In each iteration of the loop, the program prompts the user to enter a number or 0 to stop.\n",
    "It then converts the user's input from a string to an integer and adds it to the `sum_of_inputs` variable.\n",
    "After the loop ends, the program prints the final value of `sum_of_inputs`.\n",
    "\n",
    "\"\"\"\n",
    "\n",
    "\n",
    "input_user = None\n",
    "sum_of_inputs = 0\n",
    "while input_user != 0 :\n",
    "    input_user = input(\"Please insert a number and if you want to stop insert 0 \")\n",
    "    input_user = int(input_user)\n",
    "    sum_of_inputs = sum_of_inputs+ input_user\n",
    "print(f\"the sum of the inputs is : {sum_of_inputs}\")"
   ]
  },
  {
   "cell_type": "markdown",
   "id": "81451813-5161-467b-88b2-90f9bcf73d13",
   "metadata": {},
   "source": [
    "</br>"
   ]
  },
  {
   "cell_type": "markdown",
   "id": "e8e2cb33-2ef2-4027-941b-4c3496e1a2fc",
   "metadata": {},
   "source": [
    "9. Write a program using while loop that prompts the user for numbers until \n",
    "the user types -1, then outputs their sum."
   ]
  },
  {
   "cell_type": "code",
   "execution_count": 10,
   "id": "c7e97edc-c7e5-4b07-8507-261944ac8d01",
   "metadata": {},
   "outputs": [
    {
     "name": "stdin",
     "output_type": "stream",
     "text": [
      "Please insert a number and if you want to stop insert -1  88\n",
      "Please insert a number and if you want to stop insert -1  5\n",
      "Please insert a number and if you want to stop insert -1  22\n",
      "Please insert a number and if you want to stop insert -1  34\n",
      "Please insert a number and if you want to stop insert -1  8\n",
      "Please insert a number and if you want to stop insert -1  456\n",
      "Please insert a number and if you want to stop insert -1  22\n",
      "Please insert a number and if you want to stop insert -1  9\n",
      "Please insert a number and if you want to stop insert -1  5\n",
      "Please insert a number and if you want to stop insert -1  1\n",
      "Please insert a number and if you want to stop insert -1  0\n",
      "Please insert a number and if you want to stop insert -1  -1\n"
     ]
    },
    {
     "name": "stdout",
     "output_type": "stream",
     "text": [
      "the sum of the inputs is : 650\n"
     ]
    }
   ],
   "source": [
    "\"\"\"\n",
    "Explication : This program calculates the sum of the numbers entered by the user.\n",
    "It uses two variables: `input_user`, which stores the user's input, and `sum_of_inputs`, which stores the sum.\n",
    "Initially, `input_user` is set to `None` and `sum_of_inputs` is set to 0.\n",
    "The program then enters a while loop that runs until the user enters -1.\n",
    "In each iteration of the loop, the program prompts the user to enter a number or -1 to stop.\n",
    "It then converts the user's input from a string to an integer and adds it to the `sum_of_inputs` variable.\n",
    "After the loop ends, the program prints the final value of `sum_of_inputs`.\n",
    "\n",
    "\"\"\"\n",
    "\n",
    "\n",
    "input_user = None\n",
    "sum_of_inputs = 0\n",
    "while input_user != -1 :\n",
    "    input_user = int(input(\"Please insert a number and if you want to stop insert -1 \"))\n",
    "    if input_user != -1:\n",
    "        sum_of_inputs = sum_of_inputs + input_user\n",
    "print(f\"the sum of the inputs is : {sum_of_inputs}\")\n"
   ]
  },
  {
   "cell_type": "markdown",
   "id": "c124cceb-7f35-450f-a769-637c7fefcc35",
   "metadata": {},
   "source": [
    "</br>"
   ]
  },
  {
   "cell_type": "markdown",
   "id": "2fd74bc9-c0d3-49b0-a31d-f5dd0182b0c3",
   "metadata": {},
   "source": [
    "10. Write a method named repl that accepts a String and a number of \r\n",
    "repetitions as parameters and returns the String concatenated that many \r\n",
    "times. For example, the call repl(\"hello\", 3) returns \"hellohellohello\". \r\n",
    "If the number of repetitions is 0 or less, an empty string is returned."
   ]
  },
  {
   "cell_type": "code",
   "execution_count": 11,
   "id": "1fdae6e7-1224-4151-8db2-c51393ea497a",
   "metadata": {},
   "outputs": [
    {
     "name": "stdin",
     "output_type": "stream",
     "text": [
      "Please insert a String  hello\n",
      "Please insert the number of repetitions 5\n"
     ]
    },
    {
     "name": "stdout",
     "output_type": "stream",
     "text": [
      "the string is : hellohellohellohellohello\n"
     ]
    }
   ],
   "source": [
    "\"\"\"\n",
    "Explication : A function named `repl` exists, taking two parameters: `string`, the string to be repeated, and `nbr_repetitions`,\n",
    "the number of times the string should be repeated. Within this function, an if statement checks if `nbr_repetitions` is greater than or equal to 1.\n",
    "If true, the function returns the `string` repeated `nbr_repetitions` times, achieved using the * operator. \n",
    "This operator, when used with a string and an integer, repeats a string a certain number of times. However, if `nbr_repetitions` is less than 1,\n",
    "the function returns an empty string \"\". After the function definition, a prompt is given to enter a string and the number of repetitions.\n",
    "These inputs are stored in the variables `string` and `nbr_repetitions`. The `nbr_repetitions` is then converted from a string to an integer\n",
    "using the `int()` function. Finally, the `repl` function is called with `string` and `nbr_repetitions` as arguments, and the result is printed.\n",
    "\"\"\"\n",
    "\n",
    "def repl(string , nbr_repetitions):\n",
    "    if nbr_repetitions >=1 :\n",
    "        return string * nbr_repetitions\n",
    "    else:\n",
    "        return \"\"\n",
    "\n",
    "string = input(\"Please insert a String \")\n",
    "nbr_repetitions = input(\"Please insert the number of repetitions\")\n",
    "nbr_repetitions = int(nbr_repetitions)\n",
    "print(f\"the string is : {repl(string ,nbr_repetitions)}\")"
   ]
  },
  {
   "cell_type": "markdown",
   "id": "4de78538-f5be-43de-9e59-09562ae98e08",
   "metadata": {},
   "source": [
    "</br>"
   ]
  },
  {
   "cell_type": "markdown",
   "id": "cf3fece6-e340-4267-9a2c-cd6c148cf51d",
   "metadata": {},
   "source": [
    "<p>\n",
    "    11. Write a method called printRange that accepts two integers as arguments and \n",
    "    prints the sequence of numbers between the two arguments, separated by \n",
    "    spaces. Print an increasing sequence if the first argument is smaller than \n",
    "    the second; otherwise, print a decreasing sequence. If the two numbers \n",
    "    are the same, that number should be printed by itself. Here are some \n",
    "    sample calls to printRange:\n",
    "</p>\n",
    "<pre>\n",
    "    printRange(2, 7)\n",
    "    printRange(19, 11)\n",
    "    printRange(5, 5)\n",
    "</pre>\n",
    "<p>\n",
    "    The output produced should be the following:\n",
    "</p>\n",
    "<pre>\n",
    "    2 3 4 5 6 7 \n",
    "    19 18 17 16 15 14 13 12 11 \n",
    "    5\n",
    "</pre>"
   ]
  },
  {
   "cell_type": "code",
   "execution_count": 12,
   "id": "ec66cde6-eba9-4532-b5a3-d105b7eca4c9",
   "metadata": {},
   "outputs": [
    {
     "name": "stdin",
     "output_type": "stream",
     "text": [
      "Please insert the first number 19\n",
      "Please insert the second number 11\n"
     ]
    },
    {
     "name": "stdout",
     "output_type": "stream",
     "text": [
      "19 18 17 16 15 14 13 12 11 "
     ]
    }
   ],
   "source": [
    "\"\"\"\n",
    "Explication : This program defines a function named `printRange` that accepts two integers,\n",
    "`num1` and `num2`, as arguments. If `num1` is less than `num2`,\n",
    "it prints an increasing sequence of numbers from `num1` to `num2`, inclusive.\n",
    "This is achieved by using a `for` loop that iterates over the range from `num1` to `num2+1`, printing each number followed by a space.\n",
    "If `num1` is greater than `num2`, it prints a decreasing sequence of numbers from `num1` to `num2`, inclusive.\n",
    "This is done by using a `for` loop that iterates over the range from `num1` to `num2-1` in reverse order,\n",
    "again printing each number followed by a space. If `num1` and `num2` are equal, it simply prints `num1`.\n",
    "After defining the function, the code prompts the user to enter two numbers.\n",
    "These inputs are stored in the variables `number1` and `number2`,\n",
    "and are then converted from strings to integers. Finally, the `printRange` function is called with `number1` and `number2` as arguments.\n",
    "\"\"\"\n",
    "\n",
    "def printRange(num1,num2):\n",
    "    if num1 < num2 :\n",
    "        for i in range(num1,num2+1):\n",
    "            print(i,end=\" \")\n",
    "    elif num1 > num2:\n",
    "        for i in range(num1,num2-1,-1):\n",
    "            print(i,end=\" \")\n",
    "    else:\n",
    "        print(num1)\n",
    "number1 = input(\"Please insert the first number\")\n",
    "number2 = input(\"Please insert the second number\")\n",
    "number1 = int(number1)\n",
    "number2 = int(number2)\n",
    "printRange(number1,number2)    "
   ]
  },
  {
   "cell_type": "markdown",
   "id": "d5defb69-edab-4447-85e6-3a0518133e72",
   "metadata": {},
   "source": [
    "</br>"
   ]
  },
  {
   "cell_type": "markdown",
   "id": "bb9554fb-aaf2-4c81-aaf6-81524fb6c8ea",
   "metadata": {},
   "source": [
    "12. <p>\r\n",
    "    Write a method named smallestLargest that asks the user to enter numbers, \r\n",
    "    then prints the smallest and largest of all the numbers typed in by the \r\n",
    "    user. You may assume the user enters a valid number greater than 0 for \r\n",
    "    the number of numbers to read. Here is an example dialogue: \r\n",
    "</p>\r\n",
    "<pre>\r\n",
    "    How many numbers do you want to enter? 4\r\n",
    "    Number 1: 5\r\n",
    "    Number 2: 11\r\n",
    "    Number 3: -2\r\n",
    "    Number 4: 3\r\n",
    "    Smallest = -2\r\n",
    "    Largest = 11\r\n",
    "</pre>"
   ]
  },
  {
   "cell_type": "code",
   "execution_count": 13,
   "id": "be86bd2d-8429-4c44-980f-071c7d34040a",
   "metadata": {},
   "outputs": [
    {
     "name": "stdin",
     "output_type": "stream",
     "text": [
      "How many numbers do you want to enter? 4\n",
      "Number 1 :  5\n",
      "Number 2 :  11\n",
      "Number 3 :  -2\n",
      "Number 4 :  3\n"
     ]
    },
    {
     "name": "stdout",
     "output_type": "stream",
     "text": [
      "Smallest = -2\n",
      "Largest = 11\n"
     ]
    }
   ],
   "source": [
    "\"\"\"Explication : This program is designed to find the smallest and largest numbers from a list of numbers entered by the user.\n",
    "Initially, it prompts the user to specify how many numbers they want to enter.\n",
    "This input is stored in the variable `times` and is converted from a string to an integer.\n",
    "An empty list named `numbers` is also initialized to store the numbers entered by the user.\n",
    "The code then enters a loop that runs for the number of times specified by the user.\n",
    "In each iteration of the loop, it prompts the user to enter a number, converts this input to an integer,\n",
    "and appends it to the `numbers` list. After all the numbers have been entered, the code uses the `min` and `max`\n",
    "functions to find the smallest and largest numbers in the list, respectively. These values are stored in the variables `smallest` and `largest`.\n",
    "Finally, it prints out the smallest and largest numbers.\n",
    "\"\"\"\n",
    "\n",
    "times = input(\"How many numbers do you want to enter?\")\n",
    "numbers = list()\n",
    "times = int(times)\n",
    "for i in range(times):\n",
    "     element = input(f\"Number {i+1} : \")\n",
    "     element = int(element)\n",
    "     numbers.append(element)\n",
    "smallest = min(numbers)\n",
    "largest = max(numbers)\n",
    "\n",
    "print(f\"Smallest = {smallest}\")\n",
    "print(f\"Largest = {largest}\")     "
   ]
  },
  {
   "cell_type": "markdown",
   "id": "d0ae0651-19eb-4508-a7ce-98228a38b889",
   "metadata": {},
   "source": [
    "</br>"
   ]
  },
  {
   "cell_type": "markdown",
   "id": "20b380be-f67b-417e-bb19-4969b9b32e5d",
   "metadata": {},
   "source": [
    "<p>\r\n",
    "   13.  Write a method called printAverage that uses a sentinel loop to \r\n",
    "    repeatedly prompt the user for numbers. Once the user types any number \r\n",
    "    less than zero, the method should display the average of all nonnegative \r\n",
    "    numbers typed. Display the average as a double. Here is a sample \r\n",
    "    dialogue with the user:\r\n",
    "</p>\r\n",
    "<pre>\r\n",
    "    Type a number: 7\r\n",
    "    Type a number: 4\r\n",
    "    Type a number: 16\r\n",
    "    Type a number: –4\r\n",
    "    Average was 9.0\r\n",
    "</pre>\r\n",
    "<p>\r\n",
    "    If the first number that the user types is negative, do not print an average:\r\n",
    "</p>\r\n",
    "<pre>\r\n",
    "    Type a number: –2\r\n",
    "</pre> number: –2"
   ]
  },
  {
   "cell_type": "code",
   "execution_count": 14,
   "id": "f4bd334d-d0a9-465c-a190-d4df427cf8b8",
   "metadata": {},
   "outputs": [
    {
     "name": "stdin",
     "output_type": "stream",
     "text": [
      "Type a number:  7\n",
      "Type a number:  4\n",
      "Type a number:  16\n",
      "Type a number:  -4\n"
     ]
    },
    {
     "name": "stdout",
     "output_type": "stream",
     "text": [
      "Average was 9.0\n"
     ]
    }
   ],
   "source": [
    "\"\"\"\n",
    "Explication : The given code is programmed to compute the average of a sequence of non negative numbers inputted by the user.\n",
    "Initially, it assigns a value of 0 to the variables number, sum_numbers, and count.\n",
    "It then initiates a loop that persists until the user inputs a negative number.\n",
    "Within this loop, the user is asked to input a number which is then converted to an integer.\n",
    "If the inputted number is non negative, it is added to sum_numbers and count is incremented by 1.\n",
    "If the inputted number is negative and at least one number has been inputted previously (count is greater than 0),\n",
    "the average of the inputted numbers is computed by dividing sum_numbers by count and this average is then printed.\n",
    "If the first number inputted is negative, no average is printed.\n",
    "\"\"\"\n",
    "\n",
    "number = 0\n",
    "sum_numbers = 0\n",
    "count = 0\n",
    "while number > -1 :\n",
    "    number = input(\"Type a number: \")\n",
    "    number = int(number)\n",
    "    if number >  -1:\n",
    "        sum_numbers += number\n",
    "        count += 1\n",
    "    elif count > 0 :\n",
    "        print(f\"Average was {sum_numbers / count}\")\n"
   ]
  },
  {
   "cell_type": "markdown",
   "id": "129ca687-e87f-410b-abb1-5c3d9597a9c5",
   "metadata": {},
   "source": [
    "</br>"
   ]
  },
  {
   "cell_type": "markdown",
   "id": "dc10425f-2977-4c22-8c52-f68ce121d257",
   "metadata": {},
   "source": [
    "14. <p>\r\n",
    "    Write a method named numUnique that takes three integers as parameters \r\n",
    "    and returns the number of unique integers among the three. For example, \r\n",
    "    the call numUnique(18, 3, 4) should return 3 because the parameters \r\n",
    "    have three different values. By contrast, the call numUnique(6, 7, 6)\r\n",
    "    should return 2 because there are only two unique numbers among the \r\n",
    "    three parameters: 6 and 7.\r\n",
    "</p>"
   ]
  },
  {
   "cell_type": "code",
   "execution_count": 15,
   "id": "dafee0b2-171e-4493-90da-e2ec9d4b7052",
   "metadata": {},
   "outputs": [
    {
     "name": "stdin",
     "output_type": "stream",
     "text": [
      "Parameter1 6\n",
      "Parameter2 7\n",
      "Parameter3 6\n"
     ]
    },
    {
     "name": "stdout",
     "output_type": "stream",
     "text": [
      "2\n"
     ]
    }
   ],
   "source": [
    "\"\"\"\n",
    "Explication:\n",
    "This program defines a function named numUnique that takes three integers as parameters and returns the number of unique integers among the three.\n",
    "The function uses a series of if-elif-else statements to check the equality of the parameters and print the corresponding result.\n",
    "For example, if all three parameters are different, the function will print 3.\n",
    "If two parameters are equal and one is different, the function will print 2.\n",
    "If all three parameters are equal, the function will print 1.\n",
    "The program also asks the user to enter three integers as inputs for the function.\n",
    "It converts them to integers using the int function, because the inputs are always strings.\n",
    "It then calls the numUnique function with the user inputs as arguments and prints the result.\n",
    "\"\"\"\n",
    "\n",
    "def numUnique(param1,param2,param3):\n",
    "    if param1 != param2 and param2!= param3 and param1!=param3  :\n",
    "        return print(\"3\")\n",
    "    elif (param1 == param2 !=param3) or (param2 == param3!=param1) or (param1 == param3!=param2):\n",
    "        return print(\"2\")\n",
    "    else :\n",
    "        return print(\"1\")\n",
    "        \n",
    "param1 = input(\"Parameter1\")\n",
    "param2 = input(\"Parameter2\")\n",
    "param3 = input(\"Parameter3\")\n",
    "\n",
    "param1 = int(param1)\n",
    "param2 = int(param2)\n",
    "param3 = int(param3)\n",
    "\n",
    "numUnique(param1, param2, param3)\n"
   ]
  },
  {
   "cell_type": "markdown",
   "id": "0daebd3a-5a4b-4322-a79c-418cbe62bcda",
   "metadata": {},
   "source": [
    "</br>"
   ]
  },
  {
   "cell_type": "markdown",
   "id": "89cdced9-102e-4314-b1c8-4bd0214b2613",
   "metadata": {},
   "source": [
    "<p>\n",
    "    15. A Random object generates pseudo-random numbers. Find out how to \n",
    "    use the Random class and write a program that simulates rolling of two 6-\n",
    "    sided dice until their combined result comes up as 7. One possible output \n",
    "    can be seen as below:\n",
    "</p>\n",
    "<pre>\n",
    "    2 + 4 = 6\n",
    "    3 + 5 = 8\n",
    "    5 + 6 = 11\n",
    "    1 + 1 = 2\n",
    "    4 + 3 = 7\n",
    "    You won after 5 tries!\n",
    "</pre>"
   ]
  },
  {
   "cell_type": "code",
   "execution_count": 18,
   "id": "07b5d769-dde5-48a0-aa3a-cfabbba86b1b",
   "metadata": {},
   "outputs": [
    {
     "name": "stdout",
     "output_type": "stream",
     "text": [
      "5 + 3 = 8\n",
      "2 + 1 = 3\n",
      "2 + 1 = 3\n",
      "3 + 1 = 4\n",
      "4 + 1 = 5\n",
      "2 + 1 = 3\n",
      "4 + 1 = 5\n",
      "5 + 5 = 10\n",
      "1 + 5 = 6\n",
      "6 + 4 = 10\n",
      "6 + 6 = 12\n",
      "1 + 2 = 3\n",
      "5 + 1 = 6\n",
      "5 + 1 = 6\n",
      "1 + 2 = 3\n",
      "1 + 1 = 2\n",
      "3 + 1 = 4\n",
      "3 + 4 = 7\n",
      "You won after 18 tries!\n"
     ]
    }
   ],
   "source": [
    "\"\"\"\n",
    "Explication : This program simulates rolling of two 6-sided dice until their sum is 7.\n",
    "The program uses the random module to generate random numbers for the dice values.\n",
    "It defines a function named rolldice that takes no parameters and returns nothing.\n",
    "The function initializes two variables, sum and count, to zero.\n",
    "The sum variable will store the sum of the two dice values, and the count variable will store the number of tries.\n",
    "The function uses a while loop to repeat the following steps until the sum is equal to 7:\n",
    "1. it calls the random.randint function with arguments 1 and 6 to generate a random integer between 1 and 6 for each dice,\n",
    "2. it assigns the values to dice1 and dice2 variables, it adds dice1 and dice2 and assigns the result to sum, it increments count by 1,\n",
    "and it prints the values of dice1, dice2, and sum using a formatted string. After the loop ends,\n",
    "the function prints the value of count using a formatted string.\n",
    "\"\"\"\n",
    "\n",
    "\n",
    "import random\n",
    "\n",
    "def rolldice():\n",
    "    sum = 0\n",
    "    count = 0\n",
    "    while sum != 7:\n",
    "      dice1 = random.randint(1, 6)\n",
    "      dice2 = random.randint(1, 6)\n",
    "      sum = dice1 + dice2\n",
    "      count += 1\n",
    "      print(f\"{dice1} + {dice2} = {sum}\")\n",
    "    print(f\"You won after {count} tries!\")\n",
    "rolldice()"
   ]
  }
 ],
 "metadata": {
  "kernelspec": {
   "display_name": "Python 3 (ipykernel)",
   "language": "python",
   "name": "python3"
  },
  "language_info": {
   "codemirror_mode": {
    "name": "ipython",
    "version": 3
   },
   "file_extension": ".py",
   "mimetype": "text/x-python",
   "name": "python",
   "nbconvert_exporter": "python",
   "pygments_lexer": "ipython3",
   "version": "3.12.1"
  }
 },
 "nbformat": 4,
 "nbformat_minor": 5
}
