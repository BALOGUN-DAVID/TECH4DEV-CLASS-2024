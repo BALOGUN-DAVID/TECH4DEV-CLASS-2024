{
 "cells": [
  {
   "cell_type": "markdown",
   "id": "5e5369af",
   "metadata": {},
   "source": [
    "# EXERCISE 2"
   ]
  },
  {
   "cell_type": "code",
   "execution_count": 18,
   "id": "4fe4fe5a",
   "metadata": {},
   "outputs": [
    {
     "name": "stdout",
     "output_type": "stream",
     "text": [
      "The maximum value of the given list is 23\n"
     ]
    }
   ],
   "source": [
    "# Write a program that finds the maximum value of the given list, assuming that the list contains at least one element.#\n",
    "# Try your program with the following array 2 , 4, 7, 4, 23, 5, 1, 4, 8, 9 #\n",
    "\n",
    "given_list = [2 , 4, 7, 4, 23, 5, 1, 4, 8, 9]\n",
    "\n",
    "#find the maximum value of the given list \n",
    "max_value = max (given_list)\n",
    "\n",
    "print (\"The maximum value of the given list is\",  (max_value))"
   ]
  },
  {
   "cell_type": "code",
   "execution_count": 22,
   "id": "21b96292",
   "metadata": {},
   "outputs": [
    {
     "name": "stdout",
     "output_type": "stream",
     "text": [
      "The average value of the given list is 24.6\n"
     ]
    }
   ],
   "source": [
    "# Write a program that calculates the average value of the given list.\n",
    "# Try your program with the following list 4, 7, 1, 5, 11, 53, 12, 46, 84, 23\n",
    "\n",
    "given_avglist = [4, 7, 1, 5, 11, 53, 12, 46, 84, 23]\n",
    "\n",
    "#Calculate the average value of the given list\n",
    "avg_value = sum (given_avglist) / len (given_avglist)\n",
    "\n",
    "print (\"The average value of the given list is\", (avg_value))"
   ]
  },
  {
   "cell_type": "code",
   "execution_count": 27,
   "id": "d509ce00",
   "metadata": {},
   "outputs": [
    {
     "name": "stdout",
     "output_type": "stream",
     "text": [
      "The reversed list is [5, 89, 45, 14, 53, 23, 45, 7, 6, 2]\n"
     ]
    }
   ],
   "source": [
    "# Write a program that prints the given list of integers in reverse order.\n",
    "# Try your program with the following list 2, 6, 7, 45, 23, 53, 14, 45, 89, 5\n",
    "given_intlist = [2, 6, 7, 45, 23, 53, 14, 45, 89, 5]\n",
    "\n",
    "# list the integers in reverse order\n",
    "reverse_list = given_intlist [::-1]\n",
    "\n",
    "print (\"The reversed list is\", (reverse_list))"
   ]
  },
  {
   "cell_type": "code",
   "execution_count": 110,
   "id": "a06b2359",
   "metadata": {},
   "outputs": [
    {
     "name": "stdout",
     "output_type": "stream",
     "text": [
      "False\n",
      "False\n"
     ]
    }
   ],
   "source": [
    "# Write a program that accepts two lists of integers and prints true if each element in the first list ...\n",
    "# is less than the element at the same index in the second list. \n",
    "# Your program should print false if the lists are not the same length.\n",
    "\n",
    "def compare_lists(list1, list2):\n",
    "    # Checking to see if the lists are the same length\n",
    "    if len(list1) != len(list2):\n",
    "        return False  # If lists are not the same length, return False\n",
    "    \n",
    "    # Compare elements at each index\n",
    "    for i in range(len(list1)):\n",
    "        if list1[i] >= list2[i]:\n",
    "            return False  # If any element in list1 is not less than the corresponding element in list2, return False\n",
    "    \n",
    "    return True  # If all elements satisfy the condition, return True\n",
    "\n",
    "# Given lists\n",
    "list_a = [2, 4, 6, 8, 10]\n",
    "list_b = [1, 3, 5, 7]\n",
    "\n",
    "# print the comparison result\n",
    "print(compare_lists(list_a, list_b)) \n",
    "print(compare_lists(list_a, list_b))  "
   ]
  },
  {
   "cell_type": "code",
   "execution_count": 131,
   "id": "b10c8d5c",
   "metadata": {},
   "outputs": [
    {
     "name": "stdout",
     "output_type": "stream",
     "text": [
      "The list after swapping the elements at indexes 1 and 4 is : [2, 10, 6, 8, 4]\n"
     ]
    }
   ],
   "source": [
    "# Write a program that accepts a list of integers and two indexes and swaps the elements at those indexes\n",
    "\n",
    "def swap_elements(input_list: list, index1: int, index2: int):\n",
    "    # simply swap where the two items are using the index\n",
    "    \n",
    "    if 0 <= index1 < len(input_list) and 0 <= index2 < len(input_list):\n",
    "        input_list[index1], input_list[index2] = input_list[index2], input_list[index1]\n",
    "        return input_list  # Return the modified list after swapping\n",
    "    else:\n",
    "        return \"Invalid indexes. Please provide valid indexes within the list range.\"\n",
    "\n",
    "# Given list\n",
    "input_list = [2, 4, 6, 8, 10]\n",
    "\n",
    "# Indexes to swap\n",
    "index1 = 1\n",
    "index2 = 4\n",
    "\n",
    "# Swapping elements at given indexes\n",
    "result = swap_elements(input_list, index1, index2)\n",
    "print(\"The list after swapping the elements at indexes\", index1, \"and\", index2, \"is :\", result)"
   ]
  },
  {
   "cell_type": "code",
   "execution_count": 104,
   "id": "75e543a0",
   "metadata": {},
   "outputs": [
    {
     "name": "stdout",
     "output_type": "stream",
     "text": [
      "The combined list is: [1, 2, 3, 4, 5, 6, 7, 8]\n"
     ]
    }
   ],
   "source": [
    "# Write a program that accepts two lists of integers and prints a new...\n",
    "# list containing all elements of the first list followed by all elements of the second.\n",
    "\n",
    "def combine_lists(list1, list2):\n",
    "    combined_list = list1 + list2  # Concatenate the two lists\n",
    "    return combined_list\n",
    "\n",
    "# lists of intergers\n",
    "first_list = [1, 2, 3, 4]\n",
    "second_list = [5, 6, 7, 8]\n",
    "\n",
    "# Combining the two list into a new list\n",
    "newcombined_list = combine_lists(first_list, second_list)\n",
    "print(\"The combined list is:\", newcombined_list)"
   ]
  },
  {
   "cell_type": "code",
   "execution_count": 122,
   "id": "40f8dc53",
   "metadata": {},
   "outputs": [
    {
     "name": "stdout",
     "output_type": "stream",
     "text": [
      "The last index of the value 85 is 5\n"
     ]
    }
   ],
   "source": [
    "# Write a program that accepts a list of integers and an integer value as its parameters and prints the last index at which the value occurs in the list. \n",
    "# The program should print –1 if the value is not found. \n",
    "# For example, in the list [74, 85, 102, 99, 101, 85, 56], the last index of the value 85 is 5.\n",
    "\n",
    "def last_index_of_value(input_list: list, value: int):\n",
    "    if value in input_list[::-1]:  # Check if the value exists in the reversed list\n",
    "        last_index = len(input_list) - input_list[::-1].index(value) - 1  # Calculate the last index\n",
    "        return last_index\n",
    "    else:\n",
    "        return -1  # Return -1 if the value is not found\n",
    "\n",
    "# Given list\n",
    "given_list = [74, 85, 102, 99, 101, 85, 56]\n",
    "\n",
    "# Value to search for\n",
    "search_value = 85\n",
    "\n",
    "# Find and print the last index of the value in the list\n",
    "result = last_index_of_value(given_list, search_value)\n",
    "print(\"The last index of the value\", search_value, \"is\", result)"
   ]
  },
  {
   "cell_type": "code",
   "execution_count": 127,
   "id": "9b40ab4f",
   "metadata": {},
   "outputs": [
    {
     "name": "stdout",
     "output_type": "stream",
     "text": [
      "The range of values in the list is 35\n"
     ]
    }
   ],
   "source": [
    "# Write a program that prints the range of values in a list of integers. \n",
    "# The range is defined as 1 more than the difference between the maximum and minimum values in the list. \n",
    "# For example, if a list contains the values [36, 12, 25, 19, 46, 31, 22], the program should return 35. \n",
    "# You may assume that the list has at least one element.\n",
    "\n",
    "def range(input_list):\n",
    "    min_val = min(input_list)  # Find the minimum value\n",
    "    max_val = max(input_list)  # Find the maximum value\n",
    "    \n",
    " # Calculate the range   \n",
    "    range_value = max_val - min_val + 1  \n",
    "    return range_value\n",
    "\n",
    "input_list = [36, 12, 25, 19, 46, 31, 22]\n",
    "\n",
    "# print the range of values in the list\n",
    "result = range(input_list)\n",
    "print(\"The range of values in the list is\", result)"
   ]
  },
  {
   "cell_type": "code",
   "execution_count": 8,
   "id": "00f329c8",
   "metadata": {},
   "outputs": [
    {
     "name": "stdout",
     "output_type": "stream",
     "text": [
      "The count of elements between 4 and 17 is: 4\n"
     ]
    }
   ],
   "source": [
    "# Write a program that accepts a list of integers, a minimum value, and a maximum value and prints the count of how many elements from the list fall between the minimum and maximum (inclusive). \n",
    "# For example, in the list [14, 1, 22, 17, 36, 7, -43, 5], \n",
    "# for minimum value 4 and maximum value 17, there are four elements whose values fall between 4 and 17.\n",
    "\n",
    "def count_elements_in_range(input_list, min_val, max_val):\n",
    "    count = sum(1 for element in input_list if min_val <= element <= max_val)\n",
    "    return count\n",
    "\n",
    "# Given list\n",
    "input_list = [14, 1, 22, 17, 36, 7, -43, 5]\n",
    "\n",
    "# Minimum and maximum values\n",
    "min_value = 4\n",
    "max_value = 17\n",
    "\n",
    "# Count elements between the minimum and maximum values in the list\n",
    "result = count_elements_in_range(input_list, min_value, max_value)\n",
    "print(f\"The count of elements between {min_value} and {max_value} is: {result}\")"
   ]
  },
  {
   "cell_type": "code",
   "execution_count": 4,
   "id": "d0dc3a01",
   "metadata": {},
   "outputs": [
    {
     "name": "stdout",
     "output_type": "stream",
     "text": [
      "List 1 sorted: False\n",
      "List 2 sorted: True\n"
     ]
    }
   ],
   "source": [
    "# Write a program that accepts a list of real numbers and prints true if the list is in sorted (nondecreasing) order and false otherwise. \n",
    "# For example, if lists named list1 and list2 store [16.1, 12.3, 22.2, 14.4] and [1.5, 4.3, 7.0, 19.5, 25.1, 46.2] respectively, the program should print false for list1 and true for list2 respectively.\n",
    "# Assume the list has at least one element. \n",
    "# A one-element list is sorted.\n",
    "\n",
    "def is_sorted(data):\n",
    " if len(data) <= 1:\n",
    "   return True\n",
    "\n",
    " for i in range(1, len(data)):\n",
    "   if data[i-1] > data[i]:\n",
    "     return False\n",
    " return True\n",
    "\n",
    "list1 = [16.1, 12.3, 22.2, 14.4]\n",
    "list2 = [1.5, 4.3, 7.0, 19.5, 25.1, 46.2]\n",
    "\n",
    "print(f\"List 1 sorted: {is_sorted(list1)}\")\n",
    "print(f\"List 2 sorted: {is_sorted(list2)}\")"
   ]
  },
  {
   "cell_type": "code",
   "execution_count": 3,
   "id": "4a9e9b28",
   "metadata": {},
   "outputs": [
    {
     "data": {
      "text/plain": [
       "[0, 1, 2, 3, 4, 5, 6, 7, 8, 9]"
      ]
     },
     "execution_count": 3,
     "metadata": {},
     "output_type": "execute_result"
    }
   ],
   "source": [
    "list(range (0,10))"
   ]
  },
  {
   "cell_type": "code",
   "execution_count": 2,
   "id": "fe02ad56",
   "metadata": {},
   "outputs": [
    {
     "data": {
      "text/plain": [
       "array([0, 1, 2, 3, 4, 5, 6, 7, 8, 9])"
      ]
     },
     "execution_count": 2,
     "metadata": {},
     "output_type": "execute_result"
    }
   ],
   "source": [
    "import numpy as np\n",
    "np.arange(0,10)"
   ]
  }
 ],
 "metadata": {
  "kernelspec": {
   "display_name": "Python 3 (ipykernel)",
   "language": "python",
   "name": "python3"
  },
  "language_info": {
   "codemirror_mode": {
    "name": "ipython",
    "version": 3
   },
   "file_extension": ".py",
   "mimetype": "text/x-python",
   "name": "python",
   "nbconvert_exporter": "python",
   "pygments_lexer": "ipython3",
   "version": "3.11.5"
  }
 },
 "nbformat": 4,
 "nbformat_minor": 5
}
