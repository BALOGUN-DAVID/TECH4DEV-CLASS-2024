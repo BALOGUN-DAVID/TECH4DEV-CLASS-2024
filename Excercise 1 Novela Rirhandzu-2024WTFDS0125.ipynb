{
 "cells": [
  {
   "cell_type": "markdown",
   "id": "d16cf34e",
   "metadata": {},
   "source": [
    "# Excercise 1"
   ]
  },
  {
   "cell_type": "raw",
   "id": "0dddb2d2",
   "metadata": {},
   "source": [
    "1.\tWhat is the output of the following print statements?\n",
    "print(\"\\ta\\tb\\tc\") \n",
    "print(\"\\\\\\\\\")\n",
    "print(\"'\")\n",
    "print(\"\\\"\\\"\\\"\")\n",
    "print(\"C:\\nin\\the downward spiral\")\n"
   ]
  },
  {
   "cell_type": "code",
   "execution_count": 1,
   "id": "b0ce025f",
   "metadata": {},
   "outputs": [
    {
     "name": "stdout",
     "output_type": "stream",
     "text": [
      "\ta\tb\tc\n"
     ]
    }
   ],
   "source": [
    "print(\"\\ta\\tb\\tc\") \n",
    "#output: a    b    c"
   ]
  },
  {
   "cell_type": "code",
   "execution_count": 2,
   "id": "7e9d9164",
   "metadata": {},
   "outputs": [
    {
     "name": "stdout",
     "output_type": "stream",
     "text": [
      "\\\\\n"
     ]
    }
   ],
   "source": [
    "print(\"\\\\\\\\\")\n",
    "#output: \\\\"
   ]
  },
  {
   "cell_type": "code",
   "execution_count": 3,
   "id": "b86ed92b",
   "metadata": {},
   "outputs": [
    {
     "name": "stdout",
     "output_type": "stream",
     "text": [
      "'\n"
     ]
    }
   ],
   "source": [
    "print(\"'\")\n",
    "#output: '"
   ]
  },
  {
   "cell_type": "code",
   "execution_count": 4,
   "id": "92284735",
   "metadata": {},
   "outputs": [
    {
     "name": "stdout",
     "output_type": "stream",
     "text": [
      "\"\"\"\n"
     ]
    }
   ],
   "source": [
    "print(\"\\\"\\\"\\\"\")\n",
    "#output: \"\"\""
   ]
  },
  {
   "cell_type": "code",
   "execution_count": 5,
   "id": "2ed528ca",
   "metadata": {},
   "outputs": [
    {
     "name": "stdout",
     "output_type": "stream",
     "text": [
      "C:\n",
      "in\the downward spiral\n"
     ]
    }
   ],
   "source": [
    "print(\"C:\\nin\\the downward spiral\")\n",
    "#output: C:\n",
    "#in  he downward spiral"
   ]
  },
  {
   "cell_type": "raw",
   "id": "680b8eec",
   "metadata": {},
   "source": [
    "2.\tWrite a print statement to produce this output:\n",
    "/ \\ // \\\\ /// \\\\\\"
   ]
  },
  {
   "cell_type": "code",
   "execution_count": 6,
   "id": "a8095d74",
   "metadata": {},
   "outputs": [
    {
     "name": "stdout",
     "output_type": "stream",
     "text": [
      "/ \\ // \\\\ /// \\\\\\\n"
     ]
    }
   ],
   "source": [
    "print(\"/ \\\\ // \\\\\\\\ /// \\\\\\\\\\\\\")"
   ]
  },
  {
   "cell_type": "raw",
   "id": "7bc66590",
   "metadata": {},
   "source": [
    "3.\tWhat print statements will generate this output?\n",
    "This quote is from \n",
    "Irish poet Oscar Wilde:\n",
    "\"Music makes one feel so romantic\n",
    "- at least it always gets on one's nerves – \n",
    "which is the same thing nowadays.\"\n"
   ]
  },
  {
   "cell_type": "code",
   "execution_count": 7,
   "id": "db60079e",
   "metadata": {},
   "outputs": [
    {
     "name": "stdout",
     "output_type": "stream",
     "text": [
      "This quote is from\n",
      "Irish poet Oscar Wilde:\n",
      "\"Music makes one feel so romantic\n",
      "- at least it always gets on one's nerves –\n",
      "which is the same thing nowadays.\"\n"
     ]
    }
   ],
   "source": [
    "print(\"This quote is from\")\n",
    "print(\"Irish poet Oscar Wilde:\")\n",
    "print(\"\\\"Music makes one feel so romantic\")\n",
    "print(\"- at least it always gets on one's nerves –\")\n",
    "print(\"which is the same thing nowadays.\\\"\")"
   ]
  },
  {
   "cell_type": "raw",
   "id": "1d583400",
   "metadata": {},
   "source": [
    "4.\tWhat print statements will generate this output?\n",
    "A \"quoted\" String is\n",
    "'much' better if you learn\n",
    "the rules of \"escape sequences.\" \n",
    "Also, \"\" represents an empty String.\n",
    "Don't forget: use \\\" instead of \" !\n",
    "'' is not the same as \""
   ]
  },
  {
   "cell_type": "code",
   "execution_count": 8,
   "id": "2e4fc29e",
   "metadata": {},
   "outputs": [
    {
     "name": "stdout",
     "output_type": "stream",
     "text": [
      "A \"quoted\" String is\n",
      "'much' better if you learn\n",
      "the rules of \"escape sequences.\"\n",
      "Also, \"\" represents an empty String.\n",
      "fifth line Don't forget: use \\\" instead of \" !\n",
      "'' is not the same as \"\n"
     ]
    }
   ],
   "source": [
    "print(\"A \\\"quoted\\\" String is\")\n",
    "print(\"'much' better if you learn\")\n",
    "print(\"the rules of \\\"escape sequences.\\\"\")\n",
    "print(\"Also, \\\"\\\" represents an empty String.\")\n",
    "print(\"fifth line Don't forget: use \\\\\\\" instead of \\\" !\")\n",
    "print(\"'' is not the same as \\\"\")"
   ]
  },
  {
   "cell_type": "raw",
   "id": "5773a46f",
   "metadata": {},
   "source": [
    "5.\tWhat values result from the following expressions?\n",
    "–\t9 / 5\n",
    "–\t695 % 20\n",
    "–\t7 + 6 * 5\n",
    "–\t7 * 6 + 5\n",
    "–\t248 % 100 / 5\n",
    "–\t6 * 3 - 9 / 4\n",
    "–\t(5 - 7) * 4\n",
    "–\t6 + (18 % (17 - 12))\n"
   ]
  },
  {
   "cell_type": "code",
   "execution_count": 9,
   "id": "2cbad419",
   "metadata": {},
   "outputs": [
    {
     "data": {
      "text/plain": [
       "1.8"
      ]
     },
     "execution_count": 9,
     "metadata": {},
     "output_type": "execute_result"
    }
   ],
   "source": [
    "9 / 5\n",
    "#Results: 1.8"
   ]
  },
  {
   "cell_type": "code",
   "execution_count": 10,
   "id": "ee56a7d8",
   "metadata": {},
   "outputs": [
    {
     "data": {
      "text/plain": [
       "15"
      ]
     },
     "execution_count": 10,
     "metadata": {},
     "output_type": "execute_result"
    }
   ],
   "source": [
    "695 % 20\n",
    "#Results: 15"
   ]
  },
  {
   "cell_type": "code",
   "execution_count": 11,
   "id": "40f70c3b",
   "metadata": {},
   "outputs": [
    {
     "data": {
      "text/plain": [
       "37"
      ]
     },
     "execution_count": 11,
     "metadata": {},
     "output_type": "execute_result"
    }
   ],
   "source": [
    "7 + 6 * 5\n",
    "#Results: 37"
   ]
  },
  {
   "cell_type": "code",
   "execution_count": 12,
   "id": "52e05a01",
   "metadata": {},
   "outputs": [
    {
     "data": {
      "text/plain": [
       "47"
      ]
     },
     "execution_count": 12,
     "metadata": {},
     "output_type": "execute_result"
    }
   ],
   "source": [
    "7 * 6 + 5\n",
    "#Results: 47"
   ]
  },
  {
   "cell_type": "code",
   "execution_count": 13,
   "id": "1e65b6e2",
   "metadata": {},
   "outputs": [
    {
     "data": {
      "text/plain": [
       "9.6"
      ]
     },
     "execution_count": 13,
     "metadata": {},
     "output_type": "execute_result"
    }
   ],
   "source": [
    "248 % 100 / 5\n",
    "#Results: 9.6"
   ]
  },
  {
   "cell_type": "code",
   "execution_count": 14,
   "id": "9b6e1498",
   "metadata": {},
   "outputs": [
    {
     "data": {
      "text/plain": [
       "15.75"
      ]
     },
     "execution_count": 14,
     "metadata": {},
     "output_type": "execute_result"
    }
   ],
   "source": [
    "6 * 3 - 9 / 4\n",
    "#Results: 15.75"
   ]
  },
  {
   "cell_type": "code",
   "execution_count": 15,
   "id": "a00cfb2c",
   "metadata": {},
   "outputs": [
    {
     "data": {
      "text/plain": [
       "-8"
      ]
     },
     "execution_count": 15,
     "metadata": {},
     "output_type": "execute_result"
    }
   ],
   "source": [
    "(5 - 7) * 4\n",
    "#Results: -8"
   ]
  },
  {
   "cell_type": "code",
   "execution_count": 16,
   "id": "f111f520",
   "metadata": {},
   "outputs": [
    {
     "data": {
      "text/plain": [
       "9"
      ]
     },
     "execution_count": 16,
     "metadata": {},
     "output_type": "execute_result"
    }
   ],
   "source": [
    "6 + (18 % (17 - 12))\n",
    "#Results: 9"
   ]
  },
  {
   "cell_type": "code",
   "execution_count": null,
   "id": "5f25d320",
   "metadata": {},
   "outputs": [],
   "source": []
  }
 ],
 "metadata": {
  "kernelspec": {
   "display_name": "Python 3 (ipykernel)",
   "language": "python",
   "name": "python3"
  },
  "language_info": {
   "codemirror_mode": {
    "name": "ipython",
    "version": 3
   },
   "file_extension": ".py",
   "mimetype": "text/x-python",
   "name": "python",
   "nbconvert_exporter": "python",
   "pygments_lexer": "ipython3",
   "version": "3.9.7"
  }
 },
 "nbformat": 4,
 "nbformat_minor": 5
}
