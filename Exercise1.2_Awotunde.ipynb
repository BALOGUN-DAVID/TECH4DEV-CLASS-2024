{
 "cells": [
  {
   "cell_type": "markdown",
   "id": "2be0691e",
   "metadata": {},
   "source": [
    "##### Question 1\n",
    "What is the output of the following print statements?"
   ]
  },
  {
   "cell_type": "code",
   "execution_count": 2,
   "id": "fbb3c35a",
   "metadata": {},
   "outputs": [
    {
     "name": "stdout",
     "output_type": "stream",
     "text": [
      "\ta\tb\tc\n",
      "\\\\\n",
      "'\n",
      "\"\"\"\n",
      "C:\n",
      "in\the downward spiral\n"
     ]
    }
   ],
   "source": [
    "print(\"\\ta\\tb\\tc\") \n",
    "print(\"\\\\\\\\\")\n",
    "print(\"'\")\n",
    "print(\"\\\"\\\"\\\"\")\n",
    "print(\"C:\\nin\\the downward spiral\")"
   ]
  },
  {
   "cell_type": "markdown",
   "id": "009bc418",
   "metadata": {},
   "source": [
    "##### Question 2 \n",
    "Write a print statement to produce this output:\n",
    "/ \\ // \\\\ /// \\\\\\"
   ]
  },
  {
   "cell_type": "code",
   "execution_count": 6,
   "id": "7180711f",
   "metadata": {},
   "outputs": [
    {
     "name": "stdout",
     "output_type": "stream",
     "text": [
      "/ \\ // \\ /// \\\\\\\n"
     ]
    }
   ],
   "source": [
    "print('/ \\ // \\\\ /// \\\\\\\\\\\\')"
   ]
  },
  {
   "cell_type": "markdown",
   "id": "55b6a86c",
   "metadata": {},
   "source": [
    "##### Question 3\n",
    "What print statements will generate this output?\n",
    "This quote is from Irish poet Oscar Wilde:\n",
    "\"Music makes one feel so romantic\n",
    "- at least it always gets on one's nerves – \n",
    "which is the same thing nowadays.\"\n"
   ]
  },
  {
   "cell_type": "code",
   "execution_count": 7,
   "id": "881b11f4",
   "metadata": {},
   "outputs": [
    {
     "name": "stdout",
     "output_type": "stream",
     "text": [
      "This quote is from \n",
      "Irish poet Oscar Wilde:\n",
      "\"Music makes one feel so romantic \n",
      "- at least it always gets on one's nerves – \n",
      "which is the same thing nowadays.\"\n"
     ]
    }
   ],
   "source": [
    "print('This quote is from \\nIrish poet Oscar Wilde:\\n\"Music makes one feel so romantic \\n- at least it always gets on one\\'s nerves – \\nwhich is the same thing nowadays.\"')"
   ]
  },
  {
   "cell_type": "markdown",
   "id": "ea9fe9d2",
   "metadata": {},
   "source": [
    "##### Question 4\n",
    "What print statements will generate this output?\n",
    "A \"quoted\" String is \n",
    "'much' better if you learn\n",
    "the rules of \"escape sequences.\" \n",
    "Also, \"\" represents an empty String. \n",
    "Don't forget: use \\\" instead of \" !\n",
    "'' is not the same as \""
   ]
  },
  {
   "cell_type": "code",
   "execution_count": 8,
   "id": "73e8d7c3",
   "metadata": {},
   "outputs": [
    {
     "name": "stdout",
     "output_type": "stream",
     "text": [
      "A \"quoted\" String is \n",
      "'much' better if you learn \n",
      "the rules of \"escape sequences.\" \n",
      "Also, \"\" represents an empty String. \n",
      "Don't forget: use \\\" instead of \" ! \n",
      "'' is not the same as \"\n"
     ]
    }
   ],
   "source": [
    "print('A \"quoted\" String is \\n\\'much\\' better if you learn \\nthe rules of \"escape sequences.\" \\nAlso, \"\" represents an empty String. \\nDon\\'t forget: use \\\\\" instead of \" ! \\n\\'\\' is not the same as \"')"
   ]
  },
  {
   "cell_type": "markdown",
   "id": "4e08cbdb",
   "metadata": {},
   "source": [
    "##### Question 5\n",
    "What values result from the following expressions?\n",
    "–\t9 / 5\n",
    "–\t695 % 20\n",
    "–\t7 + 6 * 5\n",
    "–\t7 * 6 + 5\n",
    "–\t248 % 100 / 5\n",
    "–\t6 * 3 - 9 / 4\n",
    "–\t(5 - 7) * 4\n",
    "–\t6 + (18 % (17 - 12))"
   ]
  },
  {
   "cell_type": "code",
   "execution_count": 9,
   "id": "cd8d596e",
   "metadata": {},
   "outputs": [
    {
     "name": "stdout",
     "output_type": "stream",
     "text": [
      "1.8\n",
      "15\n",
      "1\n",
      "37\n",
      "9.6\n",
      "15.75\n",
      "-8\n",
      "9\n"
     ]
    }
   ],
   "source": [
    "# (/) returns the value of the division\n",
    "print(9 / 5)\n",
    "# (%) returns the remainder after division\n",
    "print(695 % 20)\n",
    "print(9 % 4)\n",
    "print(7 + 6 * 5)\n",
    "print(248 % 100 / 5)\n",
    "print(6 * 3 - 9 / 4)\n",
    "print((5 - 7) * 4)\n",
    "print(6 + (18 % (17 - 12)))"
   ]
  }
 ],
 "metadata": {
  "kernelspec": {
   "display_name": "Python 3 (ipykernel)",
   "language": "python",
   "name": "python3"
  },
  "language_info": {
   "codemirror_mode": {
    "name": "ipython",
    "version": 3
   },
   "file_extension": ".py",
   "mimetype": "text/x-python",
   "name": "python",
   "nbconvert_exporter": "python",
   "pygments_lexer": "ipython3",
   "version": "3.11.5"
  }
 },
 "nbformat": 4,
 "nbformat_minor": 5
}
