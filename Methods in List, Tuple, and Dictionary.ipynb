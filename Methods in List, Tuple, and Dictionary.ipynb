{
 "cells": [
  {
   "cell_type": "markdown",
   "id": "b31f7876",
   "metadata": {},
   "source": [
    "# 20 Methods in List, Tuple, and Dictionary"
   ]
  },
  {
   "cell_type": "markdown",
   "id": "2f8cd5bf",
   "metadata": {},
   "source": [
    "## List Methods"
   ]
  },
  {
   "cell_type": "markdown",
   "id": "a0f55e6f",
   "metadata": {},
   "source": [
    "1. Append () - Add elements to the end of a list"
   ]
  },
  {
   "cell_type": "code",
   "execution_count": 1,
   "id": "a4385983",
   "metadata": {},
   "outputs": [
    {
     "name": "stdout",
     "output_type": "stream",
     "text": [
      "[1, 2, 3, 4]\n"
     ]
    }
   ],
   "source": [
    "my_list = [1, 2, 3]\n",
    "my_list.append(4)\n",
    "print(my_list) "
   ]
  },
  {
   "cell_type": "markdown",
   "id": "adeb6283",
   "metadata": {},
   "source": [
    "2. Extend () - Appends the elements of another list to the end."
   ]
  },
  {
   "cell_type": "code",
   "execution_count": 2,
   "id": "03551f10",
   "metadata": {},
   "outputs": [
    {
     "name": "stdout",
     "output_type": "stream",
     "text": [
      "[1, 2, 3, 4, 5]\n"
     ]
    }
   ],
   "source": [
    "my_list = [1, 2, 3]\n",
    "my_list.extend([4, 5])\n",
    "print(my_list) "
   ]
  },
  {
   "cell_type": "markdown",
   "id": "2fd61c14",
   "metadata": {},
   "source": [
    "3. insert() - Inserts an element at a specific index."
   ]
  },
  {
   "cell_type": "code",
   "execution_count": 1,
   "id": "e3e9dd15",
   "metadata": {},
   "outputs": [
    {
     "name": "stdout",
     "output_type": "stream",
     "text": [
      "[1, 4, 2, 3]\n"
     ]
    }
   ],
   "source": [
    "my_list = [1, 2, 3]\n",
    "my_list.insert(1, 4)\n",
    "print(my_list)\n"
   ]
  },
  {
   "cell_type": "markdown",
   "id": "7ebafedf",
   "metadata": {},
   "source": [
    "4. remove() - Removes the first occurrence of a value"
   ]
  },
  {
   "cell_type": "code",
   "execution_count": 2,
   "id": "eb41d385",
   "metadata": {},
   "outputs": [
    {
     "name": "stdout",
     "output_type": "stream",
     "text": [
      "[1, 3, 2]\n"
     ]
    }
   ],
   "source": [
    "my_list = [1, 2, 3, 2]\n",
    "my_list.remove(2)\n",
    "print(my_list)  "
   ]
  },
  {
   "cell_type": "markdown",
   "id": "5396b055",
   "metadata": {},
   "source": [
    "5. pop() - Removes and returns the element at the specified index"
   ]
  },
  {
   "cell_type": "code",
   "execution_count": 2,
   "id": "c9752451",
   "metadata": {},
   "outputs": [
    {
     "name": "stdout",
     "output_type": "stream",
     "text": [
      "2\n"
     ]
    }
   ],
   "source": [
    "my_list = [1, 2, 3]\n",
    "popped_value = my_list.pop(1)\n",
    "print(popped_value) s\n"
   ]
  },
  {
   "cell_type": "code",
   "execution_count": null,
   "id": "f986fcb4",
   "metadata": {},
   "outputs": [],
   "source": [
    "6. index() - Returns the index of the first occurrence of a value.\n"
   ]
  },
  {
   "cell_type": "code",
   "execution_count": 1,
   "id": "ad8fac9d",
   "metadata": {},
   "outputs": [
    {
     "name": "stdout",
     "output_type": "stream",
     "text": [
      "2\n"
     ]
    }
   ],
   "source": [
    "my_list = [1, 2, 3]\n",
    "popped_value = my_list.pop(1)\n",
    "print(popped_value) "
   ]
  },
  {
   "cell_type": "markdown",
   "id": "84452240",
   "metadata": {},
   "source": [
    "7.reverse() - Reverses the order of elements in the list"
   ]
  },
  {
   "cell_type": "code",
   "execution_count": 4,
   "id": "cefbe955",
   "metadata": {},
   "outputs": [
    {
     "name": "stdout",
     "output_type": "stream",
     "text": [
      "[3, 2, 1]\n"
     ]
    }
   ],
   "source": [
    "my_list = [1, 2, 3]\n",
    "my_list.reverse()\n",
    "print(my_list)  "
   ]
  },
  {
   "cell_type": "markdown",
   "id": "49115f44",
   "metadata": {},
   "source": [
    "8. copy() - Creates a shallow copy of the list"
   ]
  },
  {
   "cell_type": "code",
   "execution_count": 5,
   "id": "a8e341f7",
   "metadata": {},
   "outputs": [
    {
     "name": "stdout",
     "output_type": "stream",
     "text": [
      "[1, 2, 3]\n"
     ]
    }
   ],
   "source": [
    "my_list = [1, 2, 3]\n",
    "copied_list = my_list.copy()\n",
    "print(copied_list) "
   ]
  },
  {
   "cell_type": "markdown",
   "id": "c6300c59",
   "metadata": {},
   "source": [
    "## Tuple Methods"
   ]
  },
  {
   "cell_type": "markdown",
   "id": "2c9bc1ae",
   "metadata": {},
   "source": [
    "9.  count() In this tuple method in Python, the frequency of a given value in a tuple is returned"
   ]
  },
  {
   "cell_type": "code",
   "execution_count": null,
   "id": "6dfed222",
   "metadata": {},
   "outputs": [],
   "source": [
    "tuple_1 = (1, 3, 7, 8, 7, 5, 4, 6, 8, 5)\n",
    "\n",
    "x = tuple_1.count(5)\n",
    "\n",
    "print(x)"
   ]
  },
  {
   "cell_type": "markdown",
   "id": "8f916d3d",
   "metadata": {},
   "source": [
    "10. index() This tuple method is used to return the position of where a supplied value was discovered after searching the tuple for it."
   ]
  },
  {
   "cell_type": "code",
   "execution_count": null,
   "id": "abf9dbd8",
   "metadata": {},
   "outputs": [],
   "source": [
    "11. tuple_1 = (1, 3, 7, 8, 7, 5, 4, 6, 8, 5)\n",
    "\n",
    "x = tuple_1.index(8)\n",
    "\n",
    "print(x)"
   ]
  },
  {
   "cell_type": "markdown",
   "id": "3fb68585",
   "metadata": {},
   "source": [
    "12. len() is used to find the number of elements in a tuple"
   ]
  },
  {
   "cell_type": "code",
   "execution_count": null,
   "id": "b788d789",
   "metadata": {},
   "outputs": [],
   "source": [
    "my_tuple = (1, 2, 3)\n",
    "length = len(my_tuple)\n",
    "print(length)  "
   ]
  },
  {
   "cell_type": "markdown",
   "id": "c9c915fa",
   "metadata": {},
   "source": [
    "13. sorted() used to sort the elements of a tuple in ascending order"
   ]
  },
  {
   "cell_type": "code",
   "execution_count": null,
   "id": "ff84c6dd",
   "metadata": {},
   "outputs": [],
   "source": [
    "my_tuple = (3, 1, 4, 1, 5, 9, 2, 6, 5)\n",
    "sorted_tuple = tuple(sorted(my_tuple))\n",
    "print(sorted_tuple)  "
   ]
  },
  {
   "cell_type": "markdown",
   "id": "981790f8",
   "metadata": {},
   "source": [
    "14. min() used to find the smallest elements in a tuple"
   ]
  },
  {
   "cell_type": "code",
   "execution_count": null,
   "id": "d397aa45",
   "metadata": {},
   "outputs": [],
   "source": [
    "my_tuple = (3, 1, 4, 1, 5, 9, 2, 6, 5)\n",
    "min_value = min(my_tuple)\n",
    "print(min_value)  "
   ]
  },
  {
   "cell_type": "markdown",
   "id": "3509697f",
   "metadata": {},
   "source": [
    " 15. max() used to find the largest elements in a tuple"
   ]
  },
  {
   "cell_type": "code",
   "execution_count": null,
   "id": "534d2364",
   "metadata": {},
   "outputs": [],
   "source": [
    "my_tuple = (3, 1, 4, 1, 5, 9, 2, 6, 5)\n",
    "max_value = max(my_tuple)\n",
    "print(max_value)  "
   ]
  },
  {
   "cell_type": "markdown",
   "id": "7dd9cf80",
   "metadata": {},
   "source": [
    "\n",
    "## Dictonaries Methods"
   ]
  },
  {
   "cell_type": "markdown",
   "id": "1b9399c6",
   "metadata": {},
   "source": [
    "16. get() returns the value of the item with the specified key.\n",
    "\n"
   ]
  },
  {
   "cell_type": "code",
   "execution_count": 27,
   "id": "3d4c8b15",
   "metadata": {},
   "outputs": [
    {
     "name": "stdout",
     "output_type": "stream",
     "text": [
      "key2\n"
     ]
    }
   ],
   "source": [
    "my_dict = {\"item1\": \"key1\", \"item2\": \"key2\", \"item3\": \"key3\"}\n",
    "\n",
    "x = my_dict.get(\"item2\")\n",
    "\n",
    "print(x)"
   ]
  },
  {
   "cell_type": "code",
   "execution_count": 16,
   "id": "400aca64",
   "metadata": {},
   "outputs": [
    {
     "name": "stdout",
     "output_type": "stream",
     "text": [
      "Mustang\n"
     ]
    }
   ],
   "source": [
    "# example\n",
    "\n",
    "car = {\n",
    "  \"brand\": \"Ford\",\n",
    "  \"model\": \"Mustang\",\n",
    "  \"year\": 1964\n",
    "}\n",
    "\n",
    "x = car.get(\"model\")\n",
    "\n",
    "print(x)"
   ]
  },
  {
   "cell_type": "markdown",
   "id": "c130653e",
   "metadata": {},
   "source": [
    "17. fromkeys() method returns a dictionary with the specified keys and the specified value."
   ]
  },
  {
   "cell_type": "code",
   "execution_count": 17,
   "id": "b8f36225",
   "metadata": {},
   "outputs": [
    {
     "name": "stdout",
     "output_type": "stream",
     "text": [
      "{'key1': 0, 'key2': 0, 'key3': 0}\n"
     ]
    }
   ],
   "source": [
    "#Create a dictionary with 3 keys, all with the value 0\n",
    "x = ('key1', 'key2', 'key3')\n",
    "y = 0\n",
    "\n",
    "thisdict = dict.fromkeys(x, y)\n",
    "\n",
    "print(thisdict)"
   ]
  },
  {
   "cell_type": "markdown",
   "id": "b238c1f2",
   "metadata": {},
   "source": [
    "18. update() -inserts the specified items to the dictionary. The specified items can be a dictionary, or an iterable object with key value pairs."
   ]
  },
  {
   "cell_type": "code",
   "execution_count": 26,
   "id": "bd5c90da",
   "metadata": {},
   "outputs": [
    {
     "name": "stdout",
     "output_type": "stream",
     "text": [
      "{'item1': 'key1', 'item2': 'key2', 'item3': 'key3', 'item4': 'key4'}\n"
     ]
    }
   ],
   "source": [
    "my_dict = {\"item1\": \"key1\", \"item2\": \"key2\", \"item3\": \"key3\"}\n",
    "\n",
    "my_dict.update({\"item4\": \"key4\"})\n",
    "\n",
    "print(my_dict)"
   ]
  },
  {
   "cell_type": "code",
   "execution_count": 18,
   "id": "ef77f488",
   "metadata": {},
   "outputs": [
    {
     "name": "stdout",
     "output_type": "stream",
     "text": [
      "{'brand': 'Ford', 'model': 'Mustang', 'year': 1964, 'color': 'White'}\n"
     ]
    }
   ],
   "source": [
    "# example\n",
    "\n",
    "car = {\n",
    "  \"brand\": \"Ford\",\n",
    "  \"model\": \"Mustang\",\n",
    "  \"year\": 1964\n",
    "}\n",
    "\n",
    "car.update({\"color\": \"White\"})\n",
    "\n",
    "print(car)"
   ]
  },
  {
   "cell_type": "code",
   "execution_count": null,
   "id": "c4f7c50b",
   "metadata": {},
   "outputs": [],
   "source": [
    "19. keys() method returns a view object. The view object contains the keys of the dictionary, as a list"
   ]
  },
  {
   "cell_type": "code",
   "execution_count": 25,
   "id": "baf45f5e",
   "metadata": {},
   "outputs": [
    {
     "name": "stdout",
     "output_type": "stream",
     "text": [
      "dict_keys(['item1', 'item2', 'item3'])\n"
     ]
    }
   ],
   "source": [
    "my_dict = {\"item1\": \"key1\", \"item2\": \"key2\", \"item3\": \"key3\"}\n",
    "\n",
    "x = my_dict.keys()\n",
    "\n",
    "print(x)"
   ]
  },
  {
   "cell_type": "code",
   "execution_count": 20,
   "id": "abfa9ca3",
   "metadata": {},
   "outputs": [
    {
     "name": "stdout",
     "output_type": "stream",
     "text": [
      "dict_keys(['brand', 'model', 'year'])\n"
     ]
    }
   ],
   "source": [
    "#example\n",
    "\n",
    "car = {\n",
    "  \"brand\": \"Ford\",\n",
    "  \"model\": \"Mustang\",\n",
    "  \"year\": 1964\n",
    "}\n",
    "\n",
    "x = car.keys()\n",
    "\n",
    "print(x)\n"
   ]
  },
  {
   "cell_type": "markdown",
   "id": "c76252e6",
   "metadata": {},
   "source": [
    "20. popitem() method removes the item that was last inserted into the dictionary."
   ]
  },
  {
   "cell_type": "code",
   "execution_count": 24,
   "id": "399ca04a",
   "metadata": {},
   "outputs": [
    {
     "name": "stdout",
     "output_type": "stream",
     "text": [
      "('item3', 'key3')\n"
     ]
    }
   ],
   "source": [
    "my_dict = {\"item1\": \"key1\", \"item2\": \"key2\", \"item3\": \"key3\"}\n",
    "\n",
    "x = my_dict.popitem()\n",
    "\n",
    "print(x)"
   ]
  },
  {
   "cell_type": "code",
   "execution_count": 21,
   "id": "b0007551",
   "metadata": {},
   "outputs": [
    {
     "name": "stdout",
     "output_type": "stream",
     "text": [
      "('year', 1964)\n"
     ]
    }
   ],
   "source": [
    "# example\n",
    "car = {\n",
    "  \"brand\": \"Ford\",\n",
    "  \"model\": \"Mustang\",\n",
    "  \"year\": 1964\n",
    "}\n",
    "\n",
    "x = car.popitem()\n",
    "\n",
    "print(x)"
   ]
  },
  {
   "cell_type": "code",
   "execution_count": null,
   "id": "64e8cb37",
   "metadata": {},
   "outputs": [],
   "source": []
  }
 ],
 "metadata": {
  "kernelspec": {
   "display_name": "Python 3 (ipykernel)",
   "language": "python",
   "name": "python3"
  },
  "language_info": {
   "codemirror_mode": {
    "name": "ipython",
    "version": 3
   },
   "file_extension": ".py",
   "mimetype": "text/x-python",
   "name": "python",
   "nbconvert_exporter": "python",
   "pygments_lexer": "ipython3",
   "version": "3.11.4"
  }
 },
 "nbformat": 4,
 "nbformat_minor": 5
}
