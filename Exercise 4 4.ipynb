{
 "cells": [
  {
   "cell_type": "markdown",
   "id": "2e912eef",
   "metadata": {},
   "source": [
    "1. Write a program to produce the following output using for loop\n",
    "+----+\n",
    "\\ /\n",
    "/ \\\n",
    "\\ /\n",
    "/ \\\n",
    "\\ /\n",
    "/ \\\n",
    "+----+"
   ]
  },
  {
   "cell_type": "code",
   "execution_count": 2,
   "id": "892da22a",
   "metadata": {
    "scrolled": true
   },
   "outputs": [
    {
     "name": "stdout",
     "output_type": "stream",
     "text": [
      "+----+\n",
      "\\ /\n",
      "/ \\\n",
      "\\ /\n",
      "/ \\\n",
      "\\ /\n",
      "/ \\\n",
      "+----+\n"
     ]
    }
   ],
   "source": [
    "for i in range(8):\n",
    "        if i == 0 or i == 7:\n",
    "            print(\"+----+\")\n",
    "        elif i % 2 == 1:\n",
    "            print(\"\\\\ /\")\n",
    "        else:\n",
    "            print(\"/ \\\\\")\n"
   ]
  },
  {
   "cell_type": "markdown",
   "id": "7ee6f034",
   "metadata": {},
   "source": [
    "2. Write a program to produce the following output using for loop\n",
    "**********\n",
    "**********\n",
    "**********\n",
    "**********\n",
    "**********"
   ]
  },
  {
   "cell_type": "code",
   "execution_count": 3,
   "id": "1b560063",
   "metadata": {},
   "outputs": [
    {
     "name": "stdout",
     "output_type": "stream",
     "text": [
      "**********\n",
      "**********\n",
      "**********\n",
      "**********\n",
      "**********\n"
     ]
    }
   ],
   "source": [
    "for i in range(5):\n",
    "        print(\"**********\")"
   ]
  },
  {
   "attachments": {
    "tech4dev4.4.png": {
     "image/png": "[encoded data removed]"
    }
   },
   "cell_type": "markdown",
   "id": "a774d218",
   "metadata": {},
   "source": [
    "3. Complete the code for the following for loop:\n",
    "for in range(1,7):\n",
    "      //your code here\n",
    "so that it prints the following numbers, one per line:\n",
    "\n",
    "![tech4dev4.4.png](attachment:tech4dev4.4.png)\n",
    "\n",
    "\n"
   ]
  },
  {
   "cell_type": "code",
   "execution_count": 1,
   "id": "f26d2057",
   "metadata": {},
   "outputs": [
    {
     "name": "stdout",
     "output_type": "stream",
     "text": [
      " 1    1    2    3    4    5    6\n",
      " 2    2    4    6    8   10   12\n",
      " 3    4   10   18   28   40   54\n",
      " 4    0    6   14   24   36   50\n",
      " 5   -4   -6   -6   -4    0    6\n",
      " 6  118   -1  440   97-16710235395\n"
     ]
    }
   ],
   "source": [
    "for i in range(1, 7):\n",
    "    for j in range(7):\n",
    "        if j == 0:\n",
    "            print(f\"{i:2}\", end=\"\")\n",
    "        else:\n",
    "            if i == 1:\n",
    "                print(f\"{j * 1:5}\", end=\"\")\n",
    "            elif i == 2:\n",
    "                print(f\"{j * 2:5}\", end=\"\")\n",
    "            elif i == 3:\n",
    "                print(f\"{j * (j + 3):5}\", end=\"\")\n",
    "            elif i == 4:\n",
    "                print(f\"{(j - 1) * (j + 4):5}\", end=\"\")\n",
    "            elif i == 5:\n",
    "                print(f\"{j * (j - 5):5}\", end=\"\")\n",
    "            elif i == 6:\n",
    "                print(f\"{97 + (-7) ** j * (j - 4):5}\", end=\"\")\n",
    "    print()\n"
   ]
  },
  {
   "cell_type": "markdown",
   "id": "ceeff2aa",
   "metadata": {},
   "source": [
    "4. Write a program to produce the following output using for loops. Then \n",
    "use a class constant to make it possible to change the number of lines in \n",
    "the figure.\n",
    "1\n",
    "22\n",
    "333\n",
    "4444\n",
    "55555\n",
    "666666\n",
    "7777777"
   ]
  },
  {
   "cell_type": "code",
   "execution_count": 8,
   "id": "e2014b9d",
   "metadata": {},
   "outputs": [
    {
     "name": "stdout",
     "output_type": "stream",
     "text": [
      "\n",
      "1\n",
      "22\n",
      "333\n",
      "4444\n",
      "55555\n",
      "666666\n",
      "7777777\n"
     ]
    }
   ],
   "source": [
    "for i in range(8):\n",
    "    for j in range(i):\n",
    "        print(i, end = \"\")\n",
    "    print()"
   ]
  },
  {
   "cell_type": "markdown",
   "id": "49cae5ff",
   "metadata": {},
   "source": [
    "5. Write a method named pay that accepts two parameters: a real number \n",
    "for a TA's salary, and an integer for the number of hours the TA worked \n",
    "this week. The method should return how much money to pay the TA. \n",
    "For example, the call \n",
    "pay(5.50, 6)\n",
    "should return \n",
    "33.0. \n",
    "The TA should receive \"overtime\" pay of 1 ½ normal salary for any hours \n",
    "above 8. For example, the call pay(4.00, 11) should return (4.00 * 8) + (6.00 * 3) or 50.0."
   ]
  },
  {
   "cell_type": "code",
   "execution_count": 16,
   "id": "62f2e8b4",
   "metadata": {},
   "outputs": [
    {
     "name": "stdout",
     "output_type": "stream",
     "text": [
      "33.0\n",
      "50.0\n"
     ]
    }
   ],
   "source": [
    "def pay (hourly_rate, hour_worked):\n",
    "    normal_hour = 8\n",
    "    overtime_rate = 1.5\n",
    "    \n",
    "    if hour_worked <= normal_hour:\n",
    "        salary = hourly_rate * hour_worked\n",
    "    else:\n",
    "        salary = (hourly_rate * normal_hour + (hourly_rate * overtime_rate * (hour_worked - normal_hour)))\n",
    "    print(salary)\n",
    "pay(5.5, 6)\n",
    "pay(4,11)"
   ]
  },
  {
   "cell_type": "markdown",
   "id": "3ebd14e5",
   "metadata": {},
   "source": [
    "6. Consider the following method for converting milliseconds into days:\n",
    "// converts milliseconds to days\n",
    "def toDays(millis):\n",
    " return millis / 1000.0 / 60.0 / 60.0 / 24.0\n",
    " \n",
    "Write a similar method named area that takes as a parameter the radius of \n",
    "a circle and that returns the area of the circle. For example, the call \n",
    "\n",
    "area(2.0);\n",
    "\n",
    "should return \n",
    "\n",
    "12.566370614359172. \n",
    "\n",
    "Recall that area can be computed as π times the radius squared and that \n",
    "Python has a constant called math.pi"
   ]
  },
  {
   "cell_type": "code",
   "execution_count": 18,
   "id": "f869f64b",
   "metadata": {},
   "outputs": [
    {
     "name": "stdout",
     "output_type": "stream",
     "text": [
      "12.566370614359172\n"
     ]
    }
   ],
   "source": [
    "import math\n",
    "\n",
    "def area(radius):\n",
    "    circle_area = math.pi * radius**2\n",
    "    print(circle_area)\n",
    "\n",
    "area(2)"
   ]
  },
  {
   "cell_type": "markdown",
   "id": "838beaca",
   "metadata": {},
   "source": [
    "7. Copy and paste the following code into pythons IDLE script \n",
    "environment.\n",
    " low = 1\n",
    " high = 1001\n",
    " sum = 0\n",
    " for i in range(low,high):\n",
    " sum += i\n",
    " \n",
    " print(\"sum = \" , sum)\n",
    " \n",
    "Modify the code to use a input to prompt the user for the values of low\n",
    "and high. Below is a sample execution in which the user asks for the same \n",
    "values as in the original program (1 through 1000):\n",
    "low? 1\n",
    "high? 1001\n",
    "sum = 500500\n",
    "Below is an execution with different values for low and high:\n",
    "low? 300\n",
    "high? 5298\n",
    "sum = 13986903\n",
    "You should exactly reproduce this format"
   ]
  },
  {
   "cell_type": "code",
   "execution_count": 24,
   "id": "d39ccd45",
   "metadata": {},
   "outputs": [
    {
     "name": "stdout",
     "output_type": "stream",
     "text": [
      "low? 300\n",
      "high? 5298\n",
      "sum =  13986903\n"
     ]
    }
   ],
   "source": [
    "low = int(input(\"low? \"))\n",
    "high = int(input(\"high? \"))\n",
    "sum = 0\n",
    "for i in range(low, high):\n",
    "    sum += i\n",
    "\n",
    "print(\"sum = \", sum)\n"
   ]
  },
  {
   "cell_type": "markdown",
   "id": "abce2b5e",
   "metadata": {},
   "source": [
    "8. Write a program using while loop that prompts the user for numbers until \n",
    "the user types 0, then outputs their sum"
   ]
  },
  {
   "cell_type": "code",
   "execution_count": 29,
   "id": "1c1d3d24",
   "metadata": {},
   "outputs": [
    {
     "name": "stdout",
     "output_type": "stream",
     "text": [
      "Enter a number: 8\n",
      "Enter a number: 7\n",
      "Enter a number: 9\n",
      "Enter a number: 5\n",
      "Enter a number: 0\n",
      "The sum of the numbers you entered is 29.\n"
     ]
    }
   ],
   "source": [
    "type = 0\n",
    "num = int(input(\"Enter a number: \"))\n",
    "while num != 0:\n",
    "    type += num\n",
    "    num = int(input(\"Enter a number: \"))\n",
    "print(f\"The sum of the numbers you entered is {type}.\")\n"
   ]
  },
  {
   "cell_type": "markdown",
   "id": "2764e0d0",
   "metadata": {},
   "source": [
    "9. Write a program using while loop that prompts the user for numbers until \n",
    "the user types -1, then outputs their sum."
   ]
  },
  {
   "cell_type": "code",
   "execution_count": 28,
   "id": "a7ee98f0",
   "metadata": {},
   "outputs": [
    {
     "name": "stdout",
     "output_type": "stream",
     "text": [
      "Enter a number: 7\n",
      "Enter a number: 9\n",
      "Enter a number: 5\n",
      "Enter a number: -1\n",
      "The sum of the numbers you entered is 20\n"
     ]
    }
   ],
   "source": [
    "type = -1\n",
    "num = int(input(\"Enter a number: \"))\n",
    "while num != -1:\n",
    "    type += num\n",
    "    num = int(input(\"Enter a number: \"))\n",
    "print(f\"The sum of the numbers you entered is {type}\")\n"
   ]
  },
  {
   "cell_type": "markdown",
   "id": "85539dad",
   "metadata": {},
   "source": [
    "10.Write a method named repl that accepts a String and a number of \n",
    "repetitions as parameters and returns the String concatenated that many \n",
    "times. For example, the call repl(\"hello\", 3) returns \"hellohellohello\". \n",
    "If the number of repetitions is 0 or less, an empty string is returned.\n"
   ]
  },
  {
   "cell_type": "code",
   "execution_count": 30,
   "id": "bacac664",
   "metadata": {},
   "outputs": [],
   "source": [
    "def repl(string, n):\n",
    "    if n <= 0:\n",
    "        return \"\"\n",
    "    else:\n",
    "        return string * n\n"
   ]
  },
  {
   "cell_type": "code",
   "execution_count": 31,
   "id": "7ab41af4",
   "metadata": {},
   "outputs": [
    {
     "data": {
      "text/plain": [
       "'tech4devtech4devtech4devtech4dev'"
      ]
     },
     "execution_count": 31,
     "metadata": {},
     "output_type": "execute_result"
    }
   ],
   "source": [
    " repl(\"tech4dev\", 4)\n",
    "    "
   ]
  },
  {
   "cell_type": "markdown",
   "id": "c8fe7c6c",
   "metadata": {},
   "source": [
    "11.Write a method called printRange that accepts two integers as arguments and \n",
    "prints the sequence of numbers between the two arguments, separated by \n",
    "spaces. Print an increasing sequence if the first argument is smaller than \n",
    "the second; otherwise, print a decreasing sequence. If the two numbers \n",
    "are the same, that number should be printed by itself. Here are some \n",
    "sample calls to printRange:\n",
    "\n",
    "printRange(2, 7)\n",
    "printRange(19, 11)\n",
    "printRange(5, 5)\n",
    "\n",
    "The output produced should be the following: \n",
    "2 3 4 5 6 7 \n",
    "19 18 17 16 15 14 13 12 11 \n",
    "5"
   ]
  },
  {
   "cell_type": "code",
   "execution_count": 1,
   "id": "988e5946",
   "metadata": {},
   "outputs": [],
   "source": [
    "def printRange(n1, n2):\n",
    "    if n1 == n2:\n",
    "        print(n1)\n",
    "    elif n1 < n2:\n",
    "        for i in range(n1, n2+1):\n",
    "            print(i, end=\" \")\n",
    "    else:\n",
    "        for i in range(n1, n2-1, -1):\n",
    "            print(i, end=\" \")\n",
    "    print()"
   ]
  },
  {
   "cell_type": "code",
   "execution_count": 2,
   "id": "9fa5a2ef",
   "metadata": {},
   "outputs": [
    {
     "name": "stdout",
     "output_type": "stream",
     "text": [
      "2 3 4 5 6 7 \n"
     ]
    }
   ],
   "source": [
    "printRange(2, 7)"
   ]
  },
  {
   "cell_type": "code",
   "execution_count": 3,
   "id": "f65361c9",
   "metadata": {},
   "outputs": [
    {
     "name": "stdout",
     "output_type": "stream",
     "text": [
      "19 18 17 16 15 14 13 12 11 \n"
     ]
    }
   ],
   "source": [
    "printRange(19, 11)"
   ]
  },
  {
   "cell_type": "code",
   "execution_count": 4,
   "id": "795f664e",
   "metadata": {},
   "outputs": [
    {
     "name": "stdout",
     "output_type": "stream",
     "text": [
      "5\n",
      "\n"
     ]
    }
   ],
   "source": [
    "printRange(5, 5)"
   ]
  },
  {
   "cell_type": "markdown",
   "id": "6c39f382",
   "metadata": {},
   "source": [
    "12.Write a method named smallestLargest that asks the user to enter numbers, \n",
    "then prints the smallest and largest of all the numbers typed in by the \n",
    "user. You may assume the user enters a valid number greater than 0 for \n",
    "the number of numbers to read. Here is an example dialogue: \n",
    "How many numbers do you want to enter? 4\n",
    "Number 1: 5\n",
    "Number 2: 11\n",
    "Number 3: -2\n",
    "Number 4: 3\n",
    "Smallest = -2\n",
    "Largest = 11"
   ]
  },
  {
   "cell_type": "code",
   "execution_count": 1,
   "id": "ba180a06",
   "metadata": {},
   "outputs": [],
   "source": [
    "def smallestLargest():\n",
    "    n = int(input(\"How many numbers do you want to enter? \"))\n",
    "    nums = []\n",
    "    for i in range(n):\n",
    "        num = int(input(f\"Number {i+1}: \"))\n",
    "        nums.append(num)\n",
    "    smallest = min(nums)\n",
    "    largest = max(nums)\n",
    "    print(f\"Smallest = {smallest}\")\n",
    "    print(f\"Largest = {largest}\")"
   ]
  },
  {
   "cell_type": "code",
   "execution_count": 2,
   "id": "c4a43407",
   "metadata": {
    "scrolled": true
   },
   "outputs": [
    {
     "name": "stdout",
     "output_type": "stream",
     "text": [
      "How many numbers do you want to enter? 4\n",
      "Number 1: 1\n",
      "Number 2: 11\n",
      "Number 3: -2\n",
      "Number 4: 3\n",
      "Smallest = -2\n",
      "Largest = 11\n"
     ]
    }
   ],
   "source": [
    "smallestLargest()"
   ]
  },
  {
   "cell_type": "markdown",
   "id": "7ca84733",
   "metadata": {},
   "source": [
    "13.Write a method called printAverage that uses a sentinel loop to \n",
    "repeatedly prompt the user for numbers. Once the user types any number \n",
    "less than zero, the method should display the average of all nonnegative \n",
    "numbers typed. Display the average as a double. Here is a sample \n",
    "dialogue with the user:\n",
    "Type a number: 7\n",
    "Type a number: 4\n",
    "Type a number: 16\n",
    "Type a number: –4\n",
    "Average was 9.0\n",
    "If the first number that the user types is negative, do not print an average:\n",
    "Type a number: –2"
   ]
  },
  {
   "cell_type": "code",
   "execution_count": 15,
   "id": "945aebb3",
   "metadata": {},
   "outputs": [],
   "source": [
    "def printAverage():\n",
    "    sum = 0\n",
    "    count = 0\n",
    "    num = 0\n",
    "    while True:\n",
    "        num = int(input(\"Type a number: \"))\n",
    "        if num < 0:\n",
    "            break\n",
    "        sum += num\n",
    "        count += 1\n",
    "    if count > 0:\n",
    "        avg = sum / count\n",
    "        print(f\"Average was {avg:.1f}\")\n"
   ]
  },
  {
   "cell_type": "code",
   "execution_count": 16,
   "id": "95202449",
   "metadata": {
    "scrolled": true
   },
   "outputs": [
    {
     "name": "stdout",
     "output_type": "stream",
     "text": [
      "Type a number: 7\n",
      "Type a number: 4\n",
      "Type a number: 16\n",
      "Type a number: -4\n",
      "Average was 9.0\n"
     ]
    }
   ],
   "source": [
    "printAverage()"
   ]
  },
  {
   "cell_type": "code",
   "execution_count": 17,
   "id": "2c707f7b",
   "metadata": {
    "scrolled": true
   },
   "outputs": [
    {
     "name": "stdout",
     "output_type": "stream",
     "text": [
      "Type a number: -3\n"
     ]
    }
   ],
   "source": [
    "printAverage()"
   ]
  },
  {
   "cell_type": "markdown",
   "id": "0670dd32",
   "metadata": {},
   "source": [
    "14.Write a method named numUnique that takes three integers as parameters \n",
    "and returns the number of unique integers among the three. For example, \n",
    "the call numUnique(18, 3, 4) should return 3 because the parameters \n",
    "have three different values. By contrast, the call numUnique(6, 7, 6)\n",
    "should return 2 because there are only two unique numbers among the \n",
    "three parameters: 6 and 7"
   ]
  },
  {
   "cell_type": "code",
   "execution_count": 18,
   "id": "d4d23d1d",
   "metadata": {},
   "outputs": [],
   "source": [
    "def numUnique(a, b, c):\n",
    "    if a == b == c:\n",
    "        return 1\n",
    "    elif a == b or b == c or a == c:\n",
    "        return 2\n",
    "    else:\n",
    "        return 3\n"
   ]
  },
  {
   "cell_type": "code",
   "execution_count": 12,
   "id": "41d43f50",
   "metadata": {},
   "outputs": [
    {
     "data": {
      "text/plain": [
       "3"
      ]
     },
     "execution_count": 12,
     "metadata": {},
     "output_type": "execute_result"
    }
   ],
   "source": [
    "numUnique(18, 3, 4)\n"
   ]
  },
  {
   "cell_type": "code",
   "execution_count": 13,
   "id": "c383445d",
   "metadata": {},
   "outputs": [
    {
     "data": {
      "text/plain": [
       "1"
      ]
     },
     "execution_count": 13,
     "metadata": {},
     "output_type": "execute_result"
    }
   ],
   "source": [
    "numUnique(2, 2, 2)"
   ]
  },
  {
   "cell_type": "code",
   "execution_count": 14,
   "id": "5acf19ec",
   "metadata": {},
   "outputs": [
    {
     "data": {
      "text/plain": [
       "2"
      ]
     },
     "execution_count": 14,
     "metadata": {},
     "output_type": "execute_result"
    }
   ],
   "source": [
    "numUnique(2, 3, 2)"
   ]
  },
  {
   "cell_type": "markdown",
   "id": "51387524",
   "metadata": {},
   "source": [
    "15.A Random object generates pseudo-random numbers. Find out how to \n",
    "use the Random class and write a program that simulates rolling of two 6-\n",
    "sided dice until their combined result comes up as 7. One possible output \n",
    "can be seen as below:\n",
    " 2 + 4 = 6\n",
    "3 + 5 = 8\n",
    "5 + 6 = 11\n",
    "1 + 1 = 2\n",
    "4 + 3 = 7\n",
    "You won after 5 tries"
   ]
  },
  {
   "cell_type": "code",
   "execution_count": null,
   "id": "c98bf917",
   "metadata": {},
   "outputs": [],
   "source": [
    "import random\n",
    "\n",
    "count = 0\n",
    "while True:\n",
    "    count += 1\n",
    "    dice1 = random.randint(1, 6)\n",
    "    dice2 = random.randint(1, 6)\n",
    "    total = dice1 + dice2\n",
    "    print(f\"{dice1} + {dice2} = {total}\")\n",
    "    if total == 7:\n",
    "        print(f\"You won after {count} tries\")\n",
    "        break\n"
   ]
  },
  {
   "cell_type": "code",
   "execution_count": null,
   "id": "9f6427ba",
   "metadata": {},
   "outputs": [],
   "source": [
    "5 + 4 = 9\n",
    "3 + 1 = 4\n",
    "6 + 1 = 7\n",
    "You won after 3 tries\n"
   ]
  }
 ],
 "metadata": {
  "kernelspec": {
   "display_name": "Python 3 (ipykernel)",
   "language": "python",
   "name": "python3"
  },
  "language_info": {
   "codemirror_mode": {
    "name": "ipython",
    "version": 3
   },
   "file_extension": ".py",
   "mimetype": "text/x-python",
   "name": "python",
   "nbconvert_exporter": "python",
   "pygments_lexer": "ipython3",
   "version": "3.11.4"
  }
 },
 "nbformat": 4,
 "nbformat_minor": 5
}
