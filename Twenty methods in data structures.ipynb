{
 "cells": [
  {
   "cell_type": "markdown",
   "id": "ca58bf06-c77d-448d-a5d7-b7928e6912e8",
   "metadata": {},
   "source": [
    "For each data structure, there will be six examples of methods, except for tuples, which only contain two methods because they are immutable.</br>This will make 20 methods in total."
   ]
  },
  {
   "cell_type": "markdown",
   "id": "90810773-5658-4397-8bb5-8c7e40348dee",
   "metadata": {},
   "source": [
    "***1. Lists***"
   ]
  },
  {
   "cell_type": "code",
   "execution_count": 12,
   "id": "f653c28e-48d4-406f-85d9-2e943d35553f",
   "metadata": {},
   "outputs": [
    {
     "name": "stdout",
     "output_type": "stream",
     "text": [
      "To sort the elements in ascending order: ['blue', 'green', 'indigo', 'orange', 'red', 'violet', 'yellow']\n",
      "\n",
      "\n",
      "To sort the elements in descending order : ['yellow', 'violet', 'red', 'orange', 'indigo', 'green', 'blue']\n"
     ]
    }
   ],
   "source": [
    "#sort (): which sorts the elements of the list in ascending order by default.\n",
    "\n",
    "colors = ['red', 'orange', 'yellow', 'green', 'blue', 'indigo', 'violet']\n",
    "\n",
    "#to sort in ascending order\n",
    "colors.sort()\n",
    "print(f\"To sort the elements in ascending order: {colors}\\n\\n\")\n",
    "\n",
    "#to sort in descending order\n",
    "colors.sort (reverse=True)\n",
    "print(f\"To sort the elements in descending order : {colors}\")"
   ]
  },
  {
   "cell_type": "code",
   "execution_count": 13,
   "id": "1e8747ba-c772-44e5-9f3b-7a88c3998530",
   "metadata": {},
   "outputs": [
    {
     "name": "stdout",
     "output_type": "stream",
     "text": [
      "The list before adding any other element : ['red', 'orange', 'yellow', 'green', 'blue', 'indigo', 'violet']\n",
      "The list after adding 'Turquoise' : ['red', 'orange', 'yellow', 'green', 'blue', 'indigo', 'violet', 'Turquoise']\n",
      "The list after adding 'Gold' : ['red', 'orange', 'yellow', 'green', 'blue', 'indigo', 'violet', 'Turquoise', 'Gold']\n",
      "The list after adding 'Magenta' : ['red', 'orange', 'yellow', 'green', 'blue', 'indigo', 'violet', 'Turquoise', 'Gold', 'Magenta']\n"
     ]
    }
   ],
   "source": [
    "#append(x): which adds an element x to the end of the list.\n",
    "\n",
    "colors = ['red', 'orange', 'yellow', 'green', 'blue', 'indigo', 'violet']\n",
    "print(f\"The list before adding any other element : {colors}\")\n",
    "colors.append(\"Turquoise\")\n",
    "print(f\"The list after adding 'Turquoise' : {colors}\")\n",
    "\n",
    "colors.append(\"Gold\")\n",
    "print(f\"The list after adding 'Gold' : {colors}\")\n",
    "\n",
    "colors.append(\"Magenta\")\n",
    "print(f\"The list after adding 'Magenta' : {colors}\")"
   ]
  },
  {
   "cell_type": "code",
   "execution_count": 14,
   "id": "eb41e9d8-f8f9-43c3-b8d3-2fb618a3d9f9",
   "metadata": {},
   "outputs": [
    {
     "name": "stdout",
     "output_type": "stream",
     "text": [
      "extended list : ['red', 'orange', 'yellow', 'green', 'dog', 'hamster', 'turtle']\n"
     ]
    }
   ],
   "source": [
    "#extend(iterable): which adds all the items from the second list to the end of the list that calls the method.\n",
    "colors = ['red', 'orange', 'yellow', 'green']\n",
    "pets = ['dog', 'hamster', 'turtle']\n",
    "colors.extend(pets)\n",
    "print(f\"extended list : {colors}\")"
   ]
  },
  {
   "cell_type": "code",
   "execution_count": 15,
   "id": "9a9b8ecb-4135-4a30-8cf8-a5f7470747b6",
   "metadata": {},
   "outputs": [
    {
     "name": "stdout",
     "output_type": "stream",
     "text": [
      "copied list : ['red', 'orange', 'yellow', 'green', 'blue', 'indigo', 'violet']\n"
     ]
    }
   ],
   "source": [
    "#copy(): which returns a shallow copy of the list.\n",
    "colors = ['red', 'orange', 'yellow', 'green', 'blue', 'indigo', 'violet']\n",
    "\n",
    "colors_copy = colors.copy()\n",
    "print(f\"copied list : {colors_copy}\")"
   ]
  },
  {
   "cell_type": "code",
   "execution_count": 16,
   "id": "b12d3eb7-35c2-4376-af16-694fe888c319",
   "metadata": {},
   "outputs": [
    {
     "name": "stdout",
     "output_type": "stream",
     "text": [
      "the removed element : yellow\n",
      "the list after removing 'yellow' is : ['red', 'orange', 'green', 'blue', 'indigo', 'violet']\n"
     ]
    }
   ],
   "source": [
    "#pop (i): which removes and returns the element at the index i in the list.\n",
    "\n",
    "colors = ['red', 'orange', 'yellow', 'green', 'blue', 'indigo', 'violet']\n",
    " \n",
    "removed_element = colors.pop(2)\n",
    "print(f\"the removed element : {removed_element}\")\n",
    "print(f\"the list after removing '{removed_element}' is : {colors}\")"
   ]
  },
  {
   "cell_type": "code",
   "execution_count": 17,
   "id": "61f83b32-3eb3-4c51-8a13-1e6bd7e57215",
   "metadata": {},
   "outputs": [
    {
     "name": "stdout",
     "output_type": "stream",
     "text": [
      "the list after reversing the order of its colors is : ['violet', 'indigo', 'blue', 'green', 'yellow', 'orange', 'red']\n"
     ]
    }
   ],
   "source": [
    "#reverse () : which reverses the order of the elements in the list.\n",
    "colors = ['red', 'orange', 'yellow', 'green', 'blue', 'indigo', 'violet']\n",
    "\n",
    "colors.reverse ()\n",
    "print(f\"the list after reversing the order of its colors is : {colors}\")"
   ]
  },
  {
   "cell_type": "markdown",
   "id": "7de213f3-90ad-445b-b6b5-9289aafde448",
   "metadata": {},
   "source": [
    "***2. Sets***"
   ]
  },
  {
   "cell_type": "code",
   "execution_count": 20,
   "id": "1dec9c62-aed9-4962-ab71-31a02e56b38e",
   "metadata": {},
   "outputs": [
    {
     "name": "stdout",
     "output_type": "stream",
     "text": [
      "The intersection of the two sets is : {'dog'}\n"
     ]
    }
   ],
   "source": [
    "#intersection (s): which returns a new set that is the intersection of the set and another set s. \n",
    "animal1 = {'cat', 'dog', 'bird'}\n",
    "animal2 = {'dog', 'hamster', 'turtle'}\n",
    "intersection_ = animal2.intersection(animal1)\n",
    "\n",
    "print(f\"The intersection of the two sets is : {intersection_}\")"
   ]
  },
  {
   "cell_type": "code",
   "execution_count": 21,
   "id": "51724fc7-120c-4714-9d1f-a6f72fd26c26",
   "metadata": {},
   "outputs": [
    {
     "name": "stdout",
     "output_type": "stream",
     "text": [
      "The union of the two sets is : {'bird', 'hamster', 'dog', 'cat', 'turtle'}\n"
     ]
    }
   ],
   "source": [
    "#union(s): which returns a new set that is the union of the set and another set s.\n",
    "animal1 = {'cat', 'dog', 'bird'}\n",
    "animal2 = {'dog', 'hamster', 'turtle'}\n",
    "union_= animal1.union(animal2)\n",
    "print(f\"The union of the two sets is : {union_}\")"
   ]
  },
  {
   "cell_type": "code",
   "execution_count": 22,
   "id": "44cf9de5-e6f2-4896-9c41-c7f30d892639",
   "metadata": {},
   "outputs": [
    {
     "name": "stdout",
     "output_type": "stream",
     "text": [
      "The set after adding 'fish' : {'bird', 'fish', 'hamster', 'dog', 'cat'}\n"
     ]
    }
   ],
   "source": [
    "#add (x): which adds an element x to the set. If the element is already present, it does nothing.\n",
    "animals = {'cat', 'dog', 'bird','hamster'}\n",
    "animals.add('fish')\n",
    "print(f\"The set after adding 'fish' : {animals}\")"
   ]
  },
  {
   "cell_type": "code",
   "execution_count": 23,
   "id": "298775cf-5b61-4ae4-922d-f5f5de3b1cd8",
   "metadata": {},
   "outputs": [
    {
     "name": "stdout",
     "output_type": "stream",
     "text": [
      "The difference between the two sets is : {'bird', 'cat'}\n"
     ]
    }
   ],
   "source": [
    "#difference (s): which returns a new set that is the difference of the set and another set s. \n",
    "animal1 = {'cat', 'dog', 'bird'}\n",
    "animal2 = {'dog', 'hamster', 'turtle'}\n",
    "difference_= animal1.difference(animal2)\n",
    "\n",
    "print(f\"The difference between the two sets is : {difference_}\")"
   ]
  },
  {
   "cell_type": "code",
   "execution_count": 24,
   "id": "2de37103-f6ba-4068-9c6a-36057f769d87",
   "metadata": {},
   "outputs": [
    {
     "name": "stdout",
     "output_type": "stream",
     "text": [
      "The set after removing 'dog' is {'cat', 'hamster', 'bird'}\n"
     ]
    }
   ],
   "source": [
    "#remove (x): which removes an element x from the set.\n",
    "animals = {'cat', 'dog', 'bird','hamster'}\n",
    "animals.remove('dog')\n",
    "print(f\"The set after removing 'dog' is {animals}\")"
   ]
  },
  {
   "cell_type": "code",
   "execution_count": 25,
   "id": "a001e968-eb19-473b-8d19-a5d7427d2bc5",
   "metadata": {},
   "outputs": [
    {
     "name": "stdout",
     "output_type": "stream",
     "text": [
      "Is animal1 a subest or animal2 ? : True\n"
     ]
    }
   ],
   "source": [
    "#issubset(other): This method returns True if the set is a subset of the other set.\n",
    "animal1 = {'cat', 'dog', 'bird'}\n",
    "animal2 = {'dog','hamster','bird', 'turtle','cat','panda','dolphin'}\n",
    "\n",
    "response = animal1.issubset(animal2)\n",
    "\n",
    "print(f\"Is animal1 a subest or animal2 ? : {response}\")"
   ]
  },
  {
   "cell_type": "markdown",
   "id": "06fa2348-5a38-4137-b6d5-2aac0b8f0552",
   "metadata": {},
   "source": [
    "***3. Dictionaries***"
   ]
  },
  {
   "cell_type": "code",
   "execution_count": 26,
   "id": "4df3bc8e-846d-4486-af26-a8c311f4b580",
   "metadata": {},
   "outputs": [
    {
     "name": "stdout",
     "output_type": "stream",
     "text": [
      "dict_values(['alisha', 32, 'Spain', 'Barcelona'])\n"
     ]
    }
   ],
   "source": [
    "#values(): which returns a view object that contains all the values in the dictionary.\n",
    "person = {\"name\": \"alisha\", \"age\": 32,\"country\":\"Spain\",\"city\": \"Barcelona\"}\n",
    "\n",
    "# getting the values\n",
    "values = person.values()\n",
    "\n",
    "# printing the values\n",
    "print(values)"
   ]
  },
  {
   "cell_type": "code",
   "execution_count": 27,
   "id": "eaa0cd4a-7dc3-4b19-8ad2-496f60c85bb2",
   "metadata": {},
   "outputs": [
    {
     "name": "stdout",
     "output_type": "stream",
     "text": [
      "dict_keys(['name', 'age', 'country', 'city'])\n"
     ]
    }
   ],
   "source": [
    "#keys(): which returns a view object that contains the keys of the dictionary as a list.\n",
    "\n",
    "person = {\"name\": \"alisha\", \"age\": 32,\"country\":\"Spain\",\"city\": \"Barcelona\"}\n",
    "\n",
    "# getting the keys\n",
    "keys = person.keys()\n",
    "\n",
    "# printing the keys\n",
    "print(keys) "
   ]
  },
  {
   "cell_type": "code",
   "execution_count": 29,
   "id": "d4459c22-5d24-4ace-a759-d5f9ff9073c8",
   "metadata": {},
   "outputs": [
    {
     "name": "stdout",
     "output_type": "stream",
     "text": [
      "Before the update : {'name': 'alisha', 'age': 32, 'country': 'Spain', 'city': 'Barcelona'}\n",
      "\n",
      "After the update : {'name': 'alisha', 'age': 26, 'country': 'France', 'city': 'Paris'}\n"
     ]
    }
   ],
   "source": [
    "#update(obj): Which updates the dictionary with the key-value pairs from another dictionary or an iterable of pairs.\n",
    "\n",
    "person = {\"name\": \"alisha\", \"age\": 32,\"country\":\"Spain\",\"city\": \"Barcelona\"}\n",
    "print(f\"Before the update : {person}\\n\")\n",
    "\n",
    "person.update({\"age\": 26, \"country\": \"France\",\"city\": \"Paris\"})\n",
    "print(f\"After the update : {person}\") "
   ]
  },
  {
   "cell_type": "code",
   "execution_count": 30,
   "id": "5a9dc671-797b-4af0-a6e0-a249cac185f6",
   "metadata": {},
   "outputs": [
    {
     "name": "stdout",
     "output_type": "stream",
     "text": [
      "Spain\n",
      "Data scientist\n"
     ]
    }
   ],
   "source": [
    "#get(key, default): which returns the value associated with the key, or the default value if the key is not in the dictionary.\n",
    "\n",
    "person = {\"name\": \"alisha\", \"age\": 32,\"country\":\"Spain\",\"city\": \"Barcelona\"}\n",
    "print(person.get(\"country\"))\n",
    "\n",
    "#in case the value doesn't exists\n",
    "print(person.get(\"job\", \"Data scientist\"))"
   ]
  },
  {
   "cell_type": "code",
   "execution_count": 31,
   "id": "9b09430f-97ac-4345-8a94-77ce7503b7a5",
   "metadata": {},
   "outputs": [
    {
     "name": "stdout",
     "output_type": "stream",
     "text": [
      "name : alisha\n",
      "age : 32\n",
      "country : Spain\n",
      "city : Barcelona\n",
      "dict_items([('name', 'alisha'), ('age', 32), ('country', 'Spain'), ('city', 'Barcelona'), ('job', 'Data scientist')])\n"
     ]
    }
   ],
   "source": [
    "#items(): which returns a view object that contains the key-value pairs of the dictionary as tuples. \n",
    "person = {\"name\": \"alisha\", \"age\": 32,\"country\":\"Spain\",\"city\": \"Barcelona\"}\n",
    "\n",
    "for k, v in person.items():\n",
    "    print(F\"{k} : {v}\") \n",
    "    \n",
    "person[\"job\"] = \"Data scientist\" \n",
    "\n",
    "print(person.items()) "
   ]
  },
  {
   "cell_type": "code",
   "execution_count": 97,
   "id": "ca17d53b-97a5-47ef-a7cf-9761ae87c0d6",
   "metadata": {},
   "outputs": [
    {
     "name": "stdout",
     "output_type": "stream",
     "text": [
      "{}\n"
     ]
    }
   ],
   "source": [
    "#clear(): which removes all the key-value pairs from the dictionary and makes it empty.\n",
    "    \n",
    "person = {\"name\": \"alisha\", \"age\": 32,\"country\":\"Spain\",\"city\": \"Barcelona\"}\n",
    "\n",
    "person.clear() \n",
    "print(person) "
   ]
  },
  {
   "cell_type": "markdown",
   "id": "e2359ca3-8e63-4430-834b-76add8f32331",
   "metadata": {},
   "source": [
    "***4. Tuples***"
   ]
  },
  {
   "cell_type": "code",
   "execution_count": 32,
   "id": "cb0bb0ae-a8dd-4e7e-a0ae-e6e7ab836df6",
   "metadata": {},
   "outputs": [
    {
     "name": "stdout",
     "output_type": "stream",
     "text": [
      "Count of 'C' in my_tuple is: 2\n"
     ]
    }
   ],
   "source": [
    "#count(): which returns the number of times a specified value occurs in a tuple.\n",
    "Programing_languages = (\"Python\", \"Java\", \"C++\",\"C\", \"Ruby\",\"Python\",\"Swift\",\"C\",\"Javascript\",\"Ruby\",\"Python\")\n",
    "\n",
    "count_ = Programing_languages.count(\"C\")\n",
    "print(f\"Count of 'C' in my_tuple is: {count_}\")"
   ]
  },
  {
   "cell_type": "code",
   "execution_count": 34,
   "id": "b671d761-fd10-49b0-ac38-255fd4120dc3",
   "metadata": {},
   "outputs": [
    {
     "name": "stdout",
     "output_type": "stream",
     "text": [
      "the position of 'Swift' in the tuple is : 4\n"
     ]
    }
   ],
   "source": [
    "#index(): method searches the tuple for a specified value and returns the position of where it was found. \n",
    "Programing_languages = (\"Python\", \"Java\", \"C++\", \"Ruby\",\"Swift\",\"C\",\"Javascript\")\n",
    "\n",
    "position = Programing_languages.index(\"Swift\")\n",
    "print(f\"the position of 'Swift' in the tuple is : {position}\")"
   ]
  }
 ],
 "metadata": {
  "kernelspec": {
   "display_name": "Python 3 (ipykernel)",
   "language": "python",
   "name": "python3"
  },
  "language_info": {
   "codemirror_mode": {
    "name": "ipython",
    "version": 3
   },
   "file_extension": ".py",
   "mimetype": "text/x-python",
   "name": "python",
   "nbconvert_exporter": "python",
   "pygments_lexer": "ipython3",
   "version": "3.12.1"
  }
 },
 "nbformat": 4,
 "nbformat_minor": 5
}
