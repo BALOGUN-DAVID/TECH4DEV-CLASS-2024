{
 "cells": [
  {
   "cell_type": "code",
   "execution_count": 1,
   "id": "5a6d0f29",
   "metadata": {},
   "outputs": [
    {
     "name": "stdout",
     "output_type": "stream",
     "text": [
      "23\n"
     ]
    }
   ],
   "source": [
    "def max_value(arr):\n",
    "    return max(arr)\n",
    "\n",
    "arr = [2, 4, 7, 4, 23, 5, 1, 4, 8, 9]\n",
    "print(max_value(arr))"
   ]
  },
  {
   "cell_type": "code",
   "execution_count": 2,
   "id": "e0e71a21",
   "metadata": {},
   "outputs": [
    {
     "name": "stdout",
     "output_type": "stream",
     "text": [
      "The average value is  24.6\n"
     ]
    }
   ],
   "source": [
    "def calculate_average(numbers):\n",
    "    return sum(numbers) / len(numbers)\n",
    "\n",
    "numbers = [4, 7, 1, 5, 11, 53, 12, 46, 84, 23]\n",
    "\n",
    "average = calculate_average(numbers)\n",
    "\n",
    "print('The average value is ', average)"
   ]
  },
  {
   "cell_type": "code",
   "execution_count": 3,
   "id": "537c9915",
   "metadata": {},
   "outputs": [
    {
     "name": "stdout",
     "output_type": "stream",
     "text": [
      "5\n",
      "89\n",
      "45\n",
      "14\n",
      "53\n",
      "23\n",
      "45\n",
      "7\n",
      "6\n",
      "2\n"
     ]
    }
   ],
   "source": [
    "def reverse_print(lst):\n",
    "    for num in reversed(lst):\n",
    "        print(num)\n",
    "        \n",
    "lst = [2, 6, 7, 45, 23, 53, 14, 45, 89, 5]\n",
    "reverse_print(lst)"
   ]
  },
  {
   "cell_type": "code",
   "execution_count": 1,
   "id": "de1db337",
   "metadata": {},
   "outputs": [
    {
     "data": {
      "text/plain": [
       "False"
      ]
     },
     "execution_count": 1,
     "metadata": {},
     "output_type": "execute_result"
    }
   ],
   "source": [
    "def compare_lists (list_a, list_b):\n",
    "    # Check if the lists are of the same length\n",
    "    if len(list_a) != len(list_b):\n",
    "        return False\n",
    "    for i in range (len(list_a)):\n",
    "        if list_a [i] < list_b[i]:\n",
    "            return True\n",
    "    \n",
    "    \n",
    "compare_lists ([1,2,3,4,5],[60,1,80])\n",
    "\n"
   ]
  },
  {
   "cell_type": "code",
   "execution_count": 9,
   "id": "1f585c36",
   "metadata": {},
   "outputs": [
    {
     "name": "stdout",
     "output_type": "stream",
     "text": [
      "List after swapping elements at indexes 1 and 3: [1, 4, 3, 2, 5]\n"
     ]
    }
   ],
   "source": [
    "#def swap_elements(lst, index1, index2):\n",
    "    # Check if the indexes are valid\n",
    "    if 0 <+ index1 < len(lst) and 0 <= index2 < len(lst):\n",
    "        # Swap elements at the specified indexes\n",
    "        lst[index1], lst[index2] = lst[index2], lst[index1]\n",
    "        print(f\"List after swapping elements at indexes {index1} and {index2}: {lst}\")\n",
    "    else:\n",
    "        print(\"Invalid indexes.\")\n",
    "        \n",
    "my_list = [1, 2, 3, 4, 5]\n",
    "swap_elements(my_list, 1, 3)\n",
    "    \n",
    "\n"
   ]
  },
  {
   "cell_type": "code",
   "execution_count": 10,
   "id": "b789d69b",
   "metadata": {},
   "outputs": [
    {
     "name": "stdout",
     "output_type": "stream",
     "text": [
      "Concatenated List: [1, 2, 3, 4, 5, 6]\n"
     ]
    }
   ],
   "source": [
    "def concatenate_lists(list1, list2):\n",
    "    # Concatenate the two lists\n",
    "    result_list = list1 + list2\n",
    "    \n",
    "    # Print the new list\n",
    "    print(\"Concatenated List:\", result_list)\n",
    "\n",
    "# Example usage:\n",
    "list1 = [1, 2, 3]\n",
    "list2 = [4, 5, 6]\n",
    "concatenate_lists(list1, list2)"
   ]
  },
  {
   "cell_type": "code",
   "execution_count": 11,
   "id": "ba937574",
   "metadata": {},
   "outputs": [
    {
     "name": "stdout",
     "output_type": "stream",
     "text": [
      "The last index of 85 is: 5\n"
     ]
    }
   ],
   "source": [
    "def last_index_of_value(lst, value):\n",
    "    # Use a loop to iterate through the list from right to left\n",
    "    for i in range(len(lst) - 1, -1, -1):\n",
    "        if lst[i] == value:\n",
    "            print(f\"The last index of {value} is: {i}\")\n",
    "            return\n",
    "    \n",
    "    # If the value is not found, print -1\n",
    "    print(f\"{value} is not found in the list. Last index: -1\")\n",
    "\n",
    "# Example usage:\n",
    "my_list = [74, 85, 102, 99, 101, 85, 56]\n",
    "value_to_find = 85\n",
    "last_index_of_value(my_list, value_to_find)\n"
   ]
  },
  {
   "cell_type": "raw",
   "id": "4564c12c",
   "metadata": {},
   "source": [
    "8. Write a program that prints the range of values in a list of integers. The range is defined as 1 \n",
    "more than the difference between the maximum and minimum values in the list. For \n",
    "example, if a list contains the values [36, 12, 25, 19, 46, 31, 22],\n",
    "the program should return 35. You may assume that the list has at least one element. \n"
   ]
  },
  {
   "cell_type": "code",
   "execution_count": null,
   "id": "679aa7b4",
   "metadata": {},
   "outputs": [],
   "source": []
  },
  {
   "cell_type": "code",
   "execution_count": null,
   "id": "94f06319",
   "metadata": {},
   "outputs": [],
   "source": []
  }
 ],
 "metadata": {
  "kernelspec": {
   "display_name": "Python 3 (ipykernel)",
   "language": "python",
   "name": "python3"
  },
  "language_info": {
   "codemirror_mode": {
    "name": "ipython",
    "version": 3
   },
   "file_extension": ".py",
   "mimetype": "text/x-python",
   "name": "python",
   "nbconvert_exporter": "python",
   "pygments_lexer": "ipython3",
   "version": "3.11.4"
  }
 },
 "nbformat": 4,
 "nbformat_minor": 5
}
