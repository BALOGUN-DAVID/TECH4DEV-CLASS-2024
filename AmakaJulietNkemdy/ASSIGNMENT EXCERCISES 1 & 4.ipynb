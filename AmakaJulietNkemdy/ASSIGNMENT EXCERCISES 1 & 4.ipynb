{
 "cells": [
  {
   "cell_type": "markdown",
   "id": "fff38fef",
   "metadata": {},
   "source": [
    "# EXERCISE 1"
   ]
  },
  {
   "cell_type": "markdown",
   "id": "cb5137d0",
   "metadata": {},
   "source": [
    "1.What is the output of the following print statements?\n",
    "a) print(\"\\ta\\tb\\tc\")"
   ]
  },
  {
   "cell_type": "code",
   "execution_count": 1,
   "id": "287cc7aa",
   "metadata": {},
   "outputs": [
    {
     "name": "stdout",
     "output_type": "stream",
     "text": [
      "\ta\tb\tc\n"
     ]
    }
   ],
   "source": [
    "print(\"\\ta\\tb\\tc\") #'\\t' means tab on your computer keyboard"
   ]
  },
  {
   "cell_type": "markdown",
   "id": "c3d879e8",
   "metadata": {},
   "source": [
    "b)print(\"\\\\\\\\\")"
   ]
  },
  {
   "cell_type": "code",
   "execution_count": 2,
   "id": "934a87ab",
   "metadata": {},
   "outputs": [
    {
     "name": "stdout",
     "output_type": "stream",
     "text": [
      "\\\\\n"
     ]
    }
   ],
   "source": [
    "print(\"\\\\\\\\\")"
   ]
  },
  {
   "cell_type": "markdown",
   "id": "63eddc14",
   "metadata": {},
   "source": [
    "c)print(\"'\")"
   ]
  },
  {
   "cell_type": "code",
   "execution_count": 3,
   "id": "88ca122d",
   "metadata": {},
   "outputs": [
    {
     "name": "stdout",
     "output_type": "stream",
     "text": [
      "'\n"
     ]
    }
   ],
   "source": [
    "print(\"'\")"
   ]
  },
  {
   "cell_type": "markdown",
   "id": "fbbd1b35",
   "metadata": {},
   "source": [
    "d)print(\"\\\"\\\"\\\"\")"
   ]
  },
  {
   "cell_type": "code",
   "execution_count": 4,
   "id": "9ba0d423",
   "metadata": {},
   "outputs": [
    {
     "name": "stdout",
     "output_type": "stream",
     "text": [
      "\"\"\"\n"
     ]
    }
   ],
   "source": [
    "print(\"\\\"\\\"\\\"\") #the '\\' is an 'escape charater',used to tell the program that you statement still continues"
   ]
  },
  {
   "cell_type": "markdown",
   "id": "0b7bc8c1",
   "metadata": {},
   "source": [
    "e)print(\"C:\\nin\\the downward spiral\")"
   ]
  },
  {
   "cell_type": "code",
   "execution_count": 5,
   "id": "4806bf7e",
   "metadata": {},
   "outputs": [
    {
     "name": "stdout",
     "output_type": "stream",
     "text": [
      "C:\n",
      "in\the downward spiral\n"
     ]
    }
   ],
   "source": [
    "print(\"C:\\nin\\the downward spiral\") #'\\n' means 'NEW LINE',i.e, you are inserting an new line"
   ]
  },
  {
   "cell_type": "markdown",
   "id": "fefb68cf",
   "metadata": {},
   "source": [
    "2.Write a print statement to produce this output:\n",
    "/ \\ // \\\\ /// \\\\\\\n"
   ]
  },
  {
   "cell_type": "code",
   "execution_count": 21,
   "id": "ce5fbac5",
   "metadata": {},
   "outputs": [
    {
     "name": "stdout",
     "output_type": "stream",
     "text": [
      "/ \\ // \\\\ /// \\\\\\\n"
     ]
    }
   ],
   "source": [
    "print('/ \\\\ // \\\\\\\\ /// \\\\\\\\\\\\') #each \"\\\" 'escape character' goes with another \\ to produce the other, so three \\\\\\, goes with six \\\\\\\\\\\\ to produce the three\\\\\\\""
   ]
  },
  {
   "cell_type": "markdown",
   "id": "90940555",
   "metadata": {},
   "source": [
    "3.What print statements will generate this output?\n",
    "This quote is from \n",
    "Irish poet Oscar \n",
    "Wilde:\n",
    "\"Music makes one feel so romantic\n",
    "- at least it always gets on one's nerves – \n",
    "which is the same thing nowadays.\"\n"
   ]
  },
  {
   "cell_type": "code",
   "execution_count": 63,
   "id": "6741e2eb",
   "metadata": {},
   "outputs": [
    {
     "name": "stdout",
     "output_type": "stream",
     "text": [
      "This quote is from \n",
      "Irish poet Oscar\n",
      "Wilde:\n",
      "\"Music makes one feel so romantic\n",
      "- at least it always gets on one's nerves -\n",
      "which is the same thing nowadays.\"\n"
     ]
    }
   ],
   "source": [
    "print('This quote is from \\nIrish poet Oscar\\nWilde:\\n\"Music makes one feel so romantic\\n- at least it always gets on one\\'s nerves -\\nwhich is the same thing nowadays.\"')\n",
    "#here, we apply the new line function and escape character"
   ]
  },
  {
   "cell_type": "markdown",
   "id": "e4c5c434",
   "metadata": {},
   "source": [
    "4.What print statements will generate this output?\n",
    "A \"quoted\" String is \n",
    "'much' better if you \n",
    "learn\n",
    "the rules of \"escape sequences.\" \n",
    "Also, \"\" represents an empty String. \n",
    "Don't forget: use \\\" instead of \" ! \n",
    "'' is not the same as \"\n"
   ]
  },
  {
   "cell_type": "code",
   "execution_count": 70,
   "id": "f74fe905",
   "metadata": {},
   "outputs": [
    {
     "name": "stdout",
     "output_type": "stream",
     "text": [
      "A \"quoted\" String is\n",
      "'much' better if you\n",
      "learn\n",
      "the rules of \"escape sequences.\"\n",
      "Also,\"\" represents an empty String.\n",
      "Don't forget: use \\\" instead of \" !\n",
      "''is not the same as \"\n"
     ]
    }
   ],
   "source": [
    "print('A \"quoted\" String is\\n\\'much\\' better if you\\nlearn\\nthe rules of \"escape sequences.\"\\nAlso,\"\" represents an empty String.\\nDon\\'t forget: use \\\\\" instead of \" !\\n\\'\\'is not the same as \"')"
   ]
  },
  {
   "cell_type": "markdown",
   "id": "6dc46f0d",
   "metadata": {},
   "source": [
    "5.What values result from the following expressions?\n",
    "–\t9 / 5\n",
    "–\t695 % 20 \n",
    "–\t7 + 6 * 5\n",
    "–\t7 * 6 + 5\n",
    "–\t248 % 100 / 5\n",
    "–\t6 * 3 - 9 / 4\n",
    "–\t(5 - 7) * 4\n",
    "–\t6 + (18 % (17 - 12))"
   ]
  },
  {
   "cell_type": "code",
   "execution_count": 54,
   "id": "b48fb8de",
   "metadata": {},
   "outputs": [
    {
     "data": {
      "text/plain": [
       "1.8"
      ]
     },
     "execution_count": 54,
     "metadata": {},
     "output_type": "execute_result"
    }
   ],
   "source": [
    "9/5"
   ]
  },
  {
   "cell_type": "code",
   "execution_count": 55,
   "id": "f307b6c8",
   "metadata": {},
   "outputs": [
    {
     "data": {
      "text/plain": [
       "18"
      ]
     },
     "execution_count": 55,
     "metadata": {},
     "output_type": "execute_result"
    }
   ],
   "source": [
    "698%20 #What is the remainder when 698 is divided by 20"
   ]
  },
  {
   "cell_type": "code",
   "execution_count": 57,
   "id": "e33fd700",
   "metadata": {},
   "outputs": [
    {
     "data": {
      "text/plain": [
       "37"
      ]
     },
     "execution_count": 57,
     "metadata": {},
     "output_type": "execute_result"
    }
   ],
   "source": [
    "7+6*5 #python uses BODMAS for mathematical expressions"
   ]
  },
  {
   "cell_type": "code",
   "execution_count": 58,
   "id": "cf890c02",
   "metadata": {},
   "outputs": [
    {
     "data": {
      "text/plain": [
       "47"
      ]
     },
     "execution_count": 58,
     "metadata": {},
     "output_type": "execute_result"
    }
   ],
   "source": [
    "7*6+5"
   ]
  },
  {
   "cell_type": "code",
   "execution_count": 59,
   "id": "1869c438",
   "metadata": {},
   "outputs": [
    {
     "data": {
      "text/plain": [
       "9.6"
      ]
     },
     "execution_count": 59,
     "metadata": {},
     "output_type": "execute_result"
    }
   ],
   "source": [
    "248%100/5 "
   ]
  },
  {
   "cell_type": "code",
   "execution_count": 60,
   "id": "3abae6ec",
   "metadata": {},
   "outputs": [
    {
     "data": {
      "text/plain": [
       "15.75"
      ]
     },
     "execution_count": 60,
     "metadata": {},
     "output_type": "execute_result"
    }
   ],
   "source": [
    "6*3-9/4"
   ]
  },
  {
   "cell_type": "code",
   "execution_count": 61,
   "id": "9b87ad13",
   "metadata": {},
   "outputs": [
    {
     "data": {
      "text/plain": [
       "-8"
      ]
     },
     "execution_count": 61,
     "metadata": {},
     "output_type": "execute_result"
    }
   ],
   "source": [
    "(5-7)*4"
   ]
  },
  {
   "cell_type": "code",
   "execution_count": 62,
   "id": "241d680d",
   "metadata": {},
   "outputs": [
    {
     "data": {
      "text/plain": [
       "9"
      ]
     },
     "execution_count": 62,
     "metadata": {},
     "output_type": "execute_result"
    }
   ],
   "source": [
    "6+(18%(17-12))"
   ]
  },
  {
   "cell_type": "markdown",
   "id": "defbe3db",
   "metadata": {},
   "source": [
    "# EXCERCISE 4.1"
   ]
  },
  {
   "cell_type": "markdown",
   "id": "c74dedd1",
   "metadata": {},
   "source": [
    "1. Write a program to produce the following output using for loop\n",
    "+----+\n",
    "\\ /\n",
    "/ \\\n",
    "\\ /\n",
    "/ \\\n",
    "\\ /\n",
    "/ \\\n",
    "+----+"
   ]
  },
  {
   "cell_type": "code",
   "execution_count": 76,
   "id": "82cd112a",
   "metadata": {},
   "outputs": [
    {
     "name": "stdout",
     "output_type": "stream",
     "text": [
      "+-------+\n",
      "\n",
      "\\\t/\n",
      "\n",
      "/\t\\\n",
      "\n",
      "\n",
      "\\\t/\n",
      "\n",
      "/\t\\\n",
      "\n",
      "\n",
      "\\\t/\n",
      "\n",
      "/\t\\\n",
      "\n",
      "+-------+\n"
     ]
    }
   ],
   "source": [
    "print('+-------+')\n",
    "for number in range(3):\n",
    "    print('\\n\\\\\\t/\\n\\n/\\t\\\\\\n')\n",
    "print('+-------+')\n",
    "    "
   ]
  },
  {
   "cell_type": "markdown",
   "id": "56c7ec20",
   "metadata": {},
   "source": [
    "2. Write a program to produce the following output using for loop\n",
    "**********\n",
    "**********\n",
    "**********\n",
    "**********\n",
    "**********"
   ]
  },
  {
   "cell_type": "code",
   "execution_count": 80,
   "id": "573b3412",
   "metadata": {},
   "outputs": [
    {
     "name": "stdout",
     "output_type": "stream",
     "text": [
      "**********\n",
      "**********\n",
      "**********\n",
      "**********\n",
      "**********\n"
     ]
    }
   ],
   "source": [
    "for number in range(5):\n",
    "    print('**********')"
   ]
  },
  {
   "cell_type": "markdown",
   "id": "e0608e86",
   "metadata": {},
   "source": [
    "3. Complete the code for the following for loop:\n",
    "for in range(1,7):\n",
    "      //your code here\n",
    "so that it prints the following numbers, one per line:\n",
    "\n",
    "a) 1 b) 2 c) 4 d) 30 e) -7 f) 97 g) -4\n",
    "   2    4    19   20    -3    94    14\n",
    "   3    6    34   10     1    91    32\n",
    "   4    8    49   0      5    88    50\n",
    "   5    10   64  -10     9    85    68\n",
    "   6    12   79  -20    13    82    86"
   ]
  },
  {
   "cell_type": "code",
   "execution_count": 73,
   "id": "fa19e138",
   "metadata": {},
   "outputs": [
    {
     "name": "stdout",
     "output_type": "stream",
     "text": [
      "\t\t\n",
      "\n",
      "1\t2\t3\t4\t5\t6\t\t\t\n",
      "\n",
      "2\t4\t6\t8\t10\t12\t\t\t\n",
      "\n",
      "4\t19\t34\t49\t64\t79\t\t\t\n",
      "\n",
      "30\t20\t10\t0\t-10\t-20\t\t\t\n",
      "\n",
      "-7\t-3\t1\t5\t9\t13\t\t\t\n",
      "\n",
      "97\t94\t91\t88\t85\t82\t\t\t\n",
      "\n",
      "-4\t14\t32\t50\t68\t86\t"
     ]
    }
   ],
   "source": [
    "print('\\t\\t\\n')\n",
    "for a in range (1,7):\n",
    "    print(a,end='\\t')\n",
    "    \n",
    "print('\\t\\t\\n')\n",
    "for b in range(2,13,2):\n",
    "    print(b,end='\\t')\n",
    "    \n",
    "print('\\t\\t\\n')\n",
    "for c in range(4,80,15):\n",
    "    print(c,end='\\t')\n",
    "    \n",
    "print('\\t\\t\\n')\n",
    "for d in range(30,-21,-10):\n",
    "    print(d,end='\\t')\n",
    "    \n",
    "print('\\t\\t\\n')\n",
    "for e in range(-7,14,4):\n",
    "    print(e,end='\\t')\n",
    "    \n",
    "print('\\t\\t\\n')\n",
    "for f in range(97,80,-3):\n",
    "    print(f,end='\\t')\n",
    "    \n",
    "print('\\t\\t\\n')\n",
    "for g in range(-4,87,18):\n",
    "    print(g,end='\\t')"
   ]
  },
  {
   "cell_type": "markdown",
   "id": "c6860e94",
   "metadata": {},
   "source": [
    "4.Write a program to produce the following output using for loops. Then  use a class constant to make it possible to change the number of lines in  the figure. \n",
    "1 \n",
    "22 \n",
    "333 \n",
    "4444 \n",
    "55555 \n",
    "666666 \n",
    "7777777\n"
   ]
  },
  {
   "cell_type": "code",
   "execution_count": 95,
   "id": "7e8364b7",
   "metadata": {},
   "outputs": [
    {
     "name": "stdout",
     "output_type": "stream",
     "text": [
      "1 \n",
      "2 2 \n",
      "3 3 3 \n",
      "4 4 4 4 \n",
      "5 5 5 5 5 \n",
      "6 6 6 6 6 6 \n",
      "7 7 7 7 7 7 7 \n"
     ]
    }
   ],
   "source": [
    "for a in range(1,8):\n",
    "    for b in range(1,a+1):\n",
    "        print(a, end=\" \")\n",
    "    print()"
   ]
  },
  {
   "cell_type": "markdown",
   "id": "9efda192",
   "metadata": {},
   "source": [
    "5.Write a method named pay that accepts two parameters: a real number  for a TA's salary, and an integer for the number of hours the TA worked  this week. The method should return how much money to pay the TA.  For example, the call  \n",
    "pay(5.50, 6) \n",
    "should return  \n",
    "33.0.  \n",
    "The TA should receive \"overtime\" pay of 1 ½ normal salary for any hours  above 8. For example, the call pay(4.00, 11) should return (4.00 *  8) + (6.00 * 3) or 50.0. \n"
   ]
  },
  {
   "cell_type": "code",
   "execution_count": 1,
   "id": "f6a077aa",
   "metadata": {},
   "outputs": [
    {
     "name": "stdout",
     "output_type": "stream",
     "text": [
      "33.0\n",
      "50.0\n"
     ]
    }
   ],
   "source": [
    "def pay(salary, hours_worked):\n",
    "    regular_hours = min(8, hours_worked)\n",
    "    overtime_hours = max(0, hours_worked - 8)\n",
    "\n",
    "    regular_pay = salary * regular_hours\n",
    "    overtime_pay = salary * 1.5 * overtime_hours\n",
    "\n",
    "    total_pay = regular_pay + overtime_pay\n",
    "    return total_pay\n",
    "\n",
    "# Example\n",
    "output = pay(5.50, 6)\n",
    "print(output)  # Output: 33.0\n",
    "\n",
    "output1 = pay(4.00, 11)\n",
    "print(output1)  # Output: 50.0\n"
   ]
  },
  {
   "cell_type": "markdown",
   "id": "769b71ce",
   "metadata": {},
   "source": [
    "6.Consider the following method for converting milliseconds into days: \n",
    "// converts milliseconds to days \n",
    "def toDays(millis): \n",
    " return millis / 1000.0 / 60.0 / 60.0 / 24.0 \n",
    "Write a similar method named area that takes as a parameter the radius of  a circle and that returns the area of the circle. For example, the call  \n",
    "area(2.0); \n",
    "should return  \n",
    "12.566370614359172.  \n",
    "Recall that area can be computed as π times the radius squared and that  Python has a constant called math.pi "
   ]
  },
  {
   "cell_type": "code",
   "execution_count": 3,
   "id": "f370a784",
   "metadata": {},
   "outputs": [
    {
     "name": "stdout",
     "output_type": "stream",
     "text": [
      "12.566370614359172\n"
     ]
    }
   ],
   "source": [
    "import math\n",
    "\n",
    "def area(radius):\n",
    "    return math.pi * radius**2\n",
    "\n",
    "#let call area 2.0\n",
    "result = area(2.0)\n",
    "print(result)\n"
   ]
  },
  {
   "cell_type": "markdown",
   "id": "ca8a5f8e",
   "metadata": {},
   "source": [
    "7.Copy and paste the following code into pythons IDLE script  environment. \n",
    " low = 1 \n",
    " high = 1001 \n",
    " sum = 0 \n",
    " for i in range(low,high): \n",
    " sum += i \n",
    "  \n",
    " print(\"sum = \" , sum) \n",
    "  \n",
    "Modify the code to use a input to prompt the user for the values of low and high. Below is a sample execution in which the user asks for the same  values as in the original program (1 through 1000): \n",
    "low? 1 \n",
    "high? 1001 \n",
    "sum = 500500 \n",
    "Below is an execution with different values for low and high: \n",
    "low? 300 \n",
    "high? 5298 \n",
    "sum = 13986903 \n",
    "You should exactly reproduce this format. \n"
   ]
  },
  {
   "cell_type": "code",
   "execution_count": 4,
   "id": "e3f43332",
   "metadata": {},
   "outputs": [
    {
     "name": "stdout",
     "output_type": "stream",
     "text": [
      "low? 300\n",
      "high? 5298\n",
      "sum = 13986903\n"
     ]
    }
   ],
   "source": [
    "low = int(input(\"low? \"))\n",
    "high = int(input(\"high? \"))\n",
    "sum_result = 0\n",
    "\n",
    "for i in range(low, high):\n",
    "    sum_result += i\n",
    "\n",
    "print(f\"sum = {sum_result}\")\n"
   ]
  },
  {
   "cell_type": "markdown",
   "id": "27df6b98",
   "metadata": {},
   "source": [
    "8.Write a program using while loop that prompts the user for numbers until  the user types 0, then outputs their sum.\n"
   ]
  },
  {
   "cell_type": "code",
   "execution_count": 5,
   "id": "74b1a9ab",
   "metadata": {},
   "outputs": [
    {
     "name": "stdout",
     "output_type": "stream",
     "text": [
      "Enter a number (type 0 to exit): 8\n",
      "Enter a number (type 0 to exit): 9\n",
      "Enter a number (type 0 to exit): 2\n",
      "Enter a number (type 0 to exit): 1\n",
      "Enter a number (type 0 to exit): 56\n",
      "Enter a number (type 0 to exit): 0\n",
      "The sum of the entered numbers is: 76\n"
     ]
    }
   ],
   "source": [
    "# Initialize sum to 0\n",
    "sum_result = 0\n",
    "\n",
    "# Keep prompting for numbers until the user types 0\n",
    "while True:\n",
    "    number = int(input(\"Enter a number (type 0 to exit): \"))\n",
    "    \n",
    "    if number == 0:\n",
    "        break  # Exit the loop if the user types 0\n",
    "    \n",
    "    sum_result += number\n",
    "\n",
    "# Output the sum\n",
    "print(f\"The sum of the entered numbers is: {sum_result}\")\n"
   ]
  },
  {
   "cell_type": "markdown",
   "id": "401918d6",
   "metadata": {},
   "source": [
    "9.Write a program using while loop that prompts the user for numbers until  the user types -1, then outputs their sum. \n"
   ]
  },
  {
   "cell_type": "code",
   "execution_count": 6,
   "id": "d371edb1",
   "metadata": {},
   "outputs": [
    {
     "name": "stdout",
     "output_type": "stream",
     "text": [
      "Enter a number (type -1 to exit): 100\n",
      "Enter a number (type -1 to exit): 3\n",
      "Enter a number (type -1 to exit): 5\n",
      "Enter a number (type -1 to exit): 6\n",
      "Enter a number (type -1 to exit): 7\n",
      "Enter a number (type -1 to exit): 8\n",
      "Enter a number (type -1 to exit): -1\n",
      "The sum of the entered numbers is: 129\n"
     ]
    }
   ],
   "source": [
    "# Initialize sum to 0\n",
    "sum_result = 0\n",
    "\n",
    "# Keep prompting for numbers until the user types -1\n",
    "while True:\n",
    "    number = int(input(\"Enter a number (type -1 to exit): \"))\n",
    "    \n",
    "    if number == -1:\n",
    "        break  # Exit the loop if the user types -1\n",
    "    \n",
    "    sum_result += number\n",
    "\n",
    "# Output the sum\n",
    "print(f\"The sum of the entered numbers is: {sum_result}\")\n"
   ]
  },
  {
   "cell_type": "markdown",
   "id": "6dd61565",
   "metadata": {},
   "source": [
    "10.Write a method named repl that accepts a String and a number of  repetitions as parameters and returns the String concatenated that many  times. For example, the call repl(\"hello\", 3) returns \"hellohellohello\".  If the number of repetitions is 0 or less, an empty string is returned. "
   ]
  },
  {
   "cell_type": "code",
   "execution_count": 7,
   "id": "21b825eb",
   "metadata": {},
   "outputs": [
    {
     "name": "stdout",
     "output_type": "stream",
     "text": [
      "hellohellohello\n"
     ]
    }
   ],
   "source": [
    "def repl(s, repetitions):\n",
    "    if repetitions <= 0:\n",
    "        return \"\"  # Return an empty string for 0 or negative repetitions\n",
    "    else:\n",
    "        return s * repetitions\n",
    "\n",
    "# Example\n",
    "result = repl(\"hello\", 3)\n",
    "print(result)  # Output: hellohellohello\n"
   ]
  },
  {
   "cell_type": "code",
   "execution_count": 19,
   "id": "b9c9bf4c",
   "metadata": {},
   "outputs": [
    {
     "name": "stdout",
     "output_type": "stream",
     "text": [
      "we are herewe are herewe are herewe are herewe are herewe are herewe are herewe are herewe are herewe are here\n"
     ]
    }
   ],
   "source": [
    "def repl(s, repetitions):\n",
    "    if repetitions <= 0:\n",
    "        return \"\"  # Return an empty string for 0 or negative repetitions\n",
    "    else:\n",
    "        return s * repetitions\n",
    "\n",
    "# Example\n",
    "result=repl(\"we are here\",10)\n",
    "print(result)  # Output: wearehere\n"
   ]
  },
  {
   "cell_type": "markdown",
   "id": "61eef1cb",
   "metadata": {},
   "source": [
    "11.Write a method called printRange that accepts two integers as arguments and  prints the sequence of numbers between the two arguments, separated by  spaces. Print an increasing sequence if the first argument is smaller than  the second; otherwise, print a decreasing sequence. If the two numbers  are the same, that number should be printed by itself. Here are some  sample calls to printRange:  \n",
    "printRange(2, 7) \n",
    "printRange(19, 11) \n",
    "printRange(5, 5) \n",
    "The output produced should be the following:  \n",
    "2 3 4 5 6 7  \n",
    "19 18 17 16 15 14 13 12 11  \n",
    "5 \n"
   ]
  },
  {
   "cell_type": "code",
   "execution_count": 20,
   "id": "a7861a98",
   "metadata": {},
   "outputs": [
    {
     "name": "stdout",
     "output_type": "stream",
     "text": [
      "2 3 4 5 6 7 19 18 17 16 15 14 13 12 11 5\n"
     ]
    }
   ],
   "source": [
    "def printRange(start, end):\n",
    "    if start < end:\n",
    "        # Print increasing sequence\n",
    "        for num in range(start, end + 1):\n",
    "            print(num, end=\" \")\n",
    "    elif start > end:\n",
    "        # Print decreasing sequence\n",
    "        for num in range(start, end - 1, -1):\n",
    "            print(num, end=\" \")\n",
    "    else:\n",
    "        # The two numbers are the same, print the single number\n",
    "        print(start)\n",
    "\n",
    "# Example calls:\n",
    "printRange(2, 7)\n",
    "printRange(19, 11)\n",
    "printRange(5, 5)\n"
   ]
  },
  {
   "cell_type": "code",
   "execution_count": 21,
   "id": "873abe26",
   "metadata": {},
   "outputs": [
    {
     "name": "stdout",
     "output_type": "stream",
     "text": [
      "5 6 7 8 9 20\n",
      "5\n"
     ]
    }
   ],
   "source": [
    "def printRange(start, end):\n",
    "    if start < end:\n",
    "        # Print increasing sequence\n",
    "        for num in range(start, end + 1):\n",
    "            print(num, end=\" \")\n",
    "    elif start > end:\n",
    "        # Print decreasing sequence\n",
    "        for num in range(start, end - 1, -1):\n",
    "            print(num, end=\" \")\n",
    "    else:\n",
    "        # The two numbers are the same, print the single number\n",
    "        print(start)\n",
    "\n",
    "# Example calls:\n",
    "printRange(5, 9)\n",
    "printRange(20, 20)\n",
    "printRange(5, 5)\n"
   ]
  },
  {
   "cell_type": "markdown",
   "id": "92069c0e",
   "metadata": {},
   "source": [
    "12.Write a method named smallestLargest that asks the user to enter numbers,  then prints the smallest and largest of all the numbers typed in by the  user. You may assume the user enters a valid number greater than 0 for  the number of numbers to read. Here is an example dialogue:  \n",
    "How many numbers do you want to enter? 4 Number 1: 5 \n",
    "Number 2: 11 \n",
    "Number 3: -2 \n",
    "Number 4: 3 \n",
    "Smallest = -2\n",
    "Largest = 11\n"
   ]
  },
  {
   "cell_type": "code",
   "execution_count": 109,
   "id": "8f52ba44",
   "metadata": {},
   "outputs": [
    {
     "name": "stdout",
     "output_type": "stream",
     "text": [
      "How many numbers do you want to enter? 5\n",
      "Number 1: 11\n",
      "Number 2: -2\n",
      "Number 3: -2\n",
      "Number 4: 3\n",
      "Number 5: 8\n",
      "Smallest = -2.0\n",
      "Largest = 11.0\n"
     ]
    }
   ],
   "source": [
    "def smallestLargest():\n",
    "    num_count = int(input(\"How many numbers do you want to enter? \"))\n",
    "    \n",
    "    if num_count <= 0:\n",
    "        print(\"Invalid input. Please enter a valid number greater than 0.\")\n",
    "        return\n",
    "\n",
    "    numbers = []\n",
    "\n",
    "    for i in range(1, num_count + 1):\n",
    "        number = float(input(f\"Number {i}: \"))\n",
    "        numbers.append(number)\n",
    "\n",
    "    if numbers:\n",
    "        smallest = min(numbers)\n",
    "        largest = max(numbers)\n",
    "        print(f\"Smallest = {smallest}\")\n",
    "        print(f\"Largest = {largest}\")\n",
    "    else:\n",
    "        print(\"No numbers entered.\")\n",
    "\n",
    "# Run the method\n",
    "smallestLargest()\n"
   ]
  },
  {
   "cell_type": "markdown",
   "id": "6308a265",
   "metadata": {},
   "source": [
    "13.Write a method called printAverage that uses a sentinel loop to repeatedly prompt the user for numbers. Once the user types any number less than zero, the method should display the average of all nonnegative numbers typed. Display the average as a double. Here is a sample dialogue with the user: Type a number: 7 Type a number: 4 Type a number: 16 Type a number: –4 Average was 9.0 If the first number that the user types is negative, do not print an average: Type a number: –2"
   ]
  },
  {
   "cell_type": "code",
   "execution_count": 2,
   "id": "8528280c",
   "metadata": {
    "scrolled": true
   },
   "outputs": [
    {
     "name": "stdout",
     "output_type": "stream",
     "text": [
      "Type a number: -2\n",
      "No nonnegative numbers entered.\n"
     ]
    }
   ],
   "source": [
    "def printAverage():\n",
    "    total = 0\n",
    "    count = 0\n",
    "\n",
    "    while True:\n",
    "        number = float(input(\"Type a number: \"))\n",
    "        \n",
    "        if number < 0:\n",
    "            break  # Exit the loop if a negative number is entered\n",
    "\n",
    "        total += number\n",
    "        count += 1\n",
    "\n",
    "    if count > 0:\n",
    "        average = total / count\n",
    "        print(f\"Average was {average:.1f}\")\n",
    "    else:\n",
    "        print(\"No nonnegative numbers entered.\")\n",
    "\n",
    "# lets run the method\n",
    "printAverage()"
   ]
  },
  {
   "cell_type": "markdown",
   "id": "5d33dde7",
   "metadata": {},
   "source": [
    "14.Write a method named numUnique that takes three integers as parameters  and returns the number of unique integers among the three. For example,  the call numUnique(18, 3, 4) should return 3 because the parameters  have three different values. By contrast, the call numUnique(6, 7, 6) \n",
    "should return 2 because there are only two unique numbers among the  three parameters: 6 and 7"
   ]
  },
  {
   "cell_type": "code",
   "execution_count": 105,
   "id": "dd17f4c8",
   "metadata": {},
   "outputs": [
    {
     "name": "stdout",
     "output_type": "stream",
     "text": [
      "[3, 4]\n"
     ]
    }
   ],
   "source": [
    "numbers=[3,4,3]\n",
    "numUnique=[]\n",
    "for a in numbers:\n",
    "    if a not in numUnique:\n",
    "        numUnique.append(a)\n",
    "print(numUnique)\n",
    "\n"
   ]
  },
  {
   "cell_type": "markdown",
   "id": "535baf6f",
   "metadata": {},
   "source": [
    "15. A Random object generates pseudo-random numbers. Find out how to  use the Random class and write a program that simulates rolling of two 6- sided dice until their combined result comes up as 7. One possible output  can be seen as below: \n",
    " 2 + 4 = 6 \n",
    "3 + 5 = 8 \n",
    "5 + 6 = 11 \n",
    "1 + 1 = 2 \n",
    "4 + 3 = 7 \n",
    "You won after 5 tries!\n"
   ]
  },
  {
   "cell_type": "code",
   "execution_count": 96,
   "id": "ece8718a",
   "metadata": {},
   "outputs": [
    {
     "name": "stdout",
     "output_type": "stream",
     "text": [
      "2 + 1 = 3\n",
      "5 + 4 = 9\n",
      "3 + 2 = 5\n",
      "5 + 5 = 10\n",
      "2 + 3 = 5\n",
      "2 + 2 = 4\n",
      "3 + 3 = 6\n",
      "1 + 2 = 3\n",
      "1 + 5 = 6\n",
      "5 + 4 = 9\n",
      "5 + 5 = 10\n",
      "5 + 1 = 6\n",
      "4 + 5 = 9\n",
      "2 + 3 = 5\n",
      "2 + 5 = 7\n",
      "It took 15 rolls to get a total of 7.\n"
     ]
    }
   ],
   "source": [
    "import random\n",
    "\n",
    "def roll_dice():\n",
    "    return random.randint(1, 6)\n",
    "\n",
    "def simulate_dice_rolls():\n",
    "    total = 0\n",
    "    count = 0\n",
    "\n",
    "    while total != 7:\n",
    "        die1 = roll_dice()\n",
    "        die2 = roll_dice()\n",
    "\n",
    "        total = die1 + die2\n",
    "        count += 1\n",
    "\n",
    "        print(f\"{die1} + {die2} = {total}\")\n",
    "\n",
    "    print(f\"It took {count} rolls to get a total of 7.\")\n",
    "\n",
    "# lets run the simulation\n",
    "simulate_dice_rolls()\n"
   ]
  },
  {
   "cell_type": "code",
   "execution_count": null,
   "id": "7cb309e7",
   "metadata": {},
   "outputs": [],
   "source": []
  }
 ],
 "metadata": {
  "kernelspec": {
   "display_name": "Python 3 (ipykernel)",
   "language": "python",
   "name": "python3"
  },
  "language_info": {
   "codemirror_mode": {
    "name": "ipython",
    "version": 3
   },
   "file_extension": ".py",
   "mimetype": "text/x-python",
   "name": "python",
   "nbconvert_exporter": "python",
   "pygments_lexer": "ipython3",
   "version": "3.11.5"
  }
 },
 "nbformat": 4,
 "nbformat_minor": 5
}
