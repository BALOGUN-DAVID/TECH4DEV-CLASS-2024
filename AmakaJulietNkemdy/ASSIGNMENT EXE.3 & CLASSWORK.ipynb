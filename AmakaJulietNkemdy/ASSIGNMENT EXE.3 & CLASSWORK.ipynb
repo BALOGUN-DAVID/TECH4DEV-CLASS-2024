{
 "cells": [
  {
   "cell_type": "markdown",
   "id": "adfb1b03",
   "metadata": {},
   "source": [
    "1. Write a program that finds the maximum value of the given list, assuming that the list\n",
    "contains at least one element.\n",
    "Try your program with the following array\n",
    "2 4 7 4 23 5 1 4 8 9"
   ]
  },
  {
   "cell_type": "code",
   "execution_count": 5,
   "id": "2916c9d0",
   "metadata": {},
   "outputs": [
    {
     "name": "stdout",
     "output_type": "stream",
     "text": [
      "The maximum value in the list is: 23\n"
     ]
    }
   ],
   "source": [
    "def find_max_value(numb):\n",
    "     \n",
    "    max_value = numb[0]\n",
    "\n",
    "    for n in numb:\n",
    "        if n > max_value:\n",
    "            max_value = n\n",
    "\n",
    "    return max_value\n",
    "\n",
    "# the array\n",
    "array = [2, 4, 7, 4, 23, 5, 1, 4, 8, 9]\n",
    "\n",
    "# Find and print the maximum value\n",
    "max_value = find_max_value(array)\n",
    "print(f\"The maximum value in the list is: {max_value}\")\n"
   ]
  },
  {
   "cell_type": "markdown",
   "id": "2e275a11",
   "metadata": {},
   "source": [
    "2. Write a program that calculates the average value of the given list.\n",
    "Try your program with the following list\n",
    "4 7 1 5 11 53 12 46 84 23"
   ]
  },
  {
   "cell_type": "code",
   "execution_count": 1,
   "id": "ca6b7e88",
   "metadata": {},
   "outputs": [
    {
     "name": "stdout",
     "output_type": "stream",
     "text": [
      "The average value of the list is: 24.6\n"
     ]
    }
   ],
   "source": [
    "def calculate_average(nums):\n",
    "    # Ensure the list is not empty\n",
    "    if not nums:\n",
    "        return 0  # Return 0 for an empty list\n",
    "\n",
    "    # Calculate the average\n",
    "    average = sum(nums) / len(nums)\n",
    "\n",
    "    return average\n",
    "\n",
    "# Example list\n",
    "my_list = [4, 7, 1, 5, 11, 53, 12, 46, 84, 23]\n",
    "\n",
    "# Calculate and print the average value\n",
    "average_value = calculate_average(my_list)\n",
    "print(f\"The average value of the list is: {average_value}\")\n"
   ]
  },
  {
   "cell_type": "markdown",
   "id": "6d93e605",
   "metadata": {},
   "source": [
    "3.Write a program that prints the given list of integers in reverse order.\n",
    "Try your program with the following list\n",
    "2 6 7 45 23 53 14 45 89 5"
   ]
  },
  {
   "cell_type": "code",
   "execution_count": 2,
   "id": "1f14c8c0",
   "metadata": {},
   "outputs": [
    {
     "name": "stdout",
     "output_type": "stream",
     "text": [
      "5 89 45 14 53 23 45 7 6 2 "
     ]
    }
   ],
   "source": [
    "def print_reverse(numb):\n",
    "    # Print the list in reverse order\n",
    "    for num in reversed(numb):\n",
    "        print(num, end=\" \")\n",
    "\n",
    "# Example\n",
    "array = [2, 6, 7, 45, 23, 53, 14, 45, 89, 5]\n",
    "\n",
    "# Print the list in reverse order\n",
    "print_reverse(array)\n"
   ]
  },
  {
   "cell_type": "markdown",
   "id": "685337ae",
   "metadata": {},
   "source": [
    "4.Write a program that accepts two lists of integers and prints true if each element in the first\n",
    "list is less than the element at the same index in the second list. Your program should print\n",
    "false if the lists are not the same length."
   ]
  },
  {
   "cell_type": "code",
   "execution_count": 3,
   "id": "a3362c01",
   "metadata": {},
   "outputs": [
    {
     "name": "stdout",
     "output_type": "stream",
     "text": [
      "Result: True\n"
     ]
    }
   ],
   "source": [
    "def compare_lists(list1, list2):\n",
    "    # Check if the lists are of the same length\n",
    "    if len(list1) != len(list2):\n",
    "        return False  # Lists are not the same length\n",
    "\n",
    "    # Check if each element in list1 is less than the corresponding element in list2\n",
    "    for i in range(len(list1)):\n",
    "        if list1[i] >= list2[i]:\n",
    "            return False  # Condition not met for at least one pair of elements\n",
    "\n",
    "    return True  # All pairs of elements satisfy the condition\n",
    "\n",
    "# Example array\n",
    "arrayA = [2, 6, 7, 45, 23, 53, 14, 45, 89, 5]\n",
    "arrayB = [3, 8, 10, 50, 30, 60, 20, 50, 90, 10]\n",
    "\n",
    "# Check and print the result\n",
    "result = compare_lists(arrayA, arrayB)\n",
    "print(f\"Result: {result}\")\n"
   ]
  },
  {
   "cell_type": "code",
   "execution_count": 4,
   "id": "93b1a670",
   "metadata": {},
   "outputs": [
    {
     "name": "stdout",
     "output_type": "stream",
     "text": [
      "Result: False\n"
     ]
    }
   ],
   "source": [
    "def compare_lists(list1, list2):\n",
    "    # Check if the lists are of the same length\n",
    "    if len(list1) != len(list2):\n",
    "        return False  # Lists are not the same length\n",
    "\n",
    "    # Check if each element in list1 is less than the corresponding element in list2\n",
    "    for i in range(len(list1)):\n",
    "        if list1[i] >= list2[i]:\n",
    "            return False  # Condition not met for at least one pair of elements\n",
    "\n",
    "    return True  # All pairs of elements satisfy the condition\n",
    "\n",
    "# Example array\n",
    "arrayA = [2, 6, 7, 45, 23, 53, 14, 45, 89, ]\n",
    "arrayB = [3, 8, 10, 50, 30, 60, 20, 50, 90, 10]\n",
    "#the array lengths are not the same, it would print false\n",
    "\n",
    "# Check and print the result\n",
    "result = compare_lists(arrayA, arrayB)\n",
    "print(f\"Result: {result}\")"
   ]
  },
  {
   "cell_type": "markdown",
   "id": "efb0eba0",
   "metadata": {},
   "source": [
    "5.Write a program that accepts a list of integers and two indexes and swaps the elements at\n",
    "those indexes"
   ]
  },
  {
   "cell_type": "code",
   "execution_count": 5,
   "id": "77f52358",
   "metadata": {},
   "outputs": [
    {
     "name": "stdout",
     "output_type": "stream",
     "text": [
      "Swapped elements at indexes 1 and 7: [2, 45, 7, 45, 23, 53, 14, 6, 89, 5]\n"
     ]
    }
   ],
   "source": [
    "def swap_elements(array, index1, index2):\n",
    "    # Check if the indexes are valid\n",
    "    if 0 <= index1 < len(array) and 0 <= index2 < len(array):\n",
    "        # Swap elements at the specified indexes\n",
    "        array[index1], array[index2] = array[index2], array[index1]\n",
    "        return True  # Swap successful\n",
    "    else:\n",
    "        return False  # Invalid indexes\n",
    "\n",
    "# Example array\n",
    "my_array = [2, 6, 7, 45, 23, 53, 14, 45, 89, 5]\n",
    "\n",
    "# Example indexes to swap\n",
    "index_to_swap1 = 1 #6\n",
    "index_to_swap2 = 7 #45\n",
    "\n",
    "# Check and print the result\n",
    "result = swap_elements(my_array, index_to_swap1, index_to_swap2)\n",
    "\n",
    "if result:\n",
    "    print(f\"Swapped elements at indexes {index_to_swap1} and {index_to_swap2}: {my_array}\")\n",
    "else:\n",
    "    print(\"Invalid indexes, swap unsuccessful.\")\n"
   ]
  },
  {
   "cell_type": "markdown",
   "id": "dc809449",
   "metadata": {},
   "source": [
    "6.Write a program that accepts two lists of integers and prints a new list containing all\n",
    "elements of the first list followed by all elements of the second."
   ]
  },
  {
   "cell_type": "code",
   "execution_count": 6,
   "id": "8ba4b3f1",
   "metadata": {},
   "outputs": [
    {
     "name": "stdout",
     "output_type": "stream",
     "text": [
      "Concatenated List: [56, 55, 50, 20, 30, 35]\n"
     ]
    }
   ],
   "source": [
    "def concatenate_lists(list1, list2):\n",
    "    # Concatenate the two lists\n",
    "    result_list = Age_group1 + Age_group2\n",
    "    return result_list\n",
    "\n",
    "# Example lists\n",
    "Age_group1 = [56, 55, 50]\n",
    "Age_group2 = [20, 30, 35]\n",
    "\n",
    "# Concatenate lists and print the result\n",
    "result = concatenate_lists(Age_group1, Age_group2)\n",
    "print(\"Concatenated List:\", result)\n"
   ]
  },
  {
   "cell_type": "markdown",
   "id": "6c9527b2",
   "metadata": {},
   "source": [
    "7.Write a program that accepts a list of integers and an integer value as its parameters and\n",
    "prints the last index at which the value occurs in the list. The program should print –1 if the\n",
    "value is not found. For example, in the list [74, 85, 102, 99, 101, 85, 56], the last index of the\n",
    "value 85 is 5."
   ]
  },
  {
   "cell_type": "code",
   "execution_count": 7,
   "id": "e9c2b6fd",
   "metadata": {},
   "outputs": [
    {
     "name": "stdout",
     "output_type": "stream",
     "text": [
      "The last index of 85 is: 5\n"
     ]
    }
   ],
   "source": [
    "def last_index_of_value(lst, value):\n",
    "    # Check if the value is present in the list\n",
    "    if value in lst:\n",
    "        # Find the last index of the value using the reversed list\n",
    "        last_index = len(lst) - 1 - lst[::-1].index(value)\n",
    "        return last_index\n",
    "    else:\n",
    "        return -1\n",
    "\n",
    "# Example list\n",
    "my_list = [74, 85, 102, 99, 101, 85, 56]\n",
    "\n",
    "# Example value\n",
    "search_value = 85\n",
    "\n",
    "# Find the last index of the value and print the result\n",
    "result = last_index_of_value(my_list, search_value)\n",
    "print(f\"The last index of {search_value} is: {result}\")\n"
   ]
  },
  {
   "cell_type": "code",
   "execution_count": 8,
   "id": "8989c7d0",
   "metadata": {},
   "outputs": [
    {
     "name": "stdout",
     "output_type": "stream",
     "text": [
      "The last index of 85 is: -1\n"
     ]
    }
   ],
   "source": [
    "def last_index_of_value(lst, value):\n",
    "    # Check if the value is present in the list\n",
    "    if value in lst:\n",
    "        # Find the last index of the value using the reversed list\n",
    "        last_index = len(lst) - 1 - lst[::-1].index(value)\n",
    "        return last_index\n",
    "    else:\n",
    "        return -1\n",
    "\n",
    "# Example list\n",
    "my_list = [7, 5, 12, 9, 11, 5, 5]\n",
    "\n",
    "# Example value\n",
    "search_value = 85\n",
    "\n",
    "# Find the last index of the value and print the result\n",
    "result = last_index_of_value(my_list, search_value)\n",
    "print(f\"The last index of {search_value} is: {result}\")\n"
   ]
  },
  {
   "cell_type": "code",
   "execution_count": 9,
   "id": "19fc8d81",
   "metadata": {},
   "outputs": [
    {
     "name": "stdout",
     "output_type": "stream",
     "text": [
      "The last index of 12 is: 2\n"
     ]
    }
   ],
   "source": [
    "def last_index_of_value(lst, value):\n",
    "    # Check if the value is present in the list\n",
    "    if value in lst:\n",
    "        # Find the last index of the value using the reversed list\n",
    "        last_index = len(lst) - 1 - lst[::-1].index(value)\n",
    "        return last_index\n",
    "    else:\n",
    "        return -1\n",
    "\n",
    "# Example list\n",
    "my_list = [7, 5, 12, 9, 11, 5, 5]\n",
    "\n",
    "# Example value\n",
    "search_value = 12\n",
    "\n",
    "# Find the last index of the value and print the result\n",
    "result = last_index_of_value(my_list, search_value)\n",
    "print(f\"The last index of {search_value} is: {result}\")\n"
   ]
  },
  {
   "cell_type": "markdown",
   "id": "a7599f8e",
   "metadata": {},
   "source": [
    "8.Write a program that prints the range of values in a list of integers. The range is defined as 1\n",
    "more than the difference between the maximum and minimum values in the list. For\n",
    "example, if a list contains the values [36, 12, 25, 19, 46, 31, 22], the program should return\n",
    "35.You may assume that the list has at least one element."
   ]
  },
  {
   "cell_type": "code",
   "execution_count": 11,
   "id": "985e57bc",
   "metadata": {},
   "outputs": [
    {
     "name": "stdout",
     "output_type": "stream",
     "text": [
      "The range of values in the list is: 35\n"
     ]
    }
   ],
   "source": [
    "def calculate_range(lst):\n",
    "    # Calculate the range as 1 more than the difference between the max and min values\n",
    "    range_value = max(lst) - min(lst) + 1\n",
    "    return range_value\n",
    "\n",
    "# let's run this\n",
    "default_list = [36, 12, 25, 19, 46, 31, 22]\n",
    "\n",
    "# Calculate and print the range of values in the list\n",
    "result = calculate_range(default_list)\n",
    "print(f\"The range of values in the list is: {result}\")\n"
   ]
  },
  {
   "cell_type": "code",
   "execution_count": 12,
   "id": "2e83be2c",
   "metadata": {},
   "outputs": [
    {
     "name": "stdout",
     "output_type": "stream",
     "text": [
      "The range of values in the list is: 141\n"
     ]
    }
   ],
   "source": [
    "def calculate_range(lst):\n",
    "    # Calculate the range as 1 more than the difference between the max and min values\n",
    "    range_value = max(lst) - min(lst) + 1\n",
    "    return range_value\n",
    "\n",
    "# let's run this\n",
    "default_list = [150, 110, 80, 100, 10, 31, 22]\n",
    "\n",
    "# Calculate and print the range of values in the list\n",
    "result = calculate_range(default_list)\n",
    "print(f\"The range of values in the list is: {result}\")"
   ]
  },
  {
   "cell_type": "markdown",
   "id": "8edd4e3e",
   "metadata": {},
   "source": [
    "9.Write a program that accepts a list of integers, a minimum value, and a maximum value and\n",
    "prints the count of how many elements from the list fall between the minimum and\n",
    "maximum (inclusive). For example, in the list [14, 1, 22, 17, 36, 7, -43, 5], for minimum value\n",
    "4 and maximum value 17, there are four elements whose values fall between 4 and 17."
   ]
  },
  {
   "cell_type": "code",
   "execution_count": 13,
   "id": "ee962097",
   "metadata": {},
   "outputs": [
    {
     "name": "stdout",
     "output_type": "stream",
     "text": [
      "The number of elements between 4 and 17 (inclusive) is: 4\n"
     ]
    }
   ],
   "source": [
    "def count_elements_in_range(lst, min_val, max_val):\n",
    "    # Filter the elements that fall between the minimum and maximum values\n",
    "    elements_in_range = [element for element in lst if min_val <= element <= max_val]\n",
    "    \n",
    "    # Count the number of elements in the range\n",
    "    count = len(elements_in_range)\n",
    "    \n",
    "    return count\n",
    "\n",
    "# Example list\n",
    "my_list = [14, 1, 22, 17, 36, 7, -43, 5]\n",
    "\n",
    "# Minimum and maximum values\n",
    "min_value = 4\n",
    "max_value = 17\n",
    "\n",
    "# Count and print the number of elements in the specified range\n",
    "result = count_elements_in_range(my_list, min_value, max_value)\n",
    "print(f\"The number of elements between {min_value} and {max_value} (inclusive) is: {result}\")\n"
   ]
  },
  {
   "cell_type": "code",
   "execution_count": 15,
   "id": "fc073271",
   "metadata": {},
   "outputs": [
    {
     "name": "stdout",
     "output_type": "stream",
     "text": [
      "The number of elements between 20 and 80 (inclusive) is: 5\n"
     ]
    }
   ],
   "source": [
    "def count_elements_in_range(lst, min_val, max_val):\n",
    "    # Filter the elements that fall between the minimum and maximum values\n",
    "    elements_in_range = [element for element in lst if min_val <= element <= max_val]\n",
    "    \n",
    "    # Count the number of elements in the range\n",
    "    count = len(elements_in_range)\n",
    "    \n",
    "    return count\n",
    "\n",
    "# Example list\n",
    "my_list = [14, 1, 22, 17, 36, 7, -43, 5,150, 110, 80, 100, 10, 31, 22]\n",
    "\n",
    "# Minimum and maximum values\n",
    "min_value = 20\n",
    "max_value = 80\n",
    "\n",
    "# Count and print the number of elements in the specified range\n",
    "result = count_elements_in_range(my_list, min_value, max_value)\n",
    "print(f\"The number of elements between {min_value} and {max_value} (inclusive) is: {result}\")\n"
   ]
  },
  {
   "cell_type": "markdown",
   "id": "3f816d72",
   "metadata": {},
   "source": [
    "10.Write a program that accepts a list of real numbers and prints true if the list is in sorted\n",
    "(nondecreasing) order and false otherwise. For example, if lists named list1 and list2 store\n",
    "[16.1, 12.3, 22.2, 14.4] and [1.5, 4.3, 7.0, 19.5, 25.1, 46.2] respectively, the program should\n",
    "print false for list1 and true for list2 respectively. Assume the list has at least one element. A\n",
    "one-element list is sorted."
   ]
  },
  {
   "cell_type": "code",
   "execution_count": 16,
   "id": "bfb28ffd",
   "metadata": {},
   "outputs": [
    {
     "name": "stdout",
     "output_type": "stream",
     "text": [
      "Is list1 sorted? False\n",
      "Is list2 sorted? True\n"
     ]
    }
   ],
   "source": [
    "def is_sorted(lst):\n",
    "    # Check if the list is sorted in non-decreasing order\n",
    "    return all(lst[i] <= lst[i + 1] for i in range(len(lst) - 1))\n",
    "\n",
    "# Example lists\n",
    "list1 = [16.1, 12.3, 22.2, 14.4]\n",
    "list2 = [1.5, 4.3, 7.0, 19.5, 25.1, 46.2]\n",
    "\n",
    "# Check and print if list1 is sorted\n",
    "result_list1 = is_sorted(list1)\n",
    "print(f\"Is list1 sorted? {result_list1}\")\n",
    "\n",
    "# Check and print if list2 is sorted\n",
    "result_list2 = is_sorted(list2)\n",
    "print(f\"Is list2 sorted? {result_list2}\")\n"
   ]
  },
  {
   "cell_type": "code",
   "execution_count": 18,
   "id": "e5284664",
   "metadata": {},
   "outputs": [
    {
     "name": "stdout",
     "output_type": "stream",
     "text": [
      "Is list3 sorted? True\n",
      "Is list2 sorted? False\n"
     ]
    }
   ],
   "source": [
    "def is_sorted(lst):\n",
    "    # Check if the list is sorted in non-decreasing order\n",
    "    return all(lst[i] <= lst[i + 1] for i in range(len(lst) - 1))\n",
    "\n",
    "# Example lists\n",
    "list1 = [25, 12, 2, 1]\n",
    "list2 = [11, 10, 9, 8, 7, 6]\n",
    "list3 = [10,20,30,40,50,60,80,96]\n",
    "\n",
    "# Check and print if list1 is sorted\n",
    "result_list3 = is_sorted(list3)\n",
    "print(f\"Is list3 sorted? {result_list3}\")\n",
    "\n",
    "# Check and print if list2 is sorted\n",
    "result_list2 = is_sorted(list2)\n",
    "print(f\"Is list2 sorted? {result_list2}\")"
   ]
  },
  {
   "cell_type": "markdown",
   "id": "ef5ca6dd",
   "metadata": {},
   "source": [
    "# CLASS WORK"
   ]
  },
  {
   "cell_type": "markdown",
   "id": "7bcea22c",
   "metadata": {},
   "source": [
    "1)Print the First 10 natural numbers"
   ]
  },
  {
   "cell_type": "code",
   "execution_count": 19,
   "id": "7a4a4d60",
   "metadata": {},
   "outputs": [
    {
     "name": "stdout",
     "output_type": "stream",
     "text": [
      "1 2 3 4 5 6 7 8 9 10\n"
     ]
    }
   ],
   "source": [
    "print(1,2,3,4,5,6,7,8,9,10)"
   ]
  },
  {
   "cell_type": "markdown",
   "id": "64f872a3",
   "metadata": {},
   "source": [
    "2)print(\"====The First 10 Natural Numbers====\")"
   ]
  },
  {
   "cell_type": "code",
   "execution_count": 20,
   "id": "6bec159e",
   "metadata": {},
   "outputs": [
    {
     "name": "stdout",
     "output_type": "stream",
     "text": [
      "====The First 10 Natural Numbers====\n"
     ]
    }
   ],
   "source": [
    "print(\"====The First 10 Natural Numbers====\")"
   ]
  },
  {
   "cell_type": "markdown",
   "id": "e408e503",
   "metadata": {},
   "source": [
    "3)Count the total number of digits in a number"
   ]
  },
  {
   "cell_type": "code",
   "execution_count": 24,
   "id": "d54cad4e",
   "metadata": {},
   "outputs": [
    {
     "name": "stdout",
     "output_type": "stream",
     "text": [
      "Digit Total: 16\n"
     ]
    }
   ],
   "source": [
    "number=1122334455566789\n",
    "count=0\n",
    "while number!=0:\n",
    "    number=number//10\n",
    "    count=count+1\n",
    "print('Digit Total:',count)\n",
    "    "
   ]
  },
  {
   "cell_type": "code",
   "execution_count": 41,
   "id": "4352a478",
   "metadata": {},
   "outputs": [
    {
     "name": "stdout",
     "output_type": "stream",
     "text": [
      "enter n:1122334455566789\n",
      "number of digits: 16\n"
     ]
    }
   ],
   "source": [
    "n=int(input('enter n:'))\n",
    "ct=0\n",
    "while n!=0:\n",
    "    n=n//10\n",
    "    #// is float division\n",
    "    ct+=1\n",
    "print('number of digits:',ct)"
   ]
  },
  {
   "cell_type": "markdown",
   "id": "7caabfd0",
   "metadata": {},
   "source": [
    "4)Write a program to display all prime numbers within a range"
   ]
  },
  {
   "cell_type": "code",
   "execution_count": 42,
   "id": "dbb3bbc5",
   "metadata": {},
   "outputs": [
    {
     "name": "stdout",
     "output_type": "stream",
     "text": [
      "Prime numbers between 5 and 30: [5, 7, 11, 13, 17, 19, 23, 29]\n"
     ]
    }
   ],
   "source": [
    "def is_prime(num):\n",
    "    # Function to check if a number is prime\n",
    "    if num < 2:\n",
    "        return False\n",
    "    for i in range(2, int(num**0.5) + 1):\n",
    "        if num % i == 0:\n",
    "            return False\n",
    "    return True\n",
    "\n",
    "def display_primes_in_range(start, end):\n",
    "    # Function to display prime numbers within a range\n",
    "    primes = [num for num in range(start, end + 1) if is_prime(num)]\n",
    "    return primes\n",
    "\n",
    "# Example usage\n",
    "start_range = 5\n",
    "end_range = 30\n",
    "\n",
    "prime_numbers = display_primes_in_range(start_range, end_range)\n",
    "print(f\"Prime numbers between {start_range} and {end_range}: {prime_numbers}\")\n"
   ]
  },
  {
   "cell_type": "markdown",
   "id": "a8cfbdfb",
   "metadata": {},
   "source": [
    "5)Write a program to print a multiplication table of a given number"
   ]
  },
  {
   "cell_type": "code",
   "execution_count": 44,
   "id": "16d43f3c",
   "metadata": {},
   "outputs": [
    {
     "name": "stdout",
     "output_type": "stream",
     "text": [
      "Multiplication Table for 2 (from 1 to 12):\n",
      "2 x 1 = 2\n",
      "2 x 2 = 4\n",
      "2 x 3 = 6\n",
      "2 x 4 = 8\n",
      "2 x 5 = 10\n",
      "2 x 6 = 12\n",
      "2 x 7 = 14\n",
      "2 x 8 = 16\n",
      "2 x 9 = 18\n",
      "2 x 10 = 20\n",
      "2 x 11 = 22\n",
      "2 x 12 = 24\n"
     ]
    }
   ],
   "source": [
    "def multiplication_table(number, start=1, end=12):\n",
    "    # Function to print a multiplication table for a given number\n",
    "    print(f\"Multiplication Table for {number} (from {start} to {end}):\")\n",
    "    for i in range(start, end + 1):\n",
    "        result = number * i\n",
    "        print(f\"{number} x {i} = {result}\")\n",
    "\n",
    "# Example\n",
    "given_number = 2\n",
    "multiplication_table(given_number)\n"
   ]
  },
  {
   "cell_type": "code",
   "execution_count": 47,
   "id": "e6a47858",
   "metadata": {},
   "outputs": [
    {
     "name": "stdout",
     "output_type": "stream",
     "text": [
      "\t\t\tMultiplication Tables\n",
      "\n",
      "1\n",
      "2\n",
      "3\n",
      "4\n",
      "5\n",
      "6\n",
      "7\n",
      "8\n",
      "9\n",
      "10\n",
      "11\n",
      "12\n"
     ]
    }
   ],
   "source": [
    "#lets have some fun here\n",
    "print('\\t\\t\\tMultiplication Tables\\n')\n",
    "\n",
    "for a in range (1,13):\n",
    "    print(a)\n",
    "#this prints vertically,we ain't done. Let's continue"
   ]
  },
  {
   "cell_type": "code",
   "execution_count": 48,
   "id": "0c8fcf52",
   "metadata": {},
   "outputs": [
    {
     "name": "stdout",
     "output_type": "stream",
     "text": [
      "\t\t\tMultiplication Tables\n",
      "\n",
      "1\t2\t3\t4\t5\t6\t7\t8\t9\t10\t11\t12\t"
     ]
    }
   ],
   "source": [
    "#lets have some fun here\n",
    "print('\\t\\t\\tMultiplication Tables\\n')\n",
    "\n",
    "for a in range (1,13):\n",
    "    print(a,end='\\t')\n",
    "#we added the \\t"
   ]
  },
  {
   "cell_type": "code",
   "execution_count": 59,
   "id": "53c985dc",
   "metadata": {},
   "outputs": [
    {
     "name": "stdout",
     "output_type": "stream",
     "text": [
      "\t\t\t\tMultiplication Tables\n",
      "\n",
      "1\t2\t3\t4\t5\t6\t7\t8\t9\t10\t11\t12\t\n",
      "___________________________________________________________________________________________\n",
      "\n",
      "1\t2\t3\t4\t5\t6\t7\t8\t9\t10\t11\t12\t\n",
      "\n",
      "2\t4\t6\t8\t10\t12\t14\t16\t18\t20\t22\t24\t\n",
      "\n",
      "3\t6\t9\t12\t15\t18\t21\t24\t27\t30\t33\t36\t\n",
      "\n",
      "4\t8\t12\t16\t20\t24\t28\t32\t36\t40\t44\t48\t\n",
      "\n",
      "5\t10\t15\t20\t25\t30\t35\t40\t45\t50\t55\t60\t\n",
      "\n",
      "6\t12\t18\t24\t30\t36\t42\t48\t54\t60\t66\t72\t\n",
      "\n",
      "7\t14\t21\t28\t35\t42\t49\t56\t63\t70\t77\t84\t\n",
      "\n",
      "8\t16\t24\t32\t40\t48\t56\t64\t72\t80\t88\t96\t\n",
      "\n",
      "9\t18\t27\t36\t45\t54\t63\t72\t81\t90\t99\t108\t\n",
      "\n",
      "10\t20\t30\t40\t50\t60\t70\t80\t90\t100\t110\t120\t\n",
      "\n",
      "11\t22\t33\t44\t55\t66\t77\t88\t99\t110\t121\t132\t\n",
      "\n",
      "12\t24\t36\t48\t60\t72\t84\t96\t108\t120\t132\t144\t\n",
      "\n"
     ]
    }
   ],
   "source": [
    "print('\\t\\t\\t\\tMultiplication Tables\\n')\n",
    "\n",
    "for a in range (1,13):\n",
    "    print(a,end='\\t')\n",
    "print() #print space\n",
    "print('___________________________________________________________________________________________\\n')#print a line\n",
    "\n",
    "for b in range (1,13):\n",
    "    for c in range(1,13):\n",
    "        print(b*c,end='\\t')\n",
    "    print('\\n')\n",
    "    "
   ]
  },
  {
   "cell_type": "code",
   "execution_count": null,
   "id": "5d50339f",
   "metadata": {},
   "outputs": [],
   "source": []
  }
 ],
 "metadata": {
  "kernelspec": {
   "display_name": "Python 3 (ipykernel)",
   "language": "python",
   "name": "python3"
  },
  "language_info": {
   "codemirror_mode": {
    "name": "ipython",
    "version": 3
   },
   "file_extension": ".py",
   "mimetype": "text/x-python",
   "name": "python",
   "nbconvert_exporter": "python",
   "pygments_lexer": "ipython3",
   "version": "3.11.5"
  }
 },
 "nbformat": 4,
 "nbformat_minor": 5
}
