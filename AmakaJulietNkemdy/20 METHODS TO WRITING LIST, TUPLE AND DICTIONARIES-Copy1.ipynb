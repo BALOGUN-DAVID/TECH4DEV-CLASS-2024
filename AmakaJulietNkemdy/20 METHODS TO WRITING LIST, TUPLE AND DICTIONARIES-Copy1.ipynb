{
 "cells": [
  {
   "cell_type": "markdown",
   "id": "ac0ebc07",
   "metadata": {},
   "source": [
    "10 LIST METHODS\n",
    "[] are used to define a list"
   ]
  },
  {
   "cell_type": "markdown",
   "id": "e2c1f652",
   "metadata": {},
   "source": [
    "# 1 APPEND: This appends the specified element to the end of the list."
   ]
  },
  {
   "cell_type": "code",
   "execution_count": 5,
   "id": "f69b9956",
   "metadata": {},
   "outputs": [
    {
     "name": "stdout",
     "output_type": "stream",
     "text": [
      "['Abia', 'Imo', 'Lagos', 'Kano', 'Kwara']\n"
     ]
    }
   ],
   "source": [
    "Nigeria=['Abia','Imo','Lagos','Kano']\n",
    "Nigeria.append('Kwara')\n",
    "print(Nigeria)"
   ]
  },
  {
   "cell_type": "markdown",
   "id": "aae17263",
   "metadata": {},
   "source": [
    "# 2 CLEAR: This empties or removes the fields in the list"
   ]
  },
  {
   "cell_type": "code",
   "execution_count": 6,
   "id": "2c6ac207",
   "metadata": {},
   "outputs": [],
   "source": [
    "Nigeria.clear()"
   ]
  },
  {
   "cell_type": "code",
   "execution_count": 8,
   "id": "8123e5d2",
   "metadata": {},
   "outputs": [
    {
     "name": "stdout",
     "output_type": "stream",
     "text": [
      "[]\n"
     ]
    }
   ],
   "source": [
    "print(Nigeria)"
   ]
  },
  {
   "cell_type": "markdown",
   "id": "9891b54b",
   "metadata": {},
   "source": [
    "# 3 COPY:This returns a shallow copy of the list"
   ]
  },
  {
   "cell_type": "code",
   "execution_count": 17,
   "id": "68838735",
   "metadata": {},
   "outputs": [
    {
     "name": "stdout",
     "output_type": "stream",
     "text": [
      "['Abia', 'Imo', 'Lagos', 'Kano']\n",
      "['Abia', 'Imo', 'Kano']\n"
     ]
    }
   ],
   "source": [
    "Nigeria=['Abia','Imo','Lagos','Kano']\n",
    "copy_Nigeria=Nigeria.copy() \n",
    "copy_Nigeria.remove('Lagos')\n",
    "print(Nigeria)\n",
    "print(copy_Nigeria)"
   ]
  },
  {
   "cell_type": "markdown",
   "id": "37463ec0",
   "metadata": {},
   "source": [
    "# 4 COUNT: This returns the number of occurences of the elemets in thr list"
   ]
  },
  {
   "cell_type": "code",
   "execution_count": 23,
   "id": "110d1f21",
   "metadata": {},
   "outputs": [
    {
     "name": "stdout",
     "output_type": "stream",
     "text": [
      "['Abia', 'Imo', 'Lagos', 'Kano', 'Abia']\n"
     ]
    },
    {
     "data": {
      "text/plain": [
       "2"
      ]
     },
     "execution_count": 23,
     "metadata": {},
     "output_type": "execute_result"
    }
   ],
   "source": [
    "Nigeria=['Abia', 'Imo', 'Lagos', 'Kano','Abia']\n",
    "print (Nigeria)\n",
    "Nigeria.count('Abia') \n"
   ]
  },
  {
   "cell_type": "markdown",
   "id": "d4291a7b",
   "metadata": {},
   "source": [
    "# 5 EXTEND:This extends the list by appending the elements from the iterable"
   ]
  },
  {
   "cell_type": "code",
   "execution_count": 34,
   "id": "e6c10763",
   "metadata": {},
   "outputs": [
    {
     "name": "stdout",
     "output_type": "stream",
     "text": [
      "['Abuja', 'Lagos', 'Imo', 'Jigawa']\n"
     ]
    }
   ],
   "source": [
    "Nigeria=['Abuja','Lagos']\n",
    "Nigeria2=['Imo','Jigawa']\n",
    "Nigeria.extend(Nigeria2)\n",
    "print(Nigeria)"
   ]
  },
  {
   "cell_type": "code",
   "execution_count": 35,
   "id": "5f0b5b67",
   "metadata": {},
   "outputs": [
    {
     "name": "stdout",
     "output_type": "stream",
     "text": [
      "['Abuja', 'Lagos', 'Imo', 'Jigawa', ['Imo', 'Jigawa']]\n"
     ]
    }
   ],
   "source": [
    "Nigeria.extend([Nigeria2])\n",
    "print(Nigeria)"
   ]
  },
  {
   "cell_type": "markdown",
   "id": "18f46e7a",
   "metadata": {},
   "source": [
    "# 6 INDEX:Finds the location of the element"
   ]
  },
  {
   "cell_type": "code",
   "execution_count": 39,
   "id": "451fae21",
   "metadata": {},
   "outputs": [
    {
     "name": "stdout",
     "output_type": "stream",
     "text": [
      "0\n",
      "2\n",
      "1\n"
     ]
    }
   ],
   "source": [
    "print(Nigeria.index('Abuja'))\n",
    "print(Nigeria.index('Imo'))\n",
    "print(Nigeria.index('Lagos'))"
   ]
  },
  {
   "cell_type": "markdown",
   "id": "0488829f",
   "metadata": {},
   "source": [
    "# 7 INSERT:Inserts the specified element at the specified index location"
   ]
  },
  {
   "cell_type": "code",
   "execution_count": 53,
   "id": "eb994da4",
   "metadata": {},
   "outputs": [
    {
     "name": "stdout",
     "output_type": "stream",
     "text": [
      "['Lagos', 'Niger', 'Abuja']\n"
     ]
    }
   ],
   "source": [
    "Nigeria=['Lagos','Abuja']\n",
    "Nigeria.insert(1,'Niger')\n",
    "print(Nigeria)"
   ]
  },
  {
   "cell_type": "markdown",
   "id": "557c1057",
   "metadata": {},
   "source": [
    "# 8 REMOVE:Removes the element from the array"
   ]
  },
  {
   "cell_type": "code",
   "execution_count": 59,
   "id": "ddff15d3",
   "metadata": {},
   "outputs": [
    {
     "name": "stdout",
     "output_type": "stream",
     "text": [
      "['Lagos', 'Abuja']\n"
     ]
    }
   ],
   "source": [
    "Nigeria=['Lagos','Abuja','Benue']\n",
    "Nigeria.pop() #pops out the last element on the list\n",
    "print(Nigeria)"
   ]
  },
  {
   "cell_type": "code",
   "execution_count": 60,
   "id": "0324cc11",
   "metadata": {},
   "outputs": [
    {
     "name": "stdout",
     "output_type": "stream",
     "text": [
      "['Lagos', 'Benue']\n"
     ]
    }
   ],
   "source": [
    "Nigeria=['Lagos','Abuja','Benue']\n",
    "Nigeria.pop(1) #pops out 'Abuja'\n",
    "print(Nigeria)"
   ]
  },
  {
   "cell_type": "markdown",
   "id": "5aaba993",
   "metadata": {},
   "source": [
    "Similarly, we can use 'remove'"
   ]
  },
  {
   "cell_type": "code",
   "execution_count": 62,
   "id": "099ccba9",
   "metadata": {},
   "outputs": [
    {
     "name": "stdout",
     "output_type": "stream",
     "text": [
      "['Lagos', 'Benue']\n"
     ]
    }
   ],
   "source": [
    "Nigeria=['Lagos','Abuja','Benue']\n",
    "Nigeria.remove('Abuja')\n",
    "print(Nigeria)"
   ]
  },
  {
   "cell_type": "markdown",
   "id": "e3ced09f",
   "metadata": {},
   "source": [
    "# 9 REVERSE: Reverses the element of the list in place"
   ]
  },
  {
   "cell_type": "code",
   "execution_count": 65,
   "id": "df265ca3",
   "metadata": {},
   "outputs": [
    {
     "name": "stdout",
     "output_type": "stream",
     "text": [
      "['Benue', 'Abuja', 'Lagos']\n"
     ]
    }
   ],
   "source": [
    "Nigeria=['Lagos','Abuja','Benue']\n",
    "Nigeria.reverse()\n",
    "print(Nigeria)"
   ]
  },
  {
   "cell_type": "markdown",
   "id": "0803748c",
   "metadata": {},
   "source": [
    "# 10 SORT: Sorts the list according to a specified 'key'"
   ]
  },
  {
   "cell_type": "code",
   "execution_count": 67,
   "id": "1b96f71e",
   "metadata": {},
   "outputs": [
    {
     "name": "stdout",
     "output_type": "stream",
     "text": [
      "['Abuja', 'Benue', 'Lagos']\n"
     ]
    }
   ],
   "source": [
    "Nigeria.sort()\n",
    "print(Nigeria)\n",
    "#automtically sorts in alphabetical order"
   ]
  },
  {
   "cell_type": "code",
   "execution_count": 89,
   "id": "51d81810",
   "metadata": {},
   "outputs": [
    {
     "name": "stdout",
     "output_type": "stream",
     "text": [
      "['Abuja', 'Zamfara', 'abuja', 'lagos', 'zamfara']\n"
     ]
    }
   ],
   "source": [
    "Nigeria=['Zamfara','zamfara','abuja','Abuja','lagos']\n",
    "Nigeria.sort()\n",
    "print(Nigeria)\n",
    "#it prints the Uppercase before the lowercases, all in alphabetical order"
   ]
  },
  {
   "cell_type": "code",
   "execution_count": 93,
   "id": "c5400ab4",
   "metadata": {},
   "outputs": [
    {
     "name": "stdout",
     "output_type": "stream",
     "text": [
      "['abuja', 'Benue', 'lagos', 'Zamfara']\n"
     ]
    }
   ],
   "source": [
    "#let's provide a 'key'\n",
    "Nigeria=['Benue','Zamfara','abuja','lagos']\n",
    "Nigeria.sort(key=lambda name:name.lower())\n",
    "print(Nigeria)\n",
    "#the key prints in alphabetical order, regardless of the case"
   ]
  },
  {
   "cell_type": "code",
   "execution_count": 95,
   "id": "7d086b00",
   "metadata": {},
   "outputs": [
    {
     "name": "stdout",
     "output_type": "stream",
     "text": [
      "['Imo', 'Abia', 'Lagos', 'Abuja', 'Benue', 'Taraba']\n"
     ]
    }
   ],
   "source": [
    "Nigeria=['Taraba','Lagos','Abuja','Benue','Abia','Imo']\n",
    "Nigeria.sort(key=lambda name:len(name))\n",
    "print(Nigeria)\n",
    "#this returns the each element by the length of their name"
   ]
  },
  {
   "cell_type": "code",
   "execution_count": 101,
   "id": "3c91222c",
   "metadata": {},
   "outputs": [
    {
     "name": "stdout",
     "output_type": "stream",
     "text": [
      "['Adamawa', 'Taraba', 'Lagos', 'Abuja', 'benue', 'Kano', 'Abia', 'imo']\n"
     ]
    }
   ],
   "source": [
    "#Let's reverse the list according to len, regardless of cases\n",
    "Nigeria=['Taraba','Lagos','Kano','Adamawa','Abuja','benue','Abia','imo']\n",
    "Nigeria.sort(key=lambda name:len(name),reverse =True)\n",
    "print(Nigeria)"
   ]
  },
  {
   "cell_type": "code",
   "execution_count": 102,
   "id": "cbb7333b",
   "metadata": {},
   "outputs": [
    {
     "name": "stdout",
     "output_type": "stream",
     "text": [
      "['imo', 'Kano', 'Abia', 'Lagos', 'Abuja', 'benue', 'Taraba', 'Adamawa']\n"
     ]
    }
   ],
   "source": [
    "Nigeria=['Taraba','Lagos','Kano','Adamawa','Abuja','benue','Abia','imo']\n",
    "Nigeria.sort(key=lambda name:len(name),reverse=False)\n",
    "print(Nigeria)"
   ]
  },
  {
   "cell_type": "code",
   "execution_count": 103,
   "id": "35875fb9",
   "metadata": {},
   "outputs": [
    {
     "name": "stdout",
     "output_type": "stream",
     "text": [
      "['Abia', 'Abuja', 'Adamawa', 'Kano', 'Lagos', 'Taraba', 'benue', 'imo']\n"
     ]
    }
   ],
   "source": [
    "#alphabetically,regarding the cases\n",
    "Nigeria=['Taraba','Lagos','Kano','Adamawa','Abuja','benue','Abia','imo']\n",
    "Nigeria.sort(reverse=False)\n",
    "print(Nigeria)"
   ]
  },
  {
   "cell_type": "code",
   "execution_count": 104,
   "id": "921eacb0",
   "metadata": {},
   "outputs": [
    {
     "name": "stdout",
     "output_type": "stream",
     "text": [
      "['imo', 'benue', 'Taraba', 'Lagos', 'Kano', 'Adamawa', 'Abuja', 'Abia']\n"
     ]
    }
   ],
   "source": [
    "#alphabetically,regarding the cases\n",
    "Nigeria=['Taraba','Lagos','Kano','Adamawa','Abuja','benue','Abia','imo']\n",
    "Nigeria.sort(reverse=True)\n",
    "print(Nigeria)"
   ]
  },
  {
   "cell_type": "markdown",
   "id": "e25b89ee",
   "metadata": {},
   "source": [
    "5 TUPLES METHODS\n",
    "()represents Tuples and are Immuntable.ie, once a tuple is created, one cannot modify the content."
   ]
  },
  {
   "cell_type": "markdown",
   "id": "ea683603",
   "metadata": {},
   "source": [
    "# 1 COUNT:returns the number of occurences of the specified element in the tuple "
   ]
  },
  {
   "cell_type": "code",
   "execution_count": 115,
   "id": "06ba9189",
   "metadata": {},
   "outputs": [
    {
     "data": {
      "text/plain": [
       "1"
      ]
     },
     "execution_count": 115,
     "metadata": {},
     "output_type": "execute_result"
    }
   ],
   "source": [
    "Siblings=('Dede','Amaka','Nonso','Mezu','Amara','Dera')\n",
    "Siblings.count('Amaka')\n",
    "#Amaka occurs once"
   ]
  },
  {
   "cell_type": "markdown",
   "id": "98e6007f",
   "metadata": {},
   "source": [
    "# 2 LEN: Returns the number of elements in the tuple\n"
   ]
  },
  {
   "cell_type": "code",
   "execution_count": 117,
   "id": "2f8e9590",
   "metadata": {},
   "outputs": [
    {
     "data": {
      "text/plain": [
       "6"
      ]
     },
     "execution_count": 117,
     "metadata": {},
     "output_type": "execute_result"
    }
   ],
   "source": [
    "#How many Siblings are there?\n",
    "len(Siblings)"
   ]
  },
  {
   "cell_type": "markdown",
   "id": "9521bfa4",
   "metadata": {},
   "source": [
    "# 3 MAX: Returns the largest element in the tuple"
   ]
  },
  {
   "cell_type": "code",
   "execution_count": 123,
   "id": "cd2167c3",
   "metadata": {},
   "outputs": [
    {
     "data": {
      "text/plain": [
       "28"
      ]
     },
     "execution_count": 123,
     "metadata": {},
     "output_type": "execute_result"
    }
   ],
   "source": [
    "Age=(28,25,24,22,19,17)\n",
    "max(Age)"
   ]
  },
  {
   "cell_type": "markdown",
   "id": "977a587e",
   "metadata": {},
   "source": [
    "# 4 MIN: Returns the smallest element in the tuple"
   ]
  },
  {
   "cell_type": "code",
   "execution_count": 124,
   "id": "afd74f1a",
   "metadata": {},
   "outputs": [
    {
     "data": {
      "text/plain": [
       "17"
      ]
     },
     "execution_count": 124,
     "metadata": {},
     "output_type": "execute_result"
    }
   ],
   "source": [
    "Age=(28,25,24,22,19,17)\n",
    "min(Age)"
   ]
  },
  {
   "cell_type": "markdown",
   "id": "59b50b93",
   "metadata": {},
   "source": [
    "# 5 REPETITION: Repeats the specified element in a tuple"
   ]
  },
  {
   "cell_type": "code",
   "execution_count": 127,
   "id": "6d89f386",
   "metadata": {},
   "outputs": [
    {
     "name": "stdout",
     "output_type": "stream",
     "text": [
      "('Amaka', 'Amaka', 'Amaka')\n",
      "('Dede', 'Dede', 'Dede', 'Dede', 'Dede')\n"
     ]
    }
   ],
   "source": [
    "print(('Amaka',)*3)\n",
    "print(('Dede',)*5)"
   ]
  },
  {
   "cell_type": "markdown",
   "id": "984185ed",
   "metadata": {},
   "source": [
    "5 DICTIONARY METHODS\n",
    "{}represents Dict"
   ]
  },
  {
   "cell_type": "markdown",
   "id": "484a7e1b",
   "metadata": {},
   "source": [
    "# 1 VALUES: Grabs each of the values from the Dictionary"
   ]
  },
  {
   "cell_type": "code",
   "execution_count": 129,
   "id": "2021a257",
   "metadata": {},
   "outputs": [
    {
     "name": "stdout",
     "output_type": "stream",
     "text": [
      "dict_values(['Mtn', 'Glo', '9mobile', 'Airtel'])\n"
     ]
    }
   ],
   "source": [
    "#let's create a sample dict that holds telcom.\n",
    "#networks in Nigeria and their IDs\n",
    "TelcomN:dict={0:'Mtn',1:'Glo',2:'9mobile',3:'Airtel'}\n",
    "print(TelcomN.values())\n",
    "    "
   ]
  },
  {
   "cell_type": "markdown",
   "id": "b8b7ad3c",
   "metadata": {},
   "source": [
    "# 2 COPY:returs a shallow copy of the dict"
   ]
  },
  {
   "cell_type": "code",
   "execution_count": 130,
   "id": "3b530bc3",
   "metadata": {},
   "outputs": [
    {
     "name": "stdout",
     "output_type": "stream",
     "text": [
      "{0: ['North', 'East'], 1: ['West', 'South']}\n",
      "{0: ['North', 'East'], 1: ['West', 'South']}\n"
     ]
    }
   ],
   "source": [
    "Nigeria:dict={0:['North','East'],1:['West','South']}\n",
    "my_copy:dict=Nigeria.copy()\n",
    "print(Nigeria)\n",
    "print(my_copy)"
   ]
  },
  {
   "cell_type": "markdown",
   "id": "56cbab92",
   "metadata": {},
   "source": [
    "# 3 GET:returns the value for the specified key. If the key is bot found, it returns the default value'None', if not provided."
   ]
  },
  {
   "cell_type": "code",
   "execution_count": 133,
   "id": "68a265c4",
   "metadata": {},
   "outputs": [
    {
     "name": "stdout",
     "output_type": "stream",
     "text": [
      "Airtel\n",
      "None\n",
      "9mobile\n",
      "missing\n"
     ]
    }
   ],
   "source": [
    "#Get a value from the dict without raising an exception\n",
    "TelcomN:dict={0:'Mtn',1:'Glo',2:'9mobile',3:'Airtel'}\n",
    "print(TelcomN.get(3))\n",
    "print(TelcomN.get(100))\n",
    "print(TelcomN.get(2))\n",
    "print(TelcomN.get(100,'missing'))"
   ]
  },
  {
   "cell_type": "markdown",
   "id": "9df965ee",
   "metadata": {},
   "source": [
    "# 4 CLEAR:Clears the values you have in a dict"
   ]
  },
  {
   "cell_type": "code",
   "execution_count": 134,
   "id": "ad5e6e13",
   "metadata": {},
   "outputs": [
    {
     "name": "stdout",
     "output_type": "stream",
     "text": [
      "{}\n"
     ]
    }
   ],
   "source": [
    "TelcomN:dict={0:'Mtn',1:'Glo',2:'9mobile',3:'Airtel'}\n",
    "TelcomN.clear()\n",
    "print (TelcomN)"
   ]
  },
  {
   "cell_type": "markdown",
   "id": "3481ac1c",
   "metadata": {},
   "source": [
    "# 5 FROMKEYS:Returns a new dict with specified keys and the same default value for all keys"
   ]
  },
  {
   "cell_type": "code",
   "execution_count": 136,
   "id": "3850563c",
   "metadata": {},
   "outputs": [
    {
     "name": "stdout",
     "output_type": "stream",
     "text": [
      "{'Mtn': None, 'Glo': None, '9mobile': None, 'Airtel': None}\n"
     ]
    }
   ],
   "source": [
    "Network=['Mtn','Glo','9mobile','Airtel']\n",
    "TelcomN:dict=dict.fromkeys(Network)\n",
    "print(TelcomN)\n",
    "#we did not specify any key to be returned,hence'none' as default key "
   ]
  },
  {
   "cell_type": "code",
   "execution_count": 139,
   "id": "2b7905fd",
   "metadata": {},
   "outputs": [
    {
     "name": "stdout",
     "output_type": "stream",
     "text": [
      "{'Mtn': 'working', 'Glo': 'working', '9mobile': 'working', 'Airtel': 'working'}\n"
     ]
    }
   ],
   "source": [
    "Network=['Mtn','Glo','9mobile','Airtel']\n",
    "TelcomN:dict=dict.fromkeys(Network,'working')\n",
    "print(TelcomN)\n",
    "#show'working'as default key using the 'fromkeys' function in a dict."
   ]
  },
  {
   "cell_type": "code",
   "execution_count": 145,
   "id": "ab149f9f",
   "metadata": {},
   "outputs": [
    {
     "name": "stdout",
     "output_type": "stream",
     "text": [
      "sum:245\n",
      "count:10\n",
      "average:24.5\n"
     ]
    }
   ],
   "source": [
    "numbers=[4,7,1,5,11,53,12,45,84,23]\n",
    "sum = 0\n",
    "for s in numbers:\n",
    "    sum += s\n",
    "print(f'sum:{sum}')\n",
    "print(f'count:{len(numbers)}')\n",
    "print(f'average:{sum/len(numbers)}')"
   ]
  },
  {
   "cell_type": "code",
   "execution_count": null,
   "id": "e83233d3",
   "metadata": {},
   "outputs": [],
   "source": [
    "numbers=[2,4,7,4,23,5,1,4,8,9]\n",
    "max = 0\n",
    "for m in numbers:\n",
    "    max += s\n",
    "print(f'sum:{sum}')\n",
    "print(f'count:{len(numbers)}')\n",
    "print(f'average:{sum/len(numbers)}')"
   ]
  }
 ],
 "metadata": {
  "kernelspec": {
   "display_name": "Python 3 (ipykernel)",
   "language": "python",
   "name": "python3"
  },
  "language_info": {
   "codemirror_mode": {
    "name": "ipython",
    "version": 3
   },
   "file_extension": ".py",
   "mimetype": "text/x-python",
   "name": "python",
   "nbconvert_exporter": "python",
   "pygments_lexer": "ipython3",
   "version": "3.11.5"
  }
 },
 "nbformat": 4,
 "nbformat_minor": 5
}
