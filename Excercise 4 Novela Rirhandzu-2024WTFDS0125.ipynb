{
 "cells": [
  {
   "cell_type": "markdown",
   "id": "5e124733",
   "metadata": {},
   "source": [
    "# Exercise 4"
   ]
  },
  {
   "cell_type": "raw",
   "id": "c5f28772",
   "metadata": {},
   "source": [
    "1 Write a program to produce the following output using for loop\n",
    "+----+\n",
    "\\ /\n",
    "/ \\\n",
    "\\ /\n",
    "/ \\\n",
    "\\ /\n",
    "/ \\\n",
    "+----+"
   ]
  },
  {
   "cell_type": "code",
   "execution_count": 1,
   "id": "51dd85aa",
   "metadata": {},
   "outputs": [
    {
     "name": "stdout",
     "output_type": "stream",
     "text": [
      "+----+\n",
      "\\    /\n",
      "/    \\\n",
      "\\    /\n",
      "/    \\\n",
      "\\    /\n",
      "/    \\\n",
      "+----+\n"
     ]
    }
   ],
   "source": [
    "for i in range(5):\n",
    "    if i == 0 or i == 4:\n",
    "        print(\"+----+\")\n",
    "    else:\n",
    "        print(\"\\\\    /\")\n",
    "        print(\"/    \\\\\")\n",
    "\n"
   ]
  },
  {
   "cell_type": "raw",
   "id": "a453e765",
   "metadata": {},
   "source": [
    "2 Write a program to produce the following output using for loop\n",
    "**********\n",
    "**********\n",
    "**********\n",
    "**********\n",
    "**********"
   ]
  },
  {
   "cell_type": "code",
   "execution_count": 2,
   "id": "17944972",
   "metadata": {},
   "outputs": [
    {
     "name": "stdout",
     "output_type": "stream",
     "text": [
      "**********\n",
      "**********\n",
      "**********\n",
      "**********\n",
      "**********\n"
     ]
    }
   ],
   "source": [
    "for i in range(5):\n",
    "    print(\"**********\")\n"
   ]
  },
  {
   "cell_type": "raw",
   "id": "09b634d1",
   "metadata": {},
   "source": [
    "Complete the code for the following for loop:\n",
    "for in range(1,7):\n",
    "//your code here\n",
    "so that it prints the following numbers, one per line"
   ]
  },
  {
   "cell_type": "code",
   "execution_count": 3,
   "id": "f8f0adef",
   "metadata": {},
   "outputs": [
    {
     "name": "stdout",
     "output_type": "stream",
     "text": [
      "1 2 0 9 -7 94 -4\n",
      "2 4 3 19 -10 95 10\n",
      "3 6 8 29 -13 96 24\n",
      "4 8 15 39 -16 97 38\n",
      "5 10 24 49 -19 98 52\n",
      "6 12 35 59 -22 99 66\n"
     ]
    }
   ],
   "source": [
    "for i in range(1, 7):\n",
    "    a = i\n",
    "    b = i * 2\n",
    "    c = i ** 2 - 1\n",
    "    d = 10 * i - 1\n",
    "    e = -3 * i - 4\n",
    "    f = 93 + i\n",
    "    g = 14 * i - 18\n",
    "\n",
    "    print(f\"{a} {b} {c} {d} {e} {f} {g}\")"
   ]
  },
  {
   "cell_type": "raw",
   "id": "f3e08b2a",
   "metadata": {},
   "source": [
    "4 Write a program to produce the following output using for loops. Then\n",
    "use a class constant to make it possible to change the number of lines in\n",
    "the figure.\n",
    "1\n",
    "22\n",
    "333\n",
    "4444\n",
    "55555\n",
    "666666\n",
    "7777777"
   ]
  },
  {
   "cell_type": "code",
   "execution_count": 4,
   "id": "f9dd2e11",
   "metadata": {},
   "outputs": [
    {
     "name": "stdout",
     "output_type": "stream",
     "text": [
      "1\n",
      "22\n",
      "333\n",
      "4444\n",
      "55555\n",
      "666666\n",
      "7777777\n"
     ]
    }
   ],
   "source": [
    "class Figure:\n",
    "    LINES = 7 \n",
    "\n",
    "    @staticmethod\n",
    "    def print_figure():\n",
    "        for i in range(1, Figure.LINES + 1):\n",
    "            for j in range(i):\n",
    "                print(i, end='')\n",
    "            print()\n",
    "Figure.print_figure()"
   ]
  },
  {
   "cell_type": "raw",
   "id": "00ee767c",
   "metadata": {},
   "source": [
    "5 Write a method named pay that accepts two parameters: a real number\n",
    "for a TA's salary, and an integer for the number of hours the TA worked\n",
    "this week. The method should return how much money to pay the TA.\n",
    "For example, the call\n",
    "pay(5.50, 6)\n",
    "should return\n",
    "33.0.\n",
    "The TA should receive \"overtime\" pay of 1 ½ normal salary for any hours\n",
    "above 8. For example, the call pay(4.00, 11) should return (4.00 *\n",
    "8) + (6.00 * 3) or 50.0."
   ]
  },
  {
   "cell_type": "code",
   "execution_count": 5,
   "id": "b96757e3",
   "metadata": {},
   "outputs": [
    {
     "name": "stdout",
     "output_type": "stream",
     "text": [
      "The payment for the first example is: 33.0\n",
      "The payment for the second example is: 50.0\n"
     ]
    }
   ],
   "source": [
    "def pay(hourly_rate, hours_worked):\n",
    "    normal_hours = min(hours_worked, 8)\n",
    "    overtime_hours = max(0, hours_worked - 8)\n",
    "\n",
    "    normal_pay = normal_hours * hourly_rate\n",
    "    overtime_pay = overtime_hours * (hourly_rate * 1.5)\n",
    "\n",
    "    total_pay = normal_pay + overtime_pay\n",
    "    return total_pay\n",
    "\n",
    "hourly_rate1 = 5.50\n",
    "hours_worked1 = 6\n",
    "result1 = pay(hourly_rate1, hours_worked1)\n",
    "print(f\"The payment for the first example is: {result1}\")\n",
    "\n",
    "hourly_rate2 = 4.00\n",
    "hours_worked2 = 11\n",
    "result2 = pay(hourly_rate2, hours_worked2)\n",
    "print(f\"The payment for the second example is: {result2}\")\n"
   ]
  },
  {
   "cell_type": "raw",
   "id": "2c02f8dc",
   "metadata": {},
   "source": [
    "6 Consider the following method for converting milliseconds into days:\n",
    "// converts milliseconds to days\n",
    "def toDays(millis):\n",
    "return millis / 1000.0 / 60.0 / 60.0 / 24.0\n",
    "Write a similar method named area that takes as a parameter the radius of\n",
    "a circle and that returns the area of the circle. For example, the call\n",
    "area(2.0);\n",
    "should return\n",
    "12.566370614359172.\n",
    "Recall that area can be computed as π times the radius squared and that\n",
    "Python has a constant called math.pi"
   ]
  },
  {
   "cell_type": "code",
   "execution_count": 6,
   "id": "643fb536",
   "metadata": {},
   "outputs": [
    {
     "name": "stdout",
     "output_type": "stream",
     "text": [
      "The area of the circle with radius 2.0 is: 12.566370614359172\n"
     ]
    }
   ],
   "source": [
    "import math\n",
    "\n",
    "def calculate_area(radius):\n",
    "    return math.pi * radius**2\n",
    "\n",
    "radius = 2.0\n",
    "result = calculate_area(radius)\n",
    "print(f\"The area of the circle with radius {radius} is: {result}\")\n"
   ]
  },
  {
   "cell_type": "raw",
   "id": "f5e76406",
   "metadata": {},
   "source": [
    "7 Copy and paste the following code into pythons IDLE script\n",
    "environment.\n",
    "low = 1\n",
    "high = 1001\n",
    "sum = 0\n",
    "for i in range(low,high):\n",
    "sum += i\n",
    "print(\"sum = \" , sum)\n",
    "Modify the code to use a input to prompt the user for the values of low\n",
    "and high. Below is a sample execution in which the user asks for the same\n",
    "values as in the original program (1 through 1000):\n",
    "low? 1\n",
    "high? 1001\n",
    "sum = 500500\n",
    "Below is an execution with different values for low and high:\n",
    "low? 300\n",
    "high? 5298\n",
    "sum = 13986903\n",
    "You should exactly reproduce this format."
   ]
  },
  {
   "cell_type": "code",
   "execution_count": 7,
   "id": "e4abaaf8",
   "metadata": {},
   "outputs": [
    {
     "name": "stdout",
     "output_type": "stream",
     "text": [
      "low? 5\n",
      "high? 10\n",
      "sum = 35\n"
     ]
    }
   ],
   "source": [
    "low = int(input(\"low? \"))\n",
    "high = int(input(\"high? \"))\n",
    "sum_result = 0\n",
    "\n",
    "for i in range(low, high):\n",
    "    sum_result += i\n",
    "\n",
    "print(\"sum =\", sum_result)\n"
   ]
  },
  {
   "cell_type": "raw",
   "id": "1aeda265",
   "metadata": {},
   "source": [
    "8 Write a program using while loop that prompts the user for numbers until\n",
    "the user types 0, then outputs their sum."
   ]
  },
  {
   "cell_type": "code",
   "execution_count": 8,
   "id": "a436088e",
   "metadata": {},
   "outputs": [
    {
     "name": "stdout",
     "output_type": "stream",
     "text": [
      "Enter a number (type 0 to stop): 5\n",
      "Enter a number (type 0 to stop): 6\n",
      "Enter a number (type 0 to stop): 0\n",
      "Sum of the numbers entered: 11\n"
     ]
    }
   ],
   "source": [
    "sum_result = 0\n",
    "\n",
    "while True:\n",
    "    user_input = int(input(\"Enter a number (type 0 to stop): \"))\n",
    "    \n",
    "    if user_input == 0:\n",
    "        break\n",
    "    \n",
    "    sum_result += user_input\n",
    "\n",
    "print(\"Sum of the numbers entered:\", sum_result)\n"
   ]
  },
  {
   "cell_type": "raw",
   "id": "bac3b271",
   "metadata": {},
   "source": [
    "9 Write a program using while loop that prompts the user for numbers until\n",
    "the user types -1, then outputs their sum."
   ]
  },
  {
   "cell_type": "code",
   "execution_count": 9,
   "id": "099bf5e3",
   "metadata": {},
   "outputs": [
    {
     "name": "stdout",
     "output_type": "stream",
     "text": [
      "Enter a number (type -1 to stop): 9\n",
      "Enter a number (type -1 to stop): 5\n",
      "Enter a number (type -1 to stop): -1\n",
      "Sum of the numbers entered: 14\n"
     ]
    }
   ],
   "source": [
    "sum_result = 0\n",
    "\n",
    "while True:\n",
    "    user_input = int(input(\"Enter a number (type -1 to stop): \"))\n",
    "    \n",
    "    if user_input == -1:\n",
    "        break\n",
    "    \n",
    "    sum_result += user_input\n",
    "\n",
    "print(\"Sum of the numbers entered:\", sum_result)\n"
   ]
  },
  {
   "cell_type": "raw",
   "id": "628d804b",
   "metadata": {},
   "source": [
    "10 Write a method named repl that accepts a String and a number of\n",
    "repetitions as parameters and returns the String concatenated that many\n",
    "times. For example, the call repl(\"hello\", 3) returns \"hellohellohello\".\n",
    "If the number of repetitions is 0 or less, an empty string is returned."
   ]
  },
  {
   "cell_type": "code",
   "execution_count": 10,
   "id": "697e4b5a",
   "metadata": {},
   "outputs": [
    {
     "name": "stdout",
     "output_type": "stream",
     "text": [
      "hellohellohello\n"
     ]
    }
   ],
   "source": [
    "def repl(input_str, repetitions):\n",
    "    if repetitions <= 0:\n",
    "        return \"\"\n",
    "    else:\n",
    "        return input_str * repetitions\n",
    "\n",
    "input_string = \"hello\"\n",
    "repetition_count = 3\n",
    "result = repl(input_string, repetition_count)\n",
    "print(result)\n"
   ]
  },
  {
   "cell_type": "raw",
   "id": "d3afb8f7",
   "metadata": {},
   "source": [
    "11 Write a method called printRange that accepts two integers as arguments and\n",
    "prints the sequence of numbers between the two arguments, separated by\n",
    "spaces. Print an increasing sequence if the first argument is smaller than\n",
    "the second; otherwise, print a decreasing sequence. If the two numbers\n",
    "are the same, that number should be printed by itself. Here are some\n",
    "sample calls to printRange:\n",
    "printRange(2, 7)\n",
    "printRange(19, 11)\n",
    "printRange(5, 5)\n",
    "The output produced should be the following:\n",
    "2 3 4 5 6 7\n",
    "19 18 17 16 15 14 13 12 11\n",
    "5"
   ]
  },
  {
   "cell_type": "code",
   "execution_count": 11,
   "id": "14d22bef",
   "metadata": {},
   "outputs": [
    {
     "name": "stdout",
     "output_type": "stream",
     "text": [
      "2 3 4 5 6 7 \n",
      "\n",
      "19 18 17 16 15 14 13 12 11 \n",
      "\n",
      "5\n"
     ]
    }
   ],
   "source": [
    "def printRange(start, end):\n",
    "    if start < end:\n",
    "        for i in range(start, end + 1):\n",
    "            print(i, end=\" \")\n",
    "    elif start > end:\n",
    "        for i in range(start, end - 1, -1):\n",
    "            print(i, end=\" \")\n",
    "    else:\n",
    "        print(start)\n",
    "\n",
    "printRange(2, 7)\n",
    "print(\"\\n\")  \n",
    "printRange(19, 11)\n",
    "print(\"\\n\")  \n",
    "printRange(5, 5)\n"
   ]
  },
  {
   "cell_type": "raw",
   "id": "03860797",
   "metadata": {},
   "source": [
    "12 Write a method named smallestLargest that asks the user to enter numbers,\n",
    "then prints the smallest and largest of all the numbers typed in by the\n",
    "user. You may assume the user enters a valid number greater than 0 for\n",
    "the number of numbers to read. Here is an example dialogue:\n",
    "How many numbers do you want to enter? 4\n",
    "Number 1: 5\n",
    "Number 2: 11\n",
    "Number 3: -2\n",
    "Number 4: 3\n",
    "Smallest = -2"
   ]
  },
  {
   "cell_type": "code",
   "execution_count": 12,
   "id": "6177a9c5",
   "metadata": {},
   "outputs": [
    {
     "name": "stdout",
     "output_type": "stream",
     "text": [
      "How many numbers do you want to enter? 2\n",
      "Number 1: 1\n",
      "Number 2: 2\n",
      "Smallest = 1.0\n"
     ]
    }
   ],
   "source": [
    "def smallestLargest():\n",
    "    num_of_numbers = int(input(\"How many numbers do you want to enter? \"))\n",
    "\n",
    "    smallest = float('inf')  \n",
    "    largest = float('-inf') \n",
    "\n",
    "    for i in range(1, num_of_numbers + 1):\n",
    "        current_number = float(input(f\"Number {i}: \"))\n",
    "\n",
    "\n",
    "        smallest = min(smallest, current_number)\n",
    "        largest = max(largest, current_number)\n",
    "\n",
    "    print(f\"Smallest = {smallest}\")\n",
    "\n",
    "smallestLargest()\n"
   ]
  },
  {
   "cell_type": "code",
   "execution_count": null,
   "id": "1def86cc",
   "metadata": {},
   "outputs": [],
   "source": []
  }
 ],
 "metadata": {
  "kernelspec": {
   "display_name": "Python 3 (ipykernel)",
   "language": "python",
   "name": "python3"
  },
  "language_info": {
   "codemirror_mode": {
    "name": "ipython",
    "version": 3
   },
   "file_extension": ".py",
   "mimetype": "text/x-python",
   "name": "python",
   "nbconvert_exporter": "python",
   "pygments_lexer": "ipython3",
   "version": "3.11.5"
  }
 },
 "nbformat": 4,
 "nbformat_minor": 5
}
