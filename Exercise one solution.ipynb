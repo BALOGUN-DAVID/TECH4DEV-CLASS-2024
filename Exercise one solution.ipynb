{
 "cells": [
  {
   "cell_type": "markdown",
   "id": "5e6f823e",
   "metadata": {},
   "source": [
    "# Exercise 1.0"
   ]
  },
  {
   "cell_type": "markdown",
   "id": "4cbd0b86",
   "metadata": {},
   "source": [
    "1.0 What is the output of the following print statement"
   ]
  },
  {
   "cell_type": "code",
   "execution_count": 1,
   "id": "d9f7b624",
   "metadata": {},
   "outputs": [
    {
     "name": "stdout",
     "output_type": "stream",
     "text": [
      "\ta\tb\tc\n"
     ]
    }
   ],
   "source": [
    "#1a solution#\n",
    "print (\"\\ta\\tb\\tc\")"
   ]
  },
  {
   "cell_type": "code",
   "execution_count": 2,
   "id": "83e0e291",
   "metadata": {},
   "outputs": [
    {
     "name": "stdout",
     "output_type": "stream",
     "text": [
      "\\\\\n"
     ]
    }
   ],
   "source": [
    "#1b solution#\n",
    "print (\"\\\\\\\\\")"
   ]
  },
  {
   "cell_type": "code",
   "execution_count": 3,
   "id": "46770779",
   "metadata": {},
   "outputs": [
    {
     "name": "stdout",
     "output_type": "stream",
     "text": [
      "'\n"
     ]
    }
   ],
   "source": [
    "#1c solution#\n",
    "print (\"'\")"
   ]
  },
  {
   "cell_type": "code",
   "execution_count": 4,
   "id": "e8e9112e",
   "metadata": {},
   "outputs": [
    {
     "name": "stdout",
     "output_type": "stream",
     "text": [
      "\"\"\"\n"
     ]
    }
   ],
   "source": [
    "#1d solution#\n",
    "print (\"\\\"\\\"\\\"\")"
   ]
  },
  {
   "cell_type": "code",
   "execution_count": 16,
   "id": "45b256e4",
   "metadata": {},
   "outputs": [
    {
     "name": "stdout",
     "output_type": "stream",
     "text": [
      "C:\n",
      "in\\The downward spiral\n"
     ]
    }
   ],
   "source": [
    "#1e solutions#\n",
    "print (\"C:\\nin\\The downward spiral\")"
   ]
  },
  {
   "cell_type": "markdown",
   "id": "391ce87e",
   "metadata": {},
   "source": [
    "2.0 Write a print statement to produce this output:"
   ]
  },
  {
   "cell_type": "code",
   "execution_count": 6,
   "id": "2384cd46",
   "metadata": {},
   "outputs": [
    {
     "name": "stdout",
     "output_type": "stream",
     "text": [
      "/\n"
     ]
    }
   ],
   "source": [
    "#2a solution#\n",
    "print (\"/\")"
   ]
  },
  {
   "cell_type": "code",
   "execution_count": 10,
   "id": "ea31bbf4",
   "metadata": {},
   "outputs": [
    {
     "name": "stdout",
     "output_type": "stream",
     "text": [
      "\\\n"
     ]
    }
   ],
   "source": [
    "#2b solution#\n",
    "print (\"\\\\\")"
   ]
  },
  {
   "cell_type": "code",
   "execution_count": 11,
   "id": "2a8f2c75",
   "metadata": {},
   "outputs": [
    {
     "name": "stdout",
     "output_type": "stream",
     "text": [
      "//\n"
     ]
    }
   ],
   "source": [
    "#2c solution#\n",
    "print (\"//\")"
   ]
  },
  {
   "cell_type": "code",
   "execution_count": 12,
   "id": "c4d3770f",
   "metadata": {},
   "outputs": [
    {
     "name": "stdout",
     "output_type": "stream",
     "text": [
      "\\\\\n"
     ]
    }
   ],
   "source": [
    "#2d solution#\n",
    "print (\"\\\\\\\\\")"
   ]
  },
  {
   "cell_type": "code",
   "execution_count": 13,
   "id": "532c5d10",
   "metadata": {},
   "outputs": [
    {
     "name": "stdout",
     "output_type": "stream",
     "text": [
      "///\n"
     ]
    }
   ],
   "source": [
    "#2e solution#\n",
    "print (\"///\")"
   ]
  },
  {
   "cell_type": "code",
   "execution_count": 14,
   "id": "c93381a1",
   "metadata": {},
   "outputs": [
    {
     "name": "stdout",
     "output_type": "stream",
     "text": [
      "\\\\\\\n"
     ]
    }
   ],
   "source": [
    "#2f solution#\n",
    "print (\"\\\\\\\\\\\\\")"
   ]
  },
  {
   "cell_type": "markdown",
   "id": "845d6c15",
   "metadata": {},
   "source": [
    "3.0 What print statement will generate this output?:"
   ]
  },
  {
   "cell_type": "code",
   "execution_count": 22,
   "id": "3f05cf00",
   "metadata": {},
   "outputs": [
    {
     "name": "stdout",
     "output_type": "stream",
     "text": [
      "This quote is from\n",
      "Irish poet Oscar Wilde:\n",
      "\"Music makes one feel so romantic\n",
      "-at least it always gets on one's nerves -\n",
      "which is the same thing nowadays.\"\n"
     ]
    }
   ],
   "source": [
    "print (\"This quote is from\")\n",
    "print (\"Irish poet Oscar Wilde:\")\n",
    "print (\"\\\"Music makes one feel so romantic\")\n",
    "print (\"-at least it always gets on one's nerves -\")\n",
    "print (\"which is the same thing nowadays.\\\"\")"
   ]
  },
  {
   "cell_type": "markdown",
   "id": "732b3fa7",
   "metadata": {},
   "source": [
    "4.0 What print statement will generate this output?:"
   ]
  },
  {
   "cell_type": "code",
   "execution_count": 24,
   "id": "77ff88e7",
   "metadata": {},
   "outputs": [
    {
     "name": "stdout",
     "output_type": "stream",
     "text": [
      "A \"quoted\" string is\n",
      "'much' better if you learn\n",
      "the rules of \"escape sequences.\"\n",
      "Also \"\" represents an empty string\n",
      "Don't forget: use \\\" instead of \" !\n",
      "''is not the same as\"\n"
     ]
    }
   ],
   "source": [
    "print (\"A \\\"quoted\\\" string is\")\n",
    "print (\"'much' better if you learn\")\n",
    "print (\"the rules of \\\"escape sequences.\\\"\")\n",
    "print (\"Also \\\"\\\" represents an empty string\")\n",
    "print (\"Don't forget: use \\\\\\\" instead of \\\" !\")\n",
    "print (\"''is not the same as\\\"\")"
   ]
  },
  {
   "cell_type": "markdown",
   "id": "7c2e408a",
   "metadata": {},
   "source": [
    "5.0 What Value results from the following expression?:"
   ]
  },
  {
   "cell_type": "code",
   "execution_count": 25,
   "id": "59c44348",
   "metadata": {},
   "outputs": [
    {
     "data": {
      "text/plain": [
       "1.8"
      ]
     },
     "execution_count": 25,
     "metadata": {},
     "output_type": "execute_result"
    }
   ],
   "source": [
    "#5a solution#\n",
    "9/5"
   ]
  },
  {
   "cell_type": "code",
   "execution_count": 26,
   "id": "db2bb25f",
   "metadata": {},
   "outputs": [
    {
     "data": {
      "text/plain": [
       "15"
      ]
     },
     "execution_count": 26,
     "metadata": {},
     "output_type": "execute_result"
    }
   ],
   "source": [
    "#5b solution#\n",
    "695%20"
   ]
  },
  {
   "cell_type": "code",
   "execution_count": 27,
   "id": "eaddde56",
   "metadata": {},
   "outputs": [
    {
     "data": {
      "text/plain": [
       "37"
      ]
     },
     "execution_count": 27,
     "metadata": {},
     "output_type": "execute_result"
    }
   ],
   "source": [
    "#5c solution#\n",
    "7+6*5"
   ]
  },
  {
   "cell_type": "code",
   "execution_count": 28,
   "id": "5209d48a",
   "metadata": {},
   "outputs": [
    {
     "data": {
      "text/plain": [
       "47"
      ]
     },
     "execution_count": 28,
     "metadata": {},
     "output_type": "execute_result"
    }
   ],
   "source": [
    "#5d solution#\n",
    "7*6+5"
   ]
  },
  {
   "cell_type": "code",
   "execution_count": 29,
   "id": "03cd2e94",
   "metadata": {},
   "outputs": [
    {
     "data": {
      "text/plain": [
       "9.6"
      ]
     },
     "execution_count": 29,
     "metadata": {},
     "output_type": "execute_result"
    }
   ],
   "source": [
    "#5e solution#\n",
    "248%100/5"
   ]
  },
  {
   "cell_type": "code",
   "execution_count": 30,
   "id": "4ea18051",
   "metadata": {},
   "outputs": [
    {
     "data": {
      "text/plain": [
       "15.75"
      ]
     },
     "execution_count": 30,
     "metadata": {},
     "output_type": "execute_result"
    }
   ],
   "source": [
    "#5f solution#\n",
    "6*3-9/4"
   ]
  },
  {
   "cell_type": "code",
   "execution_count": 31,
   "id": "b7e9b866",
   "metadata": {},
   "outputs": [
    {
     "data": {
      "text/plain": [
       "-8"
      ]
     },
     "execution_count": 31,
     "metadata": {},
     "output_type": "execute_result"
    }
   ],
   "source": [
    "#5g solution#\n",
    "(5-7)*4"
   ]
  },
  {
   "cell_type": "code",
   "execution_count": 32,
   "id": "babf2f46",
   "metadata": {},
   "outputs": [
    {
     "data": {
      "text/plain": [
       "9"
      ]
     },
     "execution_count": 32,
     "metadata": {},
     "output_type": "execute_result"
    }
   ],
   "source": [
    "#5h solution#\n",
    "6+(18%(17-12))"
   ]
  },
  {
   "cell_type": "code",
   "execution_count": null,
   "id": "74c6dcef",
   "metadata": {},
   "outputs": [],
   "source": []
  }
 ],
 "metadata": {
  "kernelspec": {
   "display_name": "Python 3 (ipykernel)",
   "language": "python",
   "name": "python3"
  },
  "language_info": {
   "codemirror_mode": {
    "name": "ipython",
    "version": 3
   },
   "file_extension": ".py",
   "mimetype": "text/x-python",
   "name": "python",
   "nbconvert_exporter": "python",
   "pygments_lexer": "ipython3",
   "version": "3.11.5"
  }
 },
 "nbformat": 4,
 "nbformat_minor": 5
}
