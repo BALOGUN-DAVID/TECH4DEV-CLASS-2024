{
 "cells": [
  {
   "cell_type": "markdown",
   "id": "6494bd6e-a170-4c8d-b702-a7329973b7b5",
   "metadata": {},
   "source": [
    "1.\tWhat is the output of the following print statements?"
   ]
  },
  {
   "cell_type": "code",
   "execution_count": 2,
   "id": "83fc1d50-febf-4d91-b1ca-e4faf3dd6c31",
   "metadata": {},
   "outputs": [
    {
     "name": "stdout",
     "output_type": "stream",
     "text": [
      "\ta\tb\tc\n"
     ]
    }
   ],
   "source": [
    "print(\"\\ta\\tb\\tc\") "
   ]
  },
  {
   "cell_type": "code",
   "execution_count": 3,
   "id": "3e7ad458-037a-4eaf-af20-98feb58a67bf",
   "metadata": {},
   "outputs": [
    {
     "name": "stdout",
     "output_type": "stream",
     "text": [
      "\\\\\n"
     ]
    }
   ],
   "source": [
    "print(\"\\\\\\\\\")"
   ]
  },
  {
   "cell_type": "code",
   "execution_count": 4,
   "id": "1e967318-1409-4ca2-aded-5a2f461277cb",
   "metadata": {},
   "outputs": [
    {
     "name": "stdout",
     "output_type": "stream",
     "text": [
      "'\n"
     ]
    }
   ],
   "source": [
    "print(\"'\")"
   ]
  },
  {
   "cell_type": "code",
   "execution_count": 5,
   "id": "db0505e6-e11c-4709-82eb-dc36a496c5ed",
   "metadata": {},
   "outputs": [
    {
     "name": "stdout",
     "output_type": "stream",
     "text": [
      "\"\"\"\n"
     ]
    }
   ],
   "source": [
    "print(\"\\\"\\\"\\\"\")"
   ]
  },
  {
   "cell_type": "code",
   "execution_count": 6,
   "id": "c6558380-199f-49b8-bb71-0392626166f6",
   "metadata": {},
   "outputs": [
    {
     "name": "stdout",
     "output_type": "stream",
     "text": [
      "C:\n",
      "in\the downward spiral\n"
     ]
    }
   ],
   "source": [
    "print(\"C:\\nin\\the downward spiral\")"
   ]
  },
  {
   "cell_type": "markdown",
   "id": "1c865eea-be9d-4a2b-be5a-8bfefc8791a2",
   "metadata": {},
   "source": [
    "2.\tWrite a print statement to produce this output:"
   ]
  },
  {
   "cell_type": "code",
   "execution_count": 7,
   "id": "a4092f3b-cb19-4535-8c9a-8ae066aed4b6",
   "metadata": {},
   "outputs": [
    {
     "name": "stdout",
     "output_type": "stream",
     "text": [
      "/ \\ // \\\\ /// \\\\\\\n"
     ]
    }
   ],
   "source": [
    "print(\"/ \\\\ // \\\\\\\\ /// \\\\\\\\\\\\\")"
   ]
  },
  {
   "cell_type": "markdown",
   "id": "92dafccd-4084-4dab-959e-a07fdb7a7a90",
   "metadata": {},
   "source": [
    "3.\tWhat print statements will generate this output?"
   ]
  },
  {
   "cell_type": "code",
   "execution_count": 8,
   "id": "02e39f61-e45b-4729-b189-568ff812811e",
   "metadata": {},
   "outputs": [
    {
     "name": "stdout",
     "output_type": "stream",
     "text": [
      "This quote is from \n",
      "Irish poet Oscar Wilde: \n",
      "\"Music makes one feel so romantic \n",
      "- at least it always gets on one's nerves – \n",
      "which is the same thing nowadays.\"\n"
     ]
    }
   ],
   "source": [
    "print(\"This quote is from \\nIrish poet Oscar Wilde: \\n\\\"Music makes one feel so romantic \\n- at least it always gets on one's nerves – \\nwhich is the same thing nowadays.\\\"\")"
   ]
  },
  {
   "cell_type": "markdown",
   "id": "e2eba136-381f-4892-88fd-5573b34d4cb1",
   "metadata": {},
   "source": [
    "4.\tWhat print statements will generate this output?"
   ]
  },
  {
   "cell_type": "code",
   "execution_count": 9,
   "id": "a6ea794f-8464-4dc6-bb5c-6891289c85d6",
   "metadata": {},
   "outputs": [
    {
     "name": "stdout",
     "output_type": "stream",
     "text": [
      "A \"quoted\" String is \n",
      "'much' better if you learn \n",
      "the rules of \"escape sequences.\" \n",
      "Also, \"\" represents an empty String. \n",
      "Don't forget: use \\\" instead of \" ! \n",
      "'' is not the same as \"   \n"
     ]
    }
   ],
   "source": [
    "print(\"A \\\"quoted\\\" String is \\n'much' better if you learn \\nthe rules of \\\"escape sequences.\\\" \\nAlso, \\\"\\\" represents an empty String. \\nDon't forget: use \\\\\\\" instead of \\\" ! \\n\\'\\' is not the same as \\\"   \")"
   ]
  },
  {
   "cell_type": "markdown",
   "id": "49ce3349-f5b2-44c2-808f-9b6acee04973",
   "metadata": {},
   "source": [
    "5.\tWhat values result from the following expressions?"
   ]
  },
  {
   "cell_type": "code",
   "execution_count": 10,
   "id": "cd647373-f60d-413e-9b61-24b65665f748",
   "metadata": {},
   "outputs": [
    {
     "name": "stdout",
     "output_type": "stream",
     "text": [
      "1.8\n"
     ]
    }
   ],
   "source": [
    "print(9 / 5)"
   ]
  },
  {
   "cell_type": "code",
   "execution_count": 11,
   "id": "ef65fe6f-3e2f-4bf6-85ee-d4eebba56333",
   "metadata": {},
   "outputs": [
    {
     "name": "stdout",
     "output_type": "stream",
     "text": [
      "15\n"
     ]
    }
   ],
   "source": [
    "print(695 % 20)"
   ]
  },
  {
   "cell_type": "code",
   "execution_count": 12,
   "id": "b9938610-28af-4a75-868a-dd2179a85fc3",
   "metadata": {},
   "outputs": [
    {
     "name": "stdout",
     "output_type": "stream",
     "text": [
      "37\n"
     ]
    }
   ],
   "source": [
    "print(7 + 6 * 5)"
   ]
  },
  {
   "cell_type": "code",
   "execution_count": 13,
   "id": "87f23276-c106-48a0-9204-fb690564543c",
   "metadata": {},
   "outputs": [
    {
     "name": "stdout",
     "output_type": "stream",
     "text": [
      "47\n"
     ]
    }
   ],
   "source": [
    "print(7 * 6 + 5)"
   ]
  },
  {
   "cell_type": "code",
   "execution_count": 14,
   "id": "8989e456-2e5b-408a-81de-7f2543d5cf69",
   "metadata": {},
   "outputs": [
    {
     "name": "stdout",
     "output_type": "stream",
     "text": [
      "9.6\n"
     ]
    }
   ],
   "source": [
    "print(248 % 100 / 5)"
   ]
  },
  {
   "cell_type": "code",
   "execution_count": 15,
   "id": "37d2a25d-a9c8-43fd-840e-ed319202e3ca",
   "metadata": {},
   "outputs": [
    {
     "name": "stdout",
     "output_type": "stream",
     "text": [
      "15.75\n"
     ]
    }
   ],
   "source": [
    "print(6 * 3 - 9 / 4)"
   ]
  },
  {
   "cell_type": "code",
   "execution_count": 16,
   "id": "c0051e82-28ec-44a5-9401-0901ba101dba",
   "metadata": {},
   "outputs": [
    {
     "name": "stdout",
     "output_type": "stream",
     "text": [
      "-8\n"
     ]
    }
   ],
   "source": [
    "print((5 - 7) * 4)"
   ]
  },
  {
   "cell_type": "code",
   "execution_count": 17,
   "id": "32e83f33-0520-4bfa-bd9c-f508c64284b8",
   "metadata": {},
   "outputs": [
    {
     "name": "stdout",
     "output_type": "stream",
     "text": [
      "9\n"
     ]
    }
   ],
   "source": [
    "print(6 + (18 % (17 - 12)))"
   ]
  }
 ],
 "metadata": {
  "kernelspec": {
   "display_name": "Python 3 (ipykernel)",
   "language": "python",
   "name": "python3"
  },
  "language_info": {
   "codemirror_mode": {
    "name": "ipython",
    "version": 3
   },
   "file_extension": ".py",
   "mimetype": "text/x-python",
   "name": "python",
   "nbconvert_exporter": "python",
   "pygments_lexer": "ipython3",
   "version": "3.12.1"
  }
 },
 "nbformat": 4,
 "nbformat_minor": 5
}
