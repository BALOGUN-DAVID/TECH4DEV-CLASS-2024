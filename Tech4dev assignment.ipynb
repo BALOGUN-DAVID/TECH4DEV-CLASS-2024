{
 "cells": [
  {
   "cell_type": "markdown",
   "id": "311e56c3",
   "metadata": {},
   "source": [
    "#EXCERSISE 1"
   ]
  },
  {
   "cell_type": "code",
   "execution_count": 11,
   "id": "fdc5dfd0",
   "metadata": {},
   "outputs": [],
   "source": [
    "#1.What is the output of the following print statements?"
   ]
  },
  {
   "cell_type": "code",
   "execution_count": 1,
   "id": "99fb25fa",
   "metadata": {},
   "outputs": [
    {
     "name": "stdout",
     "output_type": "stream",
     "text": [
      "\ta\tb\tc\n"
     ]
    }
   ],
   "source": [
    "print(\"\\ta\\tb\\tc\")"
   ]
  },
  {
   "cell_type": "code",
   "execution_count": 2,
   "id": "2255fd11",
   "metadata": {},
   "outputs": [
    {
     "name": "stdout",
     "output_type": "stream",
     "text": [
      "\\\\\n"
     ]
    }
   ],
   "source": [
    "print(\"\\\\\\\\\")"
   ]
  },
  {
   "cell_type": "code",
   "execution_count": 3,
   "id": "0d4c70e4",
   "metadata": {},
   "outputs": [
    {
     "name": "stdout",
     "output_type": "stream",
     "text": [
      "'\n"
     ]
    }
   ],
   "source": [
    "print(\"'\")"
   ]
  },
  {
   "cell_type": "code",
   "execution_count": 4,
   "id": "346e5898",
   "metadata": {},
   "outputs": [
    {
     "name": "stdout",
     "output_type": "stream",
     "text": [
      "\"\"\"\n"
     ]
    }
   ],
   "source": [
    "print(\"\\\"\\\"\\\"\")"
   ]
  },
  {
   "cell_type": "code",
   "execution_count": 5,
   "id": "26c99652",
   "metadata": {},
   "outputs": [
    {
     "name": "stdout",
     "output_type": "stream",
     "text": [
      "C:\n",
      "in\the downward spiral\n"
     ]
    }
   ],
   "source": [
    "print(\"C:\\nin\\the downward spiral\")"
   ]
  },
  {
   "cell_type": "code",
   "execution_count": 7,
   "id": "20cd8fa8",
   "metadata": {},
   "outputs": [
    {
     "name": "stdout",
     "output_type": "stream",
     "text": [
      "/ \\ // \\\\ /// \\\\\\\n"
     ]
    }
   ],
   "source": [
    "#2.Write a print statement to produce this output:/ \\ // \\\\ /// \\\\\\\n",
    "\n",
    "print(\"/ \\\\ // \\\\\\\\ /// \\\\\\\\\\\\\")"
   ]
  },
  {
   "cell_type": "code",
   "execution_count": 9,
   "id": "0200c7ad",
   "metadata": {},
   "outputs": [
    {
     "name": "stdout",
     "output_type": "stream",
     "text": [
      "This quote is from Irish poet Oscar Wilde:\n",
      "\"Music makes one feel so romantic\n",
      "- at least it always gets on one's nerves – which is the same thing nowadays\n"
     ]
    }
   ],
   "source": [
    "#3.What print statements will generate this output?\n",
    "\n",
    "print(\"This quote is from Irish poet Oscar Wilde:\")\n",
    "print(\"\\\"Music makes one feel so romantic\")\n",
    "print(\"- at least it always gets on one's nerves – which is the same thing nowadays\")    "
   ]
  },
  {
   "cell_type": "code",
   "execution_count": 15,
   "id": "371b0061",
   "metadata": {},
   "outputs": [
    {
     "name": "stdout",
     "output_type": "stream",
     "text": [
      "A \"quoted\" String is 'much' better if you learn\n",
      "the rules of \"escape sequences.\" Also, \"\" represents an empty String.\n",
      "Don't forget: use \\\" instead of \" ! '' is not the same as \"\n"
     ]
    }
   ],
   "source": [
    "#4.What print statements will generate this output?\n",
    "\n",
    "print(\"A \\\"quoted\\\" String is 'much' better if you learn\")\n",
    "print(\"the rules of \\\"escape sequences.\\\" Also, \\\"\\\" represents an empty String.\")\n",
    "print(\"Don't forget: use \\\\\\\" instead of \\\" ! '' is not the same as \\\"\")"
   ]
  },
  {
   "cell_type": "code",
   "execution_count": 19,
   "id": "482b89a9",
   "metadata": {
    "scrolled": false
   },
   "outputs": [
    {
     "name": "stdout",
     "output_type": "stream",
     "text": [
      "1.8\n",
      "15\n",
      "37\n",
      "47\n",
      "9.6\n",
      "15.75\n",
      "-8\n",
      "11\n"
     ]
    }
   ],
   "source": [
    "#5.What values result from the following expressions?\n",
    "\n",
    "print(9 / 5)\n",
    "print(695 % 20)\n",
    "print(7 + 6 * 5)\n",
    "print(7 * 6 + 5)\n",
    "print(248 % 100 / 5)\n",
    "print(6 * 3 - 9 / 4)\n",
    "print((5 - 7) * 4)\n",
    "print(6 + (17 - 12))"
   ]
  },
  {
   "cell_type": "markdown",
   "id": "d2685c65",
   "metadata": {},
   "source": [
    "EXERCISE 3"
   ]
  },
  {
   "cell_type": "code",
   "execution_count": 20,
   "id": "ef72daff",
   "metadata": {},
   "outputs": [
    {
     "data": {
      "text/plain": [
       "(2, 4, 7, 4, 2, 3, 5, 1, 4, 8, 9)"
      ]
     },
     "execution_count": 20,
     "metadata": {},
     "output_type": "execute_result"
    }
   ],
   "source": [
    "#1 Write a program that finds the maximum value of the given list, assuming that the list contains at least one element.\n",
    "data = 2,4,7, 4,2,3,5,1,4,8,9\n",
    "data"
   ]
  },
  {
   "cell_type": "code",
   "execution_count": 21,
   "id": "c0383b6f",
   "metadata": {},
   "outputs": [
    {
     "data": {
      "text/plain": [
       "9"
      ]
     },
     "execution_count": 21,
     "metadata": {},
     "output_type": "execute_result"
    }
   ],
   "source": [
    "max(data)"
   ]
  },
  {
   "cell_type": "code",
   "execution_count": 22,
   "id": "84096471",
   "metadata": {},
   "outputs": [
    {
     "data": {
      "text/plain": [
       "(4, 7, 1, 5, 11, 53, 12, 46, 84, 23)"
      ]
     },
     "execution_count": 22,
     "metadata": {},
     "output_type": "execute_result"
    }
   ],
   "source": [
    "#2 Write a program that calculates the average value of the given list.\n",
    "x = 4,7,1,5,11,53,12,46,84,23\n",
    "x"
   ]
  },
  {
   "cell_type": "code",
   "execution_count": 23,
   "id": "ae005ae8",
   "metadata": {},
   "outputs": [],
   "source": [
    "import statistics"
   ]
  },
  {
   "cell_type": "code",
   "execution_count": 25,
   "id": "b7067574",
   "metadata": {},
   "outputs": [
    {
     "name": "stdout",
     "output_type": "stream",
     "text": [
      "24.6\n"
     ]
    }
   ],
   "source": [
    "print(statistics.mean(x))"
   ]
  },
  {
   "cell_type": "code",
   "execution_count": 38,
   "id": "dfbdf14c",
   "metadata": {},
   "outputs": [
    {
     "data": {
      "text/plain": [
       "[2, 6, 7, 45, 23, 53, 14, 45, 89, 5]"
      ]
     },
     "execution_count": 38,
     "metadata": {},
     "output_type": "execute_result"
    }
   ],
   "source": [
    "#3 Write a program that prints the given list of integers in reverse order.\n",
    "Y= [2,6,7,45,23,53,14,45,89,5]\n",
    "Y"
   ]
  },
  {
   "cell_type": "code",
   "execution_count": 39,
   "id": "2cd7ac7e",
   "metadata": {},
   "outputs": [
    {
     "data": {
      "text/plain": [
       "[5, 89, 45, 14, 53, 23, 45, 7, 6, 2]"
      ]
     },
     "execution_count": 39,
     "metadata": {},
     "output_type": "execute_result"
    }
   ],
   "source": [
    "Y.reverse()\n",
    "Y"
   ]
  },
  {
   "cell_type": "code",
   "execution_count": 45,
   "id": "f2bf98e7",
   "metadata": {},
   "outputs": [],
   "source": [
    "#4 Write a program that accepts two lists of integers and prints true if each element in the first list is less than the element at the same index in the second list. Your program should print false if the lists are not the same length.\n",
    "\n",
    "A=[3,4,5,6]\n",
    "B=[7,8,8,10]\n",
    "\n",
    "def Compare(A,B):\n",
    "    for i in range(len(A)):\n",
    "        if A[i] >= B[i]:\n",
    "            return \"True\"\n",
    "        else:\n",
    "            return 'False'"
   ]
  },
  {
   "cell_type": "code",
   "execution_count": 46,
   "id": "0880cb2a",
   "metadata": {},
   "outputs": [
    {
     "name": "stdout",
     "output_type": "stream",
     "text": [
      "False\n"
     ]
    }
   ],
   "source": [
    "print(Compare(A,B))"
   ]
  },
  {
   "cell_type": "code",
   "execution_count": 50,
   "id": "dc735efa",
   "metadata": {},
   "outputs": [
    {
     "name": "stdout",
     "output_type": "stream",
     "text": [
      "True\n"
     ]
    }
   ],
   "source": [
    "if len(A) != len(B):\n",
    "    print(\"False\")\n",
    "else:\n",
    "    print(\"True\")"
   ]
  },
  {
   "cell_type": "code",
   "execution_count": 3,
   "id": "c0bfbf6f",
   "metadata": {},
   "outputs": [],
   "source": [
    "#5 Write a program that accepts a list of integers and two indexes and swaps the elements at those indexes\n",
    "list=[23,24,25,26,27]\n",
    "pos1,pos2 =1,3\n",
    "\n",
    "def swappositions(list, pos1, pos2):\n",
    "    list[pos1], list[pos2]= list[pos2], list[pos1]\n",
    "    return list"
   ]
  },
  {
   "cell_type": "code",
   "execution_count": 4,
   "id": "73661344",
   "metadata": {},
   "outputs": [
    {
     "name": "stdout",
     "output_type": "stream",
     "text": [
      "[23, 26, 25, 24, 27]\n"
     ]
    }
   ],
   "source": [
    "print(swappositions(list, pos1, pos2))"
   ]
  },
  {
   "cell_type": "code",
   "execution_count": 8,
   "id": "b5619de9",
   "metadata": {},
   "outputs": [
    {
     "name": "stdout",
     "output_type": "stream",
     "text": [
      "[1, 2, 3, 4, 5, 6, 7, 8, 9, 10]\n"
     ]
    }
   ],
   "source": [
    "#6 Write a program that accepts two lists of integers and prints a new list containing all elements of the first list followed by all elements of the second\n",
    "A=[1,2,3,4,5]\n",
    "B=[6,7,8,9,10]\n",
    "C= A+B\n",
    "print(C)"
   ]
  },
  {
   "cell_type": "markdown",
   "id": "625ec906",
   "metadata": {},
   "source": [
    "EXERCISE 4"
   ]
  },
  {
   "cell_type": "code",
   "execution_count": 9,
   "id": "1059779c",
   "metadata": {},
   "outputs": [],
   "source": [
    "#1 Write a program to produce the following output using for loop.\n",
    "\n",
    "def the_program():\n",
    "    print(\"+----+\")\n",
    "    for x in range(3):\n",
    "        print(\"\\\\ /\")\n",
    "        print(\"/ \\\\\")\n",
    "        print(\"+---+\")"
   ]
  },
  {
   "cell_type": "code",
   "execution_count": 10,
   "id": "2f5c8a5b",
   "metadata": {},
   "outputs": [
    {
     "name": "stdout",
     "output_type": "stream",
     "text": [
      "+----+\n",
      "\\ /\n",
      "/ \\\n",
      "+---+\n",
      "\\ /\n",
      "/ \\\n",
      "+---+\n",
      "\\ /\n",
      "/ \\\n",
      "+---+\n",
      "None\n"
     ]
    }
   ],
   "source": [
    "print(the_program())"
   ]
  },
  {
   "cell_type": "code",
   "execution_count": 11,
   "id": "dd274440",
   "metadata": {},
   "outputs": [],
   "source": [
    "#2 Write a program to produce the following output using for loop\n",
    "\n",
    "def the_output(columns, rows):\n",
    "    for y in range(rows):\n",
    "        print('*' * columns)"
   ]
  },
  {
   "cell_type": "code",
   "execution_count": 12,
   "id": "2a9f91c6",
   "metadata": {},
   "outputs": [
    {
     "name": "stdout",
     "output_type": "stream",
     "text": [
      "**********\n",
      "**********\n",
      "**********\n",
      "**********\n",
      "**********\n",
      "None\n"
     ]
    }
   ],
   "source": [
    "print(the_output(10,5))"
   ]
  },
  {
   "cell_type": "code",
   "execution_count": 30,
   "id": "07b45144",
   "metadata": {},
   "outputs": [],
   "source": [
    "#4 Write a program to produce the following output using for loops. Thenuse a class constant to make it possible to change the number of lines in the figure.\n",
    "class Number:\n",
    "    Lines = 7\n",
    "    \n",
    "    def number_output(x):\n",
    "        for i in range(1, x.Lines + 1):\n",
    "            print(str(i)* i)"
   ]
  },
  {
   "cell_type": "code",
   "execution_count": 28,
   "id": "e0ee4733",
   "metadata": {},
   "outputs": [
    {
     "name": "stdout",
     "output_type": "stream",
     "text": [
      "<function Number.number_output at 0x000001A78F9DBAF0>\n"
     ]
    }
   ],
   "source": [
    "print(Number.number_output)"
   ]
  }
 ],
 "metadata": {
  "kernelspec": {
   "display_name": "Python 3 (ipykernel)",
   "language": "python",
   "name": "python3"
  },
  "language_info": {
   "codemirror_mode": {
    "name": "ipython",
    "version": 3
   },
   "file_extension": ".py",
   "mimetype": "text/x-python",
   "name": "python",
   "nbconvert_exporter": "python",
   "pygments_lexer": "ipython3",
   "version": "3.9.12"
  }
 },
 "nbformat": 4,
 "nbformat_minor": 5
}
