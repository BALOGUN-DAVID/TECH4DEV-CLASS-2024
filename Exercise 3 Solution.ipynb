{
 "cells": [
  {
   "cell_type": "markdown",
   "id": "fed3096a",
   "metadata": {},
   "source": [
    "# Exercise 3.1"
   ]
  },
  {
   "cell_type": "markdown",
   "id": "d70d1839",
   "metadata": {},
   "source": [
    "1.0 Write a program that finds the maximum value of the given list, assuming that the list\n",
    "contains at least one element."
   ]
  },
  {
   "cell_type": "code",
   "execution_count": 1,
   "id": "b89dc71e",
   "metadata": {},
   "outputs": [
    {
     "name": "stdout",
     "output_type": "stream",
     "text": [
      "23\n"
     ]
    }
   ],
   "source": [
    "my_list = [2,4,7,4,23,5,1,4,8,9]\n",
    "print (max(my_list))"
   ]
  },
  {
   "cell_type": "markdown",
   "id": "10faad68",
   "metadata": {},
   "source": [
    "2.0 Write a program that calculates the average value of the given list."
   ]
  },
  {
   "cell_type": "code",
   "execution_count": 4,
   "id": "5dfb384d",
   "metadata": {},
   "outputs": [
    {
     "name": "stdout",
     "output_type": "stream",
     "text": [
      "Average of the list is: 24.6\n"
     ]
    }
   ],
   "source": [
    "myList = [4,7,1,5,11,53,12,46,84,23]\n",
    "Average = sum(myList)/len(myList)\n",
    "print (\"Average of the list is:\", Average)"
   ]
  },
  {
   "cell_type": "markdown",
   "id": "3a1ec28f",
   "metadata": {},
   "source": [
    "3.0 Write a program that prints the given list of integers in reverse order."
   ]
  },
  {
   "cell_type": "code",
   "execution_count": 6,
   "id": "f26ee131",
   "metadata": {},
   "outputs": [
    {
     "name": "stdout",
     "output_type": "stream",
     "text": [
      "[5, 89, 45, 14, 53, 23, 45, 7, 6, 2]\n"
     ]
    }
   ],
   "source": [
    "#original list#\n",
    "List = [2,6,7,45,23,53,14,45,89,5]\n",
    "#reversing the order of the items in List#\n",
    "List.reverse()\n",
    "#print content of list to the console#\n",
    "print (List)\n"
   ]
  },
  {
   "cell_type": "markdown",
   "id": "1b558d73",
   "metadata": {},
   "source": [
    "4.0 Write a program that accepts two lists of integers and prints true if each element in the first \n",
    "list is less than the element at the same index in the second list. Your program should print \n",
    "false if the lists are not the same length.\n"
   ]
  },
  {
   "cell_type": "code",
   "execution_count": 11,
   "id": "483ef7fa",
   "metadata": {},
   "outputs": [
    {
     "name": "stdout",
     "output_type": "stream",
     "text": [
      "True\n"
     ]
    }
   ],
   "source": [
    "#the two lists#\n",
    "List1 = [1,2,3,4,5]\n",
    "List2 = [3,4,5,1,2]\n",
    "#comparing the lists#\n",
    "if len(List1) == len(List2):\n",
    "    print (True)\n",
    "else:\n",
    "    print (False)"
   ]
  },
  {
   "cell_type": "markdown",
   "id": "1cdf29b6",
   "metadata": {},
   "source": [
    "5.0 Write a program that accepts a list of integers and two indexes and swaps the elements at \n",
    "those indexes"
   ]
  },
  {
   "cell_type": "code",
   "execution_count": 13,
   "id": "eee669d4",
   "metadata": {},
   "outputs": [
    {
     "name": "stdout",
     "output_type": "stream",
     "text": [
      "[1, 2] [3, 4]\n"
     ]
    }
   ],
   "source": [
    "a = [1,2]\n",
    "b = [3,4]\n",
    "a,b = b,a\n",
    "print(b,a)"
   ]
  },
  {
   "cell_type": "markdown",
   "id": "7898c24d",
   "metadata": {},
   "source": [
    "6.0 Write a program that accepts two lists of integers and prints a new list containing all \n",
    "elements of the first list followed by all elements of the second."
   ]
  },
  {
   "cell_type": "code",
   "execution_count": 14,
   "id": "9c1763a9",
   "metadata": {},
   "outputs": [
    {
     "name": "stdout",
     "output_type": "stream",
     "text": [
      "[1, 2, 5, 8, 10, 3, 4, 6, 7, 9]\n"
     ]
    }
   ],
   "source": [
    "A = [1,2,5,8,10]\n",
    "B = [3,4,6,7,9]\n",
    "C = A+B\n",
    "print (C)"
   ]
  },
  {
   "cell_type": "markdown",
   "id": "3ead5eef",
   "metadata": {},
   "source": [
    "7.0 Write a program that accepts a list of integers and an integer value as its parameters and \n",
    "prints the last index at which the value occurs in the list. The program should print –1 if the \n",
    "value is not found. For example, in the list [74, 85, 102, 99, 101, 85, 56], the last index of the \n",
    "value 85 is 5."
   ]
  },
  {
   "cell_type": "code",
   "execution_count": 16,
   "id": "c304a863",
   "metadata": {},
   "outputs": [
    {
     "name": "stdout",
     "output_type": "stream",
     "text": [
      "The last index of 85 is: 5\n"
     ]
    }
   ],
   "source": [
    "def last_index(lst, value):\n",
    "    reversed_list = lst[::-1]  # Reverse the list\n",
    "    try:\n",
    "        # Find the index of the value in the reversed list\n",
    "        reversed_index = reversed_list.index(value)\n",
    "        # Calculate the corresponding index in the original list\n",
    "        original_index = len(lst) - 1 - reversed_index\n",
    "        print(f\"The last index of {value} is: {original_index}\")\n",
    "    except ValueError:\n",
    "        # If the value is not found, print -1\n",
    "        print(f\"{value} is not found in the list. The last index is: -1\")\n",
    "\n",
    "# Example usage\n",
    "my_lst = [74, 85, 102, 99, 101, 85, 56]\n",
    "search_value = 85\n",
    "\n",
    "# Call the function with the provided list and search value\n",
    "last_index(my_lst, search_value)\n"
   ]
  },
  {
   "cell_type": "markdown",
   "id": "b91842ea",
   "metadata": {},
   "source": [
    "8.0  Write a program that prints the range of values in a list of integers. The range is defined as 1 \n",
    "more than the difference between the maximum and minimum values in the list. For \n",
    "example, if a list contains the values [36, 12, 25, 19, 46, 31, 22], the program should return \n",
    "35. You may assume that the list has at least one element"
   ]
  },
  {
   "cell_type": "code",
   "execution_count": 17,
   "id": "14f0ea99",
   "metadata": {},
   "outputs": [
    {
     "name": "stdout",
     "output_type": "stream",
     "text": [
      "The range of values in the list is: 35\n"
     ]
    }
   ],
   "source": [
    "def calculate_range(lst):\n",
    "    # Ensure that the list is not empty\n",
    "    if not lst:\n",
    "        print(\"The list is empty.\")\n",
    "        return\n",
    "\n",
    "    # Calculate the range\n",
    "    value_range = max(lst) - min(lst) + 1\n",
    "    print(f\"The range of values in the list is: {value_range}\")\n",
    "\n",
    "# Example usage\n",
    "num = [36, 12, 25, 19, 46, 31, 22]\n",
    "\n",
    "# Call the function with the provided list\n",
    "calculate_range(num)\n"
   ]
  },
  {
   "cell_type": "markdown",
   "id": "f705b0a7",
   "metadata": {},
   "source": [
    "9.0 Write a program that accepts a list of integers, a minimum value, and a maximum value and \n",
    "prints the count of how many elements from the list fall between the minimum and \n",
    "maximum (inclusive). For example, in the list [14, 1, 22, 17, 36, 7, -43, 5], for minimum value \n",
    "4 and maximum value 17, there are four elements whose values fall between 4 and 17."
   ]
  },
  {
   "cell_type": "code",
   "execution_count": 18,
   "id": "5b934f5e",
   "metadata": {},
   "outputs": [
    {
     "name": "stdout",
     "output_type": "stream",
     "text": [
      "The count of elements between 4 and 17 (inclusive) is: 4\n"
     ]
    }
   ],
   "source": [
    "# Example list\n",
    "X= [14, 1, 22, 17, 36, 7, -43, 5]\n",
    "\n",
    "# Minimum and maximum values\n",
    "min_value = 4\n",
    "max_value = 17\n",
    "\n",
    "# Filter elements in the specified range\n",
    "filtered_elements = [element for element in X if min_value <= element <= max_value]\n",
    "\n",
    "# Print the count of elements in the range\n",
    "print(f\"The count of elements between {min_value} and {max_value} (inclusive) is: {len(filtered_elements)}\")\n"
   ]
  },
  {
   "cell_type": "markdown",
   "id": "3cf01a97",
   "metadata": {},
   "source": [
    "10.0 Write a program that accepts a list of real numbers and prints true if the list is in sorted \n",
    "(nondecreasing) order and false otherwise. For example, if lists named list1 and list2 store \n",
    "[16.1, 12.3, 22.2, 14.4] and [1.5, 4.3, 7.0, 19.5, 25.1, 46.2] respectively, the program should \n",
    "print false for list1 and true for list2 respectively. Assume the list has at least one element. A \n",
    "one-element list is sorted"
   ]
  },
  {
   "cell_type": "code",
   "execution_count": 19,
   "id": "c755aff1",
   "metadata": {},
   "outputs": [
    {
     "name": "stdout",
     "output_type": "stream",
     "text": [
      "Is Y sorted? False\n",
      "Is Z sorted? True\n"
     ]
    }
   ],
   "source": [
    "def is_sorted(lst):\n",
    "    # Use the all() function to check if all elements are in nondecreasing order\n",
    "    return all(lst[i] <= lst[i + 1] for i in range(len(lst) - 1))\n",
    "\n",
    "# Example usage\n",
    "Y = [16.1, 12.3, 22.2, 14.4]\n",
    "Z = [1.5, 4.3, 7.0, 19.5, 25.1, 46.2]\n",
    "\n",
    "# Check if Y is sorted\n",
    "print(f\"Is Y sorted? {is_sorted(Y)}\")\n",
    "\n",
    "# Check if Z is sorted\n",
    "print(f\"Is Z sorted? {is_sorted(Z)}\")\n"
   ]
  },
  {
   "cell_type": "code",
   "execution_count": null,
   "id": "81097c97",
   "metadata": {},
   "outputs": [],
   "source": []
  }
 ],
 "metadata": {
  "kernelspec": {
   "display_name": "Python 3 (ipykernel)",
   "language": "python",
   "name": "python3"
  },
  "language_info": {
   "codemirror_mode": {
    "name": "ipython",
    "version": 3
   },
   "file_extension": ".py",
   "mimetype": "text/x-python",
   "name": "python",
   "nbconvert_exporter": "python",
   "pygments_lexer": "ipython3",
   "version": "3.11.5"
  }
 },
 "nbformat": 4,
 "nbformat_minor": 5
}
