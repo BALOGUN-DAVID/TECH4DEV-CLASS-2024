{
 "cells": [
  {
   "cell_type": "markdown",
   "id": "bdc78234",
   "metadata": {},
   "source": [
    "# Q1"
   ]
  },
  {
   "cell_type": "code",
   "execution_count": 2,
   "id": "c581aa5c",
   "metadata": {},
   "outputs": [
    {
     "name": "stdout",
     "output_type": "stream",
     "text": [
      "23\n"
     ]
    }
   ],
   "source": [
    "list=[2,4,7,4,23,5,1,4,8,9]\n",
    "max_value=max(list)\n",
    "print(max_value)\n"
   ]
  },
  {
   "cell_type": "markdown",
   "id": "e9d63d75",
   "metadata": {},
   "source": [
    "# Q2"
   ]
  },
  {
   "cell_type": "code",
   "execution_count": 3,
   "id": "d10b9680",
   "metadata": {},
   "outputs": [
    {
     "name": "stdout",
     "output_type": "stream",
     "text": [
      "24.6\n"
     ]
    }
   ],
   "source": [
    "list=[4,7,1,5,11,53,12,46,84,23]\n",
    "average_value=sum(list)/len(list)\n",
    "print(average_value)"
   ]
  },
  {
   "cell_type": "markdown",
   "id": "c22d3652",
   "metadata": {},
   "source": [
    "# Q3"
   ]
  },
  {
   "cell_type": "code",
   "execution_count": 12,
   "id": "47665afb",
   "metadata": {},
   "outputs": [
    {
     "name": "stdout",
     "output_type": "stream",
     "text": [
      "[5, 89, 45, 14, 53, 23, 45, 7, 6, 2]\n"
     ]
    }
   ],
   "source": [
    "list=[2,6,7,45,23,53,14,45,89,5]\n",
    "reverse_list=list[::-1]\n",
    "print(reverse_list)"
   ]
  },
  {
   "cell_type": "markdown",
   "id": "20373534",
   "metadata": {},
   "source": [
    "# Q4"
   ]
  },
  {
   "cell_type": "code",
   "execution_count": 19,
   "id": "7fdedb68",
   "metadata": {},
   "outputs": [
    {
     "name": "stdout",
     "output_type": "stream",
     "text": [
      "True\n"
     ]
    }
   ],
   "source": [
    "list1=[1,2,3,4,5]\n",
    "list2=[6,7,8,9,10]\n",
    "for i in range(len(list1)):\n",
    "    if list1[i] >= list2[i]:\n",
    "        print(False)\n",
    "        break\n",
    "else:\n",
    "    print(True)"
   ]
  },
  {
   "cell_type": "markdown",
   "id": "0a17de8a",
   "metadata": {},
   "source": [
    "# Q5"
   ]
  },
  {
   "cell_type": "code",
   "execution_count": 7,
   "id": "a1cf65dc",
   "metadata": {},
   "outputs": [
    {
     "name": "stdout",
     "output_type": "stream",
     "text": [
      "List after swapping elements at indices 1 and 4: [2, 23, 7, 4, 4, 5, 1, 4, 8, 9]\n"
     ]
    }
   ],
   "source": [
    "def swap_elements(lst, index1, index2):\n",
    "    if 0 <= index1 < len(lst) and 0 <= index2 < len(lst):\n",
    "        lst[index1], lst[index2] = lst[index2], lst[index1]\n",
    "        return lst\n",
    "    else:\n",
    "        print(\"Invalid indices. Please ensure the indices are within the range of the list.\")\n",
    "        return None\n",
    "\n",
    "list = [2, 4, 7, 4, 23, 5, 1, 4, 8, 9]\n",
    "\n",
    "index1 = 1\n",
    "index2 = 4\n",
    "\n",
    "result = swap_elements(list, index1, index2)\n",
    "if result is not None:\n",
    "    print(f\"List after swapping elements at indices {index1} and {index2}: {result}\")"
   ]
  },
  {
   "cell_type": "markdown",
   "id": "00e9f732",
   "metadata": {},
   "source": [
    "# Q6"
   ]
  },
  {
   "cell_type": "code",
   "execution_count": 2,
   "id": "ea1dec91",
   "metadata": {},
   "outputs": [
    {
     "name": "stdout",
     "output_type": "stream",
     "text": [
      "Concatenated list: [2, 4, 7, 4, 23, 5, 1, 4, 8, 9]\n"
     ]
    }
   ],
   "source": [
    "def concatenate_lists(list1, list2):\n",
    "    concatenated_list = list1 + list2\n",
    "    return concatenated_list\n",
    "\n",
    "list1 = [2, 4, 7, 4, 23]\n",
    "list2 = [5, 1, 4, 8, 9]\n",
    "\n",
    "result = concatenate_lists(list1, list2)\n",
    "print(\"Concatenated list:\", result)"
   ]
  },
  {
   "cell_type": "markdown",
   "id": "356ab74c",
   "metadata": {},
   "source": [
    "# Q7"
   ]
  },
  {
   "cell_type": "code",
   "execution_count": 6,
   "id": "d9a68cc7",
   "metadata": {},
   "outputs": [
    {
     "name": "stdout",
     "output_type": "stream",
     "text": [
      "The last index of 85 in the list is: 5\n"
     ]
    }
   ],
   "source": [
    "def last_index_of_value(lst, value):\n",
    "    try:\n",
    "        last_index = lst[::-1].index(value)\n",
    "        return len(lst) - 1 - last_index\n",
    "    except ValueError:\n",
    "        return -1\n",
    "\n",
    "list = [74, 85, 102, 99, 101, 85, 56]\n",
    "\n",
    "search_value = 85\n",
    "\n",
    "result = last_index_of_value(list, search_value)\n",
    "print(f\"The last index of {search_value} in the list is: {result}\")\n"
   ]
  },
  {
   "cell_type": "markdown",
   "id": "d18c4e5f",
   "metadata": {},
   "source": [
    "# Q8"
   ]
  },
  {
   "cell_type": "code",
   "execution_count": 5,
   "id": "bc15b309",
   "metadata": {},
   "outputs": [
    {
     "name": "stdout",
     "output_type": "stream",
     "text": [
      "The range of values in the list is: 35\n"
     ]
    }
   ],
   "source": [
    "def calculate_range(list):\n",
    "    min_value = min(list)\n",
    "    max_value = max(list)\n",
    "\n",
    "    value_range = max_value - min_value + 1\n",
    "    return value_range\n",
    "\n",
    "list = [36, 12, 25, 19, 46, 31, 22]\n",
    "\n",
    "result = calculate_range(list)\n",
    "print(f\"The range of values in the list is: {result}\")\n"
   ]
  },
  {
   "cell_type": "markdown",
   "id": "820df188",
   "metadata": {},
   "source": [
    "# Q9"
   ]
  },
  {
   "cell_type": "code",
   "execution_count": 10,
   "id": "7e7287a2",
   "metadata": {},
   "outputs": [
    {
     "name": "stdout",
     "output_type": "stream",
     "text": [
      "The number of elements between -45 and 36 is: 8\n"
     ]
    }
   ],
   "source": [
    "def count_elements_between(lst, min_value, max_value):\n",
    "    \n",
    "    filtered_elements = [element for element in lst if min_value <= element <= max_value]\n",
    "\n",
    "    count = len(filtered_elements)\n",
    "    return count\n",
    "\n",
    "list = [14, 1, 22, 17, 36, 7, -43, 5]\n",
    "\n",
    "min_value = -45\n",
    "max_value = 36\n",
    "\n",
    "result = count_elements_between(list, min_value, max_value)\n",
    "print(f\"The number of elements between {min_value} and {max_value} is: {result}\")"
   ]
  },
  {
   "cell_type": "markdown",
   "id": "dc4c4115",
   "metadata": {},
   "source": [
    "# Q10"
   ]
  },
  {
   "cell_type": "code",
   "execution_count": 11,
   "id": "0f34a982",
   "metadata": {},
   "outputs": [
    {
     "name": "stdout",
     "output_type": "stream",
     "text": [
      "Is list1 in sorted order? False\n",
      "Is list2 in sorted order? True\n"
     ]
    }
   ],
   "source": [
    "def is_sorted(lst):\n",
    "    \n",
    "    return all(lst[i] <= lst[i + 1] for i in range(len(lst) - 1))\n",
    "\n",
    "list1 = [16.1, 12.3, 22.2, 14.4]\n",
    "list2 = [1.5, 4.3, 7.0, 19.5, 25.1, 46.2]\n",
    "\n",
    "result1 = is_sorted(list1)\n",
    "result2 = is_sorted(list2)\n",
    "\n",
    "print(f\"Is list1 in sorted order? {result1}\")\n",
    "print(f\"Is list2 in sorted order? {result2}\")\n"
   ]
  },
  {
   "cell_type": "code",
   "execution_count": null,
   "id": "c3da8fad",
   "metadata": {},
   "outputs": [],
   "source": []
  }
 ],
 "metadata": {
  "kernelspec": {
   "display_name": "Python 3 (ipykernel)",
   "language": "python",
   "name": "python3"
  },
  "language_info": {
   "codemirror_mode": {
    "name": "ipython",
    "version": 3
   },
   "file_extension": ".py",
   "mimetype": "text/x-python",
   "name": "python",
   "nbconvert_exporter": "python",
   "pygments_lexer": "ipython3",
   "version": "3.11.5"
  }
 },
 "nbformat": 4,
 "nbformat_minor": 5
}
