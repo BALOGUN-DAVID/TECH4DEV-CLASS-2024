{
 "cells": [
  {
   "cell_type": "markdown",
   "id": "c60c93e2-0810-4298-84db-e6afea985de5",
   "metadata": {},
   "source": [
    "1. Write a program that finds the maximum value of the given list, assuming that the list\r\n",
    "contains at least one element."
   ]
  },
  {
   "cell_type": "code",
   "execution_count": 1,
   "id": "2b8f7b94-92c5-4876-a6ff-f30ea4d5a793",
   "metadata": {},
   "outputs": [
    {
     "name": "stdout",
     "output_type": "stream",
     "text": [
      "The given list is : [2, 4, 7, 4, 23, 5, 1, 4, 8, 9]\n",
      "the maximum of the list is : 23\n"
     ]
    }
   ],
   "source": [
    "\"\"\"Explanation : This Program is designed to find the maximum value in a given list.\n",
    "   The code first checks if the list is not empty with the condition if `lst != []`.\n",
    "   If the list is not empty, it prints the list and then uses the built-in Python function max() to find the maximum value in the list.\n",
    "   This maximum value is then printed out. If the list is empty, the code will print 'your list is empty' .\n",
    "\"\"\" \n",
    "\n",
    "#Given list\n",
    "lst = [2, 4, 7, 4, 23, 5, 1, 4, 8, 9]\n",
    "if lst != []:\n",
    "   print(f\"The given list is : {lst}\")\n",
    "   maximum = max(lst)\n",
    "   print(f\"the maximum of the list is : {maximum}\")\n",
    "else: \n",
    "   print(\"your list is empty\")"
   ]
  },
  {
   "cell_type": "markdown",
   "id": "a5a675ce-a80a-457b-8c9b-fe0a8fd46bee",
   "metadata": {},
   "source": [
    "</br>\n"
   ]
  },
  {
   "cell_type": "markdown",
   "id": "08ef8a71-1b1f-4bc6-bfe9-1b3d0436e5dd",
   "metadata": {},
   "source": [
    "2. Write a program that calculates the average value of the given list.\r"
   ]
  },
  {
   "cell_type": "code",
   "execution_count": 3,
   "id": "a5823ba7-6115-449c-a25d-c3a9fe23358a",
   "metadata": {},
   "outputs": [
    {
     "name": "stdout",
     "output_type": "stream",
     "text": [
      "The given list is : [4, 7, 1, 5, 11, 53, 12, 46, 84, 23]\n",
      "the Average  of the list is : 24.6\n"
     ]
    }
   ],
   "source": [
    "\"\"\" Explanation : This program calculates the average value of a given list.\n",
    "    Initially, it checks if the list is not empty using the condition if `lst != []`.\n",
    "    If the list contains elements, it calculates the number of elements with `nbr_elements = len(lst)`,\n",
    "    and the sum of the elements with `sum_elements = sum(lst)`.\n",
    "    The average of the list is then calculated using `mean = sum_elements / nbr_elements`,\n",
    "    and this average is printed. If the list is empty, the program prints 'your list is empty'.\n",
    "\"\"\"\n",
    "\n",
    "# Given list\n",
    "lst = [4, 7, 1, 5, 11, 53, 12, 46, 84, 23]\n",
    "\n",
    "if lst != []:\n",
    "   print(f\"The given list is : {lst}\")\n",
    "   nbr_elements = len(lst)\n",
    "   sum_elements = sum(lst)\n",
    "   mean = sum_elements / nbr_elements\n",
    "   print(f\"the Average  of the list is : {mean}\")\n",
    "else: \n",
    "   print(\"your list is empty\")\n"
   ]
  },
  {
   "cell_type": "markdown",
   "id": "8682fa42-2e80-41c1-b409-4b54802e23a5",
   "metadata": {},
   "source": [
    "</br>\n"
   ]
  },
  {
   "cell_type": "markdown",
   "id": "b50e6907-96eb-4027-a113-3c19bf0484ba",
   "metadata": {},
   "source": [
    "3. Write a program that prints the given list of integers in reverse order."
   ]
  },
  {
   "cell_type": "code",
   "execution_count": 4,
   "id": "3cb070fd-c300-4ca3-880f-8e431839c416",
   "metadata": {},
   "outputs": [
    {
     "name": "stdout",
     "output_type": "stream",
     "text": [
      "The given list is : [2, 6, 7, 45, 23, 53, 14, 45, 89, 5]\n",
      "The list, when reversed, becomes: [5, 89, 45, 14, 53, 23, 45, 7, 6, 2]\n"
     ]
    }
   ],
   "source": [
    "\"\"\"Explanation : This program is designed to print a given list of integers in reverse order.\n",
    "   It operates by first checking if the list is not empty using the condition `if lst != []`.\n",
    "   If the list contains elements, it employs the `reverse()` function to reverse the order of the list.\n",
    "   The reversed list is then printed out. In the event that the list is empty, the code will print 'your list is empty'.\"\"\"\n",
    "\n",
    "# Given list\n",
    "lst = [2, 6, 7, 45, 23, 53, 14, 45, 89, 5]\n",
    "\n",
    "if lst != []:\n",
    "   print(f\"The given list is : {lst}\")\n",
    "   lst.reverse()\n",
    "   print(f\"The list, when reversed, becomes: {lst}\")\n",
    "else: \n",
    "   print(\"your list is empty\")"
   ]
  },
  {
   "cell_type": "markdown",
   "id": "21b18fee-48c2-4197-b4af-122600c9494e",
   "metadata": {},
   "source": [
    "</br>"
   ]
  },
  {
   "cell_type": "markdown",
   "id": "a1ff88b1-af2b-448e-bb09-cb777f516532",
   "metadata": {},
   "source": [
    "4. Write a program that accepts two lists of integers and prints true if each element in the first \r\n",
    "list is less than the element at the same index in the second list. Your program should print \r\n",
    "false if the lists are not the same length.\r"
   ]
  },
  {
   "cell_type": "code",
   "execution_count": 5,
   "id": "4169356e-20dd-4f13-8375-9bbdbf9e33c6",
   "metadata": {},
   "outputs": [
    {
     "name": "stdout",
     "output_type": "stream",
     "text": [
      "The given list is : [2, 6, 7, 45, 23, 53, 14, 45, 89, 5]\n",
      "The given list is : [3, 7, 8, 46, 24, 54, 15, 46, 90, 6]\n",
      "True\n"
     ]
    }
   ],
   "source": [
    "\"\"\"Explanation : \n",
    "   This program is designed to compare two given lists of integers, `list1` and `list2`.\n",
    "   It begins by checking if both lists are not empty. If they contain elements, it proceeds to check if the lengths of the lists are equal.\n",
    "   If they are, it iterates over the lists. For each index, it checks if the element in `list1` is less than the element at the same index in `list2`.\n",
    "   If it encounters an element in `list1` that is not less than the corresponding element in `list2`, it sets a variable `value` to `False`\n",
    "   and breaks the loop. After the loop, if `value` is `True`, it prints `True`, indicating that each element\n",
    "   in `list1` is less than the element at the same index in `list2`. If this is not the case, it prints a message\n",
    "   indicating that not all elements in `list1` are less than the corresponding elements in `list2`.\n",
    "   If either of the lists is empty, it prints 'your list is empty'. \n",
    "\"\"\"\n",
    "\n",
    "list1 = [2, 6, 7, 45, 23, 53, 14, 45, 89, 5]\n",
    "list2 = [3, 7, 8, 46, 24, 54, 15, 46, 90, 6]\n",
    "       \n",
    "print(f\"The given list is : {list1}\")\n",
    "        \n",
    "print(f\"The given list is : {list2}\")\n",
    "\n",
    "if list1 != [] and list2!= [] :\n",
    "   if len(list1) != len(list2):\n",
    "       print(False)\n",
    "   else:\n",
    "       \n",
    "       for index in range(len(list1)):\n",
    "           if list1[index] < list2[index]:\n",
    "              value = True\n",
    "           else:\n",
    "              value = False\n",
    "              break\n",
    "       if value == True:\n",
    "          print(True)\n",
    "       else:\n",
    "           print(f\"Not all elements in the first list are less than the elements in the second list.\")\n",
    "else: \n",
    "   print(\"your list is empty\")\n"
   ]
  },
  {
   "cell_type": "markdown",
   "id": "1bae92b3-198e-4fa5-8e45-00883f5441fb",
   "metadata": {},
   "source": [
    "</br>"
   ]
  },
  {
   "cell_type": "markdown",
   "id": "4af8ed0f-544d-4429-a442-b0b3017ca4cb",
   "metadata": {},
   "source": [
    "5. Write a program that accepts a list of integers and two indexes and swaps the elements at \r\n",
    "those indexes\r"
   ]
  },
  {
   "cell_type": "code",
   "execution_count": 6,
   "id": "7686e31e-7ca4-4c31-aee5-03be8a5e71a2",
   "metadata": {},
   "outputs": [
    {
     "name": "stdout",
     "output_type": "stream",
     "text": [
      "The given list is : [2, 6, 7, 45, 23, 53, 14, 45, 89, 5]\n",
      "\n",
      "The given index1 is : 2\n",
      "\n",
      "The given index2 is : 5\n",
      "\n",
      "The list, after swapping elements, is now: [2, 6, 53, 45, 23, 7, 14, 45, 89, 5]\n"
     ]
    }
   ],
   "source": [
    "\"\"\"Explanation : \n",
    "   This program is designed to swap the elements at two given indexes in a list.\n",
    "   After defining the list and the two indexes, the code checks if the list is not empty.\n",
    "   If the list contains elements, it stores the value at the first index in a temporary variable, then replaces\n",
    "   the value at the first index with the value at the second index. Finally, it replaces the value at the second\n",
    "   index with the value stored in the temporary variable, effectively swapping the elements at the two indexes.\n",
    "   The code then prints the list after the swap. If the list is empty, the program will print a message indicating that the list is empty.\n",
    "\"\"\"\n",
    "\n",
    "\n",
    "# Given list\n",
    "lst = [2, 6, 7, 45, 23, 53, 14, 45, 89, 5]\n",
    "print(f\"The given list is : {lst}\\n\")\n",
    "\n",
    "# Given indexes\n",
    "index1 = 2\n",
    "print(f\"The given index1 is : {index1}\\n\")\n",
    "\n",
    "index2 = 5\n",
    "print(f\"The given index2 is : {index2}\\n\")\n",
    "\n",
    "if lst != []:    \n",
    "   value_swapped = lst[index1]\n",
    "   lst[index1] = lst[index2]\n",
    "   lst[index2] = value_swapped\n",
    "    \n",
    "   print(f\"The list, after swapping elements, is now: {lst}\")\n",
    "else: \n",
    "   print(\"your list is empty\")"
   ]
  },
  {
   "cell_type": "markdown",
   "id": "1b976e91-bd8e-497c-8ff6-a10c002cbf7d",
   "metadata": {},
   "source": [
    "</br>"
   ]
  },
  {
   "cell_type": "markdown",
   "id": "d7decf41-afa9-495d-b657-b3b7796fa5f1",
   "metadata": {},
   "source": [
    "6. Write a program that accepts two lists of integers and prints a new list containing all \r\n",
    "elements of the first list followed by all elements of the second."
   ]
  },
  {
   "cell_type": "code",
   "execution_count": 7,
   "id": "a1663de9-eec4-40f0-b90b-06c6e0fd0962",
   "metadata": {},
   "outputs": [
    {
     "name": "stdout",
     "output_type": "stream",
     "text": [
      "The first given list is : [2, 6, 7, 45, 23, 53, 14, 45, 89, 5]\n",
      "\n",
      "The second given list is : [3, 7, 8, 46, 24, 54, 15, 46, 90, 6]\n",
      "\n",
      "The newly formed list, which comprises all elements from the first list followed by all elements from the second list, is:\n",
      " [2, 6, 7, 45, 23, 53, 14, 45, 89, 5, 3, 7, 8, 46, 24, 54, 15, 46, 90, 6]\n"
     ]
    }
   ],
   "source": [
    "\"\"\"Explanation : \n",
    "   The program is designed to create a new list that merges two given lists of integers,\n",
    "   `list1` and `list2`. It first checks if both `list1` and `list2` are not empty using \n",
    "   the condition `if list1 != [] and list2 != []`.If this condition is met,\n",
    "   meaning both lists contain elements, it proceeds to create a new list, `list3`.\n",
    "   This new list is formed by appending all elements from `list1` followed by all elements from `list2`.\n",
    "   Once `list3` is formed, the program prints it out. However, if either `list1` or `list2` is empty, the program will print 'your list is empty'.\n",
    "\"\"\"\n",
    "\n",
    "list1 = [2, 6, 7, 45, 23, 53, 14, 45, 89, 5]\n",
    "print(f\"The first given list is : {list1}\\n\")\n",
    "\n",
    "list2 = [3, 7, 8, 46, 24, 54, 15, 46, 90, 6]\n",
    "print(f\"The second given list is : {list2}\\n\")\n",
    "\n",
    "if list1 != [] and list2!= [] :\n",
    "   list3=list1+list2\n",
    "   print(f\"The newly formed list, which comprises all elements from the first list followed by all elements from the second list, is:\\n {list3}\")\n",
    "\n",
    "else: \n",
    "   print(\"your list is empty\")\n"
   ]
  },
  {
   "cell_type": "markdown",
   "id": "e120fb5c-b8ef-4797-9afb-b12f5d5ade36",
   "metadata": {},
   "source": [
    "</br>"
   ]
  },
  {
   "cell_type": "markdown",
   "id": "9fd0ad13-8f6a-4a15-b798-c909c8456355",
   "metadata": {},
   "source": [
    "7. Write a program that accepts a list of integers and an integer value as its parameters and \n",
    "prints the last index at which the value occurs in the list. The program should print –1 if the \n",
    "value is not found. For example, in the list [74, 85, 102, 99, 101, 85, 56], the last index of the \n",
    "value 85 is 5."
   ]
  },
  {
   "cell_type": "code",
   "execution_count": 11,
   "id": "82a9ac09-4a1e-4a3b-b3dd-bc5aed9ece6e",
   "metadata": {},
   "outputs": [
    {
     "name": "stdin",
     "output_type": "stream",
     "text": [
      "Please insert an element of the list (or type 'exit' to finish) :  74\n",
      "Please insert an element of the list (or type 'exit' to finish) :  85\n",
      "Please insert an element of the list (or type 'exit' to finish) :  102\n",
      "Please insert an element of the list (or type 'exit' to finish) :  99\n",
      "Please insert an element of the list (or type 'exit' to finish) :  101\n",
      "Please insert an element of the list (or type 'exit' to finish) :  85\n",
      "Please insert an element of the list (or type 'exit' to finish) :  56\n",
      "Please insert an element of the list (or type 'exit' to finish) :  exit\n"
     ]
    },
    {
     "name": "stdout",
     "output_type": "stream",
     "text": [
      "The created list is : [74, 85, 102, 99, 101, 85, 56]\n"
     ]
    },
    {
     "name": "stdin",
     "output_type": "stream",
     "text": [
      "Please insert a number that represents an element of the list :  85\n"
     ]
    },
    {
     "name": "stdout",
     "output_type": "stream",
     "text": [
      "the last index at which the value 85 occurs in the list is : 5\n"
     ]
    }
   ],
   "source": [
    "\"\"\"\n",
    "Explanation : \n",
    "This Python code begins by initializing an empty list named `lst`.\n",
    "It then enters a loop where it prompts the user to input an element of the list or type 'exit' to finish.\n",
    "If the user types 'exit', the loop is terminated. However, if the user inputs anything other than 'exit',\n",
    "the input is converted to an integer and appended to `lst`. Once the list is formed, it is printed.\n",
    "Next, the program prompts the user to input a number that represents an element of the list.\n",
    "If `lst` is not empty, the program continues to the next steps. If it is empty, the program prints 'your list is empty' and ends.\n",
    "The program then initializes a variable `last_index` to -1, which is used to keep track of the last index at which the input value occurs in the list.\n",
    "The program enters another loop where it iterates over `lst` using the `enumerate()` function, which returns both the index and the item at that index.\n",
    "If the item equals the input value, `last_index` is updated to the current index.\n",
    "After the loop, if `last_index` is not -1 (indicating that the value was found in the list),\n",
    "the program prints the last index at which the value occurs in the list.\n",
    "If the value was not found in the list, the program prints -1.\n",
    "\"\"\"\n",
    "\n",
    "\n",
    "lst = list()\n",
    "while True :\n",
    "    item = input(\"Please insert an element of the list (or type 'exit' to finish) : \")\n",
    "    if item.lower() == \"exit\":\n",
    "        break\n",
    "    else:\n",
    "        \n",
    "        lst.append(int(item))\n",
    "print(f\"The created list is : {lst}\")\n",
    "\n",
    "value = input(\"Please insert a number that represents an element of the list : \")\n",
    "\n",
    "if lst != []:\n",
    "   value = int(value)\n",
    "   last_index = -1\n",
    "   for(index,item) in enumerate(lst):\n",
    "     if item == value:\n",
    "        last_index = index \n",
    "   if last_index != -1 :  \n",
    "    print(f\"the last index at which the value {value} occurs in the list is : {last_index}\")\n",
    "   else:\n",
    "    print(-1)\n",
    "else: \n",
    "   print(\"your list is empty\")"
   ]
  },
  {
   "cell_type": "markdown",
   "id": "ae2bccbe-b0d2-4e1e-afa6-09b4b9cdc514",
   "metadata": {},
   "source": [
    "</br>"
   ]
  },
  {
   "cell_type": "markdown",
   "id": "48e7119a-207e-46ef-893e-538182a584da",
   "metadata": {},
   "source": [
    "8. Write a program that prints the range of values in a list of integers. The range is defined as 1 \n",
    "more than the difference between the maximum and minimum values in the list. For \n",
    "example, if a list contains the values [36, 12, 25, 19, 46, 31, 22], the program should return 35. \n",
    "You may assume that the list has at least one element.\n"
   ]
  },
  {
   "cell_type": "code",
   "execution_count": 12,
   "id": "5f28e422-d20a-460e-acd9-41c8f9b65a2c",
   "metadata": {},
   "outputs": [
    {
     "name": "stdin",
     "output_type": "stream",
     "text": [
      "Please insert an element of the list (or type 'exit' to finish) :  36\n",
      "Please insert an element of the list (or type 'exit' to finish) :  12\n",
      "Please insert an element of the list (or type 'exit' to finish) :  25\n",
      "Please insert an element of the list (or type 'exit' to finish) :  19\n",
      "Please insert an element of the list (or type 'exit' to finish) :  46\n",
      "Please insert an element of the list (or type 'exit' to finish) :  31\n",
      "Please insert an element of the list (or type 'exit' to finish) :  22\n",
      "Please insert an element of the list (or type 'exit' to finish) :  exit\n"
     ]
    },
    {
     "name": "stdout",
     "output_type": "stream",
     "text": [
      "The created list is : [36, 12, 25, 19, 46, 31, 22]\n",
      "the range is : 35\n"
     ]
    }
   ],
   "source": [
    "\"\"\"\n",
    "Explanation : \n",
    "This Python code starts by initializing an empty list named `lst`.\n",
    "It then enters a loop where it prompts the user to input an element of the list or type 'exit' to finish using the `input()` function.\n",
    "If the user types 'exit', the program breaks out of the loop. However, if the user inputs anything other than 'exit',\n",
    "the program converts the input to an integer using the `int()` function and appends it to `lst`. Once the list is formed, it is printed.\n",
    "Next, the program checks if the list is not empty. If it is, it prints 'your list is empty' and ends.\n",
    "If the list is not empty, the program finds the minimum and maximum values in the list using the `min()` and `max()` functions, respectively.\n",
    "It then calculates the range as one more than the difference between the maximum and minimum values. Finally, it prints the range.\n",
    "\"\"\"\n",
    "\n",
    "lst = list()\n",
    "while True :\n",
    "    item = input(\"Please insert an element of the list (or type 'exit' to finish) : \")\n",
    "    if item.lower() == \"exit\":\n",
    "        break\n",
    "    else:\n",
    "        \n",
    "        lst.append(int(item))\n",
    "print(f\"The created list is : {lst}\")\n",
    "\n",
    "if lst != []:\n",
    "   miniumum = min(lst)\n",
    "   maximum = max(lst)\n",
    "   range_ = (maximum-miniumum)+1\n",
    "    \n",
    "   print(f\"the range is : {range_}\")\n",
    "\n",
    "else: \n",
    "   print(\"your list is empty\")"
   ]
  },
  {
   "cell_type": "markdown",
   "id": "fa3bcadd-803b-4d42-8a17-e1e97e43199a",
   "metadata": {},
   "source": [
    "</br>"
   ]
  },
  {
   "cell_type": "markdown",
   "id": "c881b456-7599-4f01-b618-cdddef68e0fd",
   "metadata": {},
   "source": [
    "9. Write a program that accepts a list of integers, a minimum value, and a maximum value and \r\n",
    "prints the count of how many elements from the list fall between the minimum and \r\n",
    "maximum (inclusive). For example, in the list [14, 1, 22, 17, 36, 7, -43, 5], for minimum value \r\n",
    "4 and maximum value 17, there are four elements whose values fall between 4 and 17."
   ]
  },
  {
   "cell_type": "code",
   "execution_count": 13,
   "id": "d902c6a4-cb6b-4e5d-8b63-22dde41dd8e1",
   "metadata": {},
   "outputs": [
    {
     "name": "stdin",
     "output_type": "stream",
     "text": [
      "Please insert an element of the list (or type 'exit' to finish) :  14\n",
      "Please insert an element of the list (or type 'exit' to finish) :  1\n",
      "Please insert an element of the list (or type 'exit' to finish) :  22\n",
      "Please insert an element of the list (or type 'exit' to finish) :  17\n",
      "Please insert an element of the list (or type 'exit' to finish) :  36\n",
      "Please insert an element of the list (or type 'exit' to finish) :  7\n",
      "Please insert an element of the list (or type 'exit' to finish) :  -43\n",
      "Please insert an element of the list (or type 'exit' to finish) :  5\n",
      "Please insert an element of the list (or type 'exit' to finish) :  exit\n"
     ]
    },
    {
     "name": "stdout",
     "output_type": "stream",
     "text": [
      "The created list is : [14, 1, 22, 17, 36, 7, -43, 5]\n"
     ]
    },
    {
     "name": "stdin",
     "output_type": "stream",
     "text": [
      "Please insert a number that represents the miniumum value :  4\n",
      "Please insert a number that represents the maximum value :  17\n"
     ]
    },
    {
     "name": "stdout",
     "output_type": "stream",
     "text": [
      "the count of elements from the list  that fall between the minimum and maximum is : 4\n"
     ]
    }
   ],
   "source": [
    "\"\"\"Explanation : \n",
    "This Python program starts by initializing an empty list named `lst`.\n",
    "It then enters a loop where it prompts the user to input an element of the list or type 'exit' to finish.\n",
    "If the user types 'exit', the program breaks out of the loop.\n",
    "However, if the user inputs anything other than 'exit', the input is converted to an integer and appended to `lst`.\n",
    "Once the list is formed, it is printed.\n",
    "Next, the program prompts the user to input a number that represents the minimum value and another number that represents the maximum value. \n",
    "If `lst` is not empty, the program continues to the next steps. If it is empty, the program prints 'your list is empty' and ends.\n",
    "The program then initializes a counter `count` to 0.\n",
    "This variable is used to count how many elements from the list fall between the minimum and maximum values (inclusive).\n",
    "The program enters another loop where it iterates over `lst`.\n",
    "If an element in `lst` is greater than or equal to the minimum value and less than or equal to the maximum value, `count` is incremented.\n",
    "After the loop, the program prints the count of how many elements from the list fall between the minimum and maximum values (inclusive).\n",
    "\"\"\"\n",
    "\n",
    "lst = list()\n",
    "while True :\n",
    "    item = input(\"Please insert an element of the list (or type 'exit' to finish) : \")\n",
    "    if item.lower() == \"exit\":\n",
    "        break\n",
    "    else:\n",
    "        \n",
    "        lst.append(int(item))\n",
    "print(f\"The created list is : {lst}\")\n",
    "\n",
    "miniumum = input(\"Please insert a number that represents the miniumum value : \")\n",
    "\n",
    "maximum = input(\"Please insert a number that represents the maximum value : \")\n",
    "\n",
    "if lst != []:\n",
    "   miniumum = int(miniumum)\n",
    "   maximum = int(maximum)\n",
    "   count = 0\n",
    "\n",
    "   for element in lst:\n",
    "       if element >= miniumum and element <= maximum :\n",
    "          count = count+1\n",
    " \n",
    "   print(f\"the count of elements from the list  that fall between the minimum and maximum is : {count}\")\n",
    "\n",
    "else: \n",
    "   print(\"your list is empty\")"
   ]
  },
  {
   "cell_type": "markdown",
   "id": "c625a0f6-544f-4ada-83d4-bd3a645c2876",
   "metadata": {},
   "source": [
    "</br>"
   ]
  },
  {
   "cell_type": "markdown",
   "id": "cc5e518b-79a3-4a0f-a0e4-eb0c25e29d0b",
   "metadata": {},
   "source": [
    "10. Write a program that accepts a list of real numbers and prints true if the list is in sorted \n",
    "(nondecreasing) order and false otherwise. For example, if lists named list1 and list2 store \n",
    "[16.1, 12.3, 22.2, 14.4] and [1.5, 4.3, 7.0, 19.5, 25.1, 46.2] respectively, the program should \n",
    "print false for list1 and true for list2 respectively. Assume the list has at least one element. A \n",
    "one-element list is sorted"
   ]
  },
  {
   "cell_type": "code",
   "execution_count": 15,
   "id": "f2d6f3e8-2fbd-4aa2-be98-f7e1d6b703dd",
   "metadata": {},
   "outputs": [
    {
     "name": "stdin",
     "output_type": "stream",
     "text": [
      "Please insert a real number to add to the list (or type 'exit' to finish):  16.1\n",
      "Please insert a real number to add to the list (or type 'exit' to finish):  12.3\n",
      "Please insert a real number to add to the list (or type 'exit' to finish):  22.2\n",
      "Please insert a real number to add to the list (or type 'exit' to finish):  14.4\n",
      "Please insert a real number to add to the list (or type 'exit' to finish):  exit\n"
     ]
    },
    {
     "name": "stdout",
     "output_type": "stream",
     "text": [
      "The created list is : [16.1, 12.3, 22.2, 14.4]\n",
      "False\n"
     ]
    }
   ],
   "source": [
    "\"\"\"Explanation : \n",
    "This Python program begins by initializing an empty list named `lst`.\n",
    "It then enters a loop where it prompts the user to input a real number to add to the list or type 'exit' to finish.\n",
    "If the user types 'exit', the program breaks out of the loop. However, if the user inputs anything other than 'exit',\n",
    "the input is converted to a float and appended to `lst`. Once the list is formed, it is printed.\n",
    "Next, the program checks if the list is not empty. If it is, it prints 'your list is empty' and ends.\n",
    "If the list is not empty, the program initializes a boolean variable `sort` to `True`.\n",
    "This variable is used to check if the list is sorted in nondecreasing order. \n",
    "The program enters another loop where it iterates over `lst` (except the last element).\n",
    "If an element in `lst` is greater than the next element, `sort` is set to `False` and the loop is exited.\n",
    "After the loop, the program prints `sort`, which is `True` if the list is sorted in nondecreasing order and `False` otherwise.\n",
    "\"\"\"\n",
    "\n",
    "lst = list()\n",
    "while True :\n",
    "    item = input(\"Please insert a real number to add to the list (or type 'exit' to finish): \")\n",
    "    if item.lower() == \"exit\":\n",
    "        break\n",
    "    else:\n",
    "        lst.append(float(item))\n",
    "print(f\"The created list is : {lst}\")\n",
    "\n",
    "if lst != []:\n",
    "   sort = True\n",
    "\n",
    "   for index in range(len(lst)-1):\n",
    "       if lst[index] > lst[index+1]:\n",
    "           sort = False\n",
    "           break\n",
    "    \n",
    "   print(sort)\n",
    "\n",
    "else: \n",
    "   print(\"your list is empty\")\n"
   ]
  }
 ],
 "metadata": {
  "kernelspec": {
   "display_name": "Python 3 (ipykernel)",
   "language": "python",
   "name": "python3"
  },
  "language_info": {
   "codemirror_mode": {
    "name": "ipython",
    "version": 3
   },
   "file_extension": ".py",
   "mimetype": "text/x-python",
   "name": "python",
   "nbconvert_exporter": "python",
   "pygments_lexer": "ipython3",
   "version": "3.12.1"
  }
 },
 "nbformat": 4,
 "nbformat_minor": 5
}
