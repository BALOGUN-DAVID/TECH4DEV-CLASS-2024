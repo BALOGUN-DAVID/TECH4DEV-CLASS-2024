{
 "cells": [
  {
   "cell_type": "markdown",
   "id": "b6e9ba9d",
   "metadata": {},
   "source": [
    "# Software Development – List, Tuple\n",
    "\n",
    "Python programming exercises"
   ]
  },
  {
   "cell_type": "markdown",
   "id": "1d41109b",
   "metadata": {},
   "source": [
    "#1. Write a program that finds the maximum value of the given list, assuming that the list\n",
    "contains at least one element.\n",
    "\n",
    "Try your program with the following array\n",
    "2 4 7 4 23 5 1 4 8 9\n"
   ]
  },
  {
   "cell_type": "code",
   "execution_count": 2,
   "id": "5b3e6f45",
   "metadata": {},
   "outputs": [
    {
     "data": {
      "text/plain": [
       "23"
      ]
     },
     "execution_count": 2,
     "metadata": {},
     "output_type": "execute_result"
    }
   ],
   "source": [
    "number = [2, 4, 7, 4, 23, 5, 1, 4, 8, 9]\n",
    "max(number)"
   ]
  },
  {
   "cell_type": "markdown",
   "id": "469c04a5",
   "metadata": {},
   "source": [
    "#2. Write a program that calculates the average value of the given list.\n",
    "\n",
    "Try your program with the following list\n",
    "4 7 1 5 11 53 12 46 84 23\n"
   ]
  },
  {
   "cell_type": "code",
   "execution_count": 5,
   "id": "d03f5ea5",
   "metadata": {},
   "outputs": [
    {
     "name": "stdout",
     "output_type": "stream",
     "text": [
      "24.6\n"
     ]
    }
   ],
   "source": [
    "number2 = [4, 7, 1, 5, 11, 53, 12, 46, 84, 23]\n",
    "average = sum(number2) / len(number2) \n",
    "print(average)"
   ]
  },
  {
   "cell_type": "markdown",
   "id": "461907fd",
   "metadata": {},
   "source": [
    "#3. Write a program that prints the given list of integers in reverse order.\n",
    "\n",
    "Try your program with the following list\n",
    "2 6 7 45 23 53 14 45 89 5"
   ]
  },
  {
   "cell_type": "code",
   "execution_count": 7,
   "id": "f3753f70",
   "metadata": {},
   "outputs": [
    {
     "name": "stdout",
     "output_type": "stream",
     "text": [
      "[89, 53, 45, 45, 23, 14, 7, 6, 5, 2]\n"
     ]
    }
   ],
   "source": [
    "number3 = [2, 6, 7, 45, 23, 53, 14, 45, 89, 5]\n",
    "number3.sort(reverse=True)\n",
    "print(number3)"
   ]
  },
  {
   "cell_type": "markdown",
   "id": "2e99c749",
   "metadata": {},
   "source": [
    "#4. Write a program that accepts two lists of integers and prints true if each element in the first \n",
    "list is less than the element at the same index in the second list. Your program should print \n",
    "false if the lists are not the same length."
   ]
  },
  {
   "cell_type": "code",
   "execution_count": 10,
   "id": "ea8236b2",
   "metadata": {},
   "outputs": [
    {
     "name": "stdout",
     "output_type": "stream",
     "text": [
      "False\n"
     ]
    }
   ],
   "source": [
    "x = [2, 4, 6, 8, 10, 12, 14, 20]\n",
    "y = [1, 3, 4, 5, 6, 8, 10, 11, 15, 30]\n",
    "\n",
    "if len(x) == len(y):\n",
    "    print(\"True\")\n",
    "else:\n",
    "    print(\"False\")"
   ]
  },
  {
   "cell_type": "markdown",
   "id": "754fc50f",
   "metadata": {},
   "source": [
    "#5. Write a program that accepts a list of integers and two indexes and swaps the elements at \n",
    "those indexes"
   ]
  },
  {
   "cell_type": "code",
   "execution_count": 15,
   "id": "0101306d",
   "metadata": {},
   "outputs": [
    {
     "name": "stdout",
     "output_type": "stream",
     "text": [
      "[20, 60, 40, 80, 100]\n"
     ]
    }
   ],
   "source": [
    "list = [20,40,60,80,100]\n",
    "\n",
    "#indexes to swap\n",
    "index1 = 1\n",
    "index2 = 2\n",
    "\n",
    "x = list[index1]\n",
    "list[index1] =  list[index2]\n",
    "\n",
    "list[index2] = x\n",
    "\n",
    "#swap elements in the list\n",
    "\n",
    "print(list)"
   ]
  },
  {
   "cell_type": "markdown",
   "id": "3571f87d",
   "metadata": {},
   "source": [
    "#6. Write a program that accepts two lists of integers and prints a new list containing all \n",
    "elements of the first list followed by all elements of the second."
   ]
  },
  {
   "cell_type": "code",
   "execution_count": 11,
   "id": "989847b5",
   "metadata": {},
   "outputs": [
    {
     "name": "stdout",
     "output_type": "stream",
     "text": [
      "[1, 2, 3, 4, 5, 6, 7, 8, 9, 10]\n"
     ]
    }
   ],
   "source": [
    "x = [1,2,3,4,5]\n",
    "y = [6,7,8,9,10]\n",
    "\n",
    "x.extend(y)\n",
    "print(x)"
   ]
  },
  {
   "cell_type": "markdown",
   "id": "717d3dd1",
   "metadata": {},
   "source": [
    "#7. Write a program that accepts a list of integers and an integer value as its parameters and \n",
    "prints the last index at which the value occurs in the list. The program should print –1 if the \n",
    "value is not found. For example, in the list [74, 85, 102, 99, 101, 85, 56], the last index of the \n",
    "value 85 is 5."
   ]
  },
  {
   "cell_type": "code",
   "execution_count": null,
   "id": "163c84fc",
   "metadata": {},
   "outputs": [],
   "source": [
    "list = [10,30,50,70,90]\n",
    "\n",
    "#search for last index value\n",
    "\n",
    "search_value = int(input(70))\n",
    "y = find_last_index (list, search_value)\n",
    "\n",
    "if y != -1:\n",
    "    print(y)\n",
    "else:\n",
    "    print(search_value)"
   ]
  },
  {
   "cell_type": "markdown",
   "id": "5a6fd928",
   "metadata": {},
   "source": [
    "#8. Write a program that prints the range of values in a list of integers. The range is defined as 1 \n",
    "more than the difference between the maximum and minimum values in the list. For \n",
    "example, if a list contains the values [36, 12, 25, 19, 46, 31, 22], the program should return \n",
    "35. You may assume that the list has at least one element"
   ]
  },
  {
   "cell_type": "code",
   "execution_count": 2,
   "id": "dd93d15d",
   "metadata": {},
   "outputs": [
    {
     "name": "stdout",
     "output_type": "stream",
     "text": [
      "19\n"
     ]
    }
   ],
   "source": [
    "list = [12,14,16,18,20,22,24,26,28,30]\n",
    "\n",
    "#calculate range\n",
    "\n",
    "range_value = max(list) - min(list) + 1\n",
    "print(range_value)"
   ]
  },
  {
   "cell_type": "markdown",
   "id": "e180e37f",
   "metadata": {},
   "source": [
    "#9. Write a program that accepts a list of integers, a minimum value, and a maximum value and \n",
    "prints the count of how many elements from the list fall between the minimum and \n",
    "maximum (inclusive). For example, in the list [14, 1, 22, 17, 36, 7, -43, 5], for minimum value \n",
    "4 and maximum value 17, there are four elements whose values fall between 4 and 17"
   ]
  },
  {
   "cell_type": "code",
   "execution_count": 18,
   "id": "7c5ac453",
   "metadata": {},
   "outputs": [
    {
     "name": "stdout",
     "output_type": "stream",
     "text": [
      "3\n",
      "40\n",
      "9\n"
     ]
    }
   ],
   "source": [
    "list = [3,9,12,15,21,28,32,35,40]\n",
    "\n",
    "min_value = min(list)\n",
    "max_value = max(list)\n",
    "count = len([i for i in list if min_value <= i <= max_value])\n",
    "\n",
    "print(min_value)\n",
    "print(max_value)\n",
    "print(count)"
   ]
  },
  {
   "cell_type": "markdown",
   "id": "33581799",
   "metadata": {},
   "source": [
    "#10. Write a program that accepts a list of real numbers and prints true if the list is in sorted \n",
    "(nondecreasing) order and false otherwise. For example, if lists named list1 and list2 store \n",
    "[16.1, 12.3, 22.2, 14.4] and [1.5, 4.3, 7.0, 19.5, 25.1, 46.2] respectively, the program should \n",
    "print false for list1 and true for list2 respectively. Assume the list has at least one element. A \n",
    "one-element list is sorted"
   ]
  },
  {
   "cell_type": "code",
   "execution_count": 20,
   "id": "99a4217e",
   "metadata": {},
   "outputs": [
    {
     "name": "stdout",
     "output_type": "stream",
     "text": [
      "False\n"
     ]
    }
   ],
   "source": [
    "list = [3.4, 14.5, 13.0, 12.1, 1.61, 4.6, 25.2]\n",
    "\n",
    "list.sort()\n",
    "list.sort(reverse=True)\n",
    "\n",
    "if list is list.sort():\n",
    "    print(\"True\")\n",
    "else:\n",
    "    print(\"False\")\n"
   ]
  },
  {
   "cell_type": "code",
   "execution_count": null,
   "id": "f60806c2",
   "metadata": {},
   "outputs": [],
   "source": []
  }
 ],
 "metadata": {
  "kernelspec": {
   "display_name": "Python 3 (ipykernel)",
   "language": "python",
   "name": "python3"
  },
  "language_info": {
   "codemirror_mode": {
    "name": "ipython",
    "version": 3
   },
   "file_extension": ".py",
   "mimetype": "text/x-python",
   "name": "python",
   "nbconvert_exporter": "python",
   "pygments_lexer": "ipython3",
   "version": "3.10.9"
  }
 },
 "nbformat": 4,
 "nbformat_minor": 5
}
