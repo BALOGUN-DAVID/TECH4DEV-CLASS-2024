{
 "cells": [
  {
   "cell_type": "markdown",
   "id": "1d696acd",
   "metadata": {},
   "source": [
    "# EXERCISE #"
   ]
  },
  {
   "cell_type": "code",
   "execution_count": 1,
   "id": "1cd42fef",
   "metadata": {
    "scrolled": true
   },
   "outputs": [
    {
     "name": "stdout",
     "output_type": "stream",
     "text": [
      "+----+\n",
      "\\    /\n",
      "/    \\\n",
      "\\    /\n",
      "/    \\\n",
      "\\    /\n",
      "/    \\\n",
      "+----+\n"
     ]
    }
   ],
   "source": [
    "# Write a program to produce the following output using for loop\n",
    "\n",
    "for i in range(1):\n",
    "    print(\"+----+\")\n",
    "    print(\"\\\\    /\")\n",
    "    print(\"/    \\\\\")\n",
    "    print(\"\\\\    /\")\n",
    "    print(\"/    \\\\\")\n",
    "    print(\"\\\\    /\")\n",
    "    print(\"/    \\\\\")\n",
    "    print(\"+----+\")"
   ]
  },
  {
   "cell_type": "code",
   "execution_count": 3,
   "id": "a4aa2b14",
   "metadata": {
    "scrolled": true
   },
   "outputs": [
    {
     "name": "stdout",
     "output_type": "stream",
     "text": [
      "**********\n",
      "**********\n",
      "**********\n",
      "**********\n",
      "**********\n"
     ]
    }
   ],
   "source": [
    "# Write a program to produce the following output using for loop\n",
    "\n",
    "for i in range (5):\n",
    "    print(\"**********\")"
   ]
  },
  {
   "cell_type": "code",
   "execution_count": 13,
   "id": "2aa0d24d",
   "metadata": {},
   "outputs": [
    {
     "name": "stdout",
     "output_type": "stream",
     "text": [
      "1\n",
      "2\n",
      "3\n",
      "4\n",
      "5\n",
      "6\n"
     ]
    }
   ],
   "source": [
    "# Complete the code for the following for loop:\n",
    "# so that it prints the following numbers, one per line:\n",
    "\n",
    "for a in range(1,7):\n",
    "    print (a)"
   ]
  },
  {
   "cell_type": "code",
   "execution_count": 14,
   "id": "813a5109",
   "metadata": {},
   "outputs": [
    {
     "name": "stdout",
     "output_type": "stream",
     "text": [
      "2\n",
      "4\n",
      "6\n",
      "8\n",
      "10\n",
      "12\n"
     ]
    }
   ],
   "source": [
    "for b in range (2, 13, 2):\n",
    "    print (b)"
   ]
  },
  {
   "cell_type": "code",
   "execution_count": 15,
   "id": "6a5c9157",
   "metadata": {
    "scrolled": true
   },
   "outputs": [
    {
     "name": "stdout",
     "output_type": "stream",
     "text": [
      "4\n",
      "19\n",
      "34\n",
      "49\n",
      "64\n",
      "79\n"
     ]
    }
   ],
   "source": [
    "for c in range(4, 80, 15):\n",
    "    print(c)"
   ]
  },
  {
   "cell_type": "code",
   "execution_count": 27,
   "id": "694e3cdd",
   "metadata": {},
   "outputs": [
    {
     "name": "stdout",
     "output_type": "stream",
     "text": [
      "30\n",
      "20\n",
      "10\n",
      "0\n",
      "-10\n",
      "-20\n"
     ]
    }
   ],
   "source": [
    "for d in range (30, -21, -10):\n",
    "    print(d)"
   ]
  },
  {
   "cell_type": "code",
   "execution_count": 23,
   "id": "8ef86ae8",
   "metadata": {},
   "outputs": [
    {
     "name": "stdout",
     "output_type": "stream",
     "text": [
      "-7\n",
      "-3\n",
      "1\n",
      "5\n",
      "9\n",
      "13\n"
     ]
    }
   ],
   "source": [
    "for e in range (-7, 14, 4):\n",
    "    print(e)"
   ]
  },
  {
   "cell_type": "code",
   "execution_count": 30,
   "id": "ab6968c0",
   "metadata": {
    "scrolled": true
   },
   "outputs": [
    {
     "name": "stdout",
     "output_type": "stream",
     "text": [
      "97\n",
      "94\n",
      "91\n",
      "88\n",
      "85\n",
      "82\n"
     ]
    }
   ],
   "source": [
    "for f in range (97, 80,-3):\n",
    "    print(f)"
   ]
  },
  {
   "cell_type": "code",
   "execution_count": 32,
   "id": "3a078eed",
   "metadata": {},
   "outputs": [
    {
     "name": "stdout",
     "output_type": "stream",
     "text": [
      "-4\n",
      "14\n",
      "32\n",
      "50\n",
      "68\n",
      "86\n"
     ]
    }
   ],
   "source": [
    "for g in range (-4, 87,18):\n",
    "    print(g)"
   ]
  },
  {
   "cell_type": "code",
   "execution_count": 40,
   "id": "67b1669e",
   "metadata": {},
   "outputs": [
    {
     "name": "stdout",
     "output_type": "stream",
     "text": [
      "1\n",
      "22\n",
      "333\n",
      "4444\n",
      "55555\n",
      "666666\n",
      "7777777\n"
     ]
    }
   ],
   "source": [
    "# Write a program to produce the following output using for loops. \n",
    "# Then use a class constant to make it possible to change the number of lines in the figure.\n",
    "\n",
    "def generate (lines):\n",
    "    for i in range(1, lines + 1):\n",
    "        for j in range(i):\n",
    "            print(i, end=\"\")\n",
    "        print()\n",
    "\n",
    "# Generating the figure with 7 lines\n",
    "generate(7)"
   ]
  },
  {
   "cell_type": "code",
   "execution_count": 52,
   "id": "da1fa17e",
   "metadata": {},
   "outputs": [
    {
     "name": "stdout",
     "output_type": "stream",
     "text": [
      "33.0\n",
      "50.0\n"
     ]
    }
   ],
   "source": [
    "\"\"\"\n",
    "Write a method named pay that accepts two parameters: a real number for a TA's salary, and an integer for the number of hours the TA worked this week. \n",
    "The method should return how much money to pay the TA. For example, the call pay(5.50, 6) should return 33.0.\n",
    "The TA should receive \"overtime\" pay of 1 ½ normal salary for any hours above 8. For example, the call pay(4.00, 11) should return (4.00 * 8) + (6.00 * 3) or 50.0.\n",
    "\"\"\"\n",
    "\n",
    "def pay (salary, hours):\n",
    "    normal_hours = min(hours, 8)  #  pay for normal hours (up to 8 hours)\n",
    "    overtime_hours = max(hours - 8, 0)  # overtime hours (hours above 8)\n",
    "    \n",
    "    normal_pay = salary * normal_hours  # Pay for normal hours worked\n",
    "    overtime_pay = 1.5 * salary * overtime_hours  # Overtime pay for hours above 8\n",
    "    \n",
    "    pay = normal_pay + overtime_pay \n",
    "    \n",
    "    return pay  \n",
    "print(pay(5.50, 6))  \n",
    "print(pay(4.00, 11)) "
   ]
  },
  {
   "cell_type": "code",
   "execution_count": 71,
   "id": "4a10832b",
   "metadata": {},
   "outputs": [
    {
     "name": "stdout",
     "output_type": "stream",
     "text": [
      "12.566370614359172\n"
     ]
    }
   ],
   "source": [
    " \"\"\"\n",
    " Consider the following method for converting milliseconds into days:\n",
    "// converts milliseconds to days\n",
    "def toDays(millis):\n",
    "return millis / 1000.0 / 60.0 / 60.0 / 24.0\n",
    "Write a similar method named area that takes as a parameter the radius of a circle and that returns the area of the circle. \n",
    "For example, the call area(2.0); should return 12.566370614359172.\n",
    "Recall that area can be computed as π times the radius squared and that Python has a constant called math.pi \n",
    "\"\"\" \n",
    "\n",
    "import math\n",
    "\n",
    "# calculates the radius of a circle that returns the area of the circle\n",
    "def area(radius):\n",
    "    return math.pi * radius ** 2\n",
    "\n",
    "radius = 2.0\n",
    "print(area(radius))  "
   ]
  },
  {
   "cell_type": "code",
   "execution_count": 1,
   "id": "63e00b87",
   "metadata": {},
   "outputs": [
    {
     "name": "stdout",
     "output_type": "stream",
     "text": [
      "low?: 300\n",
      "high?: 5298\n",
      "sum = 13986903\n"
     ]
    }
   ],
   "source": [
    "\"\"\"\n",
    "Copy and paste the following code into pythons IDLE script environment.\n",
    "low = 1\n",
    "high = 1001\n",
    "sum = 0\n",
    "for i in range(low,high):\n",
    "sum += i\n",
    "print(\"sum = \" , sum)\n",
    "Modify the code to use a input to prompt the user for the values of low and high. Below is a sample execution in which the user asks for the same values as in the original program (1 through 1000):\n",
    "low? 1\n",
    "high? 1001\n",
    "sum = 500500\n",
    "Below is an execution with different values for low and high:\n",
    "low? 300\n",
    "high? 5298\n",
    "sum = 13986903\n",
    "You should exactly reproduce this format.\n",
    "\"\"\"\n",
    "#Prompts the user for the value of low and high,  converting it to an integer\n",
    "low = int(input(\"low?: \"))  \n",
    "high = int(input(\"high?: \"))  \n",
    "sum = 0  \n",
    "\n",
    "for i in range(low, high):\n",
    "    sum += i\n",
    "print(\"sum =\", sum)  "
   ]
  },
  {
   "cell_type": "code",
   "execution_count": 3,
   "id": "bd97a5ad",
   "metadata": {},
   "outputs": [
    {
     "name": "stdout",
     "output_type": "stream",
     "text": [
      "Enter a number (0 to stop): 29\n",
      "Enter a number (0 to stop): 22\n",
      "Enter a number (0 to stop): 4\n",
      "Enter a number (0 to stop): 0\n",
      "The sum of the numbers is: 55\n"
     ]
    }
   ],
   "source": [
    "# Write a program using while loop that prompts the user for numbers until the user types 0, then outputs their sum.\n",
    "\n",
    "sum_numbers = 0\n",
    "number = None\n",
    "\n",
    "# Prompt the user for numbers until they input 0\n",
    "while number != 0:\n",
    "    number = int(input(\"Enter a number (0 to stop): \"))  \n",
    "    sum_numbers += number  # Add the number to the sum\n",
    "\n",
    "# Display the sum of the numbers entered\n",
    "print(\"The sum of the numbers is:\", sum_numbers)"
   ]
  },
  {
   "cell_type": "code",
   "execution_count": 4,
   "id": "9de37566",
   "metadata": {},
   "outputs": [
    {
     "name": "stdout",
     "output_type": "stream",
     "text": [
      "Enter a number (-1 to stop): 98\n",
      "Enter a number (-1 to stop): 90\n",
      "Enter a number (-1 to stop): -1\n",
      "The sum of the numbers is: 186\n"
     ]
    }
   ],
   "source": [
    "# Write a program using while loop that prompts the user for numbers until the user types -1, then outputs their sum.\n",
    "\n",
    "sum_numbers = -1\n",
    "number = None\n",
    "\n",
    "# Prompt the user for numbers until they input 0\n",
    "while number != -1:\n",
    "    number = int(input(\"Enter a number (-1 to stop): \"))  \n",
    "    sum_numbers += number  # Add the number to the sum\n",
    "\n",
    "# Display the sum of the numbers entered\n",
    "print(\"The sum of the numbers is:\", sum_numbers)"
   ]
  },
  {
   "cell_type": "code",
   "execution_count": 23,
   "id": "5c83030e",
   "metadata": {},
   "outputs": [
    {
     "name": "stdout",
     "output_type": "stream",
     "text": [
      "HelloHelloHello\n"
     ]
    }
   ],
   "source": [
    "\"\"\"\n",
    "Write a method named repl that accepts a String and a number of repetitions as parameters and returns the String concatenated that many times. \n",
    "For example, the call repl(\"hello\", 3) returns \"hellohellohello\". \n",
    "If the number of repetitions is 0 or less, an empty string is returned.\n",
    "\"\"\"\n",
    "\n",
    "def repl(string, number):\n",
    "    if number <= 0:\n",
    "        return \"\"\n",
    "    else:\n",
    "        return string * number\n",
    "    \n",
    "result = repl(\"Hello\", 3)\n",
    "print (result)"
   ]
  },
  {
   "cell_type": "code",
   "execution_count": 28,
   "id": "f6a7eaff",
   "metadata": {},
   "outputs": [
    {
     "name": "stdout",
     "output_type": "stream",
     "text": [
      "2 3 4 5 6 7 \n",
      "19 18 17 16 15 14 13 12 11 \n",
      "5\n",
      "\n"
     ]
    }
   ],
   "source": [
    "\"\"\"\n",
    "Write a method called printRange that accepts two integers as arguments and prints the sequence of numbers between the two arguments, separated by spaces. \n",
    "Print an increasing sequence if the first argument is smaller than the second; otherwise, print a decreasing sequence. \n",
    "If the two numbers are the same, that number should be printed by itself. Here are some sample calls to printRange:\n",
    "printRange(2, 7)\n",
    "printRange(19, 11)\n",
    "printRange(5, 5)\n",
    "The output produced should be the following:\n",
    "2 3 4 5 6 7\n",
    "19 18 17 16 15 14 13 12 11\n",
    "5\n",
    "\"\"\"\n",
    "\n",
    "def printRange(start, end):\n",
    "    if start == end:\n",
    "        print(start)\n",
    "    elif start < end:\n",
    "        for i in range(start, end + 1):\n",
    "            print(i, end=\" \")\n",
    "    else:\n",
    "        for i in range(start, end - 1, -1):\n",
    "            print(i, end=\" \")\n",
    "\n",
    "printRange(2, 7)\n",
    "print()  # For spacing between outputs\n",
    "printRange(19, 11)\n",
    "print()  \n",
    "printRange(5, 5)\n",
    "print()  "
   ]
  },
  {
   "cell_type": "code",
   "execution_count": 29,
   "id": "9d7ec153",
   "metadata": {},
   "outputs": [
    {
     "name": "stdout",
     "output_type": "stream",
     "text": [
      "How many numbers do you want to enter? 5\n",
      "Number 1: 11\n",
      "Number 2: 5\n",
      "Number 3: -2\n",
      "Number 4: 3\n",
      "Number 5: 0\n",
      "Smallest = -2.0\n",
      "Largest = 11.0\n"
     ]
    }
   ],
   "source": [
    "\"\"\"\n",
    "Write a method named smallestLargest that asks the user to enter numbers, then prints the smallest and largest of all the numbers typed in by the user. \n",
    "You may assume the user enters a valid number greater than 0 for the number of numbers to read. Here is an example dialogue:\n",
    "How many numbers do you want to enter? 4\n",
    "Number 1: 5\n",
    "Number 2: 11\n",
    "Number 3: -2\n",
    "Number 4: 3\n",
    "Smallest = -2\n",
    "Largest = 11\n",
    "\"\"\"\n",
    "\n",
    "def smallestLargest():\n",
    "    num_of_numbers = int(input(\"How many numbers do you want to enter? \"))\n",
    "    \n",
    "    if num_of_numbers > 0:\n",
    "        numbers = []\n",
    "        for i in range(1, num_of_numbers + 1):\n",
    "            number = float(input(f\"Number {i}: \"))\n",
    "            numbers.append(number)\n",
    "        \n",
    "        smallest = min(numbers)\n",
    "        largest = max(numbers)\n",
    "        \n",
    "        print(f\"Smallest = {smallest}\")\n",
    "        print(f\"Largest = {largest}\")\n",
    "    else:\n",
    "        print(\"Please enter a valid number greater than 0.\")\n",
    "\n",
    "# Call the method\n",
    "smallestLargest()"
   ]
  },
  {
   "cell_type": "code",
   "execution_count": 30,
   "id": "a386541c",
   "metadata": {},
   "outputs": [
    {
     "name": "stdout",
     "output_type": "stream",
     "text": [
      "Type a number: 7\n",
      "Type a number: 4\n",
      "Type a number: 15\n",
      "Type a number: -4\n",
      "Average was 8.666666666666666\n"
     ]
    }
   ],
   "source": [
    "\"\"\"\n",
    "Write a method called printAverage that uses a sentinel loop to repeatedly prompt the user for numbers. \n",
    "Once the user types any number less than zero, the method should display the average of all nonnegative numbers typed. \n",
    "Display the average as a double. Here is a sample dialogue with the user:\n",
    "Type a number: 7\n",
    "Type a number: 4\n",
    "Type a number: 16\n",
    "Type a number: –4\n",
    "Average was 9.0\n",
    "If the first number that the user types is negative, do not print an average:\n",
    "Type a number: –2\n",
    "\"\"\"\n",
    "\n",
    "def printAverage():\n",
    "    numbers = []\n",
    "    total = 0\n",
    "    count = 0\n",
    "    \n",
    "    while True:\n",
    "        num = float(input(\"Type a number: \"))\n",
    "        if num < 0:\n",
    "            break\n",
    "        else:\n",
    "            numbers.append(num)\n",
    "            total += num\n",
    "            count += 1\n",
    "    \n",
    "    if count > 0:\n",
    "        average = total / count\n",
    "        print(f\"Average was {average}\")\n",
    "    else:\n",
    "        print(\"No nonnegative numbers entered.\")\n",
    "\n",
    "# Call the method\n",
    "printAverage()"
   ]
  },
  {
   "cell_type": "code",
   "execution_count": 42,
   "id": "57c21051",
   "metadata": {},
   "outputs": [
    {
     "name": "stdout",
     "output_type": "stream",
     "text": [
      "3\n"
     ]
    }
   ],
   "source": [
    "\"\"\"\n",
    "Write a method named numUnique that takes three integers as parameters and returns the number of unique integers among the three. \n",
    "For example, the call numUnique(18, 3, 4) should return 3 because the parameters have three different values. By contrast, \n",
    "the call numUnique(6, 7, 6) should return 2 because there are only two unique numbers among the three parameters: 6 and 7.\n",
    "\"\"\"\n",
    "\n",
    "def numUnique (num1, num2, num3):\n",
    "    unique_int = {num1, num2, num3}\n",
    "    return len(unique_int)\n",
    "    \n",
    "print (numUnique (18,3,4))\n",
    "    "
   ]
  },
  {
   "cell_type": "code",
   "execution_count": 5,
   "id": "29458c3f",
   "metadata": {},
   "outputs": [
    {
     "name": "stdout",
     "output_type": "stream",
     "text": [
      "1 + 2 = 3\n",
      "2 + 1 = 3\n",
      "1 + 4 = 5\n",
      "4 + 5 = 9\n",
      "5 + 2 = 7\n",
      "You won after 5 tries!\n",
      "None\n"
     ]
    }
   ],
   "source": [
    "\"\"\"\n",
    "A Random object generates pseudo-random numbers. \n",
    "Find out how to use the Random class and write a program that simulates rolling of two 6-sided dice until their combined result comes up as 7. \n",
    "One possible output can be seen as below:\n",
    "2 + 4 = 6\n",
    "3 + 5 = 8\n",
    "5 + 6 = 11\n",
    "1 + 1 = 2\n",
    "4 + 3 = 7\n",
    "You won after 5 tries!\n",
    "\"\"\"\n",
    "\n",
    "import random\n",
    "\n",
    "def roll_dice(dice1, dice2):\n",
    "    attempts = 0\n",
    "    while True:\n",
    "        dice1 = random.randint(1, 6)\n",
    "        dice2 = random.randint(1, 6)\n",
    "        total = dice1 + dice2\n",
    "        print(f\"{dice1} + {dice2} = {total}\")\n",
    "        attempts += 1\n",
    "        if total == 7:\n",
    "            print(f\"You won after {attempts} tries!\")\n",
    "            break\n",
    "              \n",
    "            \n",
    "print (roll_dice(2, 4))"
   ]
  }
 ],
 "metadata": {
  "kernelspec": {
   "display_name": "Python 3 (ipykernel)",
   "language": "python",
   "name": "python3"
  },
  "language_info": {
   "codemirror_mode": {
    "name": "ipython",
    "version": 3
   },
   "file_extension": ".py",
   "mimetype": "text/x-python",
   "name": "python",
   "nbconvert_exporter": "python",
   "pygments_lexer": "ipython3",
   "version": "3.11.5"
  }
 },
 "nbformat": 4,
 "nbformat_minor": 5
}
