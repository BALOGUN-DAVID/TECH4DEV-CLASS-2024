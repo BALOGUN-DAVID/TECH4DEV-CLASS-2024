{
 "cells": [
  {
   "cell_type": "code",
   "execution_count": 10,
   "id": "7cfe4183",
   "metadata": {},
   "outputs": [
    {
     "name": "stdout",
     "output_type": "stream",
     "text": [
      "+----+\n",
      "\\ /\n",
      "/ \\\n",
      "\\ /\n",
      "/ \\\n",
      "\\ /\n",
      "/ \\\n",
      "\\ /\n",
      "/ \\\n",
      "+----+\n"
     ]
    }
   ],
   "source": [
    "#print the pattern\n",
    "def print_pattern():\n",
    "    print('+----+')\n",
    "    for x in range(4):\n",
    "        print('\\\\ /')\n",
    "        print('/ \\\\')\n",
    "    print('+----+')\n",
    "print_pattern()\n"
   ]
  },
  {
   "cell_type": "code",
   "execution_count": 11,
   "id": "3796c000",
   "metadata": {},
   "outputs": [
    {
     "name": "stdout",
     "output_type": "stream",
     "text": [
      "**********\n",
      "**********\n",
      "**********\n",
      "**********\n",
      "**********\n"
     ]
    }
   ],
   "source": [
    "#print pattern\n",
    "pattern = '**********'\n",
    "for i in range(5):\n",
    "    print(pattern)"
   ]
  },
  {
   "cell_type": "code",
   "execution_count": 26,
   "id": "f520d3e6",
   "metadata": {},
   "outputs": [
    {
     "name": "stdout",
     "output_type": "stream",
     "text": [
      "1\n",
      "2\n",
      "3\n",
      "4\n",
      "5\n",
      "6\n"
     ]
    }
   ],
   "source": [
    "for num in range(1,7):\n",
    "    print(num)"
   ]
  },
  {
   "cell_type": "code",
   "execution_count": 28,
   "id": "524e654c",
   "metadata": {},
   "outputs": [
    {
     "name": "stdout",
     "output_type": "stream",
     "text": [
      "2\n",
      "4\n",
      "6\n",
      "8\n",
      "10\n",
      "12\n"
     ]
    }
   ],
   "source": [
    "for num in range(2,13, 2):\n",
    "        print(num)\n",
    " "
   ]
  },
  {
   "cell_type": "code",
   "execution_count": 30,
   "id": "2ef34f78",
   "metadata": {},
   "outputs": [
    {
     "name": "stdout",
     "output_type": "stream",
     "text": [
      "4\n",
      "19\n",
      "34\n",
      "49\n",
      "64\n",
      "79\n"
     ]
    }
   ],
   "source": [
    "for num in range(4,80, 15):\n",
    "        print(num)"
   ]
  },
  {
   "cell_type": "code",
   "execution_count": 36,
   "id": "11038eea",
   "metadata": {},
   "outputs": [
    {
     "name": "stdout",
     "output_type": "stream",
     "text": [
      "30\n",
      "20\n",
      "10\n",
      "0\n",
      "-10\n",
      "-20\n"
     ]
    }
   ],
   "source": [
    "for num in range(30,-21,-10):\n",
    "        print(num)"
   ]
  },
  {
   "cell_type": "code",
   "execution_count": 37,
   "id": "ddec4095",
   "metadata": {},
   "outputs": [
    {
     "name": "stdout",
     "output_type": "stream",
     "text": [
      "-7\n",
      "-3\n",
      "1\n",
      "5\n",
      "9\n",
      "13\n"
     ]
    }
   ],
   "source": [
    "for num in range(-7,14, 4):\n",
    "        print(num)"
   ]
  },
  {
   "cell_type": "code",
   "execution_count": 40,
   "id": "a4c4c129",
   "metadata": {},
   "outputs": [
    {
     "name": "stdout",
     "output_type": "stream",
     "text": [
      "97\n",
      "94\n",
      "91\n",
      "88\n",
      "85\n",
      "82\n"
     ]
    }
   ],
   "source": [
    "for num in range(97,81,-3):\n",
    "        print(num)"
   ]
  },
  {
   "cell_type": "code",
   "execution_count": 41,
   "id": "38eb2638",
   "metadata": {},
   "outputs": [
    {
     "name": "stdout",
     "output_type": "stream",
     "text": [
      "-4\n",
      "14\n",
      "32\n",
      "50\n",
      "68\n",
      "86\n"
     ]
    }
   ],
   "source": [
    "for num in range(-4,87,18):\n",
    "        print(num)"
   ]
  },
  {
   "cell_type": "code",
   "execution_count": 87,
   "id": "446f190a",
   "metadata": {},
   "outputs": [
    {
     "name": "stdout",
     "output_type": "stream",
     "text": [
      "1\n",
      "22\n",
      "333\n",
      "4444\n",
      "55555\n",
      "666666\n",
      "7777777\n"
     ]
    }
   ],
   "source": [
    "class Figure:\n",
    "    # Class constant to control the number of lines\n",
    "    Num_lines = 7\n",
    "\n",
    "    @classmethod\n",
    "    def print_figure(cls):\n",
    "        for i in range(1, cls.Num_lines + 1):\n",
    "            print(str(i) * i)\n",
    "\n",
    "# Use the class to print the figure\n",
    "Figure.print_figure()\n"
   ]
  },
  {
   "cell_type": "code",
   "execution_count": 1,
   "id": "2b5039a6",
   "metadata": {},
   "outputs": [
    {
     "name": "stdout",
     "output_type": "stream",
     "text": [
      "33.0\n",
      "50.0\n"
     ]
    }
   ],
   "source": [
    "def pay(hourly_rate, hours_worked):\n",
    "    normal_hours = min(8, hours_worked)\n",
    "    overtime_hours = max(0, hours_worked - 8)\n",
    "\n",
    "    normal_pay = normal_hours * hourly_rate\n",
    "    overtime_pay = overtime_hours * (hourly_rate * 1.5)\n",
    "\n",
    "    total_pay = normal_pay + overtime_pay\n",
    "    return total_pay\n",
    "\n",
    "# Example\n",
    "salary_example1 = pay(5.50, 6)\n",
    "print(salary_example1)  \n",
    "\n",
    "salary_example2 = pay(4.00, 11)\n",
    "print(salary_example2)  \n"
   ]
  },
  {
   "cell_type": "code",
   "execution_count": 3,
   "id": "be58bcb9",
   "metadata": {},
   "outputs": [
    {
     "data": {
      "text/plain": [
       "12.566370614359172"
      ]
     },
     "execution_count": 3,
     "metadata": {},
     "output_type": "execute_result"
    }
   ],
   "source": [
    "import math\n",
    "#calculate the area\n",
    "def area(radius):\n",
    "    return math.pi * radius ** 2\n",
    "#print area given the radius is 2.0\n",
    "radius = 2.0\n",
    "area(radius)"
   ]
  },
  {
   "cell_type": "code",
   "execution_count": 8,
   "id": "0216c752",
   "metadata": {},
   "outputs": [
    {
     "name": "stdout",
     "output_type": "stream",
     "text": [
      "sum =  500500\n",
      "low? 300\n",
      "high? 5298\n",
      "sum = 13986903\n"
     ]
    }
   ],
   "source": [
    "low = 1\n",
    "high = 1001\n",
    "sum = 0\n",
    "for i in range(low,high):\n",
    "    sum += i\n",
    "print(\"sum = \" , sum)\n",
    "\n",
    "#using the input function\n",
    "low = int(input('low? '))\n",
    "high = int(input('high? '))\n",
    "#sum \n",
    "sum_val = 0\n",
    "for i in range(low, high):\n",
    "    sum_val += i\n",
    "#print result\n",
    "print('sum =', sum_val)\n"
   ]
  },
  {
   "cell_type": "code",
   "execution_count": 15,
   "id": "05d192a2",
   "metadata": {},
   "outputs": [
    {
     "name": "stdout",
     "output_type": "stream",
     "text": [
      "Enter a number (or 0 to finish): 3\n",
      "Enter another number (or 0 to finish): 5\n",
      "Enter another number (or 0 to finish): 7\n",
      "Enter another number (or 0 to finish): 0\n",
      "Sun of the nuumbers entered: 15\n"
     ]
    }
   ],
   "source": [
    "# Initialize sum and prompt user for numbers\n",
    "sum_val = 0\n",
    "num = int(input('Enter a number (or 0 to finish): '))\n",
    "while num != 0:\n",
    "    sum_val += num\n",
    "    num = int(input('Enter another number (or 0 to finish): '))\n",
    "print('Sun of the nuumbers entered:', sum_val)"
   ]
  },
  {
   "cell_type": "code",
   "execution_count": 12,
   "id": "6d582b5b",
   "metadata": {},
   "outputs": [
    {
     "name": "stdout",
     "output_type": "stream",
     "text": [
      "Enter a number (or -1 to finish): 3\n",
      "Enter another number (or -1 to finish): 3\n",
      "Enter another number (or -1 to finish): -1\n",
      "Sum of the numbers entered: 6\n"
     ]
    }
   ],
   "source": [
    "# Initialize sum and prompt user for numbers\n",
    "sum_val = 0\n",
    "num = int(input(\"Enter a number (or -1 to finish): \"))\n",
    "\n",
    "while num != -1:\n",
    "    sum_val += num\n",
    "    num = int(input(\"Enter another number (or -1 to finish): \"))\n",
    "\n",
    "print(\"Sum of the numbers entered:\", sum_val)\n"
   ]
  },
  {
   "cell_type": "code",
   "execution_count": 16,
   "id": "11b63e17",
   "metadata": {},
   "outputs": [
    {
     "name": "stdout",
     "output_type": "stream",
     "text": [
      "hellohellohello\n"
     ]
    }
   ],
   "source": [
    "def repl(input_str, repititions):\n",
    "    if repititions <= 0:\n",
    "        return \"\"\n",
    "    else:\n",
    "        return input_str * repititions\n",
    "result = repl(\"hello\", 3)\n",
    "print(result)"
   ]
  },
  {
   "cell_type": "code",
   "execution_count": 17,
   "id": "c34e75a4",
   "metadata": {},
   "outputs": [
    {
     "name": "stdout",
     "output_type": "stream",
     "text": [
      "2 3 4 5 6 7 \n",
      "19 18 17 16 15 14 13 12 11 \n",
      "5\n"
     ]
    }
   ],
   "source": [
    "def printRange(start, end):\n",
    "    if start < end:\n",
    "        for num in range(start, end + 1):\n",
    "            print(num, end=\" \")\n",
    "    elif start > end:\n",
    "        for num in range(start, end - 1, -1):\n",
    "            print(num, end=\" \")\n",
    "    else:\n",
    "        print(start)\n",
    "\n",
    "# Example\n",
    "printRange(2, 7)\n",
    "print()  # Print an empty line for separation\n",
    "printRange(19, 11)\n",
    "print()  # Print an empty line for separation\n",
    "printRange(5, 5)\n"
   ]
  },
  {
   "cell_type": "code",
   "execution_count": 19,
   "id": "8bbe7464",
   "metadata": {},
   "outputs": [
    {
     "name": "stdout",
     "output_type": "stream",
     "text": [
      "How many numbers do you want to enter? 4\n",
      "Number 1: 6\n",
      "Number 2: 7\n",
      "Number 3: 4\n",
      "Number 4: 9\n",
      "Smallest = 4.0\n",
      "Largest = 9.0\n"
     ]
    }
   ],
   "source": [
    "def smallestLargest():\n",
    "    num_count = int(input(\"How many numbers do you want to enter? \"))\n",
    "\n",
    "    if num_count <= 0:\n",
    "        print(\"Please enter a valid number greater than 0.\")\n",
    "        return\n",
    "\n",
    "    smallest = float('inf')  \n",
    "    largest = float('-inf')  \n",
    "    \n",
    "    for i in range(1, num_count + 1):\n",
    "        num = float(input(f\"Number {i}: \"))\n",
    "        smallest = min(smallest, num)\n",
    "        largest = max(largest, num)\n",
    "\n",
    "    print(f\"Smallest = {smallest}\")\n",
    "    print(f\"Largest = {largest}\")\n",
    "\n",
    "# Example\n",
    "smallestLargest()\n"
   ]
  },
  {
   "cell_type": "code",
   "execution_count": 21,
   "id": "bcac0085",
   "metadata": {},
   "outputs": [
    {
     "name": "stdout",
     "output_type": "stream",
     "text": [
      "Type a number: 5\n",
      "Type a number: 9\n",
      "Type a number: 9\n",
      "Type a number: 8\n",
      "Type a number: 9\n",
      "Type a number: -4\n",
      "Average was 8.0\n"
     ]
    }
   ],
   "source": [
    "def printAverage():\n",
    "    total = 0\n",
    "    count = 0\n",
    "\n",
    "    while True:\n",
    "        num = float(input(\"Type a number: \"))\n",
    "        \n",
    "        if num < 0:\n",
    "            if count > 0:\n",
    "                average = total / count\n",
    "                print(f\"Average was {average:.1f}\")\n",
    "            else:\n",
    "                print(\"No nonnegative numbers were entered.\")\n",
    "            break  # Break the loop when a negative number is entered\n",
    "\n",
    "        total += num\n",
    "        count += 1\n",
    "\n",
    "# Example \n",
    "printAverage()\n"
   ]
  },
  {
   "cell_type": "code",
   "execution_count": 24,
   "id": "ef7763df",
   "metadata": {},
   "outputs": [
    {
     "name": "stdout",
     "output_type": "stream",
     "text": [
      "3\n",
      "2\n"
     ]
    }
   ],
   "source": [
    "def numUnique(num1, num2, num3):\n",
    "    unique_numbers = {num1, num2, num3}\n",
    "    return len(unique_numbers)\n",
    "\n",
    "result1 = numUnique(18,3,4)\n",
    "print(result1)\n",
    "result2 = numUnique(6,7,6)\n",
    "print(result2)\n"
   ]
  },
  {
   "cell_type": "code",
   "execution_count": 25,
   "id": "59798f74",
   "metadata": {},
   "outputs": [
    {
     "name": "stdout",
     "output_type": "stream",
     "text": [
      "4 + 2 = 6\n",
      "5 + 6 = 11\n",
      "5 + 2 = 7\n",
      "You won after 3 tries!\n"
     ]
    }
   ],
   "source": [
    "import random\n",
    "\n",
    "def roll_dice():\n",
    "    return random.randint(1, 6)\n",
    "\n",
    "def main():\n",
    "    target_sum = 7\n",
    "    tries = 0\n",
    "\n",
    "    while True:\n",
    "        dice1 = roll_dice()\n",
    "        dice2 = roll_dice()\n",
    "        total = dice1 + dice2\n",
    "\n",
    "        print(f\"{dice1} + {dice2} = {total}\")\n",
    "\n",
    "        tries += 1\n",
    "\n",
    "        if total == target_sum:\n",
    "            print(f\"You won after {tries} tries!\")\n",
    "            break\n",
    "\n",
    "if __name__ == \"__main__\":\n",
    "    main()\n",
    "\n",
    "    "
   ]
  },
  {
   "cell_type": "code",
   "execution_count": null,
   "id": "58ead0cf",
   "metadata": {},
   "outputs": [],
   "source": []
  }
 ],
 "metadata": {
  "kernelspec": {
   "display_name": "Python 3 (ipykernel)",
   "language": "python",
   "name": "python3"
  },
  "language_info": {
   "codemirror_mode": {
    "name": "ipython",
    "version": 3
   },
   "file_extension": ".py",
   "mimetype": "text/x-python",
   "name": "python",
   "nbconvert_exporter": "python",
   "pygments_lexer": "ipython3",
   "version": "3.11.3"
  }
 },
 "nbformat": 4,
 "nbformat_minor": 5
}
