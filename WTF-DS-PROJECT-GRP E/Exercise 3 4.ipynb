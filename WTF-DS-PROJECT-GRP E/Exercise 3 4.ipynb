{
 "cells": [
  {
   "cell_type": "code",
   "execution_count": 1,
   "id": "2a92cb78",
   "metadata": {},
   "outputs": [
    {
     "name": "stdout",
     "output_type": "stream",
     "text": [
      "23\n"
     ]
    }
   ],
   "source": [
    "#Given list\n",
    "list = [2,4,7,4,23,5,1,4,8,9]\n",
    "#find the maximum value\n",
    "max_value = max(list)\n",
    "#print result\n",
    "print(max_value)\n"
   ]
  },
  {
   "cell_type": "code",
   "execution_count": 6,
   "id": "017cccf7",
   "metadata": {},
   "outputs": [
    {
     "name": "stdout",
     "output_type": "stream",
     "text": [
      "24.6\n"
     ]
    }
   ],
   "source": [
    "#Given list\n",
    "list = [4,7,1,5,11,53,12,46,84,23]\n",
    "#Find the average value\n",
    "average_value = sum(list) / len(list)\n",
    "#print the result\n",
    "print(average_value)\n"
   ]
  },
  {
   "cell_type": "code",
   "execution_count": 16,
   "id": "256a8c9e",
   "metadata": {},
   "outputs": [
    {
     "name": "stdout",
     "output_type": "stream",
     "text": [
      "[5, 89, 45, 14, 53, 23, 45, 7, 6, 2]\n"
     ]
    }
   ],
   "source": [
    "#Given list\n",
    "list = [2,6,7,45,23,53,14,45,89,5]\n",
    "#list of integers in reversed order\n",
    "reversed_list = list[::-1]\n",
    "#print result\n",
    "print(reversed_list)"
   ]
  },
  {
   "cell_type": "code",
   "execution_count": 31,
   "id": "a798a4ae",
   "metadata": {},
   "outputs": [
    {
     "name": "stdout",
     "output_type": "stream",
     "text": [
      "True\n"
     ]
    }
   ],
   "source": [
    "list1 = [1,5,8,3,10]\n",
    "list2 = [3,10,15,7,25]\n",
    "\n",
    "def compare_lists(list1, list2):\n",
    "#comparing the length of integers\n",
    "    if len(list1) != len(list2):\n",
    "        return False\n",
    "        \n",
    "    \n",
    "#comparing the index of integers\n",
    "    for x in range(len(list1)):\n",
    "        if list1[x] >= list2[x]:\n",
    "            return False\n",
    "        \n",
    "#if all comparisons are true\n",
    "    return True\n",
    "result= compare_lists(list1, list2)\n",
    "print(result)\n"
   ]
  },
  {
   "cell_type": "code",
   "execution_count": 5,
   "id": "97c6cb76",
   "metadata": {},
   "outputs": [
    {
     "name": "stdout",
     "output_type": "stream",
     "text": [
      "Enter the first index to swap: 3\n",
      "Enter the second index to swap: 4\n",
      "Original list: [2, 6, 7, 4, 8]\n",
      "List after swapping elements at indexes 3 and 4: [2, 6, 7, 8, 4]\n"
     ]
    }
   ],
   "source": [
    "def swap_elements(my_list, index1, index2):\n",
    "    # Check if the indexes are within the bounds of the given list\n",
    "    if 0 <= index1 < len(my_list) and 0 <= index2 < len(my_list):\n",
    "        # Swap elements at the given indexes\n",
    "        my_list[index1], my_list[index2] = my_list[index2], my_list[index1]\n",
    "        return True\n",
    "    else:\n",
    "        # Print nerror message if indexes are out of bounds\n",
    "        print(\"Error: Index out of bounds\")\n",
    "        return False\n",
    "\n",
    "# list\n",
    "my_list = [2, 6, 7, 4, 8]\n",
    "\n",
    "# indexes to swap\n",
    "index1 = int(input(\"Enter the first index to swap: \"))\n",
    "index2 = int(input(\"Enter the second index to swap: \"))\n",
    "\n",
    "# Print the original list\n",
    "print(\"Original list:\", my_list)\n",
    "\n",
    "# Swap elements at the given indexes\n",
    "success = swap_elements(my_list, index1, index2)\n",
    "\n",
    "# Print the modified list if the swap was successful\n",
    "if success:\n",
    "    print(\"List after swapping elements at indexes {} and {}:\".format(index1, index2), my_list)\n",
    "\n"
   ]
  },
  {
   "cell_type": "code",
   "execution_count": 3,
   "id": "1612efae",
   "metadata": {},
   "outputs": [
    {
     "name": "stdout",
     "output_type": "stream",
     "text": [
      "[2, 3, 4, 5, 6, 7, 10, 12, 14, 16, 18, 20]\n"
     ]
    }
   ],
   "source": [
    "#The two list f integers\n",
    "list1 = [2,3,4,5,6,7]\n",
    "list2 = [10,12,14,16,18,20]\n",
    "#print result\n",
    "result = list1 + list2\n",
    "print(result)\n"
   ]
  },
  {
   "cell_type": "code",
   "execution_count": 4,
   "id": "b8866d79",
   "metadata": {},
   "outputs": [
    {
     "name": "stdout",
     "output_type": "stream",
     "text": [
      "Last index of 85 in the list: 5\n"
     ]
    }
   ],
   "source": [
    "def last_index_of_value(my_list, value):\n",
    "    try:\n",
    "        # Find the last index of the value in the list\n",
    "        last_index = len(my_list) - 1 - my_list[::-1].index(value)\n",
    "        return last_index\n",
    "    except ValueError:\n",
    "        # If value not found, return -1\n",
    "        return -1\n",
    "\n",
    "#list\n",
    "my_list = [74, 85, 102, 99, 101, 85, 56]\n",
    "\n",
    "#value to find\n",
    "search_value = 85\n",
    "\n",
    "# Find and print the last index of the value\n",
    "last_index = last_index_of_value(my_list, search_value)\n",
    "print(\"Last index of {} in the list: {}\".format(search_value, last_index))\n",
    "\n"
   ]
  },
  {
   "cell_type": "code",
   "execution_count": 14,
   "id": "fc58b8c9",
   "metadata": {},
   "outputs": [
    {
     "name": "stdout",
     "output_type": "stream",
     "text": [
      "The range of value in the list is: 35\n"
     ]
    }
   ],
   "source": [
    "#given list\n",
    "list =  [36, 12, 25, 19, 46, 31, 22]\n",
    "#find the maximum and the minimum values in the list\n",
    "max_value = max(list)\n",
    "min_value = min(list)\n",
    "#calculating range of values\n",
    "range_value = max(list) - min(list) + 1\n",
    "print('The range of value in the list is:', range_value)"
   ]
  },
  {
   "cell_type": "code",
   "execution_count": 2,
   "id": "9642ae9a",
   "metadata": {},
   "outputs": [
    {
     "name": "stdout",
     "output_type": "stream",
     "text": [
      "The count of elements between 4 and 17 is: 4\n"
     ]
    }
   ],
   "source": [
    "def count_elements_between(values, minimum, maximum):\n",
    "    count = 0\n",
    "    for element in values:\n",
    "        if minimum <= element <= maximum:\n",
    "            count += 1\n",
    "    return count\n",
    "\n",
    "#given example \n",
    "input_list = [14, 1, 22, 17, 36, 7, -43, 5]\n",
    "min_value = 4\n",
    "max_value = 17\n",
    "\n",
    "result = count_elements_between(input_list, min_value, max_value)\n",
    "print(f'The count of elements between {min_value} and {max_value} is: {result}')\n"
   ]
  },
  {
   "cell_type": "code",
   "execution_count": 3,
   "id": "08745f47",
   "metadata": {},
   "outputs": [
    {
     "name": "stdout",
     "output_type": "stream",
     "text": [
      "Is list1 sorted? False\n",
      "Is list2 sorted? True\n"
     ]
    }
   ],
   "source": [
    "def is_sorted(numbers):\n",
    "    return all(numbers[i] <= numbers[i + 1] for i in range(len(numbers) - 1))\n",
    "\n",
    "#list\n",
    "list1 = [16.1, 12.3, 22.2, 14.4]\n",
    "list2 = [1.5, 4.3, 7.0, 19.5, 25.1, 46.2]\n",
    "\n",
    "result_list1 = is_sorted(list1)\n",
    "result_list2 = is_sorted(list2)\n",
    "\n",
    "print(f'Is list1 sorted? {result_list1}')  \n",
    "print(f'Is list2 sorted? {result_list2}')  "
   ]
  },
  {
   "cell_type": "code",
   "execution_count": null,
   "id": "edbf898e",
   "metadata": {},
   "outputs": [],
   "source": []
  }
 ],
 "metadata": {
  "kernelspec": {
   "display_name": "Python 3 (ipykernel)",
   "language": "python",
   "name": "python3"
  },
  "language_info": {
   "codemirror_mode": {
    "name": "ipython",
    "version": 3
   },
   "file_extension": ".py",
   "mimetype": "text/x-python",
   "name": "python",
   "nbconvert_exporter": "python",
   "pygments_lexer": "ipython3",
   "version": "3.11.3"
  }
 },
 "nbformat": 4,
 "nbformat_minor": 5
}
