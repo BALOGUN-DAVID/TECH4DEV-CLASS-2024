{
 "cells": [
  {
   "cell_type": "markdown",
   "id": "04eb68b4",
   "metadata": {},
   "source": [
    "# List, Tuple methods"
   ]
  },
  {
   "cell_type": "code",
   "execution_count": 2,
   "id": "52a98dab",
   "metadata": {},
   "outputs": [
    {
     "name": "stdout",
     "output_type": "stream",
     "text": [
      "[1, 2, 3, 4]\n"
     ]
    }
   ],
   "source": [
    "# append()\n",
    "list = [1,2,3]\n",
    "list.append(4)\n",
    "print(list)"
   ]
  },
  {
   "cell_type": "code",
   "execution_count": 4,
   "id": "c8fc0501",
   "metadata": {},
   "outputs": [
    {
     "name": "stdout",
     "output_type": "stream",
     "text": [
      "[4, 5, 6, 7, 8, 9]\n"
     ]
    }
   ],
   "source": [
    "# extend()\n",
    "list1 = [4,5,6]\n",
    "list2 = [7,8,9]\n",
    "list1.extend(list2)\n",
    "print(list1)"
   ]
  },
  {
   "cell_type": "code",
   "execution_count": 38,
   "id": "227542b6",
   "metadata": {},
   "outputs": [
    {
     "name": "stdout",
     "output_type": "stream",
     "text": [
      "[5, 9, 8]\n",
      "2 [5, 9, 8]\n",
      "Seyi {'Color': 'Blue', 'Food': 'Rice'}\n"
     ]
    }
   ],
   "source": [
    "# pop()\n",
    "list = [5,9,8,2]\n",
    "list.pop()\n",
    "print(list)\n",
    "\n",
    "list = [5,9,8,2]\n",
    "last_item = list.pop()\n",
    "print(last_item, list)\n",
    "\n",
    "dict = {'Name': 'Seyi', 'Color': 'Blue', 'Food': 'Rice'}\n",
    "value = dict.pop('Name')\n",
    "print(value, dict)"
   ]
  },
  {
   "cell_type": "code",
   "execution_count": 32,
   "id": "fb0ce6fc",
   "metadata": {},
   "outputs": [
    {
     "name": "stdout",
     "output_type": "stream",
     "text": [
      "[5, 2, 3, 4]\n"
     ]
    }
   ],
   "source": [
    "# insert()\n",
    "list = [2,3,4]\n",
    "list.insert(0,5)\n",
    "print(list)"
   ]
  },
  {
   "cell_type": "code",
   "execution_count": 12,
   "id": "3b3daecd",
   "metadata": {},
   "outputs": [
    {
     "name": "stdout",
     "output_type": "stream",
     "text": [
      "[7, 5, 6, 8, 2]\n"
     ]
    }
   ],
   "source": [
    "# remove()\n",
    "list = [7,8,5,6,8,2]\n",
    "list.remove(8)\n",
    "print(list)"
   ]
  },
  {
   "cell_type": "code",
   "execution_count": 26,
   "id": "8c1c411a",
   "metadata": {},
   "outputs": [
    {
     "name": "stdout",
     "output_type": "stream",
     "text": [
      "4\n",
      "2\n"
     ]
    }
   ],
   "source": [
    "# index()\n",
    "list = [30,50,77,89,42]\n",
    "index = list.index(42)\n",
    "print(index)\n",
    "\n",
    "tuple = (20,30,55,89)\n",
    "index = tuple.index(55)\n",
    "print(index)"
   ]
  },
  {
   "cell_type": "code",
   "execution_count": 23,
   "id": "a3e8d36e",
   "metadata": {},
   "outputs": [
    {
     "name": "stdout",
     "output_type": "stream",
     "text": [
      "4\n",
      "3\n"
     ]
    }
   ],
   "source": [
    "# count()\n",
    "list = [4,7,8,9,0,1,4,6,3,4,7,4]\n",
    "count = list.count(4)\n",
    "print(count)\n",
    "\n",
    "tuple = (3,4,4,4,5,6,7)\n",
    "count = tuple.count(4)\n",
    "print(count)"
   ]
  },
  {
   "cell_type": "code",
   "execution_count": 19,
   "id": "c37daa45",
   "metadata": {},
   "outputs": [
    {
     "name": "stdout",
     "output_type": "stream",
     "text": [
      "[1, 1, 2, 2, 3, 3, 4, 5, 9]\n"
     ]
    }
   ],
   "source": [
    "# sort()\n",
    "list = [5,3,9,2,4,1,2,1,3]\n",
    "list.sort()\n",
    "print(list)"
   ]
  },
  {
   "cell_type": "code",
   "execution_count": 20,
   "id": "d8ebad7e",
   "metadata": {},
   "outputs": [
    {
     "name": "stdout",
     "output_type": "stream",
     "text": [
      "[7, 0, 1, 8, 3, 2.5, 9]\n"
     ]
    }
   ],
   "source": [
    "# reverse\n",
    "list = [9,2.5,3,8,1,0,7]\n",
    "list.reverse()\n",
    "print(list)"
   ]
  },
  {
   "cell_type": "code",
   "execution_count": 22,
   "id": "a3fd4fd6",
   "metadata": {},
   "outputs": [
    {
     "name": "stdout",
     "output_type": "stream",
     "text": [
      "[3, 5, 8, 9]\n"
     ]
    }
   ],
   "source": [
    "# copy()\n",
    "original_list = [3,5,8,9]\n",
    "copied_list = original_list.copy()\n",
    "print(copied_list)"
   ]
  },
  {
   "cell_type": "markdown",
   "id": "ece0e9c8",
   "metadata": {},
   "source": [
    "# Dictionary methods"
   ]
  },
  {
   "cell_type": "code",
   "execution_count": 28,
   "id": "f29efe3a",
   "metadata": {},
   "outputs": [
    {
     "name": "stdout",
     "output_type": "stream",
     "text": [
      "dict_keys(['a', 'b', 'c'])\n"
     ]
    }
   ],
   "source": [
    "# keys()\n",
    "dict = {'a': 5, 'b': 7, 'c': 10}\n",
    "keys = dict.keys()\n",
    "print(keys)"
   ]
  },
  {
   "cell_type": "code",
   "execution_count": 29,
   "id": "73e09a48",
   "metadata": {},
   "outputs": [
    {
     "name": "stdout",
     "output_type": "stream",
     "text": [
      "dict_values([8, 10, 11])\n"
     ]
    }
   ],
   "source": [
    "# values()\n",
    "dict = {'a': 8, 'b': 10, 'c': 11}\n",
    "values = dict.values()\n",
    "print(values)"
   ]
  },
  {
   "cell_type": "code",
   "execution_count": 30,
   "id": "1ef04a3c",
   "metadata": {},
   "outputs": [
    {
     "name": "stdout",
     "output_type": "stream",
     "text": [
      "dict_items([('a', 6), ('b', 9), ('c', 10)])\n"
     ]
    }
   ],
   "source": [
    "# items()\n",
    "dict = {'a': 6, 'b': 9, 'c': 10}\n",
    "items = dict.items()\n",
    "print(items)"
   ]
  },
  {
   "cell_type": "code",
   "execution_count": 42,
   "id": "85d47c62",
   "metadata": {},
   "outputs": [
    {
     "name": "stdout",
     "output_type": "stream",
     "text": [
      "{'a': 5, 'b': 8}\n",
      "('c', 10) {'a': 5, 'b': 8}\n",
      "c 10 {'a': 5, 'b': 8}\n"
     ]
    }
   ],
   "source": [
    "# popitem()\n",
    "dict ={'a': 5, 'b': 8, 'c': 10}\n",
    "dict.popitem()\n",
    "print(dict)\n",
    "\n",
    "dict ={'a': 5, 'b': 8, 'c': 10}\n",
    "value = dict.popitem()\n",
    "print(value, dict)\n",
    "\n",
    "dict ={'a': 5, 'b': 8, 'c': 10}\n",
    "key, value = dict.popitem()\n",
    "print(key, value, dict)"
   ]
  },
  {
   "cell_type": "code",
   "execution_count": 43,
   "id": "4e0c233d",
   "metadata": {},
   "outputs": [
    {
     "name": "stdout",
     "output_type": "stream",
     "text": [
      "{'a': 9, 'b': 8, 'c': 10, 'd': 17}\n"
     ]
    }
   ],
   "source": [
    "# update()\n",
    "dict1 = {'a': 9, 'b': 8}\n",
    "dict2 = {'c': 10, 'd': 17}\n",
    "dict1.update(dict2)\n",
    "print(dict1)"
   ]
  },
  {
   "cell_type": "code",
   "execution_count": 44,
   "id": "9b0fb992",
   "metadata": {},
   "outputs": [
    {
     "name": "stdout",
     "output_type": "stream",
     "text": [
      "{}\n"
     ]
    }
   ],
   "source": [
    "# clear()\n",
    "dict = {'Name': 'Seyi', 'Color': 'Blue', 'Food': 'Rice'}\n",
    "dict.clear()\n",
    "print(dict)"
   ]
  },
  {
   "cell_type": "code",
   "execution_count": 46,
   "id": "eb550420",
   "metadata": {},
   "outputs": [
    {
     "name": "stdout",
     "output_type": "stream",
     "text": [
      "Seyi\n"
     ]
    }
   ],
   "source": [
    "#get()\n",
    "dict = {'Name': 'Seyi', 'Color': 'Blue', 'Food': 'Rice'}\n",
    "get = dict.get('Name')\n",
    "print(get)"
   ]
  },
  {
   "cell_type": "code",
   "execution_count": 49,
   "id": "4063db90",
   "metadata": {},
   "outputs": [
    {
     "name": "stdout",
     "output_type": "stream",
     "text": [
      "12 {'a': 5, 'b': 8, 'c': 10, 'd': 12}\n"
     ]
    }
   ],
   "source": [
    "# setdefault()\n",
    "dict = {'a': 5, 'b': 8, 'c': 10}\n",
    "value = dict.setdefault('d', 12)\n",
    "print(value, dict)"
   ]
  },
  {
   "cell_type": "code",
   "execution_count": 55,
   "id": "1cd2649e",
   "metadata": {},
   "outputs": [
    {
     "name": "stdout",
     "output_type": "stream",
     "text": [
      "{'b': 0, 'c': 0, 'a': 0}\n",
      "{'a': 0, 'b': 0, 'c': 0}\n",
      "{'a': (0, 1, 2), 'b': (0, 1, 2), 'c': (0, 1, 2)}\n"
     ]
    }
   ],
   "source": [
    "# fromkeys()\n",
    "keys = {'a', 'b', 'c'}\n",
    "setdefault = 0\n",
    "new_dict = dict.fromkeys(keys, setdefault)\n",
    "print(new_dict)\n",
    "\n",
    "keys = ['a', 'b', 'c']\n",
    "setdefault = 0\n",
    "new_dict = dict.fromkeys(keys, setdefault)\n",
    "print(new_dict)\n",
    "\n",
    "keys = ['a', 'b', 'c']\n",
    "setdefault = 0, 1, 2\n",
    "new_dict = dict.fromkeys(keys, setdefault)\n",
    "print(new_dict)"
   ]
  },
  {
   "cell_type": "code",
   "execution_count": 57,
   "id": "02722d7d",
   "metadata": {},
   "outputs": [
    {
     "name": "stdout",
     "output_type": "stream",
     "text": [
      "{'Name': 'Seyi', 'Color': 'Blue', 'Food': 'Rice'}\n"
     ]
    }
   ],
   "source": [
    "#copy()\n",
    "original_dict = {'Name': 'Seyi', 'Color': 'Blue', 'Food': 'Rice'}\n",
    "copied_item = dict.copy()\n",
    "print(copied_item)\n"
   ]
  },
  {
   "cell_type": "code",
   "execution_count": null,
   "id": "a77c2b0b",
   "metadata": {},
   "outputs": [],
   "source": []
  }
 ],
 "metadata": {
  "kernelspec": {
   "display_name": "Python 3 (ipykernel)",
   "language": "python",
   "name": "python3"
  },
  "language_info": {
   "codemirror_mode": {
    "name": "ipython",
    "version": 3
   },
   "file_extension": ".py",
   "mimetype": "text/x-python",
   "name": "python",
   "nbconvert_exporter": "python",
   "pygments_lexer": "ipython3",
   "version": "3.11.3"
  }
 },
 "nbformat": 4,
 "nbformat_minor": 5
}
