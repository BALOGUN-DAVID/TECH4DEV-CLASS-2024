{
 "cells": [
  {
   "cell_type": "markdown",
   "id": "46d4d479",
   "metadata": {},
   "source": [
    "#### Question\n",
    "List 20 Methods in python"
   ]
  },
  {
   "cell_type": "markdown",
   "id": "08e48d45",
   "metadata": {},
   "source": [
    "1. len(): Returns the length of an object.\n",
    "\n",
    "2. type(): Returns the type of an object.\n",
    "\n",
    "3. str(): Converts an object to a string.\n",
    "\n",
    "4. int(): Converts a string or a number to an integer.\n",
    "\n",
    "5. float(): Converts a string or a number to a floating-point number.\n",
    "\n",
    "6. list(): Converts an iterable to a list.\n",
    "\n",
    "7. tuple(): Converts an iterable to a tuple.\n",
    "\n",
    "8. set(): Converts an iterable to a set.\n",
    "\n",
    "9. dict(): Creates a new dictionary.\n",
    "\n",
    "10. max(): Returns the largest item in an iterable or the largest of two or more arguments.\n",
    "\n",
    "11. min(): Returns the smallest item in an iterable or the smallest of two or more arguments.\n",
    "\n",
    "12. sorted(): Returns a new sorted list from the elements of an iterable.\n",
    "\n",
    "13. sum(): Returns the sum of all items in an iterable.\n",
    "\n",
    "14. range(): Generates a sequence of numbers.\n",
    "\n",
    "15. abs(): Returns the absolute value of a number.\n",
    "\n",
    "16. round(): Rounds a number to a specified number of decimal places.\n",
    "\n",
    "17. enumerate(): Returns an enumerate object, which contains pairs of index and value.\n",
    "\n",
    "18. zip(): Combines multiple iterables into tuples.\n",
    "\n",
    "19. format(): Formats a string.\n",
    "\n",
    "20. open(): Opens a file for reading, writing, or appending.\n"
   ]
  }
 ],
 "metadata": {
  "kernelspec": {
   "display_name": "Python 3 (ipykernel)",
   "language": "python",
   "name": "python3"
  },
  "language_info": {
   "codemirror_mode": {
    "name": "ipython",
    "version": 3
   },
   "file_extension": ".py",
   "mimetype": "text/x-python",
   "name": "python",
   "nbconvert_exporter": "python",
   "pygments_lexer": "ipython3",
   "version": "3.11.5"
  }
 },
 "nbformat": 4,
 "nbformat_minor": 5
}
