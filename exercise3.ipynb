{
 "cells": [
  {
   "cell_type": "markdown",
   "metadata": {},
   "source": [
    "# Exercise 3"
   ]
  },
  {
   "cell_type": "markdown",
   "metadata": {},
   "source": [
    "## 1."
   ]
  },
  {
   "cell_type": "code",
   "execution_count": 20,
   "metadata": {},
   "outputs": [
    {
     "name": "stdout",
     "output_type": "stream",
     "text": [
      "+-------+\n",
      "\\       /\n",
      "/       \\\n",
      "\\       /\n",
      "/       \\\n",
      "\\       /\n",
      "/       \\\n",
      "\\       /\n",
      "/       \\\n",
      "\\       /\n",
      "/       \\\n",
      "+-------+\n"
     ]
    }
   ],
   "source": [
    "print(\"+-------+\")\n",
    "for i in range(5):\n",
    "    print(\"\\\\       /\")\n",
    "    print(\"/       \\\\\")\n",
    "print(\"+-------+\")"
   ]
  },
  {
   "cell_type": "markdown",
   "metadata": {},
   "source": [
    "## 2."
   ]
  },
  {
   "cell_type": "code",
   "execution_count": 21,
   "metadata": {},
   "outputs": [
    {
     "name": "stdout",
     "output_type": "stream",
     "text": [
      "**********\n",
      "**********\n",
      "**********\n",
      "**********\n",
      "**********\n"
     ]
    }
   ],
   "source": [
    "rows = 5\n",
    "columns = 10\n",
    "for i in range(rows):\n",
    "    for j in range (columns):\n",
    "        print(\"*\", end=\"\")\n",
    "    print()"
   ]
  },
  {
   "cell_type": "markdown",
   "metadata": {},
   "source": [
    "## 3."
   ]
  },
  {
   "cell_type": "markdown",
   "metadata": {},
   "source": [
    "### a."
   ]
  },
  {
   "cell_type": "code",
   "execution_count": 24,
   "metadata": {},
   "outputs": [
    {
     "name": "stdout",
     "output_type": "stream",
     "text": [
      "1\n",
      "2\n",
      "3\n",
      "4\n",
      "5\n",
      "6\n"
     ]
    }
   ],
   "source": [
    "for i in range(1, 7):\n",
    "    print(i)\n"
   ]
  },
  {
   "cell_type": "markdown",
   "metadata": {},
   "source": [
    "### b."
   ]
  },
  {
   "cell_type": "code",
   "execution_count": 29,
   "metadata": {},
   "outputs": [
    {
     "name": "stdout",
     "output_type": "stream",
     "text": [
      "2\n",
      "4\n",
      "6\n",
      "8\n",
      "10\n",
      "12\n"
     ]
    }
   ],
   "source": [
    "for i in range(1, 7):\n",
    "    print(i * 2)"
   ]
  },
  {
   "cell_type": "markdown",
   "metadata": {},
   "source": [
    "### c."
   ]
  },
  {
   "cell_type": "code",
   "execution_count": 30,
   "metadata": {},
   "outputs": [
    {
     "name": "stdout",
     "output_type": "stream",
     "text": [
      "4\n",
      "19\n",
      "34\n",
      "49\n",
      "64\n",
      "79\n"
     ]
    }
   ],
   "source": [
    "for i in range(1, 7):\n",
    "    print(15 * (i - 1) + 4)"
   ]
  },
  {
   "cell_type": "markdown",
   "metadata": {},
   "source": [
    "### d."
   ]
  },
  {
   "cell_type": "code",
   "execution_count": 31,
   "metadata": {},
   "outputs": [
    {
     "name": "stdout",
     "output_type": "stream",
     "text": [
      "30\n",
      "20\n",
      "10\n",
      "0\n",
      "-10\n",
      "-20\n"
     ]
    }
   ],
   "source": [
    "for i in range(1, 7):\n",
    "    print(30 - 10 * (i - 1))"
   ]
  },
  {
   "cell_type": "markdown",
   "metadata": {},
   "source": [
    "### e."
   ]
  },
  {
   "cell_type": "code",
   "execution_count": 33,
   "metadata": {},
   "outputs": [
    {
     "name": "stdout",
     "output_type": "stream",
     "text": [
      "-7\n",
      "-3\n",
      "1\n",
      "5\n",
      "9\n",
      "13\n"
     ]
    }
   ],
   "source": [
    "for i in range(1, 7):\n",
    "    print(-7 + 4 * (i - 1))"
   ]
  },
  {
   "cell_type": "markdown",
   "metadata": {},
   "source": [
    "### f."
   ]
  },
  {
   "cell_type": "code",
   "execution_count": 34,
   "metadata": {},
   "outputs": [
    {
     "name": "stdout",
     "output_type": "stream",
     "text": [
      "97\n",
      "94\n",
      "91\n",
      "88\n",
      "85\n",
      "82\n"
     ]
    }
   ],
   "source": [
    "for i in range(1, 7):\n",
    "    print(97 - 3 * (i - 1))"
   ]
  },
  {
   "cell_type": "markdown",
   "metadata": {},
   "source": [
    "### g."
   ]
  },
  {
   "cell_type": "code",
   "execution_count": 35,
   "metadata": {},
   "outputs": [
    {
     "name": "stdout",
     "output_type": "stream",
     "text": [
      "-4\n",
      "14\n",
      "32\n",
      "50\n",
      "68\n",
      "86\n"
     ]
    }
   ],
   "source": [
    "for i in range(1, 7):\n",
    "    print(-4 + 18 * (i - 1))"
   ]
  },
  {
   "cell_type": "markdown",
   "metadata": {},
   "source": [
    "## 4."
   ]
  },
  {
   "cell_type": "code",
   "execution_count": 36,
   "metadata": {},
   "outputs": [
    {
     "name": "stdout",
     "output_type": "stream",
     "text": [
      "1\n",
      "22\n",
      "333\n",
      "4444\n",
      "55555\n",
      "666666\n",
      "7777777\n"
     ]
    }
   ],
   "source": [
    "class numbers:\n",
    "    lines = 7\n",
    "    \n",
    "    def printNum(self):\n",
    "        for i in range(1, self.lines + 1):\n",
    "            print(str(i) * i)\n",
    "            \n",
    "pattern = numbers()\n",
    "pattern.printNum()"
   ]
  },
  {
   "cell_type": "markdown",
   "metadata": {},
   "source": [
    "## 5."
   ]
  },
  {
   "cell_type": "code",
   "execution_count": 37,
   "metadata": {},
   "outputs": [
    {
     "name": "stdout",
     "output_type": "stream",
     "text": [
      "33.0\n",
      "50.0\n"
     ]
    }
   ],
   "source": [
    "def pay(salaryPerHour, hoursWorked):\n",
    "    regularHours = min(8, hoursWorked)\n",
    "    overtimeHours = max(0, hoursWorked - 8)\n",
    "    \n",
    "    regularPay = salaryPerHour * regularHours\n",
    "    overtimePay = 1.5 * salaryPerHour * overtimeHours\n",
    "    totalPay = regularPay + overtimePay\n",
    "    \n",
    "    return totalPay\n",
    "\n",
    "print(pay(5.50, 6))\n",
    "print(pay(4.00, 11))"
   ]
  },
  {
   "cell_type": "markdown",
   "metadata": {},
   "source": [
    "## 6."
   ]
  },
  {
   "cell_type": "code",
   "execution_count": 38,
   "metadata": {},
   "outputs": [
    {
     "name": "stdout",
     "output_type": "stream",
     "text": [
      "12.566370614359172\n"
     ]
    }
   ],
   "source": [
    "import math\n",
    "def area(radius):\n",
    "    return math.pi * radius ** 2\n",
    "\n",
    "print(area(2.0))"
   ]
  },
  {
   "cell_type": "markdown",
   "metadata": {},
   "source": [
    "## 7."
   ]
  },
  {
   "cell_type": "code",
   "execution_count": 40,
   "metadata": {},
   "outputs": [
    {
     "name": "stdout",
     "output_type": "stream",
     "text": [
      "sum = 35\n"
     ]
    }
   ],
   "source": [
    "low = int(input(\"low? \"))\n",
    "high = int(input(\"hing? \"))\n",
    "sum = 0\n",
    "\n",
    "for i in range(low, high):\n",
    "    sum += i\n",
    "    \n",
    "print(\"sum =\", sum)"
   ]
  },
  {
   "cell_type": "markdown",
   "metadata": {},
   "source": [
    "## 8."
   ]
  },
  {
   "cell_type": "code",
   "execution_count": 42,
   "metadata": {},
   "outputs": [
    {
     "name": "stdout",
     "output_type": "stream",
     "text": [
      "Please enter a valid number!\n",
      "Please enter a valid number!\n",
      "Please enter a valid number!\n",
      "194.0\n"
     ]
    }
   ],
   "source": [
    "sum = 0\n",
    "while True:\n",
    "    try:\n",
    "        num = float(input(\"Enter a number (type 0 to stop): \"))\n",
    "        if num == 0:\n",
    "            break\n",
    "        sum += num\n",
    "    except ValueError:\n",
    "        print(\"Please enter a valid number!\")\n",
    "        \n",
    "print(sum)"
   ]
  },
  {
   "cell_type": "markdown",
   "metadata": {},
   "source": [
    "## 9."
   ]
  },
  {
   "cell_type": "code",
   "execution_count": 47,
   "metadata": {},
   "outputs": [
    {
     "name": "stdout",
     "output_type": "stream",
     "text": [
      "Please enter a valid number!\n",
      "76.0\n"
     ]
    }
   ],
   "source": [
    "sum = 0\n",
    "while True:\n",
    "    try:\n",
    "        num = float(input(\"Enter a number (type -1 to stop): \"))\n",
    "        if num == -1:\n",
    "            break\n",
    "        sum += num\n",
    "    except ValueError:\n",
    "        print(\"Please enter a valid number!\")\n",
    "print(sum)"
   ]
  },
  {
   "cell_type": "markdown",
   "metadata": {},
   "source": [
    "## 10."
   ]
  },
  {
   "cell_type": "code",
   "execution_count": 48,
   "metadata": {},
   "outputs": [
    {
     "name": "stdout",
     "output_type": "stream",
     "text": [
      "hellohellohello\n",
      "worldworldworldworld\n",
      "\n"
     ]
    }
   ],
   "source": [
    "def repl(string, num):\n",
    "    if num <= 0:\n",
    "        return \"\"\n",
    "    return string * num\n",
    "    \n",
    "print(repl(\"hello\", 3))\n",
    "print(repl(\"world\", 4))\n",
    "print(repl(\"python\", 0))"
   ]
  },
  {
   "cell_type": "markdown",
   "metadata": {},
   "source": [
    "## 11."
   ]
  },
  {
   "cell_type": "code",
   "execution_count": 50,
   "metadata": {},
   "outputs": [
    {
     "name": "stdout",
     "output_type": "stream",
     "text": [
      "2 3 4 5 6 7 \n",
      "19 18 17 16 15 14 13 12 11 \n",
      "5\n"
     ]
    }
   ],
   "source": [
    "def printRange(start, end):\n",
    "    if start < end:\n",
    "        for i in range(start, end + 1):\n",
    "            print(i, end=\" \")\n",
    "        print()\n",
    "    elif start > end:\n",
    "        for i in range(start, end - 1, -1):\n",
    "            print(i, end=\" \")\n",
    "        print()\n",
    "    else:\n",
    "        print(start)\n",
    "\n",
    "printRange(2, 7)\n",
    "printRange(19, 11)\n",
    "printRange(5, 5)"
   ]
  },
  {
   "cell_type": "markdown",
   "metadata": {},
   "source": [
    "## 12."
   ]
  },
  {
   "cell_type": "code",
   "execution_count": 56,
   "metadata": {},
   "outputs": [
    {
     "name": "stdout",
     "output_type": "stream",
     "text": [
      "Smallest = -5\n",
      "Largest = 6\n"
     ]
    }
   ],
   "source": [
    "def smallestLargest():\n",
    "    num = int(input(\"How many numbers do you want to enter? \"))\n",
    "    smallest = float('inf')\n",
    "    largest = float('-inf')\n",
    "    \n",
    "    for i in range(1, num + 1):\n",
    "        numbers = int(input(f\"Number {i}: \"))\n",
    "        \n",
    "        if num < smallest:\n",
    "            smallest = numbers\n",
    "        if num > largest:\n",
    "            largest = numbers\n",
    "            \n",
    "    print(f\"Smallest = {smallest}\")\n",
    "    print(f\"Largest = {largest}\")\n",
    "\n",
    "smallestLargest()"
   ]
  },
  {
   "cell_type": "markdown",
   "metadata": {},
   "source": [
    "## 13."
   ]
  },
  {
   "cell_type": "code",
   "execution_count": 62,
   "metadata": {},
   "outputs": [
    {
     "name": "stdout",
     "output_type": "stream",
     "text": [
      "Please enter a valid number!\n",
      "Average was 11.2\n"
     ]
    }
   ],
   "source": [
    "def printAverage():\n",
    "    sum = 0\n",
    "    count = 0\n",
    "    \n",
    "    while True:\n",
    "        try:\n",
    "            num = float(input(\"Type a number: \"))\n",
    "            if num < 0:\n",
    "                if count == 0:\n",
    "                    print(\"No non-negative numbers entered.\")\n",
    "                else:\n",
    "                    average = sum / count\n",
    "                    print(f\"Average was {average:.1f}\")\n",
    "                break\n",
    "            \n",
    "            sum += num\n",
    "            count += 1\n",
    "        except ValueError:\n",
    "            print(\"Please enter a valid number!\")\n",
    "            \n",
    "printAverage()"
   ]
  },
  {
   "cell_type": "markdown",
   "metadata": {},
   "source": [
    "## 14."
   ]
  },
  {
   "cell_type": "code",
   "execution_count": 65,
   "metadata": {},
   "outputs": [
    {
     "name": "stdout",
     "output_type": "stream",
     "text": [
      "3\n",
      "2\n"
     ]
    }
   ],
   "source": [
    "def numUnique(num1, num2, num3):\n",
    "    uniqueNum = set()\n",
    "    \n",
    "    uniqueNum.add(num1)\n",
    "    uniqueNum.add(num2)\n",
    "    uniqueNum.add(num3)\n",
    "    \n",
    "    return len(uniqueNum)\n",
    "\n",
    "print(numUnique(18, 3, 4))\n",
    "print(numUnique(6, 7, 6))"
   ]
  },
  {
   "cell_type": "markdown",
   "metadata": {},
   "source": [
    "## 15."
   ]
  },
  {
   "cell_type": "code",
   "execution_count": 119,
   "metadata": {},
   "outputs": [
    {
     "name": "stdout",
     "output_type": "stream",
     "text": [
      "4 + 6 = 10\n",
      "6 + 3 = 9\n",
      "3 + 1 = 4\n",
      "3 + 2 = 5\n",
      "1 + 6 = 7\n",
      "You won after 5 tries!\n"
     ]
    }
   ],
   "source": [
    "import random\n",
    "\n",
    "def rollDice():\n",
    "    return random.randint(1, 6)\n",
    "\n",
    "def main():\n",
    "    tries = 0\n",
    "    \n",
    "    while True:\n",
    "        dice1 = rollDice()\n",
    "        dice2 = rollDice()\n",
    "        print(f\"{dice1} + {dice2} = {dice1 + dice2}\")\n",
    "        tries += 1\n",
    "        \n",
    "        if dice1 + dice2 == 7:\n",
    "            break\n",
    "        \n",
    "    print(f\"You won after {tries} tries!\")\n",
    "    \n",
    "if __name__ == \"__main__\":\n",
    "    main()"
   ]
  }
 ],
 "metadata": {
  "kernelspec": {
   "display_name": "Python 3",
   "language": "python",
   "name": "python3"
  },
  "language_info": {
   "codemirror_mode": {
    "name": "ipython",
    "version": 3
   },
   "file_extension": ".py",
   "mimetype": "text/x-python",
   "name": "python",
   "nbconvert_exporter": "python",
   "pygments_lexer": "ipython3",
   "version": "3.11.6"
  }
 },
 "nbformat": 4,
 "nbformat_minor": 2
}
