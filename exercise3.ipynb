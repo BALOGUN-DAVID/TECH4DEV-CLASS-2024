{
 "cells": [
  {
   "cell_type": "code",
   "execution_count": 1,
   "metadata": {},
   "outputs": [
    {
     "name": "stdout",
     "output_type": "stream",
     "text": [
      "The greatest number is 11\n"
     ]
    }
   ],
   "source": [
    "#Q1. Finding the maximum number\n",
    "numbers = [1,5,0,9,11,8]\n",
    "max_val = 0\n",
    "for number in numbers:\n",
    "    if number > max_val:\n",
    "        max_val = number\n",
    "print(f\"The greatest number is {max_val}\")\n",
    "\n"
   ]
  },
  {
   "cell_type": "code",
   "execution_count": 2,
   "metadata": {},
   "outputs": [
    {
     "name": "stdout",
     "output_type": "stream",
     "text": [
      "The average of the number is 26.545454545454547\n"
     ]
    }
   ],
   "source": [
    "#Q2. Finding the average of a list of numbers\n",
    "numbers = [4,7,1,5,11,53,12,46,46,84,23]\n",
    "sum = 0\n",
    "count = 0\n",
    "for number in numbers:\n",
    "    sum += number\n",
    "    count += 1\n",
    "avg = sum / count\n",
    "print(f\"The average of the number is {avg}\")\n"
   ]
  },
  {
   "cell_type": "code",
   "execution_count": null,
   "metadata": {},
   "outputs": [],
   "source": [
    "#Q3. Printing a list in reverse order\n",
    "numbers = [2,6,7,45,23,53,14,45,89,5]\n",
    "index = len(numbers) - 1\n",
    "\n",
    "while index >= 0:\n",
    "    print(numbers[index])\n",
    "    index -= 1\n",
    "\n"
   ]
  },
  {
   "cell_type": "code",
   "execution_count": 8,
   "metadata": {},
   "outputs": [
    {
     "name": "stdout",
     "output_type": "stream",
     "text": [
      "[56, 37, 47, 89]\n",
      "[12, 34, 78, 90]\n",
      "index 0: False\n",
      "index 1: False\n",
      "index 2: True\n",
      "index 3: True\n"
     ]
    }
   ],
   "source": [
    "#Q4.  \n",
    "numbers_list_1 = list()\n",
    "numbers_list_2 = list()\n",
    "count1 = 0\n",
    "count2 = 0\n",
    "\n",
    "#The first list of numbers\n",
    "length1 = int(input(\"How many numbers do you want to enter in list 1? \"))\n",
    "\n",
    "while count1 < length1:\n",
    "    num = int(input(\"Enter a number for list 1: \"))\n",
    "    count1 += 1\n",
    "    numbers_list_1.append(num)\n",
    "print(numbers_list_1)\n",
    " \n",
    "#The second list of numbers \n",
    "length2 = int(input(\"How many numbers do you want to enter in list 2? \"))\n",
    "\n",
    "while count2 < length2:\n",
    "    num = int(input(\"Enter a number for list 2: \"))\n",
    "    count2 += 1\n",
    "    numbers_list_2.append(num)\n",
    "print(numbers_list_2)\n",
    "\n",
    "i = 0\n",
    "while i<=(count1 - 1):\n",
    "    if numbers_list_1[i] < numbers_list_2[i]:\n",
    "        print(f\"index {i}: True\")\n",
    "    else:\n",
    "        print(f\"index {i}: False\")\n",
    "    i += 1\n",
    "\n",
    "\n"
   ]
  },
  {
   "cell_type": "code",
   "execution_count": 12,
   "metadata": {},
   "outputs": [
    {
     "name": "stdout",
     "output_type": "stream",
     "text": [
      "[1, 2, 3, 4]\n",
      "[1, 2]\n",
      "The new list is [1, 3, 2, 4]\n"
     ]
    }
   ],
   "source": [
    "#Accepts a list and two indices and swaps the elements at those indices\n",
    "numbers = []\n",
    "indexes = []\n",
    "length = int(input(\"How many numbers are there? \"))\n",
    "count = 0 \n",
    "while count < length:\n",
    "    num = int(input(\"Enter a number: \"))\n",
    "    numbers.append(num)\n",
    "    count += 1\n",
    "print(numbers)\n",
    "#Indexes to be swapped\n",
    "ind = input(\"Enter an index you want swapped separated by space: \")\n",
    "ind = ind.split()\n",
    "ind_list = [int(num) for num in ind]\n",
    "print(ind_list)\n",
    "\n",
    "temp = numbers[ind_list[0]]\n",
    "numbers[ind_list[0]] = numbers[ind_list[1]]\n",
    "numbers[ind_list[1]] = temp\n",
    "\n",
    "print(f\"The new list is {numbers}\")"
   ]
  },
  {
   "cell_type": "code",
   "execution_count": 15,
   "metadata": {},
   "outputs": [
    {
     "name": "stdout",
     "output_type": "stream",
     "text": [
      "['1', '2', '3', '4', '5', '1', '2', '3', '4', '5']\n"
     ]
    }
   ],
   "source": [
    "#Accepts two lists and concatenates them\n",
    "#prompting the user for list one\n",
    "list_one = input(\"Enter numbers separated by space: \")\n",
    "list_one = list_one.split()\n",
    "list_one_list = [int(num) for num in list_one]\n",
    "\n",
    "#prompting the user for list one\n",
    "list_two = input(\"Enter numbers separated by space: \")\n",
    "list_two = list_two.split()\n",
    "list_two_list = [int(num) for num in list_two]\n",
    "\n",
    "print(list_one + list_two)"
   ]
  },
  {
   "cell_type": "code",
   "execution_count": 16,
   "metadata": {},
   "outputs": [
    {
     "name": "stdout",
     "output_type": "stream",
     "text": [
      "['3', '4', '1', '2']\n"
     ]
    }
   ],
   "source": [
    "#Accepts two lists and concatenates them\n",
    "#prompting the user for list one\n",
    "list_one = input(\"Enter numbers separated by space: \")\n",
    "list_one = list_one.split()\n",
    "list_one_list = [int(num) for num in list_one]\n",
    "\n",
    "#prompting the user for list one\n",
    "list_two = input(\"Enter numbers separated by space: \")\n",
    "list_two = list_two.split()\n",
    "list_two_list = [int(num) for num in list_two]\n",
    "\n",
    "print(list_two + list_one)"
   ]
  },
  {
   "cell_type": "code",
   "execution_count": 31,
   "metadata": {},
   "outputs": [
    {
     "name": "stdout",
     "output_type": "stream",
     "text": [
      "4\n"
     ]
    }
   ],
   "source": [
    "#Print last index at which an element occurs\n",
    "numbers = input(\"Enter numbers separated by space: \")\n",
    "numbers = numbers.split()\n",
    "numbers_list = [int(num) for num in numbers]\n",
    "number_index = []\n",
    "number_search = int(input(\"Enter a number to find it last occurence in a list: \"))\n",
    "for i in range(len(numbers_list)):\n",
    "\n",
    "    if numbers_list[i] == number_search:\n",
    "         number_index.append(i)\n",
    "\n",
    "if len(number_index) == 0:\n",
    "    print(\"-1\")\n",
    "else:\n",
    "    maxi = 0\n",
    "    for j in number_index:\n",
    "        maxi = j\n",
    "        if j > maxi:\n",
    "            maxi = j\n",
    "    print(j)\n"
   ]
  },
  {
   "cell_type": "code",
   "execution_count": 44,
   "metadata": {},
   "outputs": [
    {
     "name": "stdout",
     "output_type": "stream",
     "text": [
      "2 6\n",
      "The range between 6 and 2 is 5\n"
     ]
    }
   ],
   "source": [
    "numbers = input(\"Enter numbers separated by space: \")\n",
    "numbers = numbers.split()\n",
    "numbers_list = [int(num) for num in numbers]\n",
    "\n",
    "maxi = numbers_list[0]\n",
    "mini = numbers_list[0]\n",
    "for i in numbers_list:\n",
    "    if i < mini:\n",
    "        mini = i\n",
    "    if i > maxi:\n",
    "        maxi = i\n",
    "print(mini,maxi)\n",
    "print(f\"The range between {maxi} and {mini} is {(maxi - mini) + 1}\")"
   ]
  },
  {
   "cell_type": "code",
   "execution_count": 51,
   "metadata": {},
   "outputs": [
    {
     "name": "stdout",
     "output_type": "stream",
     "text": [
      "4\n"
     ]
    }
   ],
   "source": [
    "#counts number of elements within a range\n",
    "numbers = input(\"Enter numbers separated by space: \")\n",
    "numbers = numbers.split()\n",
    "numbers_list = [int(num) for num in numbers]\n",
    "mini = int(input(\"Enter the lower bound of a range: \"))\n",
    "maxi = int(input(\"Enter the upper boubd of thte range: \"))\n",
    "rangy = [i for i in range(mini, (maxi + 1))]\n",
    "count = 0\n",
    "\n",
    "for num in numbers_list:\n",
    "    if num in rangy:\n",
    "        count += 1\n",
    "print(count)"
   ]
  },
  {
   "cell_type": "code",
   "execution_count": 8,
   "metadata": {},
   "outputs": [
    {
     "name": "stdout",
     "output_type": "stream",
     "text": [
      "false\n",
      "[1, 3, 2, 4]\n"
     ]
    }
   ],
   "source": [
    "#Checks if list is sorted in ascending order\n",
    "numbers = (input(\"Enter numbers separated by space: \"))\n",
    "numbers = numbers.split()\n",
    "numbers_list = [int(num) for num in numbers]\n",
    "current_num = numbers_list[0]\n",
    "for i in range(1,len(numbers_list)):\n",
    "    \n",
    "    if numbers_list[i] > current_num:\n",
    "        current_num = numbers_list[i]\n",
    "        if i == (len(numbers_list) - 1):\n",
    "            print(\"True\")\n",
    "        continue\n",
    "    else:\n",
    "\n",
    "        print(\"false\")\n",
    "        break\n",
    "print(numbers_list)\n"
   ]
  }
 ],
 "metadata": {
  "kernelspec": {
   "display_name": "base",
   "language": "python",
   "name": "python3"
  },
  "language_info": {
   "codemirror_mode": {
    "name": "ipython",
    "version": 3
   },
   "file_extension": ".py",
   "mimetype": "text/x-python",
   "name": "python",
   "nbconvert_exporter": "python",
   "pygments_lexer": "ipython3",
   "version": "3.11.5"
  }
 },
 "nbformat": 4,
 "nbformat_minor": 2
}
