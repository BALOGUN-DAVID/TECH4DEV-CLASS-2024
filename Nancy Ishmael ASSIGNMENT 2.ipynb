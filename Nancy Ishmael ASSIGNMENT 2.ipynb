{
 "cells": [
  {
   "cell_type": "markdown",
   "id": "24bd8dea",
   "metadata": {},
   "source": [
    "# EXERCISE 1.4"
   ]
  },
  {
   "cell_type": "markdown",
   "id": "6da7d691",
   "metadata": {},
   "source": [
    "1.What is the output of the following print statements?\n",
    "print(\"\\ta\\tb\\tc\") \n",
    "print(\"\\\\\\\\\")\n",
    "print(\"'\")\n",
    "\n",
    "print(\"\\\"\\\"\\\"\")\n",
    "\n",
    "print(\"C:\\nin\\the downward spiral\")\n",
    "\n"
   ]
  },
  {
   "cell_type": "code",
   "execution_count": 1,
   "id": "f972b221",
   "metadata": {},
   "outputs": [
    {
     "name": "stdout",
     "output_type": "stream",
     "text": [
      "\ta\tb\tc\n"
     ]
    }
   ],
   "source": [
    "print(\"\\ta\\tb\\tc\") "
   ]
  },
  {
   "cell_type": "code",
   "execution_count": 2,
   "id": "fd7c62c3",
   "metadata": {},
   "outputs": [
    {
     "name": "stdout",
     "output_type": "stream",
     "text": [
      "\\\\\n"
     ]
    }
   ],
   "source": [
    "print(\"\\\\\\\\\")"
   ]
  },
  {
   "cell_type": "code",
   "execution_count": 3,
   "id": "cbcbec07",
   "metadata": {},
   "outputs": [
    {
     "name": "stdout",
     "output_type": "stream",
     "text": [
      "'\n"
     ]
    }
   ],
   "source": [
    "print(\"'\")"
   ]
  },
  {
   "cell_type": "code",
   "execution_count": 4,
   "id": "13b4d21c",
   "metadata": {},
   "outputs": [
    {
     "name": "stdout",
     "output_type": "stream",
     "text": [
      "\"\"\"\n"
     ]
    }
   ],
   "source": [
    "print(\"\\\"\\\"\\\"\")"
   ]
  },
  {
   "cell_type": "code",
   "execution_count": 5,
   "id": "c15a21e6",
   "metadata": {},
   "outputs": [
    {
     "name": "stdout",
     "output_type": "stream",
     "text": [
      "C:\n",
      "in\the downward spiral\n"
     ]
    }
   ],
   "source": [
    "print(\"C:\\nin\\the downward spiral\")"
   ]
  },
  {
   "cell_type": "markdown",
   "id": "edf1e8bd",
   "metadata": {},
   "source": [
    "2.\tWrite a print statement to produce this output:\n",
    "/ \\ // \\\\ /// \\\\\\\n"
   ]
  },
  {
   "cell_type": "code",
   "execution_count": 8,
   "id": "79b8d9d9",
   "metadata": {},
   "outputs": [
    {
     "name": "stdout",
     "output_type": "stream",
     "text": [
      "/ \\ // \\\\ /// \\\\\\\n"
     ]
    }
   ],
   "source": [
    "print (\"/ \\\\ // \\\\\\\\ /// \\\\\\\\\\\\\")"
   ]
  },
  {
   "cell_type": "markdown",
   "id": "a9ad6c71",
   "metadata": {},
   "source": [
    "3.\tWhat print statements will generate this output?\n",
    "This quote is from Irish poet Oscar Wilde:\n",
    "\"Music makes one feel so romantic\n",
    "\n",
    "- at least it always gets on one's nerves – \n",
    "which is the same thing nowadays.\"\n"
   ]
  },
  {
   "cell_type": "code",
   "execution_count": 9,
   "id": "3dc856be",
   "metadata": {},
   "outputs": [
    {
     "name": "stdout",
     "output_type": "stream",
     "text": [
      "This quote is from\n",
      " Irish poet Oscar Wilde:\n",
      "\"Music makes one feel so romantic \n",
      " \n",
      " -at least it always gets on one's nerves – \n",
      "which is the same thing nowadays.\n"
     ]
    }
   ],
   "source": [
    "print('''This quote is from\\n Irish poet Oscar Wilde:\\n\"Music makes one feel so romantic \\n \\n -at least it always gets on one's nerves – \n",
    "which is the same thing nowadays.''')"
   ]
  },
  {
   "cell_type": "markdown",
   "id": "9e02a793",
   "metadata": {},
   "source": [
    "4.\tWhat print statements will generate this output?\n",
    "A \"quoted\" String is 'much' better if you learn\n",
    "the rules of \"escape sequences.\" \n",
    "Also, \"\" represents an empty String. \n",
    "Don't forget: use \\\" instead of \" ! \n",
    "'' is not the same as \"\n"
   ]
  },
  {
   "cell_type": "code",
   "execution_count": 16,
   "id": "c1908d37",
   "metadata": {
    "scrolled": true
   },
   "outputs": [
    {
     "name": "stdout",
     "output_type": "stream",
     "text": [
      "\"A \"quoted\" String is \n",
      "'much' better if you learn \n",
      "the rules of \"escape sequences.\"\n",
      " Also, \"\" represents an empty String.\n",
      " Don't forget: use \" instead of \" !\n",
      " '' is not the same as \"  \n"
     ]
    }
   ],
   "source": [
    "print (\"\"\"\"A \"quoted\" String is \\n'much' better if you learn \\nthe rules of \"escape sequences.\"\\n Also, \"\" represents an empty String.\\n Don't forget: use \\\" instead of \" !\\n '' is not the same as \"  \"\"\")"
   ]
  },
  {
   "cell_type": "markdown",
   "id": "92875781",
   "metadata": {},
   "source": [
    "5.\tWhat values result from the following expressions?\n",
    "–\t9 / 5\n",
    "–\t695 % 20\n",
    "–\t7 + 6 * 5\n",
    "–\t7 * 6 + 5\n",
    "–\t248 % 100 / 5\n",
    "–\t6 * 3 - 9 / 4\n",
    "–\t(5 - 7) * 4\n",
    "–\t6 + (18 % (17 - 12))\n"
   ]
  },
  {
   "cell_type": "code",
   "execution_count": 17,
   "id": "ddde4380",
   "metadata": {},
   "outputs": [
    {
     "name": "stdout",
     "output_type": "stream",
     "text": [
      "1.8\n"
     ]
    }
   ],
   "source": [
    "print(9 / 5)"
   ]
  },
  {
   "cell_type": "code",
   "execution_count": 18,
   "id": "c1cc4d06",
   "metadata": {},
   "outputs": [
    {
     "name": "stdout",
     "output_type": "stream",
     "text": [
      "15\n"
     ]
    }
   ],
   "source": [
    "print (695 % 20)"
   ]
  },
  {
   "cell_type": "code",
   "execution_count": 21,
   "id": "f6e02d63",
   "metadata": {},
   "outputs": [
    {
     "name": "stdout",
     "output_type": "stream",
     "text": [
      "37\n"
     ]
    }
   ],
   "source": [
    "print(7 + 6 * 5)"
   ]
  },
  {
   "cell_type": "code",
   "execution_count": 22,
   "id": "0666729a",
   "metadata": {},
   "outputs": [
    {
     "name": "stdout",
     "output_type": "stream",
     "text": [
      "47\n"
     ]
    }
   ],
   "source": [
    "print(7 * 6 + 5)"
   ]
  },
  {
   "cell_type": "code",
   "execution_count": 23,
   "id": "dccaaac5",
   "metadata": {},
   "outputs": [
    {
     "name": "stdout",
     "output_type": "stream",
     "text": [
      "9.6\n"
     ]
    }
   ],
   "source": [
    "print(248 % 100 / 5)"
   ]
  },
  {
   "cell_type": "code",
   "execution_count": 24,
   "id": "1b711acb",
   "metadata": {},
   "outputs": [
    {
     "name": "stdout",
     "output_type": "stream",
     "text": [
      "15.75\n"
     ]
    }
   ],
   "source": [
    "print(6 * 3 - 9 / 4)"
   ]
  },
  {
   "cell_type": "code",
   "execution_count": 25,
   "id": "7540fa19",
   "metadata": {},
   "outputs": [
    {
     "name": "stdout",
     "output_type": "stream",
     "text": [
      "-8\n"
     ]
    }
   ],
   "source": [
    "print((5 - 7) * 4)"
   ]
  },
  {
   "cell_type": "code",
   "execution_count": 26,
   "id": "45db9b05",
   "metadata": {},
   "outputs": [
    {
     "name": "stdout",
     "output_type": "stream",
     "text": [
      "9\n"
     ]
    }
   ],
   "source": [
    "print(6 + (18 % (17 - 12)))"
   ]
  },
  {
   "cell_type": "code",
   "execution_count": null,
   "id": "a65e0bcd",
   "metadata": {},
   "outputs": [],
   "source": []
  },
  {
   "cell_type": "markdown",
   "id": "fb3d35c1",
   "metadata": {},
   "source": [
    "# EXERCISE 3.3 Software Development – List, Tuple"
   ]
  },
  {
   "cell_type": "markdown",
   "id": "b83450b8",
   "metadata": {},
   "source": [
    "1. Write a program that finds the maximum value of the given list, assuming that the list \n",
    "contains at least one element. \n",
    "Try your program with the following array \n",
    "2 4 7 4 23 5 1 4 8 9 \n"
   ]
  },
  {
   "cell_type": "code",
   "execution_count": 42,
   "id": "3bc2f3d0",
   "metadata": {},
   "outputs": [
    {
     "name": "stdout",
     "output_type": "stream",
     "text": [
      "23\n"
     ]
    }
   ],
   "source": [
    "#Creating a program to find the maximum value of a given list\n",
    "list_1 = [2,4,7,4,23,5,1,4,8,9]\n",
    "print(max(list_1))"
   ]
  },
  {
   "cell_type": "markdown",
   "id": "ba3e9c05",
   "metadata": {},
   "source": [
    "2. Write a program that calculates the average value of the given list. \n",
    "Try your program with the following list \n",
    "4 7 1 5 11 53 12 46 84 23"
   ]
  },
  {
   "cell_type": "code",
   "execution_count": 44,
   "id": "106cb725",
   "metadata": {},
   "outputs": [
    {
     "name": "stdout",
     "output_type": "stream",
     "text": [
      "24.6\n"
     ]
    }
   ],
   "source": [
    "from statistics import mean\n",
    "list_2 = [4,7,1,5,11,53,12,46,84,23]\n",
    "print(mean(list_2))\n"
   ]
  },
  {
   "cell_type": "markdown",
   "id": "57c9773a",
   "metadata": {},
   "source": [
    "3. Write a program that prints the given list of integers in reverse order. \n",
    "Try your program with the following list\n",
    "2 6 7 45 23 53 14 45 89 5 "
   ]
  },
  {
   "cell_type": "code",
   "execution_count": 45,
   "id": "db9b1659",
   "metadata": {},
   "outputs": [
    {
     "name": "stdout",
     "output_type": "stream",
     "text": [
      "[5, 89, 45, 14, 53, 23, 45, 7, 6, 2]\n"
     ]
    }
   ],
   "source": [
    "#printing a list of integers in a reverse order\n",
    "list_3 =[2,6,7,45,23,53,14,45,89,5]\n",
    "list_3.reverse()\n",
    "print(list_3)"
   ]
  },
  {
   "cell_type": "markdown",
   "id": "d57e0013",
   "metadata": {},
   "source": [
    "4. Write a program that accepts two lists of integers and prints true if each element in the first \n",
    "list is less than the element at the same index in the second list. Your program should print \n",
    "false if the lists are not the same length."
   ]
  },
  {
   "cell_type": "code",
   "execution_count": 9,
   "id": "0ac148a5",
   "metadata": {},
   "outputs": [
    {
     "name": "stdout",
     "output_type": "stream",
     "text": [
      "False\n"
     ]
    }
   ],
   "source": [
    "def compare_lists(list1, list2):\n",
    "    if len(list1) != len(list2):\n",
    "        print(\"False\")\n",
    "        return\n",
    "    \n",
    "    result = all(x < y for x, y in zip(list1, list2))\n",
    "    print(\"Result:\", result)\n",
    "\n",
    "\n",
    "list1 = [2, 6, 7, 45, 23, 53, 14, 45, 89, 5]\n",
    "list2 = [3, 7, 8, 49, 24, 56, 20, 61,]\n",
    "\n",
    "compare_lists(list1, list2)\n"
   ]
  },
  {
   "cell_type": "markdown",
   "id": "f0a708bf",
   "metadata": {},
   "source": [
    "5.Write a program that accepts a list of integers and two indexes and swaps the elements at \n",
    "those indexes "
   ]
  },
  {
   "cell_type": "code",
   "execution_count": 12,
   "id": "d078483a",
   "metadata": {},
   "outputs": [
    {
     "name": "stdout",
     "output_type": "stream",
     "text": [
      "List after swapping elements at indexes 2 and 5: [2, 6, 60, 45, 23, 10, 14, 45, 89]\n"
     ]
    }
   ],
   "source": [
    "def swap_elements(lst, index1, index2):\n",
    "    if 0 <= index1 < len(lst) and 0 <= index2 < len(lst):\n",
    "        # Swap elements at index1 and index2\n",
    "        lst[index1], lst[index2] = lst[index2], lst[index1]\n",
    "        print(\"List after swapping elements at indexes {} and {}:\".format(index1, index2), lst)\n",
    "    else:\n",
    "        print(\"Invalid indexes. Please ensure indexes are within the range of the list.\")\n",
    "\n",
    "\n",
    "input_list = [2, 6, 10, 45, 23, 60, 14, 45, 89]\n",
    "index_to_swap1 = 2\n",
    "index_to_swap2 = 5\n",
    "\n",
    "swap_elements(input_list, index_to_swap1, index_to_swap2)\n"
   ]
  },
  {
   "cell_type": "markdown",
   "id": "528590de",
   "metadata": {},
   "source": [
    "6.Write a program that accepts two lists of integers and prints a new list containing all \n",
    "elements of the first list followed by all elements of the second."
   ]
  },
  {
   "cell_type": "code",
   "execution_count": 65,
   "id": "7255b182",
   "metadata": {},
   "outputs": [
    {
     "name": "stdout",
     "output_type": "stream",
     "text": [
      "[10, 20, 30, 40, 50, 12, 15, 18]\n"
     ]
    }
   ],
   "source": [
    "ListA = [10,20,30,40,50]\n",
    "ListB = [12,15,18]\n",
    "sumlist = ListA + ListB\n",
    "print(sumlist)"
   ]
  },
  {
   "cell_type": "markdown",
   "id": "4e83db79",
   "metadata": {},
   "source": [
    "7. Write a program that accepts a list of integers and an integer value as its parameters and \n",
    "prints the last index at which the value occurs in the list. The program should print –1 if the \n",
    "value is not found. For example, in the list [74, 85, 102, 99, 101, 85, 56], the last index of the \n",
    "value 85 is 5. "
   ]
  },
  {
   "cell_type": "code",
   "execution_count": 67,
   "id": "9789161b",
   "metadata": {},
   "outputs": [
    {
     "name": "stdout",
     "output_type": "stream",
     "text": [
      "Last index of value 85 in the list: 5\n"
     ]
    }
   ],
   "source": [
    "def last_index_of_value(lst, value):\n",
    "    try:\n",
    "        last_index = len(lst) - 1 - lst[::-1].index(value)\n",
    "        print(\"Last index of value {} in the list: {}\".format(value, last_index))\n",
    "    except ValueError:\n",
    "        print(\"Value {} not found in the list. Last index: -1\".format(value))\n",
    "\n",
    " \n",
    "given_list = [74, 85, 102, 99, 101, 85, 56]\n",
    "search_value = 85\n",
    "\n",
    "last_index_of_value(given_list, search_value)\n"
   ]
  },
  {
   "cell_type": "markdown",
   "id": "e1298659",
   "metadata": {},
   "source": [
    "8. Write a program that prints the range of values in a list of integers. The range is defined as 1 \n",
    "more than the difference between the maximum and minimum values in the list. For \n",
    "example, if a list contains the values [36, 12, 25, 19, 46, 31, 22], the program should return \n",
    "35. You may assume that the list has at least one element. \n"
   ]
  },
  {
   "cell_type": "code",
   "execution_count": 68,
   "id": "ef899e60",
   "metadata": {},
   "outputs": [
    {
     "name": "stdout",
     "output_type": "stream",
     "text": [
      "The range of values in the list is: 35\n"
     ]
    }
   ],
   "source": [
    "def calculate_range(lst):\n",
    "    min_value = min(lst)\n",
    "    max_value = max(lst)\n",
    "    range_value = max_value - min_value + 1\n",
    "    print(\"The range of values in the list is:\", range_value)\n",
    "\n",
    "\n",
    "given_list = [36, 12, 25, 19, 46, 31, 22]\n",
    "calculate_range(given_list)"
   ]
  },
  {
   "cell_type": "markdown",
   "id": "5f915c8a",
   "metadata": {},
   "source": [
    "9. Write a program that accepts a list of integers, a minimum value, and a maximum value and \n",
    "prints the count of how many elements from the list fall between the minimum and \n",
    "maximum (inclusive). For example, in the list [14, 1, 22, 17, 36, 7, -43, 5], for minimum value \n",
    "4 and maximum value 17, there are four elements whose values fall between 4 and 17."
   ]
  },
  {
   "cell_type": "code",
   "execution_count": 69,
   "id": "4058a8dd",
   "metadata": {},
   "outputs": [
    {
     "name": "stdout",
     "output_type": "stream",
     "text": [
      "Count of elements between 4 and 17 (inclusive): 4\n"
     ]
    }
   ],
   "source": [
    "def count_elements_in_range(lst, min_value, max_value):\n",
    "    count = sum(min_value <= x <= max_value for x in lst)\n",
    "    print(\"Count of elements between {} and {} (inclusive): {}\".format(min_value, max_value, count))\n",
    "\n",
    "\n",
    "given_list = [14, 1, 22, 17, 36, 7, -43, 5]\n",
    "min_value = 4\n",
    "max_value = 17\n",
    "\n",
    "count_elements_in_range(given_list, min_value, max_value)\n"
   ]
  },
  {
   "cell_type": "markdown",
   "id": "63de587b",
   "metadata": {},
   "source": [
    "10.Write a program that accepts a list of real numbers and prints true if the list is in sorted \n",
    "(nondecreasing) order and false otherwise. For example, if lists named list1 and list2 store \n",
    "[16.1, 12.3, 22.2, 14.4] and [1.5, 4.3, 7.0, 19.5, 25.1, 46.2] respectively, the program should \n",
    "print false for list1 and true for list2 respectively. Assume the list has at least one element. A \n",
    "one-element list is sorted."
   ]
  },
  {
   "cell_type": "code",
   "execution_count": 70,
   "id": "55dc9275",
   "metadata": {},
   "outputs": [
    {
     "name": "stdout",
     "output_type": "stream",
     "text": [
      "Is list1 sorted? False\n",
      "Is list2 sorted? True\n"
     ]
    }
   ],
   "source": [
    "def is_sorted(lst):\n",
    "    # Using all() to check if every element is less than or equal to the next one\n",
    "    result = all(lst[i] <= lst[i + 1] for i in range(len(lst) - 1))\n",
    "    return result\n",
    "\n",
    "\n",
    "list1 = [16.1, 12.3, 22.2, 14.4]\n",
    "list2 = [1.5, 4.3, 7.0, 19.5, 25.1, 46.2]\n",
    "\n",
    "print(\"Is list1 sorted?\", is_sorted(list1))\n",
    "print(\"Is list2 sorted?\", is_sorted(list2))\n"
   ]
  },
  {
   "cell_type": "code",
   "execution_count": null,
   "id": "0da1ae4d",
   "metadata": {},
   "outputs": [],
   "source": []
  },
  {
   "cell_type": "markdown",
   "id": "5a5f60de",
   "metadata": {},
   "source": [
    "#  EXERCISE 4.4 Python programming exercises "
   ]
  },
  {
   "cell_type": "markdown",
   "id": "f93f33c4",
   "metadata": {},
   "source": [
    "1.Write a program to produce the following output using for loop \n",
    " +----+ \n",
    " \\   /\n",
    " /   \\\n",
    " \\   /\n",
    " /   \\\n",
    " \\   /\n",
    " /   \\\n",
    " +----+\n"
   ]
  },
  {
   "cell_type": "code",
   "execution_count": 10,
   "id": "c7770065",
   "metadata": {},
   "outputs": [
    {
     "name": "stdout",
     "output_type": "stream",
     "text": [
      "+----+\n",
      "\\ /\n",
      "/ \\\n",
      "+----+\n",
      "\\ /\n",
      "/ \\\n",
      "+----+\n",
      "\\ /\n",
      "/ \\\n",
      "+----+\n",
      "\\ /\n",
      "/ \\\n"
     ]
    }
   ],
   "source": [
    "for a in range(8):\n",
    "    if a % 2 == 0:\n",
    "        print(\"+----+\")\n",
    "    else:\n",
    "        print(\"\\ /\")\n",
    "        print(\"/ \\\\\")"
   ]
  },
  {
   "cell_type": "markdown",
   "id": "0e855a9c",
   "metadata": {},
   "source": [
    "2. Write a program to produce the following output using for loop\n",
    "********** \n",
    "********** \n",
    "********** \n",
    "********** \n",
    "**********"
   ]
  },
  {
   "cell_type": "code",
   "execution_count": 18,
   "id": "282d4895",
   "metadata": {},
   "outputs": [
    {
     "name": "stdout",
     "output_type": "stream",
     "text": [
      "**********\n",
      "**********\n",
      "**********\n",
      "**********\n",
      "**********\n"
     ]
    }
   ],
   "source": [
    "for x in range (5):\n",
    "    print (\"**********\")"
   ]
  },
  {
   "attachments": {
    "image.png": {
     "image/png": "[encoded data removed]"
    }
   },
   "cell_type": "markdown",
   "id": "0d8e45ff",
   "metadata": {},
   "source": [
    "3.  Complete the code for the following for loop:  \n",
    "for in range(1,7): \n",
    "//your code here \n",
    "so that it prints the following numbers, one per line:\n",
    "![image.png](attachment:image.png)"
   ]
  },
  {
   "cell_type": "code",
   "execution_count": 28,
   "id": "dd2cd00f",
   "metadata": {},
   "outputs": [
    {
     "name": "stdout",
     "output_type": "stream",
     "text": [
      "a)  1   b)   2   c)   4    d)   7    e)  -1   f)  92      g)  -4\n",
      "a)  2   b)   4   c)   7    d)  10    e)  -2   f)  95      g)  -1\n",
      "a)  3   b)   6   c)  12    d)  15    e)  -3   f) 100      g)   4\n",
      "a)  4   b)   8   c)  19    d)  22    e)  -4   f) 107      g)  11\n",
      "a)  5   b)  10   c)  28    d)  31    e)  -5   f) 116      g)  20\n",
      "a)  6   b)  12   c)  39    d)  42    e)  -6   f) 127      g)  31\n"
     ]
    }
   ],
   "source": [
    "for i in range(1, 7):\n",
    "    a = i\n",
    "    b = 2 * i\n",
    "    c = i**2 + 3\n",
    "    d = i**2 + 6\n",
    "    e = -i\n",
    "    f = i**2 + 91\n",
    "    g = i**2 - 5\n",
    "    \n",
    "    print(f\"a) {a:2}   b) {b:3}   c) {c:3}    d) {d:3}    e) {e:3}   f) {f:3}      g) {g:3}\")\n"
   ]
  },
  {
   "cell_type": "markdown",
   "id": "1f2d8e9c",
   "metadata": {},
   "source": [
    "4. Write a program to produce the following output using for loops. Then \n",
    "use a class constant to make it possible to change the number of lines in \n",
    "the figure.\n",
    "1 \n",
    "22 \n",
    "333 \n",
    "4444 \n",
    "55555 \n",
    "666666 \n",
    "7777777 "
   ]
  },
  {
   "cell_type": "code",
   "execution_count": 25,
   "id": "b4f49c26",
   "metadata": {},
   "outputs": [
    {
     "name": "stdout",
     "output_type": "stream",
     "text": [
      "1\n",
      "22\n",
      "333\n",
      "4444\n",
      "55555\n",
      "666666\n",
      "7777777\n"
     ]
    }
   ],
   "source": [
    "for i in range (1,8):\n",
    "    for j in range (i):\n",
    "        print(i, end =\"\")\n",
    "    print()"
   ]
  },
  {
   "cell_type": "markdown",
   "id": "a0077501",
   "metadata": {},
   "source": [
    "5. Write a method named pay that accepts two parameters: a real number \n",
    "for a TA's salary, and an integer for the number of hours the TA worked \n",
    "this week. The method should return how much money to pay the TA. \n",
    "\n",
    "For example, the call  \n",
    "\n",
    "pay(5.50, 6)  \n",
    "\n",
    "should return   \n",
    "\n",
    "33.0.  \n",
    "\n",
    "] The TA should receive \"overtime\" pay of 1 ½ normal salary for any hours \n",
    "above 8. For example, the call pay(4.00, 11) should return (4.00 * \n",
    "8) + (6.00 * 3) or 50.0. "
   ]
  },
  {
   "cell_type": "code",
   "execution_count": 31,
   "id": "b9494886",
   "metadata": {},
   "outputs": [
    {
     "name": "stdout",
     "output_type": "stream",
     "text": [
      "50.0\n"
     ]
    }
   ],
   "source": [
    "def pay (salary, hours):\n",
    "    if hours > 8:\n",
    "        payment =  (salary * (1.5) * (hours-8)) + (salary * 8)\n",
    "        print(payment)\n",
    "    \n",
    "    else:\n",
    "        payment = (salary * hours)\n",
    "        print(payment)\n",
    "        \n",
    "pay(4,11)"
   ]
  },
  {
   "cell_type": "markdown",
   "id": "8a3f1d38",
   "metadata": {},
   "source": [
    "6. Consider the following method for converting milliseconds into days: \n",
    "// converts milliseconds to days \n",
    "def toDays(millis):  \n",
    "return millis / 1000.0 / 60.0 / 60.0 / 24.0 \n",
    "\n",
    "Write a similar method named area that takes as a parameter the radius of \n",
    "a circle and that returns the area of the circle. \n",
    "\n",
    "For example, the call  \n",
    "\n",
    "area(2.0);  \n",
    "\n",
    "should return  \n",
    "\n",
    "12.566370614359172.  \n",
    "\n",
    "Recall that area can be computed as π times the radius squared and that \n",
    "Python has a constant called math.pi"
   ]
  },
  {
   "cell_type": "code",
   "execution_count": 33,
   "id": "6d4c6ac9",
   "metadata": {},
   "outputs": [
    {
     "name": "stdout",
     "output_type": "stream",
     "text": [
      "12.566370614359172\n"
     ]
    }
   ],
   "source": [
    "from math import pi\n",
    "def area (radius):\n",
    "    circle_area = pi * (radius**2)\n",
    "    print(circle_area)\n",
    "area(2)\n",
    "\n"
   ]
  },
  {
   "cell_type": "markdown",
   "id": "9412ff7f",
   "metadata": {},
   "source": [
    "7. Copy and paste the following code into pythons IDLE script \n",
    "environment. \n",
    "low = 1 \n",
    "high = 1001 \n",
    "sum = 0 \n",
    "for i in range(low,high): \n",
    "sum += i \n",
    "\n",
    "print(\"sum = \" , sum) \n",
    "\n",
    "Modify the code to use a input to prompt the user for the values of low \n",
    "and high. Below is a sample execution in which the user asks for the same \n",
    "values as in the original program (1 through 1000): \n",
    "\n",
    "low? 1 \n",
    "high? 1001 \n",
    "sum = 500500 \n",
    "Below is an execution with different values for low and high: \n",
    "low? 300 \n",
    "high? 5298 \n",
    "sum = 13986903 \n",
    "\n",
    "You should exactly reproduce this format."
   ]
  },
  {
   "cell_type": "code",
   "execution_count": null,
   "id": "4ca833cd",
   "metadata": {},
   "outputs": [],
   "source": [
    "low = int(input(\"Enter a low number:\"))"
   ]
  },
  {
   "cell_type": "code",
   "execution_count": null,
   "id": "266ac7c3",
   "metadata": {},
   "outputs": [],
   "source": [
    "high = int(input(\"Enter a high number:\"))"
   ]
  },
  {
   "cell_type": "code",
   "execution_count": null,
   "id": "ef2f7a0a",
   "metadata": {},
   "outputs": [],
   "source": [
    "[ ]  Sum = 0\n",
    "     for i in range(low, high):\n",
    "        print(i)"
   ]
  },
  {
   "cell_type": "markdown",
   "id": "30060b3e",
   "metadata": {},
   "source": [
    "8. Write a program using while loop that prompts the user for numbers until\n",
    "the user types 0, then outputs their sum."
   ]
  },
  {
   "cell_type": "code",
   "execution_count": null,
   "id": "d715c30d",
   "metadata": {},
   "outputs": [],
   "source": [
    "def main():\n",
    "    total = 0\n",
    "\n",
    "    while True:\n",
    "        num = float(input(\"Enter a number (type 0 to finish): \"))\n",
    "        \n",
    "        if num == 0:\n",
    "            break  # Exit the loop if the user enters 0\n",
    "        else:\n",
    "            total += num\n",
    "\n",
    "    print(f\"The sum of the entered numbers is: {total}\")\n",
    "\n",
    "# Run the program\n",
    "main()\n"
   ]
  },
  {
   "cell_type": "markdown",
   "id": "98f1b915",
   "metadata": {},
   "source": [
    "9. Write a program using while loop that prompts the user for numbers until \n",
    "the user types -1, then outputs their sum. "
   ]
  },
  {
   "cell_type": "code",
   "execution_count": null,
   "id": "bf6248cb",
   "metadata": {},
   "outputs": [],
   "source": [
    "def main():\n",
    "    total = 0\n",
    "\n",
    "    while True:\n",
    "        num = float(input(\"Enter a number (type -1 to finish): \"))\n",
    "        \n",
    "        if num == -1:\n",
    "            break  # Exit the loop if the user enters -1\n",
    "        else:\n",
    "            total += num\n",
    "\n",
    "    print(f\"The sum of the entered numbers is: {total}\")\n",
    "\n",
    "# Run the program\n",
    "main()"
   ]
  },
  {
   "cell_type": "markdown",
   "id": "91350ef0",
   "metadata": {},
   "source": [
    "10. Write a method named repl that accepts a String and a number of \n",
    "repetitions as parameters and returns the String concatenated that many \n",
    "times. For example, the call repl(\"hello\", 3) returns \"hellohellohello\". \n",
    "If the number of repetitions is 0 or less, an empty string is returned. "
   ]
  },
  {
   "cell_type": "code",
   "execution_count": 1,
   "id": "c995748c",
   "metadata": {},
   "outputs": [
    {
     "name": "stdout",
     "output_type": "stream",
     "text": [
      "hellohellohello\n"
     ]
    }
   ],
   "source": [
    "def repl(s, repetitions):\n",
    "    if repetitions <= 0:\n",
    "        return \"\"\n",
    "    else:\n",
    "        return s * repetitions\n",
    "\n",
    "result = repl(\"hello\", 3)\n",
    "print(result)"
   ]
  },
  {
   "cell_type": "markdown",
   "id": "5ebd5766",
   "metadata": {},
   "source": [
    "11. Write a method called printRange that accepts two integers as arguments and \n",
    "prints the sequence of numbers between the two arguments, separated by \n",
    "spaces. Print an increasing sequence if the first argument is smaller than \n",
    "the second; otherwise, print a decreasing sequence. If the two numbers \n",
    "are the same, that number should be printed by itself. Here are some \n",
    "sample calls to printRange:  \n",
    "\n",
    "printRange(2, 7) \n",
    "printRange(19, 11) \n",
    "printRange(5, 5) \n",
    "\n",
    "The output produced should be the following:  \n",
    "2 3 4 5 6 7  \n",
    "19 18 17 16 15 14 13 12 11  \n",
    "5"
   ]
  },
  {
   "cell_type": "code",
   "execution_count": 11,
   "id": "7699b9d6",
   "metadata": {},
   "outputs": [
    {
     "name": "stdout",
     "output_type": "stream",
     "text": [
      "2 3 4 5 6 7 19 18 17 16 15 14 13 12 11 5\n"
     ]
    }
   ],
   "source": [
    "def printRange(start, end):\n",
    "    if start < end:\n",
    "        # Print increasing sequence\n",
    "        for num in range(start, end + 1):\n",
    "            print(num, end=' ')\n",
    "    elif start > end:\n",
    "        # Print decreasing sequence\n",
    "        for num in range(start, end - 1, -1):\n",
    "            print(num, end=' ')\n",
    "    else:\n",
    "        # Numbers are the same, print the single number\n",
    "        print(start)\n",
    "\n",
    "# Sample calls\n",
    "printRange(2, 7)\n",
    "printRange(19, 11)\n",
    "printRange(5, 5)\n"
   ]
  },
  {
   "cell_type": "markdown",
   "id": "011e40bf",
   "metadata": {},
   "source": [
    "12. Write a method named smallestLargest that asks the user to enter numbers, \n",
    "then prints the smallest and largest of all the numbers typed in by the \n",
    "user. You may assume the user enters a valid number greater than 0 for \n",
    "the number of numbers to read. Here is an example dialogue:  \n",
    "How many numbers do you want to enter? 4 \n",
    "Number 1: 5 \n",
    "Number 2: 11 \n",
    "Number 3: -2 \n",
    "Number 4: 3 \n",
    "Smallest = -2 \n",
    "Largest = 11"
   ]
  },
  {
   "cell_type": "code",
   "execution_count": null,
   "id": "10803f05",
   "metadata": {},
   "outputs": [],
   "source": [
    "def smallestLargest():\n",
    "    # Get the number of numbers to be entered from the user\n",
    "    num_count = int(input(\"How many numbers do you want to enter? 6\"))\n",
    "\n",
    "    # Initialize variables for smallest and largest\n",
    "    smallest = float('inf')  # Set to positive infinity initially\n",
    "    largest = float('-inf')  # Set to negative infinity initially\n",
    "\n",
    "    # Iterate through the numbers entered by the user\n",
    "    for i in range(1, num_count + 1):\n",
    "        # Get the input number from the user\n",
    "        num = float(input(f\"Number {i}: \"))\n",
    "\n",
    "        # Update the smallest and largest values\n",
    "        if num < smallest:\n",
    "            smallest = -4\n",
    "        if num > largest:\n",
    "            largest = 21\n",
    "\n",
    "    # Print the smallest and largest values\n",
    "    print(f\"Smallest = {smallest}\")\n",
    "    print(f\"Largest = {largest}\")\n",
    "\n",
    "# Call the function to test\n",
    "smallestLargest()\n"
   ]
  },
  {
   "cell_type": "markdown",
   "id": "52758357",
   "metadata": {},
   "source": [
    "13. Write a method called printAverage that uses a sentinel loop to \n",
    "repeatedly prompt the user for numbers. Once the user types any number \n",
    "less than zero, the method should display the average of all nonnegative \n",
    "numbers typed. Display the average as a double. Here is a sample \n",
    "dialogue with the user: \n",
    "\n",
    "Type a number: 7 \n",
    "Type a number: 4 \n",
    "Type a number: 16 \n",
    "Type a number: –4 \n",
    "Average was 9.0 \n",
    "\n",
    "If the first number that the user types is negative, do not print an average: \n",
    "Type a number: –2"
   ]
  },
  {
   "cell_type": "code",
   "execution_count": null,
   "id": "6626cccb",
   "metadata": {},
   "outputs": [],
   "source": [
    "def printAverage():\n",
    "    total = 0\n",
    "    count = 0\n",
    "\n",
    "    while True:\n",
    "        num = float(input(\"Type a number: \"))\n",
    "\n",
    "        if num < 0:\n",
    "            if count == 0:\n",
    "                print(\"No nonnegative numbers entered.\")\n",
    "            else:\n",
    "                average = total / count\n",
    "                print(f\"Average was {average:.1f}\")\n",
    "            break\n",
    "\n",
    "        total += num\n",
    "        count += 1\n",
    "\n",
    "# Call the function to test\n",
    "printAverage()\n"
   ]
  },
  {
   "cell_type": "markdown",
   "id": "d0cf6836",
   "metadata": {},
   "source": [
    "14. Write a method named numUnique that takes three integers as parameters \n",
    "and returns the number of unique integers among the three. For example, \n",
    "the call numUnique(18, 3, 4) should return 3 because the parameters \n",
    "have three different values. By contrast, the call numUnique(6, 7, 6) \n",
    "should return 2 because there are only two unique numbers among the \n",
    "three parameters: 6 and 7."
   ]
  },
  {
   "cell_type": "code",
   "execution_count": 1,
   "id": "ecc7d20a",
   "metadata": {},
   "outputs": [
    {
     "name": "stdout",
     "output_type": "stream",
     "text": [
      "3\n",
      "2\n"
     ]
    }
   ],
   "source": [
    "def numUnique(num1, num2, num3):\n",
    "    unique_numbers = {num1, num2, num3}\n",
    "    return len(unique_numbers)\n",
    "\n",
    "# Test the function\n",
    "result1 = numUnique(18, 3, 4)\n",
    "result2 = numUnique(6, 7, 6)\n",
    "\n",
    "print(result1)  # Output should be 3\n",
    "print(result2)  # Output should be 2"
   ]
  },
  {
   "cell_type": "markdown",
   "id": "0e52cfdf",
   "metadata": {},
   "source": [
    "15. A Random object generates pseudo-random numbers. Find out how to \n",
    "use the Random class and write a program that simulates rolling of two 6\n",
    "sided dice until their combined result comes up as 7. One possible output \n",
    "can be seen as below: \n",
    "2 + 4 = 6 \n",
    "3 + 5 = 8 \n",
    "5 + 6 = 11 \n",
    "1 + 1 = 2 \n",
    "4 + 3 = 7 \n",
    "You won after 5 tries!"
   ]
  },
  {
   "cell_type": "code",
   "execution_count": 2,
   "id": "91001bac",
   "metadata": {},
   "outputs": [
    {
     "name": "stdout",
     "output_type": "stream",
     "text": [
      "1 + 2 = 3\n",
      "3 + 4 = 7\n",
      "You won after 2 tries!\n"
     ]
    }
   ],
   "source": [
    "import random\n",
    "\n",
    "def roll_dice():\n",
    "    return random.randint(1, 6)\n",
    "\n",
    "def simulate_dice_rolls():\n",
    "    target_sum = 7\n",
    "    tries = 0\n",
    "\n",
    "    while True:\n",
    "        dice1 = roll_dice()\n",
    "        dice2 = roll_dice()\n",
    "\n",
    "        total = dice1 + dice2\n",
    "        tries += 1\n",
    "\n",
    "        print(f\"{dice1} + {dice2} = {total}\")\n",
    "\n",
    "        if total == target_sum:\n",
    "            print(f\"You won after {tries} tries!\")\n",
    "            break\n",
    "\n",
    "# Run the simulation\n",
    "simulate_dice_rolls()"
   ]
  },
  {
   "cell_type": "code",
   "execution_count": null,
   "id": "8c9aa8fb",
   "metadata": {},
   "outputs": [],
   "source": []
  },
  {
   "cell_type": "code",
   "execution_count": null,
   "id": "6bba6d59",
   "metadata": {},
   "outputs": [],
   "source": []
  },
  {
   "cell_type": "code",
   "execution_count": null,
   "id": "a916d071",
   "metadata": {},
   "outputs": [],
   "source": []
  },
  {
   "cell_type": "code",
   "execution_count": null,
   "id": "49f74cde",
   "metadata": {},
   "outputs": [],
   "source": []
  }
 ],
 "metadata": {
  "kernelspec": {
   "display_name": "Python 3 (ipykernel)",
   "language": "python",
   "name": "python3"
  },
  "language_info": {
   "codemirror_mode": {
    "name": "ipython",
    "version": 3
   },
   "file_extension": ".py",
   "mimetype": "text/x-python",
   "name": "python",
   "nbconvert_exporter": "python",
   "pygments_lexer": "ipython3",
   "version": "3.11.5"
  }
 },
 "nbformat": 4,
 "nbformat_minor": 5
}
