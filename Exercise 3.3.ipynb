{
 "cells": [
  {
   "cell_type": "markdown",
   "id": "5fde1667",
   "metadata": {},
   "source": [
    "# Python programming exercises\n",
    "1. Write a program that finds the maximum value of the given list, assuming that the list\n",
    "contains at least one element.\n",
    "Try your program with the following array\n",
    "2 4 7 4 23 5 1 4 8 9"
   ]
  },
  {
   "cell_type": "code",
   "execution_count": 9,
   "id": "3ba305d8",
   "metadata": {},
   "outputs": [
    {
     "name": "stdout",
     "output_type": "stream",
     "text": [
      "23\n"
     ]
    }
   ],
   "source": [
    "list = [2, 4, 7, 4, 23, 5, 1, 4, 8, 9]\n",
    "print(max(list))"
   ]
  },
  {
   "cell_type": "code",
   "execution_count": 10,
   "id": "84831167",
   "metadata": {},
   "outputs": [
    {
     "name": "stdout",
     "output_type": "stream",
     "text": [
      "23\n"
     ]
    }
   ],
   "source": [
    "#another method\n",
    "a = [2, 4, 7, 4, 23, 5, 1, 4, 8, 9]\n",
    "max_num = 0\n",
    "for i in a:\n",
    "    if i > max_num:\n",
    "        max_num = i\n",
    "print(max_num)"
   ]
  },
  {
   "cell_type": "markdown",
   "id": "c9fe1167",
   "metadata": {},
   "source": [
    "2. Write a program that calculates the average value of the given list.\n",
    "Try your program with the following list\n",
    "4 7 1 5 11 53 12 46 84 23"
   ]
  },
  {
   "cell_type": "code",
   "execution_count": 16,
   "id": "81a0a5f4",
   "metadata": {},
   "outputs": [
    {
     "data": {
      "text/plain": [
       "10"
      ]
     },
     "execution_count": 16,
     "metadata": {},
     "output_type": "execute_result"
    }
   ],
   "source": [
    "x = [4, 7, 1, 5, 11, 53, 12, 46, 84, 23]\n",
    "len(x)"
   ]
  },
  {
   "cell_type": "code",
   "execution_count": 17,
   "id": "24e9b1d8",
   "metadata": {},
   "outputs": [
    {
     "data": {
      "text/plain": [
       "246"
      ]
     },
     "execution_count": 17,
     "metadata": {},
     "output_type": "execute_result"
    }
   ],
   "source": [
    "sum(x)"
   ]
  },
  {
   "cell_type": "code",
   "execution_count": 20,
   "id": "a383be60",
   "metadata": {},
   "outputs": [
    {
     "name": "stdout",
     "output_type": "stream",
     "text": [
      "24.6\n"
     ]
    }
   ],
   "source": [
    "Average = (sum(x) / len(x))\n",
    "print(Average)"
   ]
  },
  {
   "cell_type": "code",
   "execution_count": 15,
   "id": "608ca326",
   "metadata": {},
   "outputs": [
    {
     "name": "stdout",
     "output_type": "stream",
     "text": [
      "24.6\n"
     ]
    }
   ],
   "source": [
    "#another method\n",
    "import statistics\n",
    "x = [4, 7, 1, 5, 11, 53, 12, 46, 84, 23]\n",
    "print(statistics.mean(x))"
   ]
  },
  {
   "cell_type": "markdown",
   "id": "f17dbac2",
   "metadata": {},
   "source": [
    "3. Write a program that prints the given list of integers in reverse order.\n",
    "Try your program with the following list\n",
    "2 6 7 45 23 53 14 45 89 5\n"
   ]
  },
  {
   "cell_type": "code",
   "execution_count": 21,
   "id": "906671f8",
   "metadata": {},
   "outputs": [
    {
     "name": "stdout",
     "output_type": "stream",
     "text": [
      "Using reverse()  [5, 89, 45, 14, 53, 23, 45, 7, 6, 2]\n"
     ]
    }
   ],
   "source": [
    "a = [2, 6, 7, 45, 23, 53, 14, 45, 89, 5]\n",
    "a.reverse()\n",
    "print(\"Using reverse() \", a)"
   ]
  },
  {
   "cell_type": "markdown",
   "id": "63f8ff91",
   "metadata": {},
   "source": [
    "4. Write a program that accepts two lists of integers and prints true if each element in the first \n",
    "list is less than the element at the same index in the second list. Your program should print \n",
    "false if the lists are not the same length."
   ]
  },
  {
   "cell_type": "code",
   "execution_count": 3,
   "id": "98683cfe",
   "metadata": {},
   "outputs": [
    {
     "name": "stdout",
     "output_type": "stream",
     "text": [
      "False\n"
     ]
    }
   ],
   "source": [
    "a = [2, 3, 5, 6, 7, 8, 6, 9, 20]\n",
    "b = [10, 3, 4, 5, 7, 9, 7, 8, 21]\n",
    "a.sort()\n",
    "b.sort()\n",
    "if a == b:\n",
    "    print(True)\n",
    "else:\n",
    "    print(False)"
   ]
  },
  {
   "cell_type": "code",
   "execution_count": 19,
   "id": "9c2bbf1d",
   "metadata": {},
   "outputs": [
    {
     "name": "stdout",
     "output_type": "stream",
     "text": [
      "False\n"
     ]
    }
   ],
   "source": [
    "def compare_lists(a, b):\n",
    "    if len(a) != len(b):\n",
    "        return False\n",
    "    for i in range(len(a)):\n",
    "        if a[i] <= b[i]:\n",
    "            return True\n",
    "    else:\n",
    "        return True\n",
    "    \n",
    "a = [2, 3, 5, 6, 7, 8, 6, 9, 20]\n",
    "b = [10, 3, 4, 5, 7, 9, 7, 8,]\n",
    "\n",
    "x = compare_lists(a, b)\n",
    "print(x)"
   ]
  },
  {
   "cell_type": "code",
   "execution_count": null,
   "id": "415af54e",
   "metadata": {},
   "outputs": [],
   "source": [
    "5. Write a program that accepts a list of integers and two indexes and swaps the elements at \n",
    "those indexes"
   ]
  },
  {
   "cell_type": "code",
   "execution_count": 12,
   "id": "43cdab56",
   "metadata": {},
   "outputs": [
    {
     "name": "stdout",
     "output_type": "stream",
     "text": [
      "Original List:  [21, 19, 46, 11]\n",
      "[19, 21, 46, 11]\n"
     ]
    }
   ],
   "source": [
    "def swap_list_elements(a, pos_1, pos_2):\n",
    "  a[pos_1], a[pos_2] = a[pos_2], a[pos_1]\n",
    "  return a\n",
    "\n",
    "\n",
    "a = [21, 19, 46, 11]\n",
    "print(\"Original List: \", a)\n",
    "pos_1, pos_2 = 1, 2\n",
    "\n",
    "print(swap_list_elements(a, pos_1-1, pos_2-1))"
   ]
  },
  {
   "cell_type": "markdown",
   "id": "d79d8b00",
   "metadata": {},
   "source": [
    "6. Write a program that accepts two lists of integers and prints a new list containing all \n",
    "elements of the first list followed by all elements of the second.\n"
   ]
  },
  {
   "cell_type": "code",
   "execution_count": 20,
   "id": "9c950f39",
   "metadata": {},
   "outputs": [
    {
     "name": "stdout",
     "output_type": "stream",
     "text": [
      "[1, 2, 3, 4, 5, 6, 7, 8, 9, 10, 11, 12, 13, 14]\n"
     ]
    }
   ],
   "source": [
    "a = [1, 2, 3, 4, 5, 6, 7]\n",
    "b = [8, 9, 10, 11, 12, 13, 14]\n",
    "x = (a + b)\n",
    "print(x)"
   ]
  },
  {
   "cell_type": "markdown",
   "id": "2e5fb328",
   "metadata": {},
   "source": [
    "7. Write a program that accepts a list of integers and an integer value as its parameters and \n",
    "prints the last index at which the value occurs in the list. The program should print –1 if the \n",
    "value is not found. For example, in the list [74, 85, 102, 99, 101, 85, 56], the last index of the \n",
    "value 85 is 5.\n"
   ]
  },
  {
   "cell_type": "code",
   "execution_count": 20,
   "id": "0822ebda",
   "metadata": {},
   "outputs": [
    {
     "name": "stdout",
     "output_type": "stream",
     "text": [
      "4\n",
      "-1\n"
     ]
    }
   ],
   "source": [
    "def find_x(i, v):\n",
    "    try:\n",
    "        return len(i) - 1 - i[::-1].index(v)\n",
    "    except ValueError:\n",
    "        return -1\n",
    "\n",
    "\n",
    "\n",
    "#i is a list of integer\n",
    "\n",
    "i = [75, 90, 105, 110, 90, 95, 100]\n",
    "\n",
    "#v is the value of an integer to be searched\n",
    "\n",
    "v = 90\n",
    "\n",
    "#x is the last index at which the integer occured\n",
    "\n",
    "x = find_x(i, v)\n",
    "print(x)\n",
    "\n",
    "v = 101\n",
    "x = find_x(i, v)\n",
    "print(x)\n"
   ]
  },
  {
   "cell_type": "markdown",
   "id": "b67de56b",
   "metadata": {},
   "source": [
    "8. Write a program that prints the range of values in a list of integers. The range is defined as 1 \n",
    "more than the difference between the maximum and minimum values in the list. For \n",
    "example, if a list contains the values [36, 12, 25, 19, 46, 31, 22], the program should return 35. You may assume that the list has at least one element.\n"
   ]
  },
  {
   "cell_type": "code",
   "execution_count": 1,
   "id": "bd1a8b4b",
   "metadata": {},
   "outputs": [
    {
     "name": "stdout",
     "output_type": "stream",
     "text": [
      "The range of the list is: 35\n"
     ]
    }
   ],
   "source": [
    "def calculate_range(lst):\n",
    "    # Find the minimum and maximum values in the list\n",
    "    min_value = min(lst)\n",
    "    max_value = max(lst)\n",
    "\n",
    "    # Calculate the range\n",
    "    value_range = max_value - min_value + 1\n",
    "\n",
    "    return value_range\n",
    "\n",
    "# Example usage\n",
    "my_list = [36, 12, 25, 19, 46, 31, 22]\n",
    "result = calculate_range(my_list)\n",
    "\n",
    "print(\"The range of the list is:\", result)\n"
   ]
  },
  {
   "cell_type": "code",
   "execution_count": 2,
   "id": "93a4a621",
   "metadata": {},
   "outputs": [
    {
     "name": "stdout",
     "output_type": "stream",
     "text": [
      "The range of the list is: 43\n"
     ]
    }
   ],
   "source": [
    "my_list = [38, 14, 27, 20, 56, 31, 22]\n",
    "result = calculate_range(my_list)\n",
    "\n",
    "print(\"The range of the list is:\", result)\n"
   ]
  },
  {
   "cell_type": "markdown",
   "id": "f1f01017",
   "metadata": {},
   "source": [
    "9. Write a program that accepts a list of integers, a minimum value, and a maximum value and \n",
    "prints the count of how many elements from the list fall between the minimum and \n",
    "maximum (inclusive). For example, in the list [14, 1, 22, 17, 36, 7, -43, 5], for minimum value \n",
    "4 and maximum value 17, there are four elements whose values fall between 4 and 17.\n"
   ]
  },
  {
   "cell_type": "code",
   "execution_count": 6,
   "id": "f10006a6",
   "metadata": {},
   "outputs": [
    {
     "name": "stdout",
     "output_type": "stream",
     "text": [
      "The count of elements between 3 and 20 (inclusive) is: 6\n"
     ]
    }
   ],
   "source": [
    "def count_elements_in_range(lst, min_val, max_val):\n",
    "    # Use a list comprehension to filter elements within the specified range\n",
    "    elements_in_range = [element for element in lst if min_val <= element <= max_val]\n",
    "\n",
    "    # Print the count of elements within the range\n",
    "    count = len(elements_in_range)\n",
    "    print(f\"The count of elements between {min_val} and {max_val} (inclusive) is: {count}\")\n",
    "\n",
    "# Example usage\n",
    "my_list = [15, 1, 27, 19, 16, 7, -43, 5, 25, 4]\n",
    "minimum_value = 3\n",
    "maximum_value = 20\n",
    "\n",
    "count_elements_in_range(my_list, minimum_value, maximum_value)\n"
   ]
  },
  {
   "cell_type": "markdown",
   "id": "56995da1",
   "metadata": {},
   "source": [
    "10. Write a program that accepts a list of real numbers and prints true if the list is in sorted \n",
    "(nondecreasing) order and false otherwise. For example, if lists named list1 and list2 store \n",
    "[16.1, 12.3, 22.2, 14.4] and [1.5, 4.3, 7.0, 19.5, 25.1, 46.2] respectively, the program should \n",
    "print false for list1 and true for list2 respectively. Assume the list has at least one element. A \n",
    "one-element list is sorted"
   ]
  },
  {
   "cell_type": "code",
   "execution_count": 7,
   "id": "52f08b2e",
   "metadata": {},
   "outputs": [
    {
     "name": "stdout",
     "output_type": "stream",
     "text": [
      "Is list1 sorted: False\n",
      "Is list2 sorted: True\n"
     ]
    }
   ],
   "source": [
    "def is_sorted(lst):\n",
    "    # Check if the list is sorted in non-decreasing order\n",
    "    sorted_check = all(lst[i] <= lst[i + 1] for i in range(len(lst) - 1))\n",
    "\n",
    "    return sorted_check\n",
    "\n",
    "# Example usage\n",
    "list1 = [16.1, 12.3, 22.2, 14.4]\n",
    "list2 = [1.5, 4.3, 7.0, 19.5, 25.1, 46.2]\n",
    "\n",
    "result1 = is_sorted(list1)\n",
    "result2 = is_sorted(list2)\n",
    "\n",
    "print(\"Is list1 sorted:\", result1)\n",
    "print(\"Is list2 sorted:\", result2)\n"
   ]
  }
 ],
 "metadata": {
  "kernelspec": {
   "display_name": "Python 3 (ipykernel)",
   "language": "python",
   "name": "python3"
  },
  "language_info": {
   "codemirror_mode": {
    "name": "ipython",
    "version": 3
   },
   "file_extension": ".py",
   "mimetype": "text/x-python",
   "name": "python",
   "nbconvert_exporter": "python",
   "pygments_lexer": "ipython3",
   "version": "3.11.4"
  }
 },
 "nbformat": 4,
 "nbformat_minor": 5
}
