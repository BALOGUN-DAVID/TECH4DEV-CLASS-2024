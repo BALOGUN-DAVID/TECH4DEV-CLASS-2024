{
 "cells": [
  {
   "cell_type": "markdown",
   "id": "0e7b8d72",
   "metadata": {},
   "source": [
    "# EXERCISE 1"
   ]
  },
  {
   "cell_type": "code",
   "execution_count": 3,
   "id": "9bc63e22",
   "metadata": {},
   "outputs": [
    {
     "name": "stdout",
     "output_type": "stream",
     "text": [
      "\ta\tb\tc\n"
     ]
    }
   ],
   "source": [
    "# 1.\tWhat is the output of the following print statements? #\n",
    "\n",
    "print(\"\\ta\\tb\\tc\") "
   ]
  },
  {
   "cell_type": "code",
   "execution_count": 4,
   "id": "34b6c464",
   "metadata": {},
   "outputs": [
    {
     "name": "stdout",
     "output_type": "stream",
     "text": [
      "\\\\\n"
     ]
    }
   ],
   "source": [
    "print(\"\\\\\\\\\")"
   ]
  },
  {
   "cell_type": "code",
   "execution_count": 5,
   "id": "ded6b3b7",
   "metadata": {},
   "outputs": [
    {
     "name": "stdout",
     "output_type": "stream",
     "text": [
      "'\n"
     ]
    }
   ],
   "source": [
    "print(\"'\")"
   ]
  },
  {
   "cell_type": "code",
   "execution_count": 6,
   "id": "933a2f81",
   "metadata": {},
   "outputs": [
    {
     "name": "stdout",
     "output_type": "stream",
     "text": [
      "\"\"\"\n"
     ]
    }
   ],
   "source": [
    "print(\"\\\"\\\"\\\"\")"
   ]
  },
  {
   "cell_type": "code",
   "execution_count": 7,
   "id": "b3c589e5",
   "metadata": {},
   "outputs": [
    {
     "name": "stdout",
     "output_type": "stream",
     "text": [
      "C:\n",
      "in\the downward spiral\n"
     ]
    }
   ],
   "source": [
    "print(\"C:\\nin\\the downward spiral\")"
   ]
  },
  {
   "cell_type": "code",
   "execution_count": 16,
   "id": "3f5bdd8e",
   "metadata": {},
   "outputs": [
    {
     "name": "stdout",
     "output_type": "stream",
     "text": [
      "/ \\ // \\\\ /// \\\\\\\n"
     ]
    }
   ],
   "source": [
    "# 2.\tWrite a print statement to produce this output:#\n",
    "#/ \\ // \\\\ /// \\\\\\ #\n",
    "print('/ \\\\ // \\\\\\\\ /// \\\\\\\\\\\\')"
   ]
  },
  {
   "cell_type": "code",
   "execution_count": 14,
   "id": "5bf769ba",
   "metadata": {},
   "outputs": [
    {
     "name": "stdout",
     "output_type": "stream",
     "text": [
      "This quote is from Irish poet Oscar Wilde:\n",
      "\"Music makes one feel so romantic\n",
      "\n",
      "- at least it always gets on one's nerves – which is the same thing nowadays.\"\n"
     ]
    }
   ],
   "source": [
    "# 3.\tWhat print statements will generate this output? #\n",
    "print('''This quote is from Irish poet Oscar Wilde:\n",
    "\"Music makes one feel so romantic\\n\\n- at least it always gets on one's nerves – which is the same thing nowadays.\"''')"
   ]
  },
  {
   "cell_type": "code",
   "execution_count": 18,
   "id": "3c699517",
   "metadata": {},
   "outputs": [
    {
     "name": "stdout",
     "output_type": "stream",
     "text": [
      " A \"quoted\" String is \n",
      "'much' better if you learn\n",
      "the rules of \"escape sequences.\"\n",
      "Also, \"\" represents an empty String. \n",
      "Don't forget: use \" instead of \" ! \n",
      "'' is not the same as \" \n"
     ]
    }
   ],
   "source": [
    "# 4.\tWhat print statements will generate this output? #\n",
    "print (''' A \"quoted\" String is \n",
    "'much' better if you learn\n",
    "the rules of \"escape sequences.\"\n",
    "Also, \"\" represents an empty String. \n",
    "Don't forget: use \\\" instead of \" ! \n",
    "'' is not the same as \" ''')"
   ]
  },
  {
   "cell_type": "code",
   "execution_count": 19,
   "id": "ab20d09b",
   "metadata": {},
   "outputs": [
    {
     "name": "stdout",
     "output_type": "stream",
     "text": [
      "1.8\n"
     ]
    }
   ],
   "source": [
    "# 5.\tWhat values result from the following expressions? #\n",
    "print (9 / 5)"
   ]
  },
  {
   "cell_type": "code",
   "execution_count": 20,
   "id": "76850552",
   "metadata": {},
   "outputs": [
    {
     "name": "stdout",
     "output_type": "stream",
     "text": [
      "15\n"
     ]
    }
   ],
   "source": [
    "print (695 % 20)"
   ]
  },
  {
   "cell_type": "code",
   "execution_count": 21,
   "id": "3a7704f5",
   "metadata": {},
   "outputs": [
    {
     "name": "stdout",
     "output_type": "stream",
     "text": [
      "37\n"
     ]
    }
   ],
   "source": [
    "print (7 + 6 * 5)"
   ]
  },
  {
   "cell_type": "code",
   "execution_count": 22,
   "id": "10801522",
   "metadata": {},
   "outputs": [
    {
     "name": "stdout",
     "output_type": "stream",
     "text": [
      "47\n"
     ]
    }
   ],
   "source": [
    "print (7 * 6 + 5)"
   ]
  },
  {
   "cell_type": "code",
   "execution_count": 23,
   "id": "73f54c83",
   "metadata": {},
   "outputs": [
    {
     "name": "stdout",
     "output_type": "stream",
     "text": [
      "9.6\n"
     ]
    }
   ],
   "source": [
    "print(248 % 100 / 5)"
   ]
  },
  {
   "cell_type": "code",
   "execution_count": 24,
   "id": "d464a879",
   "metadata": {},
   "outputs": [
    {
     "name": "stdout",
     "output_type": "stream",
     "text": [
      "15.75\n"
     ]
    }
   ],
   "source": [
    "print (6 * 3 - 9 / 4)"
   ]
  },
  {
   "cell_type": "code",
   "execution_count": 25,
   "id": "2d0ac50e",
   "metadata": {},
   "outputs": [
    {
     "name": "stdout",
     "output_type": "stream",
     "text": [
      "-8\n"
     ]
    }
   ],
   "source": [
    "print ((5 - 7) * 4)"
   ]
  },
  {
   "cell_type": "code",
   "execution_count": 26,
   "id": "144c108d",
   "metadata": {},
   "outputs": [
    {
     "name": "stdout",
     "output_type": "stream",
     "text": [
      "9\n"
     ]
    }
   ],
   "source": [
    "print (6 + (18 % (17 - 12)))"
   ]
  }
 ],
 "metadata": {
  "kernelspec": {
   "display_name": "Python 3 (ipykernel)",
   "language": "python",
   "name": "python3"
  },
  "language_info": {
   "codemirror_mode": {
    "name": "ipython",
    "version": 3
   },
   "file_extension": ".py",
   "mimetype": "text/x-python",
   "name": "python",
   "nbconvert_exporter": "python",
   "pygments_lexer": "ipython3",
   "version": "3.11.5"
  }
 },
 "nbformat": 4,
 "nbformat_minor": 5
}
