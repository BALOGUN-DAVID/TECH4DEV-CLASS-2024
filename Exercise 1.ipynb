{
 "cells": [
  {
   "cell_type": "markdown",
   "id": "3e0cd109",
   "metadata": {},
   "source": [
    "#### Number 1"
   ]
  },
  {
   "cell_type": "code",
   "execution_count": 1,
   "id": "22e40b77",
   "metadata": {},
   "outputs": [
    {
     "name": "stdout",
     "output_type": "stream",
     "text": [
      "\ta\tb\tc\n",
      "\\\\\n",
      "'\n",
      "\"\"\"\n",
      "C:\n",
      "in\the downward spiral\n"
     ]
    }
   ],
   "source": [
    "# (\\) is a special character\n",
    "# (\\t) gives a tab before the letters\n",
    "# (\\n) gives a new line\n",
    "print(\"\\ta\\tb\\tc\") \n",
    "\n",
    "print(\"\\\\\\\\\")\n",
    "\n",
    "print(\"'\")\n",
    "\n",
    "print(\"\\\"\\\"\\\"\")\n",
    "\n",
    "print(\"C:\\nin\\the downward spiral\")"
   ]
  },
  {
   "cell_type": "markdown",
   "id": "892b679a",
   "metadata": {},
   "source": [
    "#### Number 2"
   ]
  },
  {
   "cell_type": "code",
   "execution_count": 2,
   "id": "9e793839",
   "metadata": {},
   "outputs": [
    {
     "name": "stdout",
     "output_type": "stream",
     "text": [
      "/ \\ // \\ /// \\\\\\\n"
     ]
    }
   ],
   "source": [
    "print('/ \\ // \\\\ /// \\\\\\\\\\\\')"
   ]
  },
  {
   "cell_type": "markdown",
   "id": "8f1d570e",
   "metadata": {},
   "source": [
    "#### Number 3"
   ]
  },
  {
   "cell_type": "code",
   "execution_count": 3,
   "id": "49962d86",
   "metadata": {},
   "outputs": [
    {
     "name": "stdout",
     "output_type": "stream",
     "text": [
      "This quote is from \n",
      "Irish poet Oscar Wilde:\n",
      "\"Music makes one feel so romantic \n",
      "- at least it always gets on one's nerves – \n",
      "which is the same thing nowadays.\"\n"
     ]
    }
   ],
   "source": [
    "print('This quote is from \\nIrish poet Oscar Wilde:\\n\"Music makes one feel so romantic \\n- at least it always gets on one\\'s nerves – \\nwhich is the same thing nowadays.\"')"
   ]
  },
  {
   "cell_type": "markdown",
   "id": "b806d095",
   "metadata": {},
   "source": [
    "#### Number 4"
   ]
  },
  {
   "cell_type": "code",
   "execution_count": 4,
   "id": "c7e47e94",
   "metadata": {},
   "outputs": [
    {
     "name": "stdout",
     "output_type": "stream",
     "text": [
      "A \"quoted\" String is \n",
      "'much' better if you learn \n",
      "the rules of \"escape sequences.\" \n",
      "Also, \"\" represents an empty String. \n",
      "Don't forget: use \\\" instead of \" ! \n",
      "'' is not the same as \"\n"
     ]
    }
   ],
   "source": [
    "print('A \"quoted\" String is \\n\\'much\\' better if you learn \\nthe rules of \"escape sequences.\" \\nAlso, \"\" represents an empty String. \\nDon\\'t forget: use \\\\\" instead of \" ! \\n\\'\\' is not the same as \"')"
   ]
  },
  {
   "cell_type": "markdown",
   "id": "668bf214",
   "metadata": {},
   "source": [
    "#### Number 5"
   ]
  },
  {
   "cell_type": "code",
   "execution_count": 5,
   "id": "4c681d6f",
   "metadata": {},
   "outputs": [
    {
     "name": "stdout",
     "output_type": "stream",
     "text": [
      "1.8\n",
      "15\n",
      "1\n",
      "37\n",
      "9.6\n",
      "15.75\n",
      "-8\n",
      "9\n"
     ]
    }
   ],
   "source": [
    "# (/) returns the value of the division\n",
    "print(9 / 5)\n",
    "\n",
    "# (%) returns the remainder after division\n",
    "print(695 % 20)\n",
    "\n",
    "print(9 % 4)\n",
    "\n",
    "# follows the rule of bodmas\n",
    "print(7 + 6 * 5)\n",
    "\n",
    "print(248 % 100 / 5)\n",
    "\n",
    "print(6 * 3 - 9 / 4)\n",
    "\n",
    "print((5 - 7) * 4)\n",
    "\n",
    "print(6 + (18 % (17 - 12)))"
   ]
  }
 ],
 "metadata": {
  "kernelspec": {
   "display_name": "Python 3 (ipykernel)",
   "language": "python",
   "name": "python3"
  },
  "language_info": {
   "codemirror_mode": {
    "name": "ipython",
    "version": 3
   },
   "file_extension": ".py",
   "mimetype": "text/x-python",
   "name": "python",
   "nbconvert_exporter": "python",
   "pygments_lexer": "ipython3",
   "version": "3.11.5"
  }
 },
 "nbformat": 4,
 "nbformat_minor": 5
}
