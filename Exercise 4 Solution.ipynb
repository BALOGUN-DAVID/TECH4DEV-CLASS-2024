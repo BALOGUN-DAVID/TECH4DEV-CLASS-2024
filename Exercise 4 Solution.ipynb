{
 "cells": [
  {
   "cell_type": "markdown",
   "id": "fad191bc",
   "metadata": {},
   "source": [
    "# Exercise 4.1"
   ]
  },
  {
   "cell_type": "markdown",
   "id": "088035c6",
   "metadata": {},
   "source": [
    "1.0 Write a program to produce the following output using for loop\n",
    "+----+\n",
    "\\ /\n",
    "/ \\\n",
    "\\ /\n",
    "/ \\\n",
    "\\ /\n",
    "/ \\\n",
    "+----+"
   ]
  },
  {
   "cell_type": "code",
   "execution_count": 2,
   "id": "bf5162d9",
   "metadata": {},
   "outputs": [
    {
     "name": "stdout",
     "output_type": "stream",
     "text": [
      "+----+\n",
      "\\    /\n",
      "/    \\\n",
      "\\    /\n",
      "/    \\\n",
      "\\    /\n",
      "/    \\\n"
     ]
    }
   ],
   "source": [
    "for i in range(4):\n",
    "    if i == 0:\n",
    "        print(\"+----+\")\n",
    "    else:\n",
    "        print(\"\\\\    /\")\n",
    "        print(\"/    \\\\\")"
   ]
  },
  {
   "cell_type": "markdown",
   "id": "44fb47f0",
   "metadata": {},
   "source": [
    "2.0 Write a program to produce the following output using for loop\n",
    "**********\n",
    "**********\n",
    "**********\n",
    "**********\n",
    "**********"
   ]
  },
  {
   "cell_type": "code",
   "execution_count": 3,
   "id": "e50f5fc2",
   "metadata": {},
   "outputs": [
    {
     "name": "stdout",
     "output_type": "stream",
     "text": [
      "**********\n",
      "**********\n",
      "**********\n",
      "**********\n",
      "**********\n"
     ]
    }
   ],
   "source": [
    "for i in range(5):\n",
    "    print(\"**********\")"
   ]
  },
  {
   "cell_type": "raw",
   "id": "7de25593",
   "metadata": {},
   "source": [
    "3.0 Complete the code for the following for loop:\n",
    "for in range(1,7):\n",
    " //your code here\n",
    "so that it prints the following numbers, one per line:\n",
    "a) 1 b) 2 c) 4 d) 30 e) -7 f) 97 g) -4\n",
    "2 4 19 20 -3 94 14\n",
    "3 6 34 10 1 91 32\n",
    "4 8 49 0 5 88 50\n",
    "5 10 64 -10 9 85 68\n",
    "6 12 79 -20 13 82 86"
   ]
  },
  {
   "cell_type": "code",
   "execution_count": 4,
   "id": "f6689893",
   "metadata": {},
   "outputs": [
    {
     "name": "stdout",
     "output_type": "stream",
     "text": [
      "a) 1\n",
      "b) 2\n",
      "c) 1\n",
      "d) 30\n",
      "e) -3\n",
      "f) 87\n",
      "g) -4\n",
      "\n",
      "a) 2\n",
      "b) 4\n",
      "c) 4\n",
      "d) 25\n",
      "e) -5\n",
      "f) 84\n",
      "g) 10\n",
      "\n",
      "a) 3\n",
      "b) 6\n",
      "c) 9\n",
      "d) 20\n",
      "e) -7\n",
      "f) 81\n",
      "g) 24\n",
      "\n",
      "a) 4\n",
      "b) 8\n",
      "c) 16\n",
      "d) 15\n",
      "e) -9\n",
      "f) 78\n",
      "g) 38\n",
      "\n",
      "a) 5\n",
      "b) 10\n",
      "c) 25\n",
      "d) 10\n",
      "e) -11\n",
      "f) 75\n",
      "g) 52\n",
      "\n",
      "a) 6\n",
      "b) 12\n",
      "c) 36\n",
      "d) 5\n",
      "e) -13\n",
      "f) 72\n",
      "g) 66\n",
      "\n"
     ]
    }
   ],
   "source": [
    "for i in range(1, 7):\n",
    "    # a) Print the value of i\n",
    "    print(f\"a) {i}\")\n",
    "    \n",
    "    # b) Print the value of i * 2\n",
    "    print(f\"b) {i * 2}\")\n",
    "    \n",
    "    # c) Print the value of i squared\n",
    "    print(f\"c) {i ** 2}\")\n",
    "    \n",
    "    # d) Print the value of 35 - i * 5\n",
    "    print(f\"d) {35 - i * 5}\")\n",
    "    \n",
    "    # e) Print the value of (-i) * 2 - 1\n",
    "    print(f\"e) {(-i) * 2 - 1}\")\n",
    "    \n",
    "    # f) Print the value of 90 - i * 3\n",
    "    print(f\"f) {90 - i * 3}\")\n",
    "    \n",
    "    # g) Print the value of i * 14 - 18\n",
    "    print(f\"g) {i * 14 - 18}\")\n",
    "\n",
    "    print()  # Add an empty line between sets of numbers"
   ]
  },
  {
   "cell_type": "markdown",
   "id": "2250e710",
   "metadata": {},
   "source": [
    "4.0 Write a program to produce the following output using for loops. Then \n",
    "use a class constant to make it possible to change the number of lines in \n",
    "the figure.\n",
    "1\n",
    "22\n",
    "333\n",
    "4444\n",
    "55555\n",
    "666666\n",
    "7777777"
   ]
  },
  {
   "cell_type": "code",
   "execution_count": 5,
   "id": "9c6ba796",
   "metadata": {},
   "outputs": [
    {
     "name": "stdout",
     "output_type": "stream",
     "text": [
      "1\n",
      "22\n",
      "333\n",
      "4444\n",
      "55555\n",
      "666666\n",
      "7777777\n"
     ]
    }
   ],
   "source": [
    "class NumberTriangle:\n",
    "    # Class constant for the number of lines\n",
    "    NUM_LINES = 7\n",
    "\n",
    "    @classmethod\n",
    "    def generate_triangle(cls):\n",
    "        for i in range(1, cls.NUM_LINES + 1):\n",
    "            for j in range(i):\n",
    "                print(i, end=\"\")\n",
    "            print()\n",
    "\n",
    "# Create an instance of the class and generate the triangle\n",
    "triangle = NumberTriangle()\n",
    "triangle.generate_triangle()"
   ]
  },
  {
   "cell_type": "markdown",
   "id": "7546a6bf",
   "metadata": {},
   "source": [
    "5.0 Write a method named pay that accepts two parameters: a real number \n",
    "for a TA's salary, and an integer for the number of hours the TA worked \n",
    "this week. The method should return how much money to pay the TA. \n",
    "For example, the call \n",
    "pay(5.50, 6)\n",
    "should return \n",
    "33.0. \n",
    "The TA should receive \"overtime\" pay of 1 ½ normal salary for any hours \n",
    "above 8. For example, the call pay(4.00, 11) should return (4.00 * \n",
    "8) + (6.00 * 3) or 50.0."
   ]
  },
  {
   "cell_type": "code",
   "execution_count": 6,
   "id": "959e5ab1",
   "metadata": {},
   "outputs": [
    {
     "name": "stdout",
     "output_type": "stream",
     "text": [
      "Result 1: $33.0\n",
      "Result 2: $50.0\n"
     ]
    }
   ],
   "source": [
    "def pay(salary_per_hour, hours_worked):\n",
    "    normal_hours = min(8, hours_worked)\n",
    "    overtime_hours = max(0, hours_worked - 8)\n",
    "    \n",
    "    normal_pay = normal_hours * salary_per_hour\n",
    "    overtime_pay = overtime_hours * (1.5 * salary_per_hour)\n",
    "    \n",
    "    total_pay = normal_pay + overtime_pay\n",
    "    \n",
    "    return total_pay\n",
    "\n",
    "# Example usage\n",
    "result1 = pay(5.50, 6)\n",
    "result2 = pay(4.00, 11)\n",
    "\n",
    "print(f\"Result 1: ${result1}\")\n",
    "print(f\"Result 2: ${result2}\")"
   ]
  },
  {
   "cell_type": "markdown",
   "id": "a4bdd98e",
   "metadata": {},
   "source": [
    "6.0 Consider the following method for converting milliseconds into days:\n",
    "// converts milliseconds to days\n",
    "def toDays(millis):\n",
    " return millis / 1000.0 / 60.0 / 60.0 / 24.0\n",
    "Write a similar method named area that takes as a parameter the radius of \n",
    "a circle and that returns the area of the circle. For example, the call \n",
    "area(2.0);\n",
    "should return \n",
    "12.566370614359172. \n",
    "Recall that area can be computed as π times the radius squared and that \n",
    "Python has a constant called math.pi"
   ]
  },
  {
   "cell_type": "code",
   "execution_count": 7,
   "id": "31b48a6f",
   "metadata": {},
   "outputs": [
    {
     "name": "stdout",
     "output_type": "stream",
     "text": [
      "The area of a circle with radius 2.0 is: 12.566370614359172\n"
     ]
    }
   ],
   "source": [
    "import math\n",
    "\n",
    "def circle_area(radius):\n",
    "    # Calculate the area of the circle using the formula: π * radius^2\n",
    "    area = math.pi * radius ** 2\n",
    "    return area\n",
    "\n",
    "# Example usage\n",
    "radius = 2.0\n",
    "result = circle_area(radius)\n",
    "print(f\"The area of a circle with radius {radius} is: {result}\")"
   ]
  },
  {
   "cell_type": "markdown",
   "id": "04f37918",
   "metadata": {},
   "source": [
    "7.0 Copy and paste the following code into pythons IDLE script \n",
    "environment.\n",
    " low = 1\n",
    " high = 1001\n",
    " sum = 0\n",
    " for i in range(low,high):\n",
    " sum += i\n",
    " \n",
    " print(\"sum = \" , sum)\n",
    " \n",
    "Modify the code to use a input to prompt the user for the values of low\n",
    "and high. Below is a sample execution in which the user asks for the same \n",
    "values as in the original program (1 through 1000):\n",
    "low? 1\n",
    "high? 1001\n",
    "sum = 500500\n",
    "Below is an execution with different values for low and high:\n",
    "low? 300\n",
    "high? 5298\n",
    "sum = 13986903\n",
    "You should exactly reproduce this format."
   ]
  },
  {
   "cell_type": "code",
   "execution_count": 1,
   "id": "0e3dad43",
   "metadata": {},
   "outputs": [
    {
     "name": "stdout",
     "output_type": "stream",
     "text": [
      "low? 300\n",
      "high? 5298\n",
      "sum = 13986903\n"
     ]
    }
   ],
   "source": [
    "low = int(input(\"low? \"))\n",
    "high = int(input(\"high? \"))\n",
    "sum_result = 0\n",
    "\n",
    "for i in range(low, high):\n",
    "    sum_result += i\n",
    "\n",
    "print(\"sum =\", sum_result)"
   ]
  },
  {
   "cell_type": "markdown",
   "id": "9ff88abd",
   "metadata": {},
   "source": [
    "10.0  Write a method named repl that accepts a String and a number of \n",
    "repetitions as parameters and returns the String concatenated that many \n",
    "times. For example, the call repl(\"hello\", 3) returns \"hellohellohello\". \n",
    "If the number of repetitions is 0 or less, an empty string is returned."
   ]
  },
  {
   "cell_type": "code",
   "execution_count": 2,
   "id": "bdbd8c10",
   "metadata": {},
   "outputs": [
    {
     "name": "stdout",
     "output_type": "stream",
     "text": [
      "hellohellohello\n",
      "\n"
     ]
    }
   ],
   "source": [
    "def repl(s, repetitions):\n",
    "    if repetitions <= 0:\n",
    "        return \"\"\n",
    "    else:\n",
    "        return s * repetitions\n",
    "\n",
    "# Example usage\n",
    "result1 = repl(\"hello\", 3)\n",
    "result2 = repl(\"world\", 0)\n",
    "\n",
    "print(result1)  # Output: hellohellohello\n",
    "print(result2)  # Output: (empty string)"
   ]
  },
  {
   "cell_type": "markdown",
   "id": "29b93a76",
   "metadata": {},
   "source": [
    "11.0 Write a method called printRange that accepts two integers as arguments and \n",
    "prints the sequence of numbers between the two arguments, separated by \n",
    "spaces. Print an increasing sequence if the first argument is smaller than \n",
    "the second; otherwise, print a decreasing sequence. If the two numbers \n",
    "are the same, that number should be printed by itself. Here are some \n",
    "sample calls to printRange: \n",
    "printRange(2, 7)\n",
    "printRange(19, 11)\n",
    "printRange(5, 5)\n",
    "The output produced should be the following: \n",
    "2 3 4 5 6 7 \n",
    "19 18 17 16 15 14 13 12 11 \n",
    "5"
   ]
  },
  {
   "cell_type": "code",
   "execution_count": 3,
   "id": "05553d12",
   "metadata": {},
   "outputs": [
    {
     "name": "stdout",
     "output_type": "stream",
     "text": [
      "2 3 4 5 6 7 \n",
      "19 18 17 16 15 14 13 12 11 \n",
      "5\n"
     ]
    }
   ],
   "source": [
    "def printRange(start, end):\n",
    "    if start < end:\n",
    "        # Increasing sequence\n",
    "        for i in range(start, end + 1):\n",
    "            print(i, end=\" \")\n",
    "    elif start > end:\n",
    "        # Decreasing sequence\n",
    "        for i in range(start, end - 1, -1):\n",
    "            print(i, end=\" \")\n",
    "    else:\n",
    "        # Single number\n",
    "        print(start)\n",
    "\n",
    "# Sample calls\n",
    "printRange(2, 7)\n",
    "print()  # Add a newline for clarity\n",
    "printRange(19, 11)\n",
    "print()  # Add a newline for clarity\n",
    "printRange(5, 5)"
   ]
  },
  {
   "cell_type": "markdown",
   "id": "39dd3f43",
   "metadata": {},
   "source": [
    "12.0 Write a method named smallestLargest that asks the user to enter numbers, \n",
    "then prints the smallest and largest of all the numbers typed in by the \n",
    "user. You may assume the user enters a valid number greater than 0 for \n",
    "the number of numbers to read. Here is an example dialogue: \n",
    "How many numbers do you want to enter? 4\n",
    "Number 1: 5\n",
    "Number 2: 11\n",
    "Number 3: -2\n",
    "Number 4: 3\n",
    "Smallest = -2\n",
    "Largest = 11"
   ]
  },
  {
   "cell_type": "code",
   "execution_count": 4,
   "id": "0bdbd4ef",
   "metadata": {},
   "outputs": [
    {
     "name": "stdout",
     "output_type": "stream",
     "text": [
      "How many numbers do you want to enter? 4\n",
      "Number 1: 2\n",
      "Number 2: 3\n",
      "Number 3: 4\n",
      "Number 4: 5\n",
      "Smallest = 2.0\n",
      "Largest = 5.0\n"
     ]
    }
   ],
   "source": [
    "def smallestLargest():\n",
    "    # Ask the user for the number of numbers to enter\n",
    "    num_numbers = int(input(\"How many numbers do you want to enter? \"))\n",
    "\n",
    "    if num_numbers > 0:\n",
    "        # Initialize variables for smallest and largest\n",
    "        smallest = float('inf')  # Positive infinity as an initial value\n",
    "        largest = float('-inf')  # Negative infinity as an initial value\n",
    "\n",
    "        # Loop to get user input for each number\n",
    "        for i in range(1, num_numbers + 1):\n",
    "            current_number = float(input(f\"Number {i}: \"))\n",
    "            \n",
    "            # Update smallest and largest values\n",
    "            smallest = min(smallest, current_number)\n",
    "            largest = max(largest, current_number)\n",
    "\n",
    "        # Print the smallest and largest values\n",
    "        print(f\"Smallest = {smallest}\")\n",
    "        print(f\"Largest = {largest}\")\n",
    "    else:\n",
    "        print(\"Please enter a valid number greater than 0.\")\n",
    "\n",
    "# Call the method\n",
    "smallestLargest()"
   ]
  },
  {
   "cell_type": "markdown",
   "id": "e7efba51",
   "metadata": {},
   "source": [
    "13.0 Write a method called printAverage that uses a sentinel loop to \n",
    "repeatedly prompt the user for numbers. Once the user types any number \n",
    "less than zero, the method should display the average of all nonnegative \n",
    "numbers typed. Display the average as a double. Here is a sample \n",
    "dialogue with the user:\n",
    "Type a number: 7\n",
    "Type a number: 4\n",
    "Type a number: 16\n",
    "Type a number: –4\n",
    "Average was 9.0\n",
    "If the first number that the user types is negative, do not print an average:\n",
    "Type a number: –2"
   ]
  },
  {
   "cell_type": "code",
   "execution_count": 5,
   "id": "97dc65f2",
   "metadata": {},
   "outputs": [
    {
     "name": "stdout",
     "output_type": "stream",
     "text": [
      "Type a number: 5\n",
      "Type a number: 8\n",
      "Type a number: 10\n",
      "Type a number: 12\n",
      "Type a number: 14\n",
      "Type a number: 15\n",
      "Type a number: 7\n",
      "Type a number: 8\n",
      "Type a number: -2\n",
      "Average was 9.9\n"
     ]
    }
   ],
   "source": [
    "def printAverage():\n",
    "    # Initialize variables for sum and count\n",
    "    total = 0\n",
    "    count = 0\n",
    "\n",
    "    while True:\n",
    "        # Prompt the user for a number\n",
    "        num = float(input(\"Type a number: \"))\n",
    "        \n",
    "        if num < 0:\n",
    "            # If a negative number is entered, check if any nonnegative numbers were entered\n",
    "            if count > 0:\n",
    "                # Calculate and print the average\n",
    "                average = total / count\n",
    "                print(f\"Average was {average:.1f}\")\n",
    "            else:\n",
    "                print(\"No nonnegative numbers were entered.\")\n",
    "            break\n",
    "        else:\n",
    "            # Update sum and count for nonnegative numbers\n",
    "            total += num\n",
    "            count += 1\n",
    "\n",
    "# Call the method\n",
    "printAverage()"
   ]
  },
  {
   "cell_type": "markdown",
   "id": "b642e8cb",
   "metadata": {},
   "source": [
    "14.0 Write a method named numUnique that takes three integers as parameters \n",
    "and returns the number of unique integers among the three. For example, \n",
    "the call numUnique(18, 3, 4) should return 3 because the parameters \n",
    "have three different values. By contrast, the call numUnique(6, 7, 6)\n",
    "should return 2 because there are only two unique numbers among the \n",
    "three parameters: 6 and 7.\n"
   ]
  },
  {
   "cell_type": "code",
   "execution_count": 6,
   "id": "e9635830",
   "metadata": {},
   "outputs": [
    {
     "name": "stdout",
     "output_type": "stream",
     "text": [
      "3\n",
      "2\n"
     ]
    }
   ],
   "source": [
    "def numUnique(a, b, c):\n",
    "    # Create a set to store unique values\n",
    "    unique_numbers = set([a, b, c])\n",
    "\n",
    "    # Return the number of unique values\n",
    "    return len(unique_numbers)\n",
    "\n",
    "# Example usage\n",
    "result1 = numUnique(18, 3, 4)\n",
    "result2 = numUnique(6, 7, 6)\n",
    "\n",
    "print(result1)  # Output: 3\n",
    "print(result2)  # Output: 2"
   ]
  },
  {
   "cell_type": "markdown",
   "id": "8e158c58",
   "metadata": {},
   "source": [
    "15.0 A Random object generates pseudo-random numbers. Find out how to \n",
    "use the Random class and write a program that simulates rolling of two 6-\n",
    "sided dice until their combined result comes up as 7. One possible output \n",
    "can be seen as below:\n",
    " 2 + 4 = 6\n",
    "3 + 5 = 8\n",
    "5 + 6 = 11\n",
    "1 + 1 = 2\n",
    "4 + 3 = 7\n",
    "You won after 5 tries!"
   ]
  },
  {
   "cell_type": "code",
   "execution_count": 7,
   "id": "3f29fb0d",
   "metadata": {},
   "outputs": [
    {
     "name": "stdout",
     "output_type": "stream",
     "text": [
      "5 + 6 = 11\n",
      "5 + 1 = 6\n",
      "6 + 6 = 12\n",
      "1 + 2 = 3\n",
      "3 + 5 = 8\n",
      "2 + 3 = 5\n",
      "6 + 6 = 12\n",
      "3 + 4 = 7\n",
      "You won after 8 tries!\n"
     ]
    }
   ],
   "source": [
    "import random\n",
    "\n",
    "def roll_dice():\n",
    "    return random.randint(1, 6)\n",
    "\n",
    "def simulate_dice_rolls():\n",
    "    attempts = 0\n",
    "\n",
    "    while True:\n",
    "        die1 = roll_dice()\n",
    "        die2 = roll_dice()\n",
    "\n",
    "        total = die1 + die2\n",
    "        attempts += 1\n",
    "\n",
    "        print(f\"{die1} + {die2} = {total}\")\n",
    "\n",
    "        if total == 7:\n",
    "            print(f\"You won after {attempts} tries!\")\n",
    "            break\n",
    "\n",
    "# Run the simulation\n",
    "simulate_dice_rolls()"
   ]
  },
  {
   "cell_type": "markdown",
   "id": "40dbc853",
   "metadata": {},
   "source": [
    "8.0 Write a program using while loop that prompts the user for numbers until \n",
    "the user types 0, then outputs their sum"
   ]
  },
  {
   "cell_type": "code",
   "execution_count": 8,
   "id": "ec31410b",
   "metadata": {},
   "outputs": [
    {
     "name": "stdout",
     "output_type": "stream",
     "text": [
      "Enter a number (0 to stop): 0\n",
      "Sum of the numbers: 0\n"
     ]
    }
   ],
   "source": [
    "# Initialize sum and first input\n",
    "sum_numbers = 0\n",
    "user_input = float(input(\"Enter a number (0 to stop): \"))\n",
    "\n",
    "# Continue prompting the user until they enter 0\n",
    "while user_input != 0:\n",
    "    sum_numbers += user_input\n",
    "    user_input = float(input(\"Enter another number (0 to stop): \"))\n",
    "\n",
    "# Output the sum\n",
    "print(\"Sum of the numbers:\", sum_numbers)"
   ]
  },
  {
   "cell_type": "markdown",
   "id": "55f05b9c",
   "metadata": {},
   "source": [
    "9.0 Write a program using while loop that prompts the user for numbers until \n",
    "the user types -1, then outputs their sum."
   ]
  },
  {
   "cell_type": "code",
   "execution_count": 10,
   "id": "126fece8",
   "metadata": {},
   "outputs": [
    {
     "name": "stdout",
     "output_type": "stream",
     "text": [
      "Enter a number (-1 to stop): 8\n",
      "Enter another number (-1 to stop): 10\n",
      "Enter another number (-1 to stop): 12\n",
      "Enter another number (-1 to stop): 18\n",
      "Enter another number (-1 to stop): -1\n",
      "Sum of the numbers: 48.0\n"
     ]
    }
   ],
   "source": [
    "# Initialize sum and first input\n",
    "sum_numbers = 0\n",
    "user_input = float(input(\"Enter a number (-1 to stop): \"))\n",
    "\n",
    "# Continue prompting the user until they enter -1\n",
    "while user_input != -1:\n",
    "    sum_numbers += user_input\n",
    "    user_input = float(input(\"Enter another number (-1 to stop): \"))\n",
    "\n",
    "# Output the sum\n",
    "print(\"Sum of the numbers:\", sum_numbers)"
   ]
  },
  {
   "cell_type": "code",
   "execution_count": null,
   "id": "c9123532",
   "metadata": {},
   "outputs": [],
   "source": []
  }
 ],
 "metadata": {
  "kernelspec": {
   "display_name": "Python 3 (ipykernel)",
   "language": "python",
   "name": "python3"
  },
  "language_info": {
   "codemirror_mode": {
    "name": "ipython",
    "version": 3
   },
   "file_extension": ".py",
   "mimetype": "text/x-python",
   "name": "python",
   "nbconvert_exporter": "python",
   "pygments_lexer": "ipython3",
   "version": "3.11.5"
  }
 },
 "nbformat": 4,
 "nbformat_minor": 5
}
