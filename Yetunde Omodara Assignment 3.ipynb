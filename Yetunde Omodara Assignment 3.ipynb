{
 "cells": [
  {
   "cell_type": "markdown",
   "id": "06162d5a",
   "metadata": {},
   "source": [
    "# ASSIGNMENT 3"
   ]
  },
  {
   "cell_type": "code",
   "execution_count": 2,
   "id": "e229c1db",
   "metadata": {},
   "outputs": [
    {
     "name": "stdout",
     "output_type": "stream",
     "text": [
      "+----+\n",
      "\\ /\n",
      "/ \\\n",
      "\\ /\n",
      "/ \\\n",
      "\\ /\n",
      "/ \\\n",
      "+----+\n"
     ]
    }
   ],
   "source": [
    "for x in range (8):\n",
    "    if x == 0 or x == 7:\n",
    "        print(\"+----+\")\n",
    "    elif x % 2 == 1:\n",
    "        print(\"\\ /\")\n",
    "    else:\n",
    "        print(\"/ \\\\\")"
   ]
  },
  {
   "cell_type": "raw",
   "id": "14f5d1a9",
   "metadata": {},
   "source": [
    "2. Write a program to produce the following output using for loop \n",
    "********** \n",
    "********** \n",
    "********** \n",
    "********** \n",
    "********** "
   ]
  },
  {
   "cell_type": "code",
   "execution_count": 4,
   "id": "da4437b8",
   "metadata": {},
   "outputs": [
    {
     "name": "stdout",
     "output_type": "stream",
     "text": [
      "**********\n",
      "**********\n",
      "**********\n",
      "**********\n",
      "**********\n"
     ]
    }
   ],
   "source": [
    "for x in range (5):\n",
    "    print(\"*\" * 10)"
   ]
  },
  {
   "cell_type": "raw",
   "id": "3ae65d8e",
   "metadata": {},
   "source": [
    "3. Complete the code for the following for loop:  \n",
    "for in range(1,7): \n",
    "//your code here \n",
    "so that it prints the following numbers, one per line: "
   ]
  },
  {
   "cell_type": "code",
   "execution_count": null,
   "id": "7861b082",
   "metadata": {},
   "outputs": [],
   "source": [
    "for range "
   ]
  },
  {
   "cell_type": "raw",
   "id": "1ae300d8",
   "metadata": {},
   "source": [
    "Write a program to produce the following output using for loops. Then \n",
    "use a class constant to make it possible to change the number of lines in \n",
    "the figure. \n",
    "1 \n",
    "22 \n",
    "333 \n",
    "4444 \n",
    "55555 \n",
    "666666 \n",
    "7777777"
   ]
  },
  {
   "cell_type": "code",
   "execution_count": 13,
   "id": "7901284a",
   "metadata": {},
   "outputs": [
    {
     "name": "stdout",
     "output_type": "stream",
     "text": [
      "1\n",
      "22\n",
      "333\n",
      "4444\n",
      "55555\n",
      "666666\n",
      "7777777\n"
     ]
    }
   ],
   "source": [
    "for i in range (1, 8):\n",
    "    for j in range (i):\n",
    "        print(i, end = \"\")\n",
    "    print()"
   ]
  },
  {
   "cell_type": "raw",
   "id": "47a8e6cd",
   "metadata": {},
   "source": [
    "5. Write a method named pay that accepts two parameters: a real number \n",
    "for a TA's salary, and an integer for the number of hours the TA worked \n",
    "this week. The method should return how much money to pay the TA. \n",
    "For example, the call  \n",
    "\n",
    "pay(5.50, 6)  \n",
    "\n",
    "should return  33.0.  \n",
    "\n",
    "The TA should receive \"overtime\" pay of 1 ½ normal salary for any hours \n",
    "above 8. For example, the call pay(4.00, 11) should return (4.00 * \n",
    "8) + (6.00 * 3) or 50.0. "
   ]
  },
  {
   "cell_type": "code",
   "execution_count": 15,
   "id": "2bc25173",
   "metadata": {},
   "outputs": [
    {
     "name": "stdout",
     "output_type": "stream",
     "text": [
      "50.0\n"
     ]
    }
   ],
   "source": [
    "def pay (salary, hours):\n",
    "    if hours > 8:\n",
    "        payment = (salary * (1.5) * (hours-8)) + (salary * 8)\n",
    "        print(payment)\n",
    "        \n",
    "    else:\n",
    "        payment = (salary * hours)\n",
    "        print(payment)\n",
    "pay(4,11)"
   ]
  },
  {
   "cell_type": "raw",
   "id": "a375b5c5",
   "metadata": {},
   "source": [
    "6. Consider the following method for converting milliseconds into days: \n",
    "// converts milliseconds to days \n",
    "def toDays(millis):  \n",
    "return millis / 1000.0 / 60.0 / 60.0 / 24.0 \n",
    "Write a similar method named area that takes as a parameter the radius of \n",
    "a circle and that returns the area of the circle.\n",
    "\n",
    "For example, the call area(2.0); should return 12.566370614359172.\n",
    "\n",
    "Recall that area can be computed as π times the radius squared and that \n",
    "Python has a constant called math.pi"
   ]
  },
  {
   "cell_type": "code",
   "execution_count": 16,
   "id": "34fb8dc1",
   "metadata": {},
   "outputs": [
    {
     "name": "stdout",
     "output_type": "stream",
     "text": [
      "12.566370614359172\n"
     ]
    }
   ],
   "source": [
    "from math import pi\n",
    "def area (radius):\n",
    "    circle_area = pi * (radius**2)\n",
    "    print(circle_area)\n",
    "area(2)"
   ]
  },
  {
   "cell_type": "raw",
   "id": "fa930e7e",
   "metadata": {},
   "source": [
    "Copy and paste the following code into pythons IDLE script \n",
    "environment. \n",
    "\n",
    "low = 1 \n",
    "high = 1001 \n",
    "sum = 0 \n",
    "for i in range(low,high): \n",
    "sum += i \n",
    "print(\"sum = \" , sum) \n",
    "\n",
    "Modify the code to use a input to prompt the user for the values of low \n",
    "and high. Below is a sample execution in which the user asks for the same \n",
    "values as in the original program \n",
    "(1 through 1000): \n",
    "low? 1 \n",
    "high? 1001 \n",
    "sum = 500500 \n",
    "Below is an execution with different values for low and high: \n",
    "low? 300 \n",
    "high? 5298 \n",
    "sum = 13986903 \n",
    "You should exactly reproduce this format."
   ]
  },
  {
   "cell_type": "code",
   "execution_count": 1,
   "id": "b77f8218",
   "metadata": {},
   "outputs": [
    {
     "name": "stdout",
     "output_type": "stream",
     "text": [
      "Enter a low number.1\n",
      "Enter a high number.1001\n",
      "sum =  500500\n"
     ]
    }
   ],
   "source": [
    "low = int(input(\"Enter a low number.\"))\n",
    "high =int(input(\"Enter a high number.\"))\n",
    "sum = 0 \n",
    "for i in range(low,high):\n",
    "    sum += i\n",
    "    \n",
    "print(\"sum = \",sum)\n"
   ]
  },
  {
   "cell_type": "code",
   "execution_count": 3,
   "id": "d0a355f3",
   "metadata": {},
   "outputs": [
    {
     "name": "stdout",
     "output_type": "stream",
     "text": [
      "Enter a low number.300\n",
      "Enter a high number.5298\n",
      "sum =  13986903\n"
     ]
    }
   ],
   "source": [
    "low = int(input(\"Enter a low number.\"))\n",
    "high =int(input(\"Enter a high number.\"))\n",
    "sum = 0 \n",
    "for i in range(low,high):\n",
    "    sum += i\n",
    "    \n",
    "print(\"sum = \",sum)\n"
   ]
  },
  {
   "cell_type": "raw",
   "id": "b9afd3a8",
   "metadata": {},
   "source": []
  },
  {
   "cell_type": "code",
   "execution_count": null,
   "id": "d2d0fa32",
   "metadata": {},
   "outputs": [],
   "source": []
  }
 ],
 "metadata": {
  "kernelspec": {
   "display_name": "Python 3 (ipykernel)",
   "language": "python",
   "name": "python3"
  },
  "language_info": {
   "codemirror_mode": {
    "name": "ipython",
    "version": 3
   },
   "file_extension": ".py",
   "mimetype": "text/x-python",
   "name": "python",
   "nbconvert_exporter": "python",
   "pygments_lexer": "ipython3",
   "version": "3.11.4"
  }
 },
 "nbformat": 4,
 "nbformat_minor": 5
}
