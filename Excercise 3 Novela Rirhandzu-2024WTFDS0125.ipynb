{
 "cells": [
  {
   "cell_type": "markdown",
   "id": "1ff906b9",
   "metadata": {},
   "source": [
    "# Exercise 3"
   ]
  },
  {
   "cell_type": "raw",
   "id": "d60801dc",
   "metadata": {},
   "source": [
    "1 Write a program that finds the maximum value of the given list, assuming that the list\n",
    "contains at least one element"
   ]
  },
  {
   "cell_type": "code",
   "execution_count": 1,
   "id": "08fb155f",
   "metadata": {},
   "outputs": [
    {
     "name": "stdout",
     "output_type": "stream",
     "text": [
      "The maximum value in the list is: 23\n"
     ]
    }
   ],
   "source": [
    "List1 = [2, 4, 7, 4, 23, 5, 1, 4, 8, 9]\n",
    "max_value = max(List1)\n",
    "print(\"The maximum value in the list is:\", max_value)\n",
    "#output: The maximum value in the list is: 23"
   ]
  },
  {
   "cell_type": "raw",
   "id": "afda6535",
   "metadata": {},
   "source": [
    "2 Write a program that calculates the average value of the given list"
   ]
  },
  {
   "cell_type": "code",
   "execution_count": 2,
   "id": "9d0fc3cc",
   "metadata": {},
   "outputs": [
    {
     "name": "stdout",
     "output_type": "stream",
     "text": [
      "The average value of the list is: 22.5\n"
     ]
    }
   ],
   "source": [
    "List2 = [4, 7, 1, 5, 11, 53, 12, 46, 84, 2]\n",
    "average_value = sum(List2) / len(List2)\n",
    "print(\"The average value of the list is:\", average_value)\n",
    "#output: The average value of the list is: 22.5"
   ]
  },
  {
   "cell_type": "raw",
   "id": "5c1567a5",
   "metadata": {},
   "source": [
    "3 Write a program that prints the given list of integers in reverse order."
   ]
  },
  {
   "cell_type": "code",
   "execution_count": 3,
   "id": "5b840171",
   "metadata": {},
   "outputs": [
    {
     "name": "stdout",
     "output_type": "stream",
     "text": [
      "Reversed list : [5, 89, 45, 14, 53, 23, 45, 7, 6, 2]\n"
     ]
    }
   ],
   "source": [
    "List3 = [2, 6, 7, 45, 23, 53, 14, 45, 89, 5]\n",
    "\n",
    "reversed_list = List3.copy()  \n",
    "reversed_list.reverse()\n",
    "print(\"Reversed list :\", reversed_list)\n",
    "#output: Reversed list : [5, 89, 45, 14, 53, 23, 45, 7, 6, 2]"
   ]
  },
  {
   "cell_type": "raw",
   "id": "1e88626d",
   "metadata": {},
   "source": [
    "4 Write a program that accepts two lists of integers and prints true if each element in the first\n",
    "list is less than the element at the same index in the second list. Your program should print\n",
    "false if the lists are not the same length"
   ]
  },
  {
   "cell_type": "code",
   "execution_count": 4,
   "id": "fe2aa04b",
   "metadata": {},
   "outputs": [
    {
     "name": "stdout",
     "output_type": "stream",
     "text": [
      "True\n"
     ]
    }
   ],
   "source": [
    "def compare_lists(list4, list5):\n",
    "    if len(list4) != len(list5):\n",
    "        print(False)\n",
    "        return\n",
    "    \n",
    "    result = all(x <= y for x, y in zip(list4, list5))\n",
    "    \n",
    "    print(result)\n",
    "\n",
    "list4 = [1, 2, 3, 4, 5]\n",
    "list5 = [2, 3, 5, 4, 7]\n",
    "\n",
    "compare_lists(list4, list5)"
   ]
  },
  {
   "cell_type": "raw",
   "id": "1ffa0f1a",
   "metadata": {},
   "source": [
    "5 Write a program that accepts a list of integers and two indexes and swaps the elements at\n",
    "those indexes"
   ]
  },
  {
   "cell_type": "code",
   "execution_count": 5,
   "id": "9b12d77a",
   "metadata": {},
   "outputs": [
    {
     "name": "stdout",
     "output_type": "stream",
     "text": [
      "List after swapping elements at indexes 1 and 3: [1, 4, 3, 2, 5]\n"
     ]
    }
   ],
   "source": [
    "def swap_elements(list6, index1, index2):\n",
    "    if 0 <= index1 < len(list6) and 0 <= index2 < len(list6):\n",
    "        list6[index1], list6[index2] = list6[index2], list6[index1]\n",
    "        print(f\"List after swapping elements at indexes {index1} and {index2}: {list6}\")\n",
    "    else:\n",
    "        print(\"Invalid indexes\")\n",
    "\n",
    "list6 = [1, 2, 3, 4, 5]\n",
    "\n",
    "swap_elements(list6, 1, 3)"
   ]
  },
  {
   "cell_type": "raw",
   "id": "0432e038",
   "metadata": {},
   "source": [
    "6 Write a program that accepts two lists of integers and prints a new list containing all elements of the first list followed by all elements of the second."
   ]
  },
  {
   "cell_type": "code",
   "execution_count": 6,
   "id": "1c88cc31",
   "metadata": {},
   "outputs": [
    {
     "name": "stdout",
     "output_type": "stream",
     "text": [
      "Concatenated List: [1, 2, 3, 4, 5, 6]\n"
     ]
    }
   ],
   "source": [
    "def concatenate_lists(list7, list8):\n",
    "    new_list = list7 + list8\n",
    "    print(\"Concatenated List:\", new_list)\n",
    "\n",
    "list7 = [1, 2, 3]\n",
    "list8 = [4, 5, 6]\n",
    "\n",
    "concatenate_lists(list7, list8)"
   ]
  },
  {
   "cell_type": "raw",
   "id": "eff40ba4",
   "metadata": {},
   "source": [
    "7 Write a program that accepts a list of integers and an integer value as its parameters and\n",
    "prints the last index at which the value occurs in the list. The program should print –1 if the\n",
    "value is not found. For example, in the list [74, 85, 102, 99, 101, 85, 56], the last index of the\n",
    "value 85 is 5"
   ]
  },
  {
   "cell_type": "code",
   "execution_count": 7,
   "id": "d5b4ab94",
   "metadata": {},
   "outputs": [
    {
     "name": "stdout",
     "output_type": "stream",
     "text": [
      "The last index of 85 is: 5\n"
     ]
    }
   ],
   "source": [
    "def last_index_of_value(list9, value):\n",
    "    if value in list9:\n",
    "        last_index = len(list9) - 1 - list9[::-1].index(value)\n",
    "        print(f\"The last index of {value} is: {last_index}\")\n",
    "    else:\n",
    "        print(f\"{value} not found in the list. Last index is -1.\")\n",
    "\n",
    "\n",
    "list9 = [74, 85, 102, 99, 101, 85, 56]\n",
    "value_to_find = 85\n",
    "\n",
    "last_index_of_value(list9, value_to_find)"
   ]
  },
  {
   "cell_type": "raw",
   "id": "7397e3aa",
   "metadata": {},
   "source": [
    "8 Write a program that prints the range of values in a list of integers. The range is defined as 1\n",
    "more than the difference between the maximum and minimum values in the list. For\n",
    "example, if a list contains the values [36, 12, 25, 19, 46, 31, 22], the program should return\n",
    "35. You may assume that the list has at least one element"
   ]
  },
  {
   "cell_type": "code",
   "execution_count": 8,
   "id": "8c8f7aeb",
   "metadata": {},
   "outputs": [
    {
     "name": "stdout",
     "output_type": "stream",
     "text": [
      "The range of values in the list is: 35\n"
     ]
    }
   ],
   "source": [
    "def calculate_range(list10):\n",
    "    min_value = min(list10)\n",
    "    max_value = max(list10)\n",
    "    value_range = max_value - min_value + 1\n",
    "\n",
    "    print(\"The range of values in the list is:\", value_range)\n",
    "\n",
    "\n",
    "list10 = [36, 12, 25, 19, 46, 31, 22]\n",
    "\n",
    "calculate_range(list10)"
   ]
  },
  {
   "cell_type": "raw",
   "id": "d0ebfa15",
   "metadata": {},
   "source": [
    "9 Write a program that accepts a list of integers, a minimum value, and a maximum value and\n",
    "prints the count of how many elements from the list fall between the minimum and\n",
    "maximum (inclusive). For example, in the list [14, 1, 22, 17, 36, 7, -43, 5], for minimum value\n",
    "4 and maximum value 17, there are four elements whose values fall between 4 and 17."
   ]
  },
  {
   "cell_type": "code",
   "execution_count": 9,
   "id": "61a1bd85",
   "metadata": {},
   "outputs": [
    {
     "name": "stdout",
     "output_type": "stream",
     "text": [
      "The count of elements between 4 and 17 (inclusive) is: 4\n"
     ]
    }
   ],
   "source": [
    "def count_elements_between(list11, min_val, max_val):\n",
    "    filtered_elements = [element for element in list11 if min_val <= element <= max_val]\n",
    "    print(f\"The count of elements between {min_val} and {max_val} (inclusive) is:\", len(filtered_elements))\n",
    "\n",
    "list11 = [14, 1, 22, 17, 36, 7, -43, 5]\n",
    "min_value = 4\n",
    "max_value = 17\n",
    "\n",
    "count_elements_between(list11, min_value, max_value)"
   ]
  },
  {
   "cell_type": "raw",
   "id": "5a72a223",
   "metadata": {},
   "source": [
    "10 Write a program that accepts a list of real numbers and prints true if the list is in sorted\n",
    "(nondecreasing) order and false otherwise. For example, if lists named list1 and list2 store\n",
    "[16.1, 12.3, 22.2, 14.4] and [1.5, 4.3, 7.0, 19.5, 25.1, 46.2] respectively, the program should\n",
    "print false for list1 and true for list2 respectively. Assume the list has at least one element. A\n",
    "one-element list is sorted"
   ]
  },
  {
   "cell_type": "code",
   "execution_count": 10,
   "id": "71f9f650",
   "metadata": {},
   "outputs": [
    {
     "name": "stdout",
     "output_type": "stream",
     "text": [
      "Is the list in sorted order?  False\n",
      "Is the list in sorted order?  True\n"
     ]
    }
   ],
   "source": [
    "def is_sorted(List):\n",
    "    sorted_order = all(List[i] <= List[i + 1] for i in range(len(List) - 1))\n",
    "\n",
    "    print(\"Is the list in sorted order? \", sorted_order)\n",
    "\n",
    "list12 = [16.1, 12.3, 22.2, 14.4]\n",
    "list13 = [1.5, 4.3, 7.0, 19.5, 25.1, 46.2]\n",
    "\n",
    "is_sorted(list12)\n",
    "is_sorted(list13)"
   ]
  },
  {
   "cell_type": "code",
   "execution_count": null,
   "id": "f9e93868",
   "metadata": {},
   "outputs": [],
   "source": []
  }
 ],
 "metadata": {
  "kernelspec": {
   "display_name": "Python 3 (ipykernel)",
   "language": "python",
   "name": "python3"
  },
  "language_info": {
   "codemirror_mode": {
    "name": "ipython",
    "version": 3
   },
   "file_extension": ".py",
   "mimetype": "text/x-python",
   "name": "python",
   "nbconvert_exporter": "python",
   "pygments_lexer": "ipython3",
   "version": "3.11.5"
  }
 },
 "nbformat": 4,
 "nbformat_minor": 5
}
