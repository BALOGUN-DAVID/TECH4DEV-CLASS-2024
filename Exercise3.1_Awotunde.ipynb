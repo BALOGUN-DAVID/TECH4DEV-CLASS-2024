{
 "cells": [
  {
   "cell_type": "markdown",
   "id": "fa18cc74",
   "metadata": {},
   "source": [
    "##### Question 1\n",
    "Write a program that finds the maximum value of the given list, assuming that the list\n",
    "contains at least one element.\n",
    "Try your program with the following array\n",
    "2 4 7 4 23 5 1 4 8 9"
   ]
  },
  {
   "cell_type": "code",
   "execution_count": 4,
   "id": "8612315b",
   "metadata": {},
   "outputs": [
    {
     "name": "stdout",
     "output_type": "stream",
     "text": [
      "The minimum value in the list is 1\n"
     ]
    }
   ],
   "source": [
    "my_list = [2, 4, 7, 4, 23, 5, 1, 4, 8, 9]\n",
    "min_value = min(my_list)\n",
    "print(\"The minimum value in the list is\", min_value)"
   ]
  },
  {
   "cell_type": "markdown",
   "id": "39cedd7d",
   "metadata": {},
   "source": [
    "##### Question 2 \n",
    "Write a program that calculates the average value of the given list.\n",
    "Try your program with the following list\n",
    "4 7 1 5 11 53 12 46 84 23"
   ]
  },
  {
   "cell_type": "code",
   "execution_count": 10,
   "id": "6c3f5782",
   "metadata": {},
   "outputs": [
    {
     "name": "stdout",
     "output_type": "stream",
     "text": [
      "The average value of the list is 24.6\n"
     ]
    }
   ],
   "source": [
    "my_list = [4, 7, 1, 5, 11, 53, 12, 46, 84, 23]\n",
    "avg_value = ((sum(my_list)/len(my_list)))\n",
    "print(\"The average value of the list is\", avg_value)"
   ]
  },
  {
   "cell_type": "markdown",
   "id": "2983c5a6",
   "metadata": {},
   "source": [
    "##### Question 3\n",
    "Write a program that prints the given list of integers in reverse order.\n",
    "Try your program with the following list\n",
    "2 6 7 45 23 53 14 45 89 5"
   ]
  },
  {
   "cell_type": "code",
   "execution_count": 9,
   "id": "92567279",
   "metadata": {},
   "outputs": [
    {
     "name": "stdout",
     "output_type": "stream",
     "text": [
      "The reversed order of the list is [5, 89, 45, 14, 53, 23, 45, 7, 6, 2]\n",
      "The reversed order of the list is [5, 89, 45, 14, 53, 23, 45, 7, 6, 2]\n"
     ]
    }
   ],
   "source": [
    "# First Method\n",
    "my_list = [2, 6, 7, 45, 23, 53, 14, 45, 89,5]\n",
    "my_list.reverse()\n",
    "print(\"The reversed order of the list is\", my_list)\n",
    "\n",
    "# Secomd method\n",
    "my_list = [2, 6, 7, 45, 23, 53, 14, 45, 89,5]\n",
    "reversed_list = my_list[::-1]\n",
    "print(\"The reversed order of the list is\", reversed_list)"
   ]
  },
  {
   "cell_type": "markdown",
   "id": "ae385b6d",
   "metadata": {},
   "source": [
    "##### Question 4\n",
    "Write a program that accepts two lists of integers and prints true if each element in the first \n",
    "list is less than the element at the same index in the second list. Your program should print \n",
    "false if the lists are not the same length"
   ]
  },
  {
   "cell_type": "code",
   "execution_count": 11,
   "id": "adc9afed",
   "metadata": {},
   "outputs": [
    {
     "name": "stdout",
     "output_type": "stream",
     "text": [
      "True\n"
     ]
    }
   ],
   "source": [
    "def compare_lists(my_list1, my_list2):\n",
    "    # Check if the lists are of the same length\n",
    "    if len(my_list1) != len(my_list2):\n",
    "        return False\n",
    "    # Check if each element in list1 is less than the corresponding element in list2\n",
    "    for i in range(len(my_list1)):\n",
    "        if my_list1[i] >= my_list2[i]:\n",
    "            return False\n",
    "    return True\n",
    "list1 = [1, 2, 3, 4, 5]\n",
    "list2 = [6, 7, 8, 9, 10]\n",
    "result = compare_lists(list1, list2)\n",
    "print(result)"
   ]
  },
  {
   "cell_type": "markdown",
   "id": "30bcc161",
   "metadata": {},
   "source": [
    "##### Question 5\n",
    "Write a program that accepts a list of integers and two indexes and swaps the elements at \n",
    "those indexes"
   ]
  },
  {
   "cell_type": "code",
   "execution_count": 14,
   "id": "04ad56a8",
   "metadata": {},
   "outputs": [
    {
     "name": "stdout",
     "output_type": "stream",
     "text": [
      "List after swapping: [5, 6, 9, 8, 7, 10]\n"
     ]
    }
   ],
   "source": [
    "def swap_elements(my_list, index1, index2):\n",
    "    # Check if indices are valid\n",
    "    if 0 <= index1 < len(my_list) and 0 <= index2 < len(my_list):\n",
    "        # Swap the elements\n",
    "        my_list[index1], my_list[index2] = my_list[index2], my_list[index1]\n",
    "        return my_list\n",
    "    else:\n",
    "        print(\"Invalid indices.\")\n",
    "        return None\n",
    "my_list = [5, 6, 7, 8, 9, 10]\n",
    "index1 = 2\n",
    "index2 = 4\n",
    "result = swap_elements(my_list, index1, index2)\n",
    "if result is not None:\n",
    "    print(\"List after swapping:\", result)"
   ]
  },
  {
   "cell_type": "markdown",
   "id": "77e77fe1",
   "metadata": {},
   "source": [
    "##### Question 6\n",
    "Write a program that accepts two lists of integers and prints a new list containing all \n",
    "elements of the first list followed by all elements of the second."
   ]
  },
  {
   "cell_type": "code",
   "execution_count": 15,
   "id": "864d0ab8",
   "metadata": {},
   "outputs": [
    {
     "name": "stdout",
     "output_type": "stream",
     "text": [
      "['blue', 'green', 'red', 'indigo', 'yellow', 'white']\n"
     ]
    }
   ],
   "source": [
    "List_1 = ['blue', 'green', 'red']\n",
    "List_2 = ['indigo', 'yellow', 'white']\n",
    "New_list = List_1 + List_2\n",
    "print(New_list)"
   ]
  },
  {
   "cell_type": "markdown",
   "id": "bce979b7",
   "metadata": {},
   "source": [
    "##### Question 7\n",
    "Write a program that accepts a list of integers and an integer value as its parameters and \n",
    "prints the last index at which the value occurs in the list. The program should print –1 if the \n",
    "value is not found. For example, in the list [74, 85, 102, 99, 101, 85, 56], the last index of the \n",
    "value 85 is 5."
   ]
  },
  {
   "cell_type": "code",
   "execution_count": 22,
   "id": "15774fb3",
   "metadata": {},
   "outputs": [
    {
     "name": "stdout",
     "output_type": "stream",
     "text": [
      "The last index of 102 is 2\n"
     ]
    }
   ],
   "source": [
    "def last_index_of(my_list, value):\n",
    "    # Set the index to -1 (not found)\n",
    "    last_index = -1\n",
    "    # Iterate through the list in reverse order\n",
    "    for i in range(len(my_list) - 1, -1, -1):\n",
    "        if my_list[i] == value:\n",
    "            # Update last_index when the value is found\n",
    "            last_index = i\n",
    "            break  # Stop iterating after finding the last occurrence\n",
    "\n",
    "    return last_index\n",
    "my_list = [74, 85, 102, 99, 101, 85, 56]\n",
    "search_value = 102\n",
    "\n",
    "result = last_index_of(my_list, search_value)\n",
    "\n",
    "print(f\"The last index of {search_value} is {result}\")\n"
   ]
  },
  {
   "cell_type": "markdown",
   "id": "5304ca18",
   "metadata": {},
   "source": [
    "##### Question 8\n",
    "Write a program that prints the range of values in a list of integers. The range is defined as 1 more than the difference between the maximum and minimum values in the list. For  example, if a list contains the values [36, 12, 25, 19, 46, 31, 22], the program should return  35. You may assume that the list has at least one element."
   ]
  },
  {
   "cell_type": "code",
   "execution_count": 25,
   "id": "9944bf44",
   "metadata": {},
   "outputs": [
    {
     "name": "stdout",
     "output_type": "stream",
     "text": [
      "The range of the list is: 51\n"
     ]
    }
   ],
   "source": [
    "def calculate_range(list):\n",
    "    # Calculate the range\n",
    "    value_range = max(list) - min(list) + 1\n",
    "\n",
    "    return value_range\n",
    "\n",
    "my_list = [9, 6, 11, 13, 4, 52, 2]\n",
    "result = calculate_range(my_list)\n",
    "print(f\"The range of the list is: {result}\")"
   ]
  },
  {
   "cell_type": "markdown",
   "id": "fcea591c",
   "metadata": {},
   "source": [
    "##### Question  9\n",
    "Write a program that accepts a list of integers, a minimum value, and a maximum value and  prints the count of how many elements from the list fall between the minimum and  maximum (inclusive). For example, in the list [14, 1, 22, 17, 36, 7, -43, 5], for minimum value 4 and maximum value 17, there are four elements whose values fall between 4 and 17."
   ]
  },
  {
   "cell_type": "code",
   "execution_count": 30,
   "id": "6e48cd45",
   "metadata": {},
   "outputs": [
    {
     "name": "stdout",
     "output_type": "stream",
     "text": [
      "The count of elements between 4 and 17 is: 4\n"
     ]
    }
   ],
   "source": [
    "def count_elements_between(list, min_value, max_value):\n",
    "    # Count elements between min_value and max_value (inclusive)\n",
    "    count = sum(min_value <= x <= max_value for x in list)\n",
    "\n",
    "    return count\n",
    "my_list = [14, 1, 22, 17, 36, 7, -43, 5]\n",
    "min_value = 4\n",
    "max_value = 17\n",
    "result = count_elements_between(my_list, min_value, max_value)\n",
    "print(f\"The count of elements between {min_value} and {max_value} is: {result}\")\n"
   ]
  },
  {
   "cell_type": "markdown",
   "id": "e3c4d4cf",
   "metadata": {},
   "source": [
    "##### Question 10\n",
    "Write a program that accepts a list of real numbers and prints true if the list is in sorted (non decreasing) order and false otherwise. For example, if lists named list1 and list2 store [16.1, 12.3, 22.2, 14.4] and [1.5, 4.3, 7.0, 19.5, 25.1, 46.2] respectively, the program should print false for list1 and true for list2 respectively. Assume the list has at least one element. A one-element list is sorted"
   ]
  },
  {
   "cell_type": "code",
   "execution_count": 31,
   "id": "151605fa",
   "metadata": {},
   "outputs": [
    {
     "name": "stdout",
     "output_type": "stream",
     "text": [
      "Is list1 sorted? False\n",
      "Is list2 sorted? True\n"
     ]
    }
   ],
   "source": [
    "def sorted_list(my_list):\n",
    "    # Check if the list is in nondecreasing order\n",
    "    sorted_order = all(my_list[i] <= my_list[i + 1] for i in range(len(my_list) - 1))\n",
    "\n",
    "    return sorted_order\n",
    "\n",
    "list_1 = [16.1, 12.3, 22.2, 14.4]\n",
    "list_2 = [1.5, 4.3, 7.0, 19.5, 25.1, 46.2]\n",
    "\n",
    "result_1 = sorted_list(list_1)\n",
    "result_2 = sorted_list(list_2)\n",
    "\n",
    "print(f\"Is list1 sorted? {result_1}\")\n",
    "print(f\"Is list2 sorted? {result_2}\")\n"
   ]
  },
  {
   "cell_type": "markdown",
   "id": "c2be5b72",
   "metadata": {},
   "source": []
  }
 ],
 "metadata": {
  "kernelspec": {
   "display_name": "Python 3 (ipykernel)",
   "language": "python",
   "name": "python3"
  },
  "language_info": {
   "codemirror_mode": {
    "name": "ipython",
    "version": 3
   },
   "file_extension": ".py",
   "mimetype": "text/x-python",
   "name": "python",
   "nbconvert_exporter": "python",
   "pygments_lexer": "ipython3",
   "version": "3.11.5"
  }
 },
 "nbformat": 4,
 "nbformat_minor": 5
}
